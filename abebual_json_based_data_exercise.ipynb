<<<<<<< HEAD
{
<<<<<<< HEAD
 "cells": [
  {
   "cell_type": "markdown",
   "metadata": {
    "colab_type": "text",
    "id": "view-in-github"
   },
   "source": [
    "<a href=\"https://colab.research.google.com/github/abebual/JSON_Excercise/blob/master/abebual_json_based_data_exercise.ipynb\" target=\"_parent\"><img src=\"https://colab.research.google.com/assets/colab-badge.svg\" alt=\"Open In Colab\"/></a>"
   ]
  },
  {
   "cell_type": "markdown",
   "metadata": {
    "colab_type": "text",
    "id": "ywMoZXtbpo3B"
   },
   "source": [
    "# Project 1: JSON Based Data Exercise \n",
    "auther: Abebual Demilew \n",
    "****\n",
    "+ Based on the World Bank Projects List Dataset.\n",
    "+ Part of Springboard Data Science Career Track\n",
    "+ Designed to excercise with packages for dealign with JSON\n",
    "+ Data outputs are meant for learning practice, not intended for quotation.  \n",
    "****"
   ]
  },
  {
   "cell_type": "code",
   "execution_count": 1,
   "metadata": {
    "colab": {},
    "colab_type": "code",
    "id": "QABtReVDpgSR"
   },
   "outputs": [],
   "source": [
    "import os\n",
    "import pandas as pd\n",
    "import numpy as np\n",
    "import json\n",
    "from pandas.io.json import json_normalize\n",
    "import matplotlib.pyplot as plt"
   ]
  },
  {
   "cell_type": "markdown",
   "metadata": {
    "colab_type": "text",
    "id": "f_Gp9HcoaRpm"
   },
   "source": [
    "This was originally done on google colab. Ignore the following code.\n"
   ]
  },
  {
   "cell_type": "code",
   "execution_count": 2,
   "metadata": {
    "colab": {
     "base_uri": "https://localhost:8080/",
     "height": 34
    },
    "colab_type": "code",
    "id": "aw_RCEXWbCMc",
    "outputId": "f3489bc1-b645-4b27-a669-1e9bc2b8542c"
   },
   "outputs": [
    {
     "data": {
      "text/plain": [
       "\"\\n#I will need to mount my Google Drive\\nfrom google.colab import drive\\ndrive.mount('/content/gdrive')\\n\""
      ]
     },
     "execution_count": 2,
     "metadata": {},
     "output_type": "execute_result"
    }
   ],
   "source": [
    "'''\n",
    "#I will need to mount my Google Drive\n",
    "from google.colab import drive\n",
    "drive.mount('/content/gdrive')\n",
    "'''"
   ]
  },
  {
   "cell_type": "code",
   "execution_count": 3,
   "metadata": {
    "colab": {
     "base_uri": "https://localhost:8080/",
     "height": 34
    },
    "colab_type": "code",
    "id": "zlaxhifTbOc3",
    "outputId": "09eebce4-b4c2-470f-faf5-5e405acd9787"
   },
   "outputs": [
    {
     "data": {
      "text/plain": [
       "'C:\\\\Users\\\\abebu\\\\Google Drive\\\\World_Bank_Project_List-master'"
      ]
     },
     "execution_count": 3,
     "metadata": {},
     "output_type": "execute_result"
    }
   ],
   "source": [
    "cwd=os.getcwd()\n",
    "cwd"
   ]
  },
  {
   "cell_type": "code",
   "execution_count": 4,
   "metadata": {
    "colab": {},
    "colab_type": "code",
    "id": "hetceI9VYNmQ"
   },
   "outputs": [],
   "source": [
    "# load json as string\n",
    "json_file = 'C:/Users/abebu/Google Drive/data_wrangling_json/data/world_bank_projects.json'\n",
    "with open(json_file, 'r') as wb_json:\n",
    "  json_data=json.load(wb_json)"
   ]
  },
  {
   "cell_type": "code",
   "execution_count": 5,
   "metadata": {
    "colab": {
     "base_uri": "https://localhost:8080/",
     "height": 34
    },
    "colab_type": "code",
    "id": "EqFWENFLYX2x",
    "outputId": "1d5a1b28-5bbf-4dad-8a96-9123e1bb3df0"
   },
   "outputs": [
    {
     "data": {
      "text/plain": [
       "list"
      ]
     },
     "execution_count": 5,
     "metadata": {},
     "output_type": "execute_result"
    }
   ],
   "source": [
    "type(json_data)"
   ]
  },
  {
   "cell_type": "code",
   "execution_count": 6,
   "metadata": {
    "colab": {},
    "colab_type": "code",
    "id": "SIMD8S_ODc3b"
   },
   "outputs": [],
   "source": [
    "wb_json=json.load((open(json_file)))"
   ]
  },
  {
   "cell_type": "code",
   "execution_count": 7,
   "metadata": {
    "colab": {
     "base_uri": "https://localhost:8080/",
     "height": 1000
    },
    "colab_type": "code",
    "id": "m3dR25FpRxLv",
    "outputId": "24318834-0b8c-4c5d-f127-375adc342b73"
   },
   "outputs": [
    {
     "data": {
      "text/html": [
       "<div>\n",
       "<style scoped>\n",
       "    .dataframe tbody tr th:only-of-type {\n",
       "        vertical-align: middle;\n",
       "    }\n",
       "\n",
       "    .dataframe tbody tr th {\n",
       "        vertical-align: top;\n",
       "    }\n",
       "\n",
       "    .dataframe thead th {\n",
       "        text-align: right;\n",
       "    }\n",
       "</style>\n",
       "<table border=\"1\" class=\"dataframe\">\n",
       "  <thead>\n",
       "    <tr style=\"text-align: right;\">\n",
       "      <th></th>\n",
       "      <th>sector</th>\n",
       "      <th>supplementprojectflg</th>\n",
       "      <th>projectfinancialtype</th>\n",
       "      <th>prodline</th>\n",
       "      <th>mjtheme</th>\n",
       "      <th>idacommamt</th>\n",
       "      <th>impagency</th>\n",
       "      <th>project_name</th>\n",
       "      <th>mjthemecode</th>\n",
       "      <th>closingdate</th>\n",
       "      <th>...</th>\n",
       "      <th>sector2.Percent</th>\n",
       "      <th>sector2.Name</th>\n",
       "      <th>sector4.Percent</th>\n",
       "      <th>sector4.Name</th>\n",
       "      <th>project_abstract.cdata</th>\n",
       "      <th>theme1.Percent</th>\n",
       "      <th>theme1.Name</th>\n",
       "      <th>sector3.Percent</th>\n",
       "      <th>sector3.Name</th>\n",
       "      <th>_id.$oid</th>\n",
       "    </tr>\n",
       "  </thead>\n",
       "  <tbody>\n",
       "    <tr>\n",
       "      <td>0</td>\n",
       "      <td>[{'Name': 'Primary education'}, {'Name': 'Seco...</td>\n",
       "      <td>N</td>\n",
       "      <td>IDA</td>\n",
       "      <td>PE</td>\n",
       "      <td>[Human development]</td>\n",
       "      <td>130000000</td>\n",
       "      <td>MINISTRY OF EDUCATION</td>\n",
       "      <td>Ethiopia General Education Quality Improvement...</td>\n",
       "      <td>8,11</td>\n",
       "      <td>2018-07-07T00:00:00Z</td>\n",
       "      <td>...</td>\n",
       "      <td>26.0</td>\n",
       "      <td>Secondary education</td>\n",
       "      <td>12.0</td>\n",
       "      <td>Tertiary education</td>\n",
       "      <td>The development objective of the Second Phase ...</td>\n",
       "      <td>100</td>\n",
       "      <td>Education for all</td>\n",
       "      <td>16.0</td>\n",
       "      <td>Public administration- Other social services</td>\n",
       "      <td>52b213b38594d8a2be17c780</td>\n",
       "    </tr>\n",
       "    <tr>\n",
       "      <td>1</td>\n",
       "      <td>[{'Name': 'Public administration- Other social...</td>\n",
       "      <td>N</td>\n",
       "      <td>OTHER</td>\n",
       "      <td>RE</td>\n",
       "      <td>[Economic management, Social protection and ri...</td>\n",
       "      <td>0</td>\n",
       "      <td>MINISTRY OF FINANCE</td>\n",
       "      <td>TN: DTF Social Protection Reforms Support</td>\n",
       "      <td>1,6</td>\n",
       "      <td>NaN</td>\n",
       "      <td>...</td>\n",
       "      <td>30.0</td>\n",
       "      <td>General public administration sector</td>\n",
       "      <td>NaN</td>\n",
       "      <td>NaN</td>\n",
       "      <td>NaN</td>\n",
       "      <td>30</td>\n",
       "      <td>Other economic management</td>\n",
       "      <td>NaN</td>\n",
       "      <td>NaN</td>\n",
       "      <td>52b213b38594d8a2be17c781</td>\n",
       "    </tr>\n",
       "    <tr>\n",
       "      <td>2</td>\n",
       "      <td>[{'Name': 'Rural and Inter-Urban Roads and Hig...</td>\n",
       "      <td>Y</td>\n",
       "      <td>IDA</td>\n",
       "      <td>PE</td>\n",
       "      <td>[Trade and integration, Public sector governan...</td>\n",
       "      <td>6060000</td>\n",
       "      <td>MINISTRY OF TRANSPORT AND COMMUNICATIONS</td>\n",
       "      <td>Tuvalu Aviation Investment Project - Additiona...</td>\n",
       "      <td>5,2,11,6</td>\n",
       "      <td>NaN</td>\n",
       "      <td>...</td>\n",
       "      <td>NaN</td>\n",
       "      <td>NaN</td>\n",
       "      <td>NaN</td>\n",
       "      <td>NaN</td>\n",
       "      <td>NaN</td>\n",
       "      <td>46</td>\n",
       "      <td>Regional integration</td>\n",
       "      <td>NaN</td>\n",
       "      <td>NaN</td>\n",
       "      <td>52b213b38594d8a2be17c782</td>\n",
       "    </tr>\n",
       "    <tr>\n",
       "      <td>3</td>\n",
       "      <td>[{'Name': 'Other social services'}]</td>\n",
       "      <td>N</td>\n",
       "      <td>OTHER</td>\n",
       "      <td>RE</td>\n",
       "      <td>[Social dev/gender/inclusion, Social dev/gende...</td>\n",
       "      <td>0</td>\n",
       "      <td>LABOR INTENSIVE PUBLIC WORKS PROJECT PMU</td>\n",
       "      <td>Gov't and Civil Society Organization Partnership</td>\n",
       "      <td>7,7</td>\n",
       "      <td>NaN</td>\n",
       "      <td>...</td>\n",
       "      <td>NaN</td>\n",
       "      <td>NaN</td>\n",
       "      <td>NaN</td>\n",
       "      <td>NaN</td>\n",
       "      <td>NaN</td>\n",
       "      <td>50</td>\n",
       "      <td>Participation and civic engagement</td>\n",
       "      <td>NaN</td>\n",
       "      <td>NaN</td>\n",
       "      <td>52b213b38594d8a2be17c783</td>\n",
       "    </tr>\n",
       "    <tr>\n",
       "      <td>4</td>\n",
       "      <td>[{'Name': 'General industry and trade sector'}...</td>\n",
       "      <td>N</td>\n",
       "      <td>IDA</td>\n",
       "      <td>PE</td>\n",
       "      <td>[Trade and integration, Financial and private ...</td>\n",
       "      <td>13100000</td>\n",
       "      <td>MINISTRY OF TRADE AND INDUSTRY</td>\n",
       "      <td>Second Private Sector Competitiveness and Econ...</td>\n",
       "      <td>5,4</td>\n",
       "      <td>2019-04-30T00:00:00Z</td>\n",
       "      <td>...</td>\n",
       "      <td>40.0</td>\n",
       "      <td>Other industry</td>\n",
       "      <td>NaN</td>\n",
       "      <td>NaN</td>\n",
       "      <td>The development objective of the Second Privat...</td>\n",
       "      <td>30</td>\n",
       "      <td>Export development and competitiveness</td>\n",
       "      <td>10.0</td>\n",
       "      <td>SME Finance</td>\n",
       "      <td>52b213b38594d8a2be17c784</td>\n",
       "    </tr>\n",
       "    <tr>\n",
       "      <td>...</td>\n",
       "      <td>...</td>\n",
       "      <td>...</td>\n",
       "      <td>...</td>\n",
       "      <td>...</td>\n",
       "      <td>...</td>\n",
       "      <td>...</td>\n",
       "      <td>...</td>\n",
       "      <td>...</td>\n",
       "      <td>...</td>\n",
       "      <td>...</td>\n",
       "      <td>...</td>\n",
       "      <td>...</td>\n",
       "      <td>...</td>\n",
       "      <td>...</td>\n",
       "      <td>...</td>\n",
       "      <td>...</td>\n",
       "      <td>...</td>\n",
       "      <td>...</td>\n",
       "      <td>...</td>\n",
       "      <td>...</td>\n",
       "      <td>...</td>\n",
       "    </tr>\n",
       "    <tr>\n",
       "      <td>495</td>\n",
       "      <td>[{'Name': 'General agriculture, fishing and fo...</td>\n",
       "      <td>N</td>\n",
       "      <td>OTHER</td>\n",
       "      <td>RE</td>\n",
       "      <td>[Financial and private sector development, Soc...</td>\n",
       "      <td>0</td>\n",
       "      <td>THE COMPETITIVENESS COMPANY</td>\n",
       "      <td>Technological Scale Up for Youth-led Urban Orn...</td>\n",
       "      <td>4,7</td>\n",
       "      <td>2013-08-31T00:00:00Z</td>\n",
       "      <td>...</td>\n",
       "      <td>50.0</td>\n",
       "      <td>Vocational training</td>\n",
       "      <td>NaN</td>\n",
       "      <td>NaN</td>\n",
       "      <td>NaN</td>\n",
       "      <td>50</td>\n",
       "      <td>Regulation and competition policy</td>\n",
       "      <td>NaN</td>\n",
       "      <td>NaN</td>\n",
       "      <td>52b213b38594d8a2be17c96f</td>\n",
       "    </tr>\n",
       "    <tr>\n",
       "      <td>496</td>\n",
       "      <td>[{'Name': 'Central government administration'}...</td>\n",
       "      <td>N</td>\n",
       "      <td>IDA</td>\n",
       "      <td>PE</td>\n",
       "      <td>[Human development, Trade and integration, Pub...</td>\n",
       "      <td>20000000</td>\n",
       "      <td>MINISTRY OF FINANCE</td>\n",
       "      <td>Lao Eight Poverty Reduction Support</td>\n",
       "      <td>8,5,2,8</td>\n",
       "      <td>2012-12-31T00:00:00Z</td>\n",
       "      <td>...</td>\n",
       "      <td>29.0</td>\n",
       "      <td>General finance sector</td>\n",
       "      <td>14.0</td>\n",
       "      <td>Health</td>\n",
       "      <td>The development objective of the Eighth Povert...</td>\n",
       "      <td>14</td>\n",
       "      <td>Child health</td>\n",
       "      <td>14.0</td>\n",
       "      <td>General education sector</td>\n",
       "      <td>52b213b38594d8a2be17c970</td>\n",
       "    </tr>\n",
       "    <tr>\n",
       "      <td>497</td>\n",
       "      <td>[{'Name': 'Irrigation and drainage'}, {'Name':...</td>\n",
       "      <td>N</td>\n",
       "      <td>OTHER</td>\n",
       "      <td>RE</td>\n",
       "      <td>[Rural development]</td>\n",
       "      <td>0</td>\n",
       "      <td>MINISTRY OF AGRICULTURE AND PRODUCER ORGANISAT...</td>\n",
       "      <td>Second Emergency Agricultural Productivity Sup...</td>\n",
       "      <td>10,6</td>\n",
       "      <td>2014-12-31T00:00:00Z</td>\n",
       "      <td>...</td>\n",
       "      <td>35.0</td>\n",
       "      <td>Crops</td>\n",
       "      <td>NaN</td>\n",
       "      <td>NaN</td>\n",
       "      <td>NaN</td>\n",
       "      <td>100</td>\n",
       "      <td>Global food crisis response</td>\n",
       "      <td>25.0</td>\n",
       "      <td>Agricultural extension and research</td>\n",
       "      <td>52b213b38594d8a2be17c971</td>\n",
       "    </tr>\n",
       "    <tr>\n",
       "      <td>498</td>\n",
       "      <td>[{'Name': 'Agricultural extension and research...</td>\n",
       "      <td>N</td>\n",
       "      <td>IBRD</td>\n",
       "      <td>PE</td>\n",
       "      <td>[Rural development, Rural development, Rural d...</td>\n",
       "      <td>0</td>\n",
       "      <td>INDONESIAN AGENCY FOR AGRICULTURAL RESEARCH AN...</td>\n",
       "      <td>Sustainable Management of Agricultural Researc...</td>\n",
       "      <td>10,10,10</td>\n",
       "      <td>2017-09-30T00:00:00Z</td>\n",
       "      <td>...</td>\n",
       "      <td>15.0</td>\n",
       "      <td>Public administration- Agriculture, fishing an...</td>\n",
       "      <td>NaN</td>\n",
       "      <td>NaN</td>\n",
       "      <td>The development objective of the Sustainable M...</td>\n",
       "      <td>85</td>\n",
       "      <td>Rural services and infrastructure</td>\n",
       "      <td>5.0</td>\n",
       "      <td>Agro-industry, marketing, and trade</td>\n",
       "      <td>52b213b38594d8a2be17c972</td>\n",
       "    </tr>\n",
       "    <tr>\n",
       "      <td>499</td>\n",
       "      <td>[{'Name': 'Urban Transport'}, {'Name': 'Public...</td>\n",
       "      <td>N</td>\n",
       "      <td>IDA</td>\n",
       "      <td>PE</td>\n",
       "      <td>[Urban development, Human development, Trade a...</td>\n",
       "      <td>300000000</td>\n",
       "      <td>MINISTRY OF ROADS</td>\n",
       "      <td>KENYA: NATIONAL URBAN TRANSPORT IMPROVEMENT PR...</td>\n",
       "      <td>9,8,5,4</td>\n",
       "      <td>2018-12-31T00:00:00Z</td>\n",
       "      <td>...</td>\n",
       "      <td>21.0</td>\n",
       "      <td>Public administration- Transportation</td>\n",
       "      <td>NaN</td>\n",
       "      <td>NaN</td>\n",
       "      <td>The objectives of the National Urban Transport...</td>\n",
       "      <td>1</td>\n",
       "      <td>Municipal governance and institution building</td>\n",
       "      <td>NaN</td>\n",
       "      <td>NaN</td>\n",
       "      <td>52b213b38594d8a2be17c973</td>\n",
       "    </tr>\n",
       "  </tbody>\n",
       "</table>\n",
       "<p>500 rows × 55 columns</p>\n",
       "</div>"
      ],
      "text/plain": [
       "                                                sector supplementprojectflg  \\\n",
       "0    [{'Name': 'Primary education'}, {'Name': 'Seco...                    N   \n",
       "1    [{'Name': 'Public administration- Other social...                    N   \n",
       "2    [{'Name': 'Rural and Inter-Urban Roads and Hig...                    Y   \n",
       "3                  [{'Name': 'Other social services'}]                    N   \n",
       "4    [{'Name': 'General industry and trade sector'}...                    N   \n",
       "..                                                 ...                  ...   \n",
       "495  [{'Name': 'General agriculture, fishing and fo...                    N   \n",
       "496  [{'Name': 'Central government administration'}...                    N   \n",
       "497  [{'Name': 'Irrigation and drainage'}, {'Name':...                    N   \n",
       "498  [{'Name': 'Agricultural extension and research...                    N   \n",
       "499  [{'Name': 'Urban Transport'}, {'Name': 'Public...                    N   \n",
       "\n",
       "    projectfinancialtype prodline  \\\n",
       "0                    IDA       PE   \n",
       "1                  OTHER       RE   \n",
       "2                    IDA       PE   \n",
       "3                  OTHER       RE   \n",
       "4                    IDA       PE   \n",
       "..                   ...      ...   \n",
       "495                OTHER       RE   \n",
       "496                  IDA       PE   \n",
       "497                OTHER       RE   \n",
       "498                 IBRD       PE   \n",
       "499                  IDA       PE   \n",
       "\n",
       "                                               mjtheme  idacommamt  \\\n",
       "0                                  [Human development]   130000000   \n",
       "1    [Economic management, Social protection and ri...           0   \n",
       "2    [Trade and integration, Public sector governan...     6060000   \n",
       "3    [Social dev/gender/inclusion, Social dev/gende...           0   \n",
       "4    [Trade and integration, Financial and private ...    13100000   \n",
       "..                                                 ...         ...   \n",
       "495  [Financial and private sector development, Soc...           0   \n",
       "496  [Human development, Trade and integration, Pub...    20000000   \n",
       "497                                [Rural development]           0   \n",
       "498  [Rural development, Rural development, Rural d...           0   \n",
       "499  [Urban development, Human development, Trade a...   300000000   \n",
       "\n",
       "                                             impagency  \\\n",
       "0                                MINISTRY OF EDUCATION   \n",
       "1                                  MINISTRY OF FINANCE   \n",
       "2             MINISTRY OF TRANSPORT AND COMMUNICATIONS   \n",
       "3             LABOR INTENSIVE PUBLIC WORKS PROJECT PMU   \n",
       "4                       MINISTRY OF TRADE AND INDUSTRY   \n",
       "..                                                 ...   \n",
       "495                        THE COMPETITIVENESS COMPANY   \n",
       "496                                MINISTRY OF FINANCE   \n",
       "497  MINISTRY OF AGRICULTURE AND PRODUCER ORGANISAT...   \n",
       "498  INDONESIAN AGENCY FOR AGRICULTURAL RESEARCH AN...   \n",
       "499                                  MINISTRY OF ROADS   \n",
       "\n",
       "                                          project_name mjthemecode  \\\n",
       "0    Ethiopia General Education Quality Improvement...        8,11   \n",
       "1            TN: DTF Social Protection Reforms Support         1,6   \n",
       "2    Tuvalu Aviation Investment Project - Additiona...    5,2,11,6   \n",
       "3     Gov't and Civil Society Organization Partnership         7,7   \n",
       "4    Second Private Sector Competitiveness and Econ...         5,4   \n",
       "..                                                 ...         ...   \n",
       "495  Technological Scale Up for Youth-led Urban Orn...         4,7   \n",
       "496                Lao Eight Poverty Reduction Support     8,5,2,8   \n",
       "497  Second Emergency Agricultural Productivity Sup...        10,6   \n",
       "498  Sustainable Management of Agricultural Researc...    10,10,10   \n",
       "499  KENYA: NATIONAL URBAN TRANSPORT IMPROVEMENT PR...     9,8,5,4   \n",
       "\n",
       "              closingdate  ...  sector2.Percent  \\\n",
       "0    2018-07-07T00:00:00Z  ...             26.0   \n",
       "1                     NaN  ...             30.0   \n",
       "2                     NaN  ...              NaN   \n",
       "3                     NaN  ...              NaN   \n",
       "4    2019-04-30T00:00:00Z  ...             40.0   \n",
       "..                    ...  ...              ...   \n",
       "495  2013-08-31T00:00:00Z  ...             50.0   \n",
       "496  2012-12-31T00:00:00Z  ...             29.0   \n",
       "497  2014-12-31T00:00:00Z  ...             35.0   \n",
       "498  2017-09-30T00:00:00Z  ...             15.0   \n",
       "499  2018-12-31T00:00:00Z  ...             21.0   \n",
       "\n",
       "                                          sector2.Name sector4.Percent  \\\n",
       "0                                  Secondary education            12.0   \n",
       "1                 General public administration sector             NaN   \n",
       "2                                                  NaN             NaN   \n",
       "3                                                  NaN             NaN   \n",
       "4                                       Other industry             NaN   \n",
       "..                                                 ...             ...   \n",
       "495                                Vocational training             NaN   \n",
       "496                             General finance sector            14.0   \n",
       "497                                              Crops             NaN   \n",
       "498  Public administration- Agriculture, fishing an...             NaN   \n",
       "499              Public administration- Transportation             NaN   \n",
       "\n",
       "           sector4.Name                             project_abstract.cdata  \\\n",
       "0    Tertiary education  The development objective of the Second Phase ...   \n",
       "1                   NaN                                                NaN   \n",
       "2                   NaN                                                NaN   \n",
       "3                   NaN                                                NaN   \n",
       "4                   NaN  The development objective of the Second Privat...   \n",
       "..                  ...                                                ...   \n",
       "495                 NaN                                                NaN   \n",
       "496              Health  The development objective of the Eighth Povert...   \n",
       "497                 NaN                                                NaN   \n",
       "498                 NaN  The development objective of the Sustainable M...   \n",
       "499                 NaN  The objectives of the National Urban Transport...   \n",
       "\n",
       "    theme1.Percent                                    theme1.Name  \\\n",
       "0              100                              Education for all   \n",
       "1               30                      Other economic management   \n",
       "2               46                           Regional integration   \n",
       "3               50             Participation and civic engagement   \n",
       "4               30         Export development and competitiveness   \n",
       "..             ...                                            ...   \n",
       "495             50              Regulation and competition policy   \n",
       "496             14                                   Child health   \n",
       "497            100                    Global food crisis response   \n",
       "498             85              Rural services and infrastructure   \n",
       "499              1  Municipal governance and institution building   \n",
       "\n",
       "    sector3.Percent                                  sector3.Name  \\\n",
       "0              16.0  Public administration- Other social services   \n",
       "1               NaN                                           NaN   \n",
       "2               NaN                                           NaN   \n",
       "3               NaN                                           NaN   \n",
       "4              10.0                                   SME Finance   \n",
       "..              ...                                           ...   \n",
       "495             NaN                                           NaN   \n",
       "496            14.0                      General education sector   \n",
       "497            25.0           Agricultural extension and research   \n",
       "498             5.0           Agro-industry, marketing, and trade   \n",
       "499             NaN                                           NaN   \n",
       "\n",
       "                     _id.$oid  \n",
       "0    52b213b38594d8a2be17c780  \n",
       "1    52b213b38594d8a2be17c781  \n",
       "2    52b213b38594d8a2be17c782  \n",
       "3    52b213b38594d8a2be17c783  \n",
       "4    52b213b38594d8a2be17c784  \n",
       "..                        ...  \n",
       "495  52b213b38594d8a2be17c96f  \n",
       "496  52b213b38594d8a2be17c970  \n",
       "497  52b213b38594d8a2be17c971  \n",
       "498  52b213b38594d8a2be17c972  \n",
       "499  52b213b38594d8a2be17c973  \n",
       "\n",
       "[500 rows x 55 columns]"
      ]
     },
     "execution_count": 7,
     "metadata": {},
     "output_type": "execute_result"
    }
   ],
   "source": [
    "json_normalize(wb_json)"
   ]
  },
  {
   "cell_type": "code",
   "execution_count": 8,
   "metadata": {
    "colab": {
     "base_uri": "https://localhost:8080/",
     "height": 952
    },
    "colab_type": "code",
    "id": "Ju5EmuSVQz5y",
    "outputId": "2ec04a6c-891b-4f19-d62a-dba1a14b3c3d"
   },
   "outputs": [
    {
     "name": "stdout",
     "output_type": "stream",
     "text": [
      "<class 'pandas.core.frame.DataFrame'>\n",
      "RangeIndex: 500 entries, 0 to 499\n",
      "Data columns (total 50 columns):\n",
      "sector                      500 non-null object\n",
      "supplementprojectflg        498 non-null object\n",
      "projectfinancialtype        500 non-null object\n",
      "prodline                    500 non-null object\n",
      "mjtheme                     491 non-null object\n",
      "idacommamt                  500 non-null int64\n",
      "impagency                   472 non-null object\n",
      "project_name                500 non-null object\n",
      "mjthemecode                 500 non-null object\n",
      "closingdate                 370 non-null object\n",
      "totalcommamt                500 non-null int64\n",
      "id                          500 non-null object\n",
      "mjsector_namecode           500 non-null object\n",
      "docty                       446 non-null object\n",
      "sector1                     500 non-null object\n",
      "lendinginstr                495 non-null object\n",
      "countrycode                 500 non-null object\n",
      "sector2                     380 non-null object\n",
      "totalamt                    500 non-null int64\n",
      "mjtheme_namecode            500 non-null object\n",
      "boardapprovaldate           500 non-null object\n",
      "countryshortname            500 non-null object\n",
      "sector4                     174 non-null object\n",
      "prodlinetext                500 non-null object\n",
      "productlinetype             500 non-null object\n",
      "regionname                  500 non-null object\n",
      "status                      500 non-null object\n",
      "country_namecode            500 non-null object\n",
      "envassesmentcategorycode    430 non-null object\n",
      "project_abstract            362 non-null object\n",
      "approvalfy                  500 non-null int64\n",
      "projectdocs                 446 non-null object\n",
      "lendprojectcost             500 non-null int64\n",
      "lendinginstrtype            495 non-null object\n",
      "theme1                      500 non-null object\n",
      "grantamt                    500 non-null int64\n",
      "themecode                   491 non-null object\n",
      "borrower                    485 non-null object\n",
      "sectorcode                  500 non-null object\n",
      "sector3                     265 non-null object\n",
      "majorsector_percent         500 non-null object\n",
      "board_approval_month        500 non-null object\n",
      "theme_namecode              491 non-null object\n",
      "countryname                 500 non-null object\n",
      "url                         500 non-null object\n",
      "source                      500 non-null object\n",
      "projectstatusdisplay        500 non-null object\n",
      "ibrdcommamt                 500 non-null int64\n",
      "sector_namecode             500 non-null object\n",
      "_id                         500 non-null object\n",
      "dtypes: int64(7), object(43)\n",
      "memory usage: 195.4+ KB\n"
     ]
    }
   ],
   "source": [
    "wb_df=pd.read_json(json_file)\n",
    "wb_df.info()"
   ]
  },
  {
   "cell_type": "markdown",
   "metadata": {
    "colab_type": "text",
    "id": "xEyLEiBASqXO"
   },
   "source": [
    "****\n",
    "## JSON exercise\n",
    "\n",
    "Using the 'world_bank_projects.json',\n",
    "1. Find the 10 countries with most projects\n",
    "2. Find the top 10 major project themes (using column 'mjtheme_namecode')\n",
    "3. In 2. above you will notice that some entries have only the code and the name is missing. Create a dataframe with the missing names filled in."
   ]
  },
  {
   "cell_type": "markdown",
   "metadata": {
    "colab_type": "text",
    "id": "pJzZe7mbTCme"
   },
   "source": [
    "## 10 countries with most projects"
   ]
  },
  {
   "cell_type": "code",
   "execution_count": 9,
   "metadata": {
    "colab": {
     "base_uri": "https://localhost:8080/",
     "height": 1000
    },
    "colab_type": "code",
    "id": "0L6cpFFvRnpi",
    "outputId": "15ddbc6f-67a7-4896-c757-80e16155a842"
   },
   "outputs": [
    {
     "data": {
      "text/plain": [
       "<bound method IndexOpsMixin.value_counts of 0      Federal Democratic Republic of Ethiopia\n",
       "1                          Republic of Tunisia\n",
       "2                                       Tuvalu\n",
       "3                            Republic of Yemen\n",
       "4                           Kingdom of Lesotho\n",
       "                        ...                   \n",
       "495                                    Jamaica\n",
       "496           Lao People's Democratic Republic\n",
       "497                         Republic of Guinea\n",
       "498                      Republic of Indonesia\n",
       "499                          Republic of Kenya\n",
       "Name: countryname, Length: 500, dtype: object>"
      ]
     },
     "execution_count": 9,
     "metadata": {},
     "output_type": "execute_result"
    }
   ],
   "source": [
    "wb_df['countryname'].value_counts"
   ]
  },
  {
   "cell_type": "code",
   "execution_count": 10,
   "metadata": {
    "colab": {
     "base_uri": "https://localhost:8080/",
     "height": 136
    },
    "colab_type": "code",
    "id": "3rfwiDJET5oL",
    "outputId": "5482566e-4ddb-4077-cda2-77ea7656d21d"
   },
   "outputs": [
    {
     "data": {
      "text/plain": [
       "countryname\n",
       "Africa                    11\n",
       "Antigua and Barbuda        1\n",
       "Arab Republic of Egypt     2\n",
       "Argentine Republic         2\n",
       "Bosnia and Herzegovina     1\n",
       "Name: project_name, dtype: int64"
      ]
     },
     "execution_count": 10,
     "metadata": {},
     "output_type": "execute_result"
    }
   ],
   "source": [
    "projects=wb_df.groupby('countryname')['project_name'].count()\n",
    "projects.head()"
   ]
  },
  {
   "cell_type": "code",
   "execution_count": 11,
   "metadata": {
    "colab": {
     "base_uri": "https://localhost:8080/",
     "height": 221
    },
    "colab_type": "code",
    "id": "afj3gWERVMmH",
    "outputId": "ba8afa16-ce03-46e9-cc85-9f3f4f16d309"
   },
   "outputs": [
    {
     "name": "stdout",
     "output_type": "stream",
     "text": [
      "The top 10 countries for projects are:  countryname\n",
      "People's Republic of China         19\n",
      "Republic of Indonesia              19\n",
      "Socialist Republic of Vietnam      17\n",
      "Republic of India                  16\n",
      "Republic of Yemen                  13\n",
      "Nepal                              12\n",
      "People's Republic of Bangladesh    12\n",
      "Kingdom of Morocco                 12\n",
      "Africa                             11\n",
      "Republic of Mozambique             11\n",
      "Name: project_name, dtype: int64\n"
     ]
    }
   ],
   "source": [
    "#Top 10 countries for most projects are ... wait for it:\n",
    "projects_sorted=projects.sort_values(ascending=False)\n",
    "top10_c=projects_sorted.head(10)\n",
    "print('The top 10 countries for projects are: ', top10_c)"
   ]
  },
  {
   "cell_type": "code",
   "execution_count": 12,
   "metadata": {
    "colab": {},
    "colab_type": "code",
    "id": "pugNm_ajp1Jt",
    "outputId": "af635fbd-f5e6-48b1-b403-b177c11592c6"
   },
   "outputs": [
    {
     "data": {
      "text/plain": [
       "Text(0.5, 0, 'Country Name')"
      ]
     },
     "execution_count": 12,
     "metadata": {},
     "output_type": "execute_result"
    },
    {
     "data": {
      "image/png": "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\n",
      "text/plain": [
       "<Figure size 432x288 with 1 Axes>"
      ]
     },
     "metadata": {
      "needs_background": "light"
     },
     "output_type": "display_data"
    }
   ],
   "source": [
    "top10_c.plot(kind='bar', title='Top 10 Countries for Most World Bank Projects', color=['C0', 'C1', 'C2', 'C3', 'C4', 'C5', 'C6', 'C7', 'C8', 'C9'])\n",
    "plt.ylabel('Number of WB Projects')\n",
    "plt.xlabel ('Country Name')"
   ]
  },
  {
   "cell_type": "markdown",
   "metadata": {
    "colab_type": "text",
    "id": "KduORd9TfGmi"
   },
   "source": [
    "#Africa is not a country and its in the list. Not sure if this needs to be removed and rerun. I will wait until further comment. "
   ]
  },
  {
   "cell_type": "markdown",
   "metadata": {
    "colab_type": "text",
    "id": "WY5ovxEyfKAL"
   },
   "source": [
    "## 10 major project themes"
   ]
  },
  {
   "cell_type": "code",
   "execution_count": 13,
   "metadata": {
    "colab": {},
    "colab_type": "code",
    "id": "V0DBJJsqcOvL"
   },
   "outputs": [],
   "source": [
    "theme=wb_df['mjtheme_namecode']"
   ]
  },
  {
   "cell_type": "code",
   "execution_count": 14,
   "metadata": {
    "colab": {
     "base_uri": "https://localhost:8080/",
     "height": 102
    },
    "colab_type": "code",
    "id": "_vxJv-rneteX",
    "outputId": "47690ab2-949c-43a7-9ce7-052d50b41ea5"
   },
   "outputs": [
    {
     "data": {
      "text/plain": [
       "0    [{'code': '8', 'name': 'Human development'}, {...\n",
       "1    [{'code': '1', 'name': 'Economic management'},...\n",
       "2    [{'code': '5', 'name': 'Trade and integration'...\n",
       "3    [{'code': '7', 'name': 'Social dev/gender/incl...\n",
       "Name: mjtheme_namecode, dtype: object"
      ]
     },
     "execution_count": 14,
     "metadata": {},
     "output_type": "execute_result"
    }
   ],
   "source": [
    "theme[0:4]"
   ]
  },
  {
   "cell_type": "markdown",
   "metadata": {
    "colab_type": "text",
    "id": "F60l-NhAOSOX"
   },
   "source": [
    "It looks like 'mjtheme_namecode' is a nested dictionary presented as a list. I will need to convert it to a string to make it analyis friendly. "
   ]
  },
  {
   "cell_type": "code",
   "execution_count": 15,
   "metadata": {
    "colab": {
     "base_uri": "https://localhost:8080/",
     "height": 34
    },
    "colab_type": "code",
    "id": "4UQUY9ZoSM3Y",
    "outputId": "c4cab3e6-5764-4ace-f67f-70d3cce74161"
   },
   "outputs": [
    {
     "data": {
      "text/plain": [
       "pandas.core.series.Series"
      ]
     },
     "execution_count": 15,
     "metadata": {},
     "output_type": "execute_result"
    }
   ],
   "source": [
    "type(theme)"
   ]
  },
  {
   "cell_type": "code",
   "execution_count": 16,
   "metadata": {
    "colab": {},
    "colab_type": "code",
    "id": "qQGhCcCnFkz2"
   },
   "outputs": [],
   "source": [
    "theme_l_list=theme.tolist()"
   ]
  },
  {
   "cell_type": "code",
   "execution_count": 17,
   "metadata": {
    "colab": {
     "base_uri": "https://localhost:8080/",
     "height": 68
    },
    "colab_type": "code",
    "id": "jM6S9RIZIaF5",
    "outputId": "f0547e7e-b592-421e-d317-6226f891f93c"
   },
   "outputs": [
    {
     "data": {
      "text/plain": [
       "[[{'code': '8', 'name': 'Human development'}, {'code': '11', 'name': ''}],\n",
       " [{'code': '1', 'name': 'Economic management'},\n",
       "  {'code': '6', 'name': 'Social protection and risk management'}]]"
      ]
     },
     "execution_count": 17,
     "metadata": {},
     "output_type": "execute_result"
    }
   ],
   "source": [
    "theme_l_list[0:2]"
   ]
  },
  {
   "cell_type": "code",
   "execution_count": 18,
   "metadata": {
    "colab": {},
    "colab_type": "code",
    "id": "lF54FxDbT4Mw"
   },
   "outputs": [],
   "source": [
    "theme_list=[j for i in theme_l_list for j in i]"
   ]
  },
  {
   "cell_type": "code",
   "execution_count": 19,
   "metadata": {
    "colab": {
     "base_uri": "https://localhost:8080/",
     "height": 102
    },
    "colab_type": "code",
    "id": "jjeGzQLxUb66",
    "outputId": "c073ba4d-2a9b-4681-f884-79c6c038aaeb"
   },
   "outputs": [
    {
     "data": {
      "text/plain": [
       "[{'code': '8', 'name': 'Human development'},\n",
       " {'code': '11', 'name': ''},\n",
       " {'code': '1', 'name': 'Economic management'},\n",
       " {'code': '6', 'name': 'Social protection and risk management'},\n",
       " {'code': '5', 'name': 'Trade and integration'}]"
      ]
     },
     "execution_count": 19,
     "metadata": {},
     "output_type": "execute_result"
    }
   ],
   "source": [
    "theme_list[0:5]"
   ]
  },
  {
   "cell_type": "code",
   "execution_count": 20,
   "metadata": {
    "colab": {},
    "colab_type": "code",
    "id": "ztCtUyBZZPeP"
   },
   "outputs": [],
   "source": [
    "df_theme=pd.DataFrame(theme_list)"
   ]
  },
  {
   "cell_type": "code",
   "execution_count": 21,
   "metadata": {
    "colab": {
     "base_uri": "https://localhost:8080/",
     "height": 204
    },
    "colab_type": "code",
    "id": "XCx1UUX-belG",
    "outputId": "080404cb-c56f-462b-ea66-560651c5ef74"
   },
   "outputs": [
    {
     "data": {
      "text/html": [
       "<div>\n",
       "<style scoped>\n",
       "    .dataframe tbody tr th:only-of-type {\n",
       "        vertical-align: middle;\n",
       "    }\n",
       "\n",
       "    .dataframe tbody tr th {\n",
       "        vertical-align: top;\n",
       "    }\n",
       "\n",
       "    .dataframe thead th {\n",
       "        text-align: right;\n",
       "    }\n",
       "</style>\n",
       "<table border=\"1\" class=\"dataframe\">\n",
       "  <thead>\n",
       "    <tr style=\"text-align: right;\">\n",
       "      <th></th>\n",
       "      <th>code</th>\n",
       "      <th>name</th>\n",
       "    </tr>\n",
       "  </thead>\n",
       "  <tbody>\n",
       "    <tr>\n",
       "      <td>0</td>\n",
       "      <td>8</td>\n",
       "      <td>Human development</td>\n",
       "    </tr>\n",
       "    <tr>\n",
       "      <td>1</td>\n",
       "      <td>11</td>\n",
       "      <td></td>\n",
       "    </tr>\n",
       "    <tr>\n",
       "      <td>2</td>\n",
       "      <td>1</td>\n",
       "      <td>Economic management</td>\n",
       "    </tr>\n",
       "    <tr>\n",
       "      <td>3</td>\n",
       "      <td>6</td>\n",
       "      <td>Social protection and risk management</td>\n",
       "    </tr>\n",
       "    <tr>\n",
       "      <td>4</td>\n",
       "      <td>5</td>\n",
       "      <td>Trade and integration</td>\n",
       "    </tr>\n",
       "  </tbody>\n",
       "</table>\n",
       "</div>"
      ],
      "text/plain": [
       "  code                                   name\n",
       "0    8                      Human development\n",
       "1   11                                       \n",
       "2    1                    Economic management\n",
       "3    6  Social protection and risk management\n",
       "4    5                  Trade and integration"
      ]
     },
     "execution_count": 21,
     "metadata": {},
     "output_type": "execute_result"
    }
   ],
   "source": [
    "df_theme.head()\n"
   ]
  },
  {
   "cell_type": "code",
   "execution_count": 22,
   "metadata": {
    "colab": {},
    "colab_type": "code",
    "id": "j_qazXhpb6w2"
   },
   "outputs": [],
   "source": [
    "#change variable name to make it readable\n",
    "#df_x=df_theme.groupby(['Project_theme_code', 'Project_theme_name'])\n",
    "df_theme.columns=['Project_theme_code', 'Project_theme_name'] "
   ]
  },
  {
   "cell_type": "code",
   "execution_count": 23,
   "metadata": {
    "colab": {
     "base_uri": "https://localhost:8080/",
     "height": 204
    },
    "colab_type": "code",
    "id": "QhJE9rsjcCVv",
    "outputId": "50507cfe-78f1-422c-fdc1-1a53010292ff"
   },
   "outputs": [
    {
     "data": {
      "text/html": [
       "<div>\n",
       "<style scoped>\n",
       "    .dataframe tbody tr th:only-of-type {\n",
       "        vertical-align: middle;\n",
       "    }\n",
       "\n",
       "    .dataframe tbody tr th {\n",
       "        vertical-align: top;\n",
       "    }\n",
       "\n",
       "    .dataframe thead th {\n",
       "        text-align: right;\n",
       "    }\n",
       "</style>\n",
       "<table border=\"1\" class=\"dataframe\">\n",
       "  <thead>\n",
       "    <tr style=\"text-align: right;\">\n",
       "      <th></th>\n",
       "      <th>Project_theme_code</th>\n",
       "      <th>Project_theme_name</th>\n",
       "    </tr>\n",
       "  </thead>\n",
       "  <tbody>\n",
       "    <tr>\n",
       "      <td>0</td>\n",
       "      <td>8</td>\n",
       "      <td>Human development</td>\n",
       "    </tr>\n",
       "    <tr>\n",
       "      <td>1</td>\n",
       "      <td>11</td>\n",
       "      <td></td>\n",
       "    </tr>\n",
       "    <tr>\n",
       "      <td>2</td>\n",
       "      <td>1</td>\n",
       "      <td>Economic management</td>\n",
       "    </tr>\n",
       "    <tr>\n",
       "      <td>3</td>\n",
       "      <td>6</td>\n",
       "      <td>Social protection and risk management</td>\n",
       "    </tr>\n",
       "    <tr>\n",
       "      <td>4</td>\n",
       "      <td>5</td>\n",
       "      <td>Trade and integration</td>\n",
       "    </tr>\n",
       "  </tbody>\n",
       "</table>\n",
       "</div>"
      ],
      "text/plain": [
       "  Project_theme_code                     Project_theme_name\n",
       "0                  8                      Human development\n",
       "1                 11                                       \n",
       "2                  1                    Economic management\n",
       "3                  6  Social protection and risk management\n",
       "4                  5                  Trade and integration"
      ]
     },
     "execution_count": 23,
     "metadata": {},
     "output_type": "execute_result"
    }
   ],
   "source": [
    "df_theme.head()"
   ]
  },
  {
   "cell_type": "code",
   "execution_count": 24,
   "metadata": {
    "colab": {},
    "colab_type": "code",
    "id": "VkKmFbkneSeC"
   },
   "outputs": [],
   "source": [
    "df_theme_g=df_theme.groupby(['Project_theme_code','Project_theme_name']).size().reset_index().rename(columns={0:'count'}) "
   ]
  },
  {
   "cell_type": "code",
   "execution_count": 25,
   "metadata": {
    "colab": {
     "base_uri": "https://localhost:8080/",
     "height": 731
    },
    "colab_type": "code",
    "id": "Df9PSsYOgym1",
    "outputId": "16779685-b46b-4b4f-94a3-0146a197499a"
   },
   "outputs": [
    {
     "data": {
      "text/html": [
       "<div>\n",
       "<style scoped>\n",
       "    .dataframe tbody tr th:only-of-type {\n",
       "        vertical-align: middle;\n",
       "    }\n",
       "\n",
       "    .dataframe tbody tr th {\n",
       "        vertical-align: top;\n",
       "    }\n",
       "\n",
       "    .dataframe thead th {\n",
       "        text-align: right;\n",
       "    }\n",
       "</style>\n",
       "<table border=\"1\" class=\"dataframe\">\n",
       "  <thead>\n",
       "    <tr style=\"text-align: right;\">\n",
       "      <th></th>\n",
       "      <th>Project_theme_code</th>\n",
       "      <th>Project_theme_name</th>\n",
       "      <th>count</th>\n",
       "    </tr>\n",
       "  </thead>\n",
       "  <tbody>\n",
       "    <tr>\n",
       "      <td>0</td>\n",
       "      <td>1</td>\n",
       "      <td></td>\n",
       "      <td>5</td>\n",
       "    </tr>\n",
       "    <tr>\n",
       "      <td>1</td>\n",
       "      <td>1</td>\n",
       "      <td>Economic management</td>\n",
       "      <td>33</td>\n",
       "    </tr>\n",
       "    <tr>\n",
       "      <td>2</td>\n",
       "      <td>10</td>\n",
       "      <td></td>\n",
       "      <td>14</td>\n",
       "    </tr>\n",
       "    <tr>\n",
       "      <td>3</td>\n",
       "      <td>10</td>\n",
       "      <td>Rural development</td>\n",
       "      <td>202</td>\n",
       "    </tr>\n",
       "    <tr>\n",
       "      <td>4</td>\n",
       "      <td>11</td>\n",
       "      <td></td>\n",
       "      <td>27</td>\n",
       "    </tr>\n",
       "    <tr>\n",
       "      <td>5</td>\n",
       "      <td>11</td>\n",
       "      <td>Environment and natural resources management</td>\n",
       "      <td>223</td>\n",
       "    </tr>\n",
       "    <tr>\n",
       "      <td>6</td>\n",
       "      <td>2</td>\n",
       "      <td></td>\n",
       "      <td>15</td>\n",
       "    </tr>\n",
       "    <tr>\n",
       "      <td>7</td>\n",
       "      <td>2</td>\n",
       "      <td>Public sector governance</td>\n",
       "      <td>184</td>\n",
       "    </tr>\n",
       "    <tr>\n",
       "      <td>8</td>\n",
       "      <td>3</td>\n",
       "      <td></td>\n",
       "      <td>3</td>\n",
       "    </tr>\n",
       "    <tr>\n",
       "      <td>9</td>\n",
       "      <td>3</td>\n",
       "      <td>Rule of law</td>\n",
       "      <td>12</td>\n",
       "    </tr>\n",
       "    <tr>\n",
       "      <td>10</td>\n",
       "      <td>4</td>\n",
       "      <td></td>\n",
       "      <td>16</td>\n",
       "    </tr>\n",
       "    <tr>\n",
       "      <td>11</td>\n",
       "      <td>4</td>\n",
       "      <td>Financial and private sector development</td>\n",
       "      <td>130</td>\n",
       "    </tr>\n",
       "    <tr>\n",
       "      <td>12</td>\n",
       "      <td>5</td>\n",
       "      <td></td>\n",
       "      <td>5</td>\n",
       "    </tr>\n",
       "    <tr>\n",
       "      <td>13</td>\n",
       "      <td>5</td>\n",
       "      <td>Trade and integration</td>\n",
       "      <td>72</td>\n",
       "    </tr>\n",
       "    <tr>\n",
       "      <td>14</td>\n",
       "      <td>6</td>\n",
       "      <td></td>\n",
       "      <td>10</td>\n",
       "    </tr>\n",
       "    <tr>\n",
       "      <td>15</td>\n",
       "      <td>6</td>\n",
       "      <td>Social protection and risk management</td>\n",
       "      <td>158</td>\n",
       "    </tr>\n",
       "    <tr>\n",
       "      <td>16</td>\n",
       "      <td>7</td>\n",
       "      <td></td>\n",
       "      <td>11</td>\n",
       "    </tr>\n",
       "    <tr>\n",
       "      <td>17</td>\n",
       "      <td>7</td>\n",
       "      <td>Social dev/gender/inclusion</td>\n",
       "      <td>119</td>\n",
       "    </tr>\n",
       "    <tr>\n",
       "      <td>18</td>\n",
       "      <td>8</td>\n",
       "      <td></td>\n",
       "      <td>13</td>\n",
       "    </tr>\n",
       "    <tr>\n",
       "      <td>19</td>\n",
       "      <td>8</td>\n",
       "      <td>Human development</td>\n",
       "      <td>197</td>\n",
       "    </tr>\n",
       "    <tr>\n",
       "      <td>20</td>\n",
       "      <td>9</td>\n",
       "      <td></td>\n",
       "      <td>3</td>\n",
       "    </tr>\n",
       "    <tr>\n",
       "      <td>21</td>\n",
       "      <td>9</td>\n",
       "      <td>Urban development</td>\n",
       "      <td>47</td>\n",
       "    </tr>\n",
       "  </tbody>\n",
       "</table>\n",
       "</div>"
      ],
      "text/plain": [
       "   Project_theme_code                            Project_theme_name  count\n",
       "0                   1                                                    5\n",
       "1                   1                           Economic management     33\n",
       "2                  10                                                   14\n",
       "3                  10                             Rural development    202\n",
       "4                  11                                                   27\n",
       "5                  11  Environment and natural resources management    223\n",
       "6                   2                                                   15\n",
       "7                   2                      Public sector governance    184\n",
       "8                   3                                                    3\n",
       "9                   3                                   Rule of law     12\n",
       "10                  4                                                   16\n",
       "11                  4      Financial and private sector development    130\n",
       "12                  5                                                    5\n",
       "13                  5                         Trade and integration     72\n",
       "14                  6                                                   10\n",
       "15                  6         Social protection and risk management    158\n",
       "16                  7                                                   11\n",
       "17                  7                   Social dev/gender/inclusion    119\n",
       "18                  8                                                   13\n",
       "19                  8                             Human development    197\n",
       "20                  9                                                    3\n",
       "21                  9                             Urban development     47"
      ]
     },
     "execution_count": 25,
     "metadata": {},
     "output_type": "execute_result"
    }
   ],
   "source": [
    "df_theme_g"
   ]
  },
  {
   "cell_type": "code",
   "execution_count": 26,
   "metadata": {
    "colab": {},
    "colab_type": "code",
    "id": "VZMHrjsChiLP"
   },
   "outputs": [],
   "source": [
    "df_theme_sorted=df_theme_g.sort_values('count', ascending=False)"
   ]
  },
  {
   "cell_type": "code",
   "execution_count": 27,
   "metadata": {
    "colab": {
     "base_uri": "https://localhost:8080/",
     "height": 359
    },
    "colab_type": "code",
    "id": "2g7SSiLUhtbC",
    "outputId": "2ce23a52-816e-4301-cb2d-4897fb05704d"
   },
   "outputs": [
    {
     "name": "stdout",
     "output_type": "stream",
     "text": [
      "   Project_theme_code                            Project_theme_name  count\n",
      "5                  11  Environment and natural resources management    223\n",
      "3                  10                             Rural development    202\n",
      "19                  8                             Human development    197\n",
      "7                   2                      Public sector governance    184\n",
      "15                  6         Social protection and risk management    158\n",
      "11                  4      Financial and private sector development    130\n",
      "17                  7                   Social dev/gender/inclusion    119\n",
      "13                  5                         Trade and integration     72\n",
      "21                  9                             Urban development     47\n",
      "1                   1                           Economic management     33\n"
     ]
    }
   ],
   "source": [
    "#The top 10 major project themes are: \n",
    "top10_pt=df_theme_sorted.head(10)\n",
    "print(top10_pt)"
   ]
  },
  {
   "cell_type": "code",
   "execution_count": 28,
   "metadata": {
    "colab": {},
    "colab_type": "code",
    "id": "Ghqv1etvp1Mk",
    "outputId": "12851f23-27ff-435a-cd0d-72981f9bb180"
   },
   "outputs": [
    {
     "data": {
      "text/plain": [
       "Text(0.5, 0, 'WB Project Themes')"
      ]
     },
     "execution_count": 28,
     "metadata": {},
     "output_type": "execute_result"
    },
    {
     "data": {
      "image/png": "iVBORw0KGgoAAAANSUhEUgAAAYUAAAIDCAYAAADrIgIQAAAABHNCSVQICAgIfAhkiAAAAAlwSFlzAAALEgAACxIB0t1+/AAAADh0RVh0U29mdHdhcmUAbWF0cGxvdGxpYiB2ZXJzaW9uMy4xLjEsIGh0dHA6Ly9tYXRwbG90bGliLm9yZy8QZhcZAAAgAElEQVR4nOydd7wcVdnHv7+E3ltAWmgGEEUQAiogAhoBCwhSRJAiL+UFERQLYAHbKyJgARtSVUCKCghIhyBIS+ihSBekgyQBQkn4vX+cs3v33uy9uZC7Z4bs8/189rM7Mzt7fndm7jxzznmKbBMEQRAEAMOqFhAEQRDUhzAKQRAEQZMwCkEQBEGTMApBEARBkzAKQRAEQZMwCkEQBEGTMApB1yLpu5KOrVpHOySdLOnrFWvYW9JlVWoIyhNGoUuR9GLL6w1JU1qWdxzitnaUdF1u46I229eRdKuklyXdKOk9Q9l+f9g+1PYXh+K3JM0lyZJeysfwMUk/lvSW/sds72r7iJnUNOBNXdIDLed8mqRXWpa/MjNtB29fwih0Kbbna7yAfwOfall36hA39xxwFHB03w2S5gbOBY4DFgbOAv4qabYh1jBkzEDbKvmYbgrsDuz8Jvcvhu2VWq6Bm4D/abkGpjtXQXcQRiFoi6S5Jf1S0hP5qfcnkmbP2zaTdH8efnle0oOStu3vt2xfZPts4Ik2m8cAr9j+le1XScZjfmCDfnRdL+mw3KN4UdJfJC0q6UxJk/L2ZVq+/+usf1Le5wMt2w6XdHzL8mck3SXpBUmXSRrVsu1JSV+VNAGYNKPjZ3sCcB3wnv72l7S6pH/k9m6XtHlLe3+S9K2W5a3yd17I+6zWsm15SedKeja/jpL0PuBnwEb5OD05I839IEm/yO0+IOmjLRsWkfT7/Lc9KunQRs8o91KukHSspImS7pM0WtKekv4j6SlJn235rbkl/Sz/zpOSjpE0Z972DkkXZQ3PSbriLf4twSAIoxD0x3eB9wKrA2sDGwGtY9zLA3MA7wD2BE6RtMJbaOfdwG2NBdtvAHfm9f2xPbAdMDLruxb4JbAI8AjwzZbvXpe/syipR3JWw7i1koesTgb2ARYHxgLn9Xmq355kxBad0R8laXXgg8At7faXNBdwPnAOMAL4WtY23THMhuxXwG657T8A50iaLf8tfwfuzsdjWeDPtm8BDgCuyk/+75iR5n7YEBiX2z0WOL5l26nARGBFYF3g08DnW7Z/CPhn3vcc4M/Au4AVgD2AX+fjAPBTYBnSuVoFWBk4KG/7BnAvsBiwJHDYW/xbgkEQRiHojx2BQ20/a/sp4Af0/oefCnzX9mu2LwMuA7Z5C+3MR7qxtDKR1Fvoj+NtP2z7eeAS4G7bY21PBc4G3tf4ou3f2/6v7deB/yPdoFZs85s7AH+1fZXt1/J3FwNGt3znp7Yftz1lAG0TJP0X+AtwDHBaP/t/KK872vbrti8GLiUZjr7sBRxre7ztabaPA+YkGesNgAWAQ2y/bHuK7X8OoO/Ncm8+htOAU4DlJC0kaTmSwfhKbvcJ4BfAZ1v2vcf2afm8nEkyWofla+Y80kPF8tnwfgHY3/YLticCh7f81uvAUsDIvO/VQ/j3BX2oxdhmUC8kidQDeKRl9SPA0i3Lz9h+pc/2pd5Ccy+SbmqtLABMHmCfp1o+T2mzPF9jQdLBwK6kv8fAXKSb/b19fnMpWv5e29Mk/Yfef/OjA2hq8G7bj/WzrXX/pYB/u3dGyr7HuMFywHaSvtaybo783fmAh3IPqxO0Dju9nN/ny5rmAp5JlwuQHjLvb/l+3/Pyar7ht66bj3QsZicZ1MY2kR48AH4IfA+4UtLrwK9izqNzRE8hmI58o3qS9I/fYCTwn5blxVq6/o3tj7+F5iYAazQW8pj0e/L6mULSGGA/YCtgIdLw0hTSDacvj9Py90oaTrrptv7NM5tSuHX/x0nHrJW+x7jBo8B3bC/U8prH9l/ytuXV3supkymQHyUZ9IVbNC1ge6238FtPkAzASi2/taDtRQFsT7S9v+3lgM8A35K0/pD9JUEvwigE/XE6cGiexF2cNE7/x5btswPfljSHpE1IY+V/bvdDkoZnAzIbMEzJfbPRS70UmDtPTM4JfBl4CbhmCP6G+UlDD8+Qnqy/R3q6bccZwFaSNszj9AeRvKbGDYGOdvyDdCwOyHMDY4CPkbyv+nIcsF+eqJWk+SRtIWke0nGaDHxf0jx5wna9vN9TwLLt5lBmFtsPAdcDR0iaX9IwSaMktXUQmMFvvQ6cCPxc0mL5b1w2HxPy37pC7sFOBKblV9ABwigE/fEd4C7SE/utpMncVr/5h0lPd0+S/qF3s/1gP7+1B+kJ/ack4zGFNGlJHl/fEtgbeIE0jvzpPA49s/wNuBp4AHgQeJZkIKbD9u0kF9Lf5u98BNhyiHS0a+8V4JOkeZjnSO6629t+oM13rwW+lLW9APwL+Fza5NeBj5N6W4+R3Iu3zrteRDpPT0vqb0hrZtiB1AO7B3ieZFiXeIu/dQCp9zSOdOO/CHhn3vYu4CqS8bsaONL29W9ZdTAgiiI7wZtF0makic93zvDLNUbSEcB8tvepWktfJJ0JjJvZALYgeLNETyHoSvJQxGrAQ1Vr6Use7lmZGmoLZn3CKATdygTS0MfJFetox/OkoaDzqhYSdB8xfBQEQRA0iZ5CEARB0CSMQhAEQdDkbR3RvNhii3n55ZevWkYQBMHbivHjxz9re0S7bW9ro7D88sszblynYouCIAhmTSQ90t+2GD4KgiAImoRRCIIgCJqEUQiCIAiahFEIgiAImoRRCIIgCJqEUQiCIAiahFEIgiAImoRRCIIgCJq8rYPXBsPyB10wU/s/fPgnhkhJEARB/YmeQhAEQdAkjEIQBEHQJIxCEARB0CSMQhAEQdAkjEIQBEHQJIxCEARB0CSMQhAEQdAkjEIQBEHQJIxCEARB0CSMQhAEQdAkjEIQBEHQJIxCEARB0CSMQhAEQdAkjEIQBEHQJIxCEARB0CSMQhAEQdAkjEIQBEHQpGNGQdKykq6UdLekCZL2z+sXkXSppPvy+8J5vST9QtL9km6XtFantAVBEATt6WQ5zqnAgbZvljQ/MF7SpcCuwOW2D5d0EHAQ8A1gc2BUfr0f+HV+f/tz2IJD8BsTZ/43giAIZkDHegq2n7B9c/48GbgbWBrYEjglf+0U4NP585bA7524HlhI0pKd0hcEQRBMT5E5BUnLA+8DbgCWsP0EJMMBLJ6/tjTwaMtuj+V1fX9rT0njJI175plnOik7CIKg6+i4UZA0H/Bn4ADbkwb6apt1nm6FfZzt0bZHjxgxYqhkBkEQBHTYKEianWQQTrX9l7z6qcawUH5/Oq9/DFi2ZfdlgMc7qS8IgiDoTccmmiUJOAG42/bRLZvOA3YBDs/v57as/6KkP5EmmCc2hpmCoWH1U1afqf3v2OWOIVISBEFd6aT30frA54E7JN2a1x1CMgZnStod+Dewbd52IfBx4H7gZWC3DmoLgiAI2tAxo2D7GtrPEwB8pM33DezbKT1BEATBjImI5iAIgqBJGIUgCIKgSRiFIAiCoEkYhSAIgqBJGIUgCIKgSRiFIAiCoEkYhSAIgqBJGIUgCIKgSRiFIAiCoEkn01wEwXTcveq7Zvo33nXP3UOgJAiCdkRPIQiCIGgSRiEIgiBoEkYhCIIgaBJGIQiCIGgSRiEIgiBoEkYhCIIgaDJDoyDpCEkLSJpd0uWSnpW0UwlxQRAEQVkG01P4mO1JwCeBx4CVga91VFUQBEFQCYMxCrPn948Dp9t+voN6giAIggoZTETz3yTdA0wB9pE0Anils7KCIAiCKhhMT+FQ4IPAaNuvAy8DW3RUVRAEQVAJgzEK19n+r+1pALZfAv7eWVlBEARBFfQ7fCTpHcDSwNyS3gcob1oAmKeAtiAIgqAwA80pbArsCiwDHN2yfhJwSAc1BUEQBBXRr1GwfQpwiqTP2P5zQU1BEARBRQxmTmFtSQs1FiQtLOkHHdQUBEEQVMRgjMLmtl9oLNj+LylmIQiCIJjFGIxRGC5pzsaCpLmBOQf4fhAEQfA2ZTDBa38ELpd0EmDgC8ApHVUVBEEQVMIMjYLtIyTdDnyU5Jb6fdsXd1xZEARBUJzB9BQA7gam2r5M0jyS5rc9uZPCgiAIgvIMJnX2HsDZwG/zqqWBczopKgiCIKiGwUw07wusTwpaw/Z9wOKdFBUEQRBUw2CGj161/ZqUslxImo004RwEb0t+ufcVM/0b+/5mkyFQEgT1YzA9hbGSDiHlQBoDnAX8rbOygiAIgioYjFE4CHgGuAPYC7gQ+FYnRQVBEATVMBiX1DeA3+VXEARBMAvTb09B0pn5/Q5Jt/d53SbpSklbDrD/iZKelnRny7rDJP1H0q359fGWbQdLul/SvZI2Hao/MAiCIBg8A/UU9s/vn+xn+2LAqcC5/Ww/GTgW+H2f9T+1fWTrCkmrAZ8F3g0sBVwmaeVGYZ8gCIKgDP32FGw/kd8fIdVkXj2/pth+xPZ4YMcB9r8aeH6QOrYE/mT7VdsPAfcD6w5y3yAIgmCIGEzw2nbAjcC2wHbADZK2AciG4c3yxTwEdaKkhfO6pYFHW77zWF4XBEEQFGQw3kffBNaxvYvtnUlP8N9+i+39GlgJWBN4Ajgqr1eb77aNhZC0p6RxksY988wzb1FGEARB0I7BGIVhtp9uWX5ukPtNh+2nbE9r8WhqDBE9Bizb8tVlgMf7+Y3jbI+2PXrEiBFvRUYQBEHQD4O5uV8k6WJJu0raFbiAFKvwppG0ZMviVkDDM+k84LOS5pS0AjCKNGQVBEEQFGQwcQpfk7Q1sAFpmOc423+d0X6STgc2AhaT9BhwKLCRpDVJQ0MPk4LhsD0hu8DeBUwF9g3PoyAIgvIMaBQkDQcutv1R4C9v5odt79Bm9QkDfP+HwA/fTBtBEATB0DLg8FF+Wn9Z0oKF9ARBEAQVMpgsqa8Ad0i6FHipsdL2lzqmKgiCIKiEwRiFC/IrCIIgmMWZ0ZzC+0i9gwm27y4jKQiCIKiKgRLifQc4A/gMcEEuyxkEQRDMwgzUU9geWNP2y5IWBS4i0mcHQRDM0gzkffSK7ZcBbL/lKOYgCILg7cNAPYWVJJ2XP6vPMra36KiyIAiCoDgDGYW+BXSObPutIAiCYJahX6Nge2xJIUEQBEH1xDxBEARB0CSMQhAEQdAkjEIQBEHQpN85BUmLAfsC/wVOBH4CfAh4ADjQ9v1FFAbBLMpR239ypn/jwDPOHwIlQdDDQD2F04A56Sl48yCwDXA+cHznpQVBEASlGcgldQnbh0gS8Ijtn+T190jat4C2IAiCoDAD9RSmAdg28GyfbW90TFEQBEFQGQP1FFbMEcxq+UxeXqHjyoIgCILiDDaiuW80c0Q3B0EQzIIMZBQWBv5p++lSYoIgCIJqGWhOYSfgFkn3STpZ0p6S3l1KWBAEQVCefo2C7W1sLw2MAS4B3gv8XtIzki4sJTAIgiAoxwxrNNt+WNJcwNz51fgcBEEQzGIMFNF8CPBBYARwL3A9cCywp+1pZeQFQRAEJRmop7Az8CIpgvmfwA22JxZRFQRBER476B8z/RvLHP6hIVAS1IWB6imsKmkRYD1gI+AgSfMBt5G8kk4qIzEIgiAoxYBzCrafB86XdBGwNrAhsBfwBSCMQhAEwSzGQHMKW5B6CesD7wYmkIaRDszvQRAEwSzGQD2FXUk3/68D422/VkRREARBUBkDzSlsXVJIEARBUD1ReS0IgiBoEkYhCIIgaNKvUZB0eX7/cTk5QRAEQZUMNNG8pKQPA1tI+hOpjkIT2zd3VFkQBEFQnIGMwneAg4BlgKP7bDOwSadEBUEQBNUwkPfR2cDZkr5t+/sFNQVBEAQVMZgsqd/PgWwb5lVX2T6/s7KCIAiCKpih95GkHwH7A3fl1/55XRAEQTCLMRiX1E8AY2yfaPtEYLO8bkAknSjpaUl3tqxbRNKluZrbpZIWzusl6ReS7pd0u6S13uofFARBELx1BhunsFDL5wUHuc/JJAPSykHA5bZHAZfnZYDNgVH5tSfw60G2EQRBEAwhM5xTAH5EqtV8JcktdUPg4BntZPtqScv3Wb0lKQ03wCnAVcA38vrf2zZwvaSFJC1p+4lB6AuCIAiGiMFMNJ8u6SpgHZJR+IbtJ99ie0s0bvS2n5C0eF6/NPBoy/cey+umMwqS9iT1Jhg5cuRblBEEQRC0YzA9BfKN/LwO6lCbde5Hy3HAcQCjR49u+50gCILgrVE699FTkpYEyO9P5/WPAcu2fG8Z4PHC2oIgCLqe0kbhPGCX/HkX4NyW9TtnL6QPABNjPiEIgqA8AxoFScNaXUrfDJJOB64DVpH0mKTdgcOBMZLuA8bkZYALgQeB+4HfAfu8lTaDIAiCmWNGNZrfkHSbpJG2//1mftj2Dv1s+kib7xrY9838fhAEQTD0DGaieUlggqQbgZcaK21v0TFVQRAEQSUMxih8t+MqgiAIglowmDiFsZKWA0bZvkzSPMDwzksLgiAISjOYhHh7AGcDv82rlgbO6aSoIAiCoBoG45K6L7A+MAnA9n3A4gPuEQRBELwtGYxReNX2a40FSbPRT7RxEARB8PZmMEZhrKRDgLkljQHOAv7WWVlBEARBFQzGKBwEPAPcAexFCjT7VidFBUEQBNUwGO+jNySdAtxAGja6NwebBUEQBLMYMzQKkj4B/AZ4gJTNdAVJe9n+e6fFBUEQBGUZTPDaUcDGtu8HkLQScAEQRiEIgmAWYzBzCk83DELmQXpSXgdBEASzEP32FCRtnT9OkHQhcCZpTmFb4KYC2oIgCILCDDR89KmWz08BH86fnwEW7piiIAiCoDL6NQq2dyspJAiCIKiewXgfrQDsByzf+v1InR0EQTDrMRjvo3OAE0hRzG90Vk4QBEFQJYMxCq/Y/kXHlQRBEASVMxij8HNJhwKXAK82Vtq+uWOqgiAIgkoYjFFYHfg8sAk9w0fOy0EQBMEsxGCMwlbAiq3ps4MgCIaSww47rBa/EQwuovk2YKFOCwmCIAiqZzA9hSWAeyTdRO85hXBJDYIgmMUYjFE4tOMqgiAIglowmHoKY0sICYIgCKpnMBHNk+mpyTwHMDvwku0FOiksCIIgKM9gegrzty5L+jSwbscUBUEQBJUxGO+jXtg+h4hRCIIgmCUZzPDR1i2Lw4DR9AwnBUEQBLMQg/E+aq2rMBV4GNiyI2qCIAiCShnMnELUVQiCIOgSBirH+Z0B9rPt73dATxAEQVAhA/UUXmqzbl5gd2BRIIxCEATBLMZA5TiPanyWND+wP7Ab8CfgqP72C4IgCN6+DDinIGkR4CvAjsApwFq2/1tCWBAEQVCegeYUfgJsDRwHrG77xWKqgiAIgkoYKHjtQGAp4FvA45Im5ddkSZPKyAuCIAhKMtCcwpuOdh4skh4GJgPTgKm2R+ehqjOA5UmxENvFUFUQBEFZOnbjHwQb217T9ui8fBBwue1RwOV5OQiCIChIlUahL1uSJrPJ75+uUEsQBEFXUpVRMHCJpPGS9szrlrD9BEB+X7wibUEQBF3LYHIfdYL1bT8uaXHgUkn3DHbHbET2BBg5cmSn9AVBEHQllfQUbD+e358G/kqqz/CUpCUB8vvT/ex7nO3RtkePGDGilOQgCIKuoHhPQdK8wDDbk/PnjwHfA84DdgEOz+/nltYWBEH3cvkVK830b3xkkweGQEm1VDF8tATwV0mN9k+zfZGkm4AzJe0O/BvYtgJtQRAEXU1xo2D7QWCNNuufAz5SWk8QBEHQQ51cUoMgCIKKCaMQBEEQNAmjEARBEDQJoxAEQRA0CaMQBEEQNAmjEARBEDQJoxAEQRA0CaMQBEEQNAmjEARBEDQJoxAEQRA0qSp1dhAEQdCGd1x560z/xpMbr/mW942eQhAEQdAkjEIQBEHQJIxCEARB0CSMQhAEQdAkjEIQBEHQJIxCEARB0CSMQhAEQdAkjEIQBEHQJIxCEARB0CSMQhAEQdAkjEIQBEHQJIxCEARB0CSMQhAEQdAkjEIQBEHQJIxCEARB0CSMQhAEQdAkjEIQBEHQJIxCEARB0CSMQhAEQdAkjEIQBEHQJIxCEARB0CSMQhAEQdAkjEIQBEHQJIxCEARB0CSMQhAEQdAkjEIQBEHQJIxCEARB0KR2RkHSZpLulXS/pIOq1hMEQdBN1MooSBoO/BLYHFgN2EHSatWqCoIg6B5qZRSAdYH7bT9o+zXgT8CWFWsKgiDoGmS7ag1NJG0DbGb7f/Ly54H32/5iy3f2BPbMi6sA985ks4sBz87kb8wsddAA9dBRBw1QDx110AD10FEHDVAPHUOhYTnbI9ptmG0mf3ioUZt1vayW7eOA44asQWmc7dFD9XtvVw110VEHDXXRUQcNddFRBw110dFpDXUbPnoMWLZleRng8Yq0BEEQdB11Mwo3AaMkrSBpDuCzwHkVawqCIOgaajV8ZHuqpC8CFwPDgRNtT+hws0M2FDUT1EED1ENHHTRAPXTUQQPUQ0cdNEA9dHRUQ60mmoMgCIJqqdvwURAEQVAhYRSCIAiCJl1nFCTtP5h13UAcix7iWARBouuMArBLm3W7lhQg6fLBrCtA5ccCQNIGknbLn0dIWqG0BmpwLCT9YTDrugFJW0q6W9JESZMkTZY0qQIdlZ+T0hpq5X3USSTtAHwOWEFSq5vr/MBzhTTMBcwDLCZpYXqC9RYAliqhIeuo/Fi0aDkUGE2KTj8JmB34I7B+ofZrcyyAd7cu5FxgaxfWgKStgR8Di5OuUQG2vUBBGUcBW9m+o2Cb7ajDOSmqoWuMAvBP4AlSiPhRLesnA7cX0rAXcADJAIynxyhMIiUCLEUdjkWDrYD3ATcD2H5c0vwF26/8WEg6GDgEmLvlaVjAa1TjAnkE8Cnbd1fQdoOnqjQIdTgnVWkIl9QKkLSf7WOq1lEHJN1oe11JN9teS9K8wHW231u1ttJI+pHtg2ug41rbRXpqA2j4GTACOAd4tbHedtFg1jqck9Iaus4o1KRrjKT1gOVp6a3Z/n1hDZUfC0lfBUYBY4AfAV8ATittNOtwLLKOpYHl6H1dXF1Yw8+BdzD9DfkvBTW0GzO37Z1LaWjRUodzUkxDNxqF+6m4a5wv+JWAW4FpebVtf6mwjsqPRdYxBvgY6UZ8se1LK9BQ+bGQdDgptctd9L4utiis46Q2q237CyV11IE6nJPSGrrRKNSha3w3sJorPvg1ORYrAE/YfiUvzw0sYfvhwjrqcCzuBd5r+9UZfnkWR9JSwM+BDfKqq4Ev2y6aILMO56S0hm6aaG4wTtIZVNg1Bu4kdc+fKNhmO+pwLM4C1mtZnpbXrVNQA9TjWDxI8r6q1ChIWgY4huQBZuAaYH/bjxWUcRJwNrBTXv58XrdpQQ1Qj3NSVEM3GoUFgJdJwxUNDJT8518MuEvSjfS+ARUdJqAex2K2XGUvNW6/ljPklqYOx+Jl4NYcs9J6XRQdViTdfE8Dts3LO+V1YwpqWML271qWj8/JMktTh3NSVEPXGQXbu1WtATisagFQm2PxjKQtGl4lkrakgspWNTkW51GPVPEjbLfOK5ws6YDCGp6X9FngjLy8HfB8YQ1Qj3NSVEM3zimsDPya9CTyHknvBbaw/YPCOpYDRtm+TNI8wHDbkwtrqPxYSFoJOJUUuyHgUWBn2/eX0pB1VH4sso65gZG2Z7bM7MxouAw4GTg9r9oB2M32RwpqWB74FfB+Uo/temA/2w+V0tCipQ7npJwG2131AsYC6wK3tKy7s7CGPUgFhR7Iy6OAy7vxWLS0Ox8wf5dfF58i1Rx/KC+vCZxXwbEYSXoyfQZ4mjTPslxV56bKVx3OSWkNXTd8BMxj+0apVznoqYU17Eu6Ad0AYPs+SYsX1gA1OBaS5gQ+Q47ZaGix/b2SOqjBsSANK64LXAVg+9Yq8kDZ/jdQen4LAEkH2j5K0k/pU58dwPZXCks6jOrPSVEN3WgUns1DFgaQtA3lvYBedZpQJWuYjTb/AAWow7E4F5hISvtRpYdHHY7FVNsT+ximYteFpK/bPkLSMe3adZnJ1Qfy+50F2hoMlZ6TKjR0o1HYl5Q3ZFVJ/wEeosftrRRjJTVymowB9gH+VlgD1ONYLGN7s8JttqMOx+JOSZ8DhksaBXyJlJupFI3AvXEF2+yF7XPyx/+6jztwjjovTdXnpLiGrptobpBz7Axz4cnd3PYwYHdaoniB413Ryaj4WBwHHOPqs2EClR+LeYBv0vu6+L5zYF8V5Gt1PttF01Y3cmH1WTfedtEMpXU4J6U1dJ1RkLQQsDPT5x0q7QteOXU4FpLuAt5JejJ/lZ6cQ0UT4tXhWNQFSacBe5MCCccDCwJH2/5JgbY3BTYjpTM/tWXTAsAatksHNXYd3Th8dCHJve0O4I0qBEj6JPB9ehJcVZJ8jRocC2DzitrtS+XHQtJoUqrk5eltmEpnjF3N9iRJO5KOyzdIxqHjRoHk7XQn8AowoWX9ZOCgAu33og7npLSGbuwpTNctrUDD/cDWwB1VDRllHZUfiwbZ+2quxnL2gCnZfuXHIue4+Rp9DJPtRwrrmEByezwNONb2WEm32V6joIa5qhw2a9FR+TkpraEbewp/kLQHcD69Q8ZLRks+SvKBr9oiV34sJG1BKm6zFOkpcTnShOe7B9qvA1R+LIBnXLheQD/8FngYuA24Ogdali6FubSkHwKr0fthYeXCOupwTopq6Maewr7AD4EX6HHrsu0VC2pYhzR8NJbeN6CjS2nIOupwLG4DNgEus/0+SRsDO9jes5SGrKMOx+IjpOjhvjluSuZfaouk2WwXi9uQ9A/gB8CRwKeB3YA3bH+nlIaso/JzUlpDN/YUvgK803bx/Dot/BB4kfQEVEXytwZ1OBav235O0jBJw2xfKenHFeiow7HYDViVlBGzMUxQOikfkvq78ZYMKJzH9sWSjrT9APCtbChKU4dzUlRDNxqFCaSsg1WyiO2PzfhrHacOx+IFSfOR8uWfKulpykcSQz2OxRq2V69YA8BLLZ/nAj5JTwxDKV5VitZ6QNLewH9IVfFKU4dzUm/3BpkAACAASURBVFRDNxqFaaQ0tFdSXSrcyyR9zPYlBdtsRx2OxZYkT5MvAzuS3B9Lp7iAehyL6yWtZvuugm1Oh+2jWpclHUn5TKFfJuXD+hKpZ70AqVRraepwTopq6MY5hV3arbd9SkENk4F5gdeA13skFK8HXPmxqAt1OBZKFflWouKYjTa6FgZutD2qUHvDgR/aLu6C2kZL5eektIauMwpQj1S4dUGpoM2qpDHKe91S8KZQ+1sDPyYNDYjqYjYqvy6yl890VOCSegc9k+3DgRHA92wfW1DDFbY3KdXeADoqPyelNXSdUZD0KZJHwxy2V5C0JumCL10cfWtS/VkD/2jJ+VJSw8dJ7ocPkG7GKwB72f57QQ33A5+yXXrMuq+OulwXa9FzXVxr++aS7WcNrTehqcBTJT2PsoYjgRVJpVmbcxxVuIfW5JxsQKq/cpKkEaTUIx2pLdGNRmE8yQXyKtvvy+vuKDmRI+lXpNQOjSIm25NqK+xbSkPWcQ/wSeeCNjlL6AW2Vy2o4Vrb65dqbwAddbguvkMqgdnwKvk0cJYLFfqRtMhA2wvHr/yhvQTvXEpD1lHpOckaDgVGA6vYXlnSUllDR/5vunGiuQ6pcD8MvKcRvCbpFFK0Ymmedu8KZw+SAshKMk7SGaRCLlX65tfhutgBeF8jklfS4cDNJH/9Eown/c1qs82kJ/ci2P58qbZmQNXnBGAr4H25XWw/Lmn+TjXWjUahDqlw7yVVt2qMCS4L3F5YA8AESRcCZ5L+6bcFbspDW6VuzAuQXEFbXXSL++ZTj+viYZILaCO9w5z01BfoOLaLF/TpD0ntAjknAuNsX1BQysNUeE4yr9m2pMZD5LydbKwbh4/qkAp3LLAOcGNetQ5wHdlPvtQ4tqSTBths2x11AcxeJl+y/dNOtjNILXW4Ls4hXQuXkgzjGOAacu+tlHuspK2AK2xPzMsLARuVnPeS9DtSiouz86qtSYnyRgL32D6wkI7Kz4mkr5JK9o4BfkRyzT3N9jEdaa/bjEIdkPThgbbbHltKS9VIutL2xlXrqAP9ucU2KOUeK+lW22v2WXdLY66lkIYrgE1tv56XZwcuAjYFbrNdJDdWjc7JGFoeWGxf2rG2us0oSPob048VTyRVm/ptqSdDSUuQnkAg+YCXHstH0jLAMcD6pGNyDbC/7ccKavghKWDtDHp7mRT18KjRdTEH0Ej6dm/jplgSSbf39YGvYNL9XmAd5+I+khYg/Z+sqsIZbetwTkrSjXMKD5L8rls9f54infTfAR2f4JK0HSk3/VUky3+MpK/ZPnvAHYeek0jpkbfNyzvldWMKalgvv7dGMZvkCVSSOlwXGwGnkMaxBSwraRfbV3e67T6My2P6vySdi/1Ik9AlOZoUYX456VhsBPwkj6dfVUpEHc5JDnbt74HlQNsPDml7XdhTuNr2hu3WSZpQoluqlBl0TKN3kP2OL3PBfPW53XbDBNOt6wZqcl2MBz7XCJ6TtDJwusuXoJwX+DbwUdKN8BLgB7ZfGnDHodexDPD+rOEG24+WbD9rqPycSPou8DjpAU7AZ4F3kBxW/tf2RkPZ3rCh/LG3CSMkjWws5M+L5cVS0bzD+gwXPUc15+JZSTtJGp5fO2UtxZC0hKQTJP09L68mafeSGjJ1uC5mb42mtv0vUmbMoth+yfZBtkfbXtv2waUNQmYDYNVGD1pSUeOYqcM52cz2b21Ptj3J9nHAx22fASw81I114/DRgcA1klqjePfJT0el8txcJOlieg9VXFio7Va+ABwL/JTUPf0n5ZOOnUwasvpmXv4XaX7hhMI66nBdjJN0AtAI3NqR8sM2jafhrzJ9+cdiQ3qSjiXdfDckJcR7CfgNPfNwpajDOXkjDzk3hpe3adk25EM9XTd8BCBpTlK+H5Hc24qX/ZP0GdIEr4Crbf+1tIY6IOkm2+u0erdUNYRV9XWR29+X9IQsUjrxX9l+dcAdh17HbaQb8HhS9lgAbBe7GTYmk/tcF0VLguY2Kz8nklYEfg58kGQEridlkf0PsLbta4a0vS41Cu9h+jJ/v69OUVkkHcMATxil/OGzlquAzwCX5pvAB4Af2x7QbbdDWrr6umggaXzpeYw2Gm4g3QTH5etiUXJ1vip1dQNdN3yU84hsRPrnvxDYnOSK2fF//n68CIDimUHHFWpnMBxIytW/kqRrSR5A2wy8y9BT8XXRmpV0Ovq6hxbgb5L2Af5KdfWqfwn8mTTX811gOwrW2ajTOZE0F7A7qW556wNLR4Z6u66nkE/2GsAtttfI8QLH2/5UxdIqQ9K8FU0kNtqfDViFZByr8s2v7LpQP6mRG7h86ux22TftgvWqs4530+MBdZntOwu2XZtzIuks4B7gcyTDuCNwt+39O9FeN3ofTbH9BjA1B8Q8TcFEXw0kbSBpt/x5MUnF885I+qCku8ilFiWtoZTBtaSG24CvA6/YvrPCwKDKrgvbjzReedWo/PlpoOTTeUPPCm1epQ3CybYn2P657Z/ZvlPSyaXar9k5eaftbwMv5QjqTwAdCyTsuuEjkjfBQqSApPHAi/TkICqCWlLhkjxv5gD+SJp4LsnPSGkDzgOwfZukDQfeZcjZguR9daakN0ieR2fa/ndhHXW4LvYA9gQWIVXaWoY04fuRQu1vYvsK5YSIfXHZzLV9I6qHUd7zqPJzkmk8KL2Q572eJHmGdYSuMwq298kffyPpImAB26UzlBZNhTsQth9V73TR0/r7bofafwQ4AjhCKTvpt0mV2IYX1lGH62JfYF3ghqzpPkkli9VvCFwBtBsyK5K5VtI3gIOA+SU1nsiV2y/tpgzVnxOA45RKon6b9AA3H/CdTjXWdUYBQNLSwHLkv1/ShoVTCRRNhTsAj0paD7BSfpcvkYeSSiJpedJE4vYko/T10hqyjqqvi1dtv9Yw0nmupeSk38WSZHu3gm325QjgKFI20GaNZttFH1ZaqPqcYPv4/HEsBYY0u84oSPox6eZzFz1PxSb5H5fiTEm/BRbK3dMvkIYtSrM3yf95aeAxUjqD0tXfbiAFKZ0FbDvUeVzehI46XBdjJR0CzK2UFXMf4G8F298F+KWkf5Eykl5k+8mC7ePk+TIV+Jqkd5BSZc/WuCnbLl3joupz0oiV+AzTBxN2xBurG72P7gXeWzogqI2OYqlwB9AwwvYzpdvto2FV2/dUqSHrqPy6yOPmu9O7psPxLvxPKmlVkkvupqQMtleSjMS1pZ7YlbLnfp7kddM00rY/XqL9Fh2Vn5M8nDmR6YMJj+pIe11oFP5OeiJ9sUINXybVWC2WorofHfcBD5Emd/9s+4UKNCwIHEoaz4bURf6ec4GXgjrqcF1sBVxY9QNLK5LmBjYmGYkP2h5dqN17gTWqyDbQR0fl50TSnbbfU6q9rhs+IlU3a6TkbQ3MKRbFSypBeXGeSPsTcLbtpwq2D4DtUZLWJWVd/GZ2T/2T7T8WlHEiqaLWdnn58ySPrLYeMB2kDtfFFsDPJF1Nui4utj21YPuNJ+PbGzch21NIwXylc3M9RD1c5is/J8A/Ja1uu0gd927sKbStpORCFZT6aHkvaRz7M8Bjtj9aWkOLlsVIOex3tF3M80c1Sd9dl+tCqcLY5qTrYgNS+o//KazhVODgCtyCWzWcRXJLvYzeRvorFWip9Jzkh7V3kgzlq/RkQOhIVHXX9RSquPkPwNMkn+PngNJubo1qVluRegorkdIarFtYxhRJGzgn9ZK0PjClsIbaXBe2X89DWQbmBrYEihoFYElggqQb6V0Nr0jt8MxF+VU5NTgnmxdsqyt7CqNI7m59E58Vi9iU9L+kp44RpHS4Z9i+q1T7LToeAs4hBYtdV7r9rGFNUmrqBUlPQM8Du9q+rbCOOlwXm5EM9Mak6mJnAJdUMITUNhmhu6h2eIO6nJOsZXF6X5sd6cl1XU+BNF59KKmGwMbAbqSbUUmWAw6wfWvhdvuyYo6XqCpOgnwM1si9Fpxr8lZAHa6LXUnj1ntVObFpe2zO/TPK9mWS5qFQMKGk023vIOkW2sQDuGBt5syuVHxOJG1Bit1YijS6sBwpnqgj1QC7sacw3vbaailELukftj9UWMcGpH+6k5TKcc5nu10isk5q+CApSnQ+2yMlrUG6+PeZwa5DqaHdGPFEYHxJo1mj66L1Zjw3MJvtyYU1NFM72F4p96J+Y7vjqR0kLWP7MUkrtdtu+4FOa2ijqdJzopQfbBNy6nBJGwM72N6zE+3VYXa/NK9kD4v7JH0xu5wVHc9Xyn30DeDgvGp2Uu6j0jRyHz0HKfcRPa6hpRhNCqJbOr/2JKWw/p2kkpHNdbgu9iANJ/42r1qGNLxXmn1JebgmQUrtQKFj0XDTtv1Au1cJDa3U5Jy8bvs5YJikYbavBDrmiNGNRuEAYB5SSoe1SS6QbT1POshWJFe3lyDlPgIqy33UZ1XpdAKLAmvZPtD2gSQjMYJknHYtqKMO10VlN+M+vGq7WZe6itQONaIO5+QFSfORoutPlfRzUtR3R+i6OQXbN+WPL5LGjasgch/1MBJ4rWX5dWA521MkFRvDrcl1UXmenUzlqR1qRB3OyZbAK6QSnDuSnDI6VnCo64yCpNGkIvHNxGdQvLpV5D7q4TTgeknn5uVPAadnQ1nMI6sm10VdbsYHkVI73AHsRQpcO37APWZdKj8nzgWwsjNGx9vuxonme4GvkS74NxrrXb66VeW5j+qCpLXpKYx+je3i5ULrcF3UIc9O1fTnddSgtPdRHc6JpL1IPYMppGuzEbzWEXfpbjQK19jeoGodVSLpGAb+xyuZ2qEWxHVBLeoSt3gd7U1yg/1DXt4RmGz7u53WUDdyjrIP2n62RHtdN3wEHCrpeKBvjpsSBUQmM/A/3QKd1pBpPImvTwrWOiMvb0vKxNiNVHldVH4zznwyvzeGEFtvyC+XENDwMJK0nu3WSoS3SLoWKGIUanROAB6g0PGH7jQKuwGrktxAG8MERapK2Z4fQNL3SOkt/kDqCu5IQe+jRkoHSbsCGzvXRZb0G9K8QjdS2XVBDW7G0DNUJmn9Pjfkg/INuWOTm22YT9IHbF+fNb2fVHGsFLU4J5mDSUnxbqBAssZuHD5qBidVqOEG2++f0boCOu4ldUufz8sLA9fbXqVQ+8NJ8ymVJQJs0VKH6+LaPjfjtusK6LgV+GJLPqr1gF+5YJJCSeuQoswbaR2mAF9o8RIrpaPyc5JzUF3D9PNdHcnX1Y09heslrVZFrqEWpknakRQ+b2AHyscHABxO6pZfmZc/DBxWqnHb0yS9LGlBF66f0IY6XBfzqndywPWAKtyVdwdOVKp1AfACyUOuGPnm/x5Ji+bl50q230IdzslUF8wO2409hbtJGUGLpKHtR8PyJFfQ9UlG4VpSLqSHS2lo0fIOoNFDucGFyy9KOhP4AHApvTNyFp3srsl1sTapvsSCpOtiIunp+OZSGvroWYB0jyhusHPczKeZvgTl/xXWUfk5UapC9wjJHbV1+Oj5jrTXhUZhuXbrS7ukBgnVp45Bba6LKm/Guf2iNYH70XABKWCrbwnKH5fS0EdPlQayXU60cEkNZl3yU+HKefHexsR3UA0qXBO4Hw1FS1AGPXTjnEJQIyRtRKqn8DBpyGZZSbvYvrpKXV3OMrY3q1hDHeZ4upIwCl1O9gBagt7DBCXLMB4FfMz2vVnPysDppKR0XUOOnP2A7X9WrYXCNYH74f0kJ4j76T3HU7qeQtfRdcNHOafOFNtv5BvQqsDfSwxZqH3tgCa2j+60hlYk7UcqLPMULb75hSdXb+/bXrt1BXRsbvvvfdbtbfs3BTVcZ/uDpdobQEfRmsD9aKhTPYX1mH5+5feldZSiG3sKVwMfyj75l5Oie7cnBaV0mkrSYw/A/sAqFbr7AYyTdAK9g4OqiKr+tqRXbV8BIOkbpLoOxYwCcImkzwB/qTjfUdGawO1oiWxehJYSlKWR9AeSV9qt9MyvGChmFJRqe1zRmOSWtBCwke2O1HXoxp7CzbbXyk/Jc9s+QtIttt9XtbbS5PiEMa6g3myLhjlJUaONhHhXA790Sz7/QjoWA84nJcXbjNSD/GzJSe+cBmVe0s1nCj1P6KXSn7RqqbQyoKRPkEqjLkMqArUUcJ/tVUtpyDruBlar0khLurVv4GAn71nd2FOQUhnKHUlBOlD4OEiaK7f9bnoX4i4aIAQ8CFyV3f9a/Z9LDmPtndtrtilpf1IcRzFsP6tUC/cyUk9lm9I3gkYalKpRqgw4GliFFFXcqAxYMrL6h7m9S5xKUI4hucmW5k7gHcATFbTdoF0xtI7ds7q18trBwF9tT5C0InDlDPYZav5AutA2BcaSnoaK1uHN/JsUNDYHaWir8SpJuziFXUs1LmmypEn5Kf1+kmvstsAkSZNK6WjRs4WkI/PrkzPeoyPUoTLgVNvPkEpQyim1fBWTzIsBd0m6WNJ5jVdhDeMkHS1pJUkrSvopHRxi7brhowaS5nUuXlFB27fkp5/bbb9X0uykHECbVKGnCiTtAHyONGz0j5ZN8wPT6pAPqTSSDgfWAU7Nq3YAxts+qLCOG22v2zLUOi9wXeGJ5stJhukIYAHgaWB92x8opSHr+HC79bbHFtQwL/Bt4KOkIcVLgB906v7VdUYhDx2dQBojHSlpDWAv2/sU1ND4p7uaVMnpSeDGTkUoDqBjBPB1ph/G6rhxyhHEKwA/IlX6ajAZuL30PIek9YFbbb8kaSfSU+nPSrrnSrodWNP2G3l5OHBLBZ5YXwVGAWNI5+cLwGm2jymoYX5SNtJhwM6kNBN/yL2HoIN0o1G4AdgGOK8xUVM6elLS/wB/BlYHTialBP627d+W0pB1XEKqpfBVUlGTXYBnbH+joIYVgcdtv5KX5waWKJ0HKt+Q1wDeSxreOwHY2nbbJ8UOatjIPVlrFwGuKm0UcttRGRCQ9AHgGOBdpGHW4cBLJSb/Jf3M9gGS/kab2g62t+hEu9040YztR5ULcWeKZSjNQUqTbP+X5GlTtHfQh0VtnyBp/9wdHiupWLc4cyawXsvyNOAs0jBKSabatqQtgZ/n49I2L1MH+RE9WWsFbAgcUlgDANkIdKUh6MOxwGdJ1+RoUq9lVKG2G27aRxZqD+hOo/BoDkZxzrnzJeDuUo3noLkvkm6GVdNwt3wiuwA+Tpr0Lslsre6ntl/L56U0kyUdDOwEbJiHbmYvKcD26ZKuIhlEAd9w4ay10HSN7ftkOpEU03Og7QdLa6oS2/dLGm57GnCSpCJR57bH5/eiD2rdaBT2Jrk7Lg08Rpq02XfAPYaeS/O47Rn0ThfdkVS4A/ADpZz5B5K6yAsAXy6s4RlJW9g+DyA/qRepRduH7UkT37vbflLSSOAnJQVIutz2R4Dz2qwrydGkB4TTSMbpsyRvuXtJaaQ3KiEiPxyMtH1/ifb64eWs41ZJR5BcU4vWU8heaN8HliPdszsav9J1cwp1QIVT4daZnM7gVJKRNslQ71zxjaAoOW5lHpJr9Eakf3pIRvrvtt9VWE+7yoDX2/6ApNtsr1FAwydIxmkO2ytIWhM41PZWnW67j47lSGlg5iA9MC1IqkJX7PpUyv+0NXBHidiZruspSDoF2N/2C3l5YeCokoFjtlco1dZASFoB2I/p87p0ZAKrHTmdwQckzUd6SCkaryHpGtsbtBkyKRlNvBcpfmYpkv95wyhMAn5ZoP2+vCFpO+DsvLxNy7ZST5HfIyXFuxLA9q2S3lmo7Sa2H8k9heVJ9brvLR1tDzwK3FkqmLLregrtwsNLp7mQtHO79S6cZEvSbSQvm761X0v6YC8B/B+wlO3NJa1Gqht9QikNdUHSfiXdPgfQsSJpiPWDJCNwPekp+T/A2s6lKTusodEzaf5vqppEiZ8g5b96gGSsVyC5sP99wB2HVsM6pOGjsRTIPNB1PQVShOTC2fun4fZX+ji0etbMBXwEuJmCSbYyr9j+ReE2+3IyKZXCN/Pyv0hzLcWMQvYIu72kW3I/vCFpoT692B1s/6pE4zmg8JI8kfypfr7WcYOQuTv3VoblHu3+JONUmqOAjRvDRXm48wKgmFEgpfx4kXSv6LgTRjcahaNI+eLPJj0FbUc66MWwvV/rcp7s/UM/X+8kP1fKc3MJvZ9AStYEXsz2mdnzB9tTJRVzEc5tviHpNkkjSwartWEP283hItv/lbQHUMQokCYyz8oR9peTbnw3lhq26MMXge+QerB/BS6mGvfcp/vMHzxIiq4uySK2P1aqsa4zCrZ/L2kcsAmpO7i1q6/u9DLlfJ9bWR34POlYNOsp5OVSvCRp0dxuI1ioitrESwITJN1Ib4+wYvMr9OT5aRyL4RR4Mmxg+3Dg8BxN/FFSJPNvlDKFXkQKYnuqkJaXgG/kV3EkbZ0/TpB0IcmF3KS8WDcVlnOZpI/ZvqREY101p1CXYYI+EYrDgNWAs0pGEmcd9wDvrWDirFXDWiR32PeQMlKOIGUovb2wjjrkuPkJaULzN6TrY2/gUdsHltLQj67VSDUWPmZ70w639VcGmMy2vXV/24ZYx0kDbHZJxxT1pFR/jZ7YonBJHSoknQocXOUwQZ8b0FTgEduPVaDjDGA/26W7w311zEZK0yySd0exGgZ1Ij+07EWaY2okPjs+B02V1HEe8CfgXBdOGimpEZOxJckbqzU54AO2Dy6oZTjwJds/LdVmHehGo3AFaaK3ymGCvpqGkwq6nDrDLw9tu1eRcv3cRO85hWLHQtK2wEW2J0v6FikR3Q8Kz2vUhpz7aaRzzeqKNHyYFMz3CdL/yRnA+c75qQppuNr2hi3LAsa2riuk40rbG5dssx8dW5DSnkDKh3V+x9rqQqNQ2TCBpAVI0dNLk6JWL83LXyNl6Nyy0xr66KnDkEkjffgGpNw/RwKH9A2e6gbyP/5P6B2w9b2qHljyw8omwB7AZoViNhpt35PbfDgvL0d6eCgdyPdDUsBa3+wDxR5aVDiletcZhSqRdC7wX+A60hDBwqSJxP1t31qltqpQT22JH5EiNk8rHTdSFySNJ92Er6rSNz+3OzfJLXV7Uu/t/L5ecx1uvxEf0OgxjQL+1/aFpTRkHe0KcNkFa5+ocEr1rvM+6hO5Ogcp6VmRVLjAirZXzzqOJ+X4GVk6irdBxceiwX8k/Zbk7fJjpZrNxSoCSrqDgSc2S96Qp9qeqN4ZfIuT55reT/I4+iXJSL0x8F5Di+0LJK1McsIAuMv2lJIaso7Kh44yCwGN3GgLdrKhrjMK7lMHV9KngXULNd+cQLU9TdJDVRmErKHKY9FgO2Az4EjbL0hakjScVopGyctGUsRGvMiOJFfhktwp6XPAcEmjSBl8i2Tk7MNJwOdKT3C3Ybn8mgtYRRK2TyvRsKSv9Fll0kPcNbbb5S7rJO1Sqndswj2Gj+gJqS/QzjR6xiUFzE268ZTMszMgpY5F3ZB0re31Z7SuwxrmIUV2N4vbAN8vOcHbouMrpF7sntlArdLJyc02Gr5FOg6rko7DpqQbcimX1EPbrF4k6zjM9p9K6GjRsyQ9KdVvcAdTqnddT6ElKAXSMMVoCiX5sj28RDuDpcpjUUPmlbRBI6+PUs2NoimSbb9MMgrfzOPG85Y2CJmTSIn5GsWPHiMVmSlmFEhzGWsCN9v+fL4pFqtMaPu77dbntDiXkVx2SzKM1FOZDVhZ0sq2r+5EQ11nFOid02Uq8DDJJ7obiWPRw+7AiTnlCMALpIjeYkg6jRSwNo10U15Q0tG2i9Z1AFayvX3OhYTtKSo/0TElD7FOzRHWT1JtlUIg1TwpfSwk/ZhkJCfQO/NAGIWhwPZuVWuoC3U4FjnZ2ROuuEazU5WrNbLbsGxXkWpjNduTJO0IXEhK8TCewsV+gNfyeWik21iJljiWQtwiaSFSUZ9xpDTilceuSNqE5EFYkk+Thu+KnIOuMwqSliGlVVifdNFfQ3IJLR5RXBWSjmFgj5svFZRzFjWo0Zy9nj5Dri3ReBi0/b2CMmbPyeg+DRxr+3VJVQznHUryPFo2ZwBYH9i1VOP5Sfwwp2yxv5R0MbBA4diAdl5pi5Aq0rVNfd9BHiR5BoZR6BAnkcoMbpuXd8rrxlSmqDzjWj5/l3QTqIq61Gg+l5SIbzzln4ob/JY0hHcbcHUO2JpUWoTtSyXdDHyANLG5v+1iJVJtW9L5wNp5uYoqfJ/ss2zgudJpPzIvk8qBXk7vzAMdeXjrOu8jSbfaXnNG67qFqgPFJF0KHOPeNZq/5MJ1iSXd6errKfQiPzEPtz21UHtrDbS98JP6r4HfdWu6k1Yk7dJuve1TOtFeN/YUnpW0E3B6Xt4BeK5CPVVT9VPB3sCpko4lPZU+SvnuOaQaG6vbvqOCttvi9MRWxCBkjsrvc5E80W4jnZP3AjcAG3RagKTZshHcANhD0gMkN+6G2/aAhmtWxPYpufe8cl7V0aSR3dhTGAkcSyo1CHAtqXv8SHWqqkPSzXX4R1NFNZpb2r8LeCfwEKmL3rgJFU8xUTWS/gT8sGEgJb0H+KrtXQu0fbPttfLk9nQ41fTuKiRtBJxCGloUsCywS6dcUrvOKATTpbeYh57I3WJBdJJ2sv3HNpGjQOfqzw6gZ7l+dHTdw0KVQ6xVD2fWkZwT63POmXNz+o/Tba/difa6bvhI0hHAD4ApJA+LNYADbP+xUmEF6ZveoiIagWF10NK8+UtanDR8UpwcSXwgKZJ4jyoiiTN359xcfyQ9POwE3F2o7RH9PShA+YeFmjC7W1Kp2/5X9lLrCF3XU2g88UjaiuT692XgSttrVCwtqBCltNVHkQq7PE3KuXO37XcX1HAGyftpZ9vvybEC15V2gpA0F/C/9OTvvxr4dYnoaklPAL8m9Vqno79I41kZSSeSjHNrXq7ZOhVn1I1GYYLtd0v6HfBn2xdJui2MQlkk/WKg7YVjJZB0Gylt9WVOqbw3BnawvWdBTuzQvQAAF2lJREFUDeNsj24dQum2a7Muc1x1IsfQ7EuafBfJSP+qU8FsXTd8BPxNqYDHFGAfSSOAKvLLdDvjqxbQh9dtPydpmKRhtq/M6QVKUodI4qqpNm94PZkN+Hlj6CznxZqzU411XU8BQNLCwKScW2VeYP5OZh0MZkxOL+EKvY8uIw0n/ghYjDSEtI7t9QbccWg1fIyUEG81Un3m9YHdbLcr9DJLImkR28/P+Jvdg6TrgY/afjEvzwdc0qlrs+uMQh3SAgc9SBpNiiifn/SU+ALwhZyLqKSOeUm9x2GkMdsFgVNtF41hkbQoPZHE15eMJA7qSWlvsG4cPqpDWuCghxOBfWz/A0CpVvNJpICpYrSkL3iD5BNeHEmX50juC9qsK9H+3xg4J1YltaIDXpK0ViO6W9LapAeYjtCNRqEOaYGDHiY3DAKA7WtyHEXXkL195gEWy0ObjetxAZI3VCmOLNhWMHgOAM6S9HheXhL4bKca60ajEJN5NaAlz86NSjWaTyedk+2Bq6rSVRF7kf7xlyL1YhtGYRKpRnIRbI8t1VYweGzfJGlVYBXStXFPpLkYQiSNAb5F78m8XW1fVaWubkOp3mx/2PYmxcTUBEn72T6mBjpGkSbcV6MlkM925UVuuglJX7d9RP68re2zWrb9n+1DOtJuNxmFPEy0DCmtQ0zmBU0krQ8cRgpam42elB9Fb4Q5z1Dfm/HvC2u4hpRO/aek6ny7ke4VVaZY7zpaYzb6xm90Mp6jq4aPbFvSOTlnyAUz3CHoOJK+0269yxa3ATiBFN0+nlTopzhKxeI3IhmFC4HNSUWgihoFYG7bl0tSTv9xmKR/UG3djW5E/XxutzxkdJVRyFwvaR3bN1UtJABSWuQGc5GKm5TKs9PKRNt/r6DdVrYh5eK6xfZukpYAjq9AxyuShgH3Sfoi8B9g8Qp0dDvu53O75SGjq4aPoJkieWXgEXrnae+6FMl1JIf0n2d708LtHg4MB/5C7+pWJQvL3Gh73ZwVc2NgMnBnyfxLWcc6JMO8EPB9UszGEbavL6mj25E0jZ571Nz0zmY8l+2OJMXrxp7C5lULCAZkHqCKCc335/fRLetMyodUinFKxep/RxrGehG4sWD7QPJ2yR9fJM0nBBVge3gV7XZdTyGoF+pdIH04MAL4nu1jq1NVPZKWJxWrv71gmz+zfUB/QWwRvNYdhFEIKqVPcZupwFMuVJO4j44FSROpjXTRY0nGaWJBDecCZwDnuoIC8ZLWtj1e0ofbbY84hu4gjEJQCTmKd29SCcw7gBOqMAYtev4M3ElPiovPA2vY3rqghg+Tgvc+QRo2OgM4v0Qdgz465gWm2H4jLw8H5rT98sB7BrMCYRSCSsgFZV4H/kGa53nE9v4V6qmsBGUbLcNJcxl7AJu5QHnUPu0XzcoZ1IuumWhW77rEvTZRqC5x0IvVbK8OIOkEKphQ7cMUSRvYviZrWp8OJh3rj5yC5VOkHsNaVJOcb66GQQCw/WLOLhx0AV1jFFyPusRBD83cLban1iAn4f8Cp+S5BQHPA7uWFJB7T+8n1Q7///buPNqusrzj+PeXlHlGRUUWYIAiIBCggAREAau2VcQiYgW1IrpEZdBqW8UlFBelVkGwtQKlokXUWsZAq4DMM5QkJAq0yGwtICAyDya//rH3uex7OTdhyn4PvL/PWnfdc95zz91P4CbPfYf9PN8ELhgs4fSs16qcMVqqXT7ShAbttm8vGE51OmewYfw57KIzt7bZD7YfKHDttwPn2C5yR3Unji2BHwLdqpy7993jIsqoLiloBBq0x+iQtKft70n6zLDXBy0QF3MMO9o+T9LQTW3bpyzuGIbEtAQ9VeWM0VLN8lHHl2mK4Y1r0F44pihnufbzsOXFvn5jehNwHs1ewrAYek0KbULYh6eO514g6ZgkhjrUOFP4L9t/IOlaYDPbCwblBUrHFuVI2tb2pYsaW4zXnwK8x/aP+rjeImI5DliC8cdz59veu1xU0ZcaZwr3t0fsLgJOlHQ3zU1TUbd/oDnts6ixxaL95eRTQPGkAGxpe9PO8/PaX6KiAjUmhXfRnKT4NE81aO+7THOMCEnb0PTrfsWEfYUVacpu9OkcSZ+luWlt7I5m2/f1HMd8SevYvglA0jQKlROP/lWVFNqbgk63/RYKNmiPkbIksDzN34XuvsIDNKWs+7RX+/mTnTHTf4HAzwHnS7qZZqN5LVIYrxo17inMBD7QZ02bGH2S1mobygRjJcy7p4/Sx7wSVc0UWo8B8ySdw/gp+n7lQooRcFzbB/d+AEmrAD/ss69DWw/qE8B2NDOEi4Gj+6p91N6fcIftO20/Lmk6sCtwm6SDCyxjRQE1zhQ+NGzcdpaSKiZptu3NFjW2mGP4EU1jne+1Q38GrGJ7t56uP4um5tF9kranuYFtX2A6sIHtvpfTooDqZgr5xz8msUDSmoM729uS3n3/xrT+hFM/5/d86mdqZzawO3Cs7ZOBkyXN6TGOKKi6pCDpFoY3ECnR7StGx4HAJZIGPQO2Bz7WcwyzJb1h0PZS0tZAL/dJtKZK+r22hPlOjP/zV/dvRa1q/B/dbbe4NLAbsGqhWGJE2P6JpM1p7nYX8Gnb9/QcxtbAByUN6nCtCVw/6E7XQx/xHwAXSrqH5tj2xQCS1gVyMKMS1e0pDCPpEtvblY4jylFTpnUPYJrtQyStCbzKdm8lvSd0oXuaPk5HSXoDTQG8swfd3yT9PrD8oGpqvLRVlxTa3wYHptDMHPaZsJYblZH0LZp7V3a0vUF7+uhs21sWDi2iVzUuHx3eefw74BbgvYViidGxte3NJc0GsP0bSUuWDiqibzUmhY/Yvrk7IOm1pYKJkfFke8e7ASS9gmbmEFGVKaUDKOCkZzgWdfkGcCqwmqRDgUuAw8qGFNG/amYKkl4HbASsNKGZyYp0OrBFnWyfKOkamqOYAnaxfX0f115I//BBbOkfHr2pJinQ1HF5B7Ay45uZPAh8tEhEMTIknWD7A8ANQ8YWq0H/cEmHAHcCJ9Akpj0Y3vwnYrGp8fTRNrYvLx1HjBZJs2xv3nk+FZhne8MeY7jS9taLGotYnGqaKQzMlvRJmqWksWUj23tN/pZ4qZL0eeALwDKSHqD5DR3gCeDYnsOZL2kPmppDpql9lD4G0asaN5pPAF4FvA24EFiDZgkpKmT7sHb55qu2V7S9QvvxMtuf7zmc99Mcj76r/ditHYvoTY3LR7NtbyZpru1N2iblZ9nesXRsUZaknek0q7d9Zsl4Ikqocfnoyfbz/ZJeT7Oxt3a5cGIUSDoM2Ao4sR3aX9K2fc4W2nsjPkrz8zj2dzNLm9GnGmcKewMnA5sAx9O0YvyS7aOLBhZFSZoLTLe9oH0+FZjdQxG6bgyX0RShu4bOXkJbvjqiF9UlhYhh2qTw5kE/AUmr0iwh9ZkU5tie3tf1Ioapbvmo7T27K0+foh9SKqYYCYfRnEw7n+YE0vZA3xvNZ0r6Y9v/2fN1I8ZUN1OQ9BOa2vATp+iHT/qmeElry2avQVMgcUuapHCl7Tt7juNBYDngcZq9L9H0UcgdzdGbGpPCz2y/vnQcMVokXWN7i9JxRJRW3fIRcJmkjW3PKx1IjJQrJG1p++qSQbR9HNZj/I2VF5WLKGpT40zhOmBdmj4Kj/PUFL23DcUYPe3PxfrArcDDFPi5aE/G7U+zlDWHpjXo5bmHJvpU40zhj0oHECNpFH4u9qfZ07jC9g5tZd+/KRxTVKa6pNBHn9t48bF9W9uqdTuaukOXFuhJ/JjtxyQhaSnbN0hav+cYonI11j6KeBpJXwK+C7wMeDlwvKQv9hzGLyWtDJwGnCPpdOBXPccQlatuTyFiGEnXA5vZfqx9vgwwy/YGheJ5E7AS8BPbT5SIIepU3fJRxCRupTnx81j7fCngplLB2L6w1LWjbtXMFNLyMBZG0mk0m7zn0Pyc/CFNn+a7AWzvVy66iP5UM1NIy8NYhFPbj4ELCsURUVQ1M4WBtDyMiJhcNTOFjrQ8jJGykKXN1D6K3tU4U1gbOArYlvY8OnCA7VvLRRURMRqqSwoRo07SaoyvfXR7wXCiMtUtH6XlYXRJOoOFn0rbucdYdgYOB1anOfW0FnA9sFFfMURUlxSA02laHv6U7CUEfK10AB1fpimC91Pbm0nagWbPK6I3NSaFZW3/VekgYjSM2E1iT9q+V9IUSVNsny/pK6WDirrUmBTS8jCeRtJ6NC05N2T8ev60HsO4X9LywEXAiZLupukGF9Gb6jaa0/IwhpF0CXAQ8HXgncCHaf5+HNRjDMvRlNkY3FS5EnCi7Xv7iiGiuqQQMcygHaekebY3bscutv3G0rFF9KnG5aO0PIxhHpM0BbhR0qeA/wVW6+PCki6xvd2Qm9gyi43eVTdTSMvDGEbSljTHP1emOQW0EvD3tq8oGlhEz2pMCvN4quXh9EHLQ9u7Fw4tKifpDcDPbT/YPl8e2Mj2lWUji5rUuHyUlocxRtKRtg+Y7Ca2Pm9eA74FbN55/siQsYjFqsakMLHl4W9Iy8OandB+HoWb2OTO1N32Akk1/h2NgqpbPupKy8MYaI+DPmp7Qft8KrCU7Ud6jOEUmj4O32qHPgHsYHuXvmKImFI6gJJsX2h7ZhJCAOcCy3aeL0NTCqVPHwdm0Jx8+iWwNfCxnmOIymVqGtFY2vZDgye2H5K07MLe8EKzfTfwvj6vGTFRkkJE42FJm9ueBSBpC+DRPgNIBd8YBdUlBUlfmVgQb9hYVOcA4N8lDQ4dvBro+5hyKvhGcdVtNEuaZXvzCWNzbW9SKqYYDZKWANanuZP4BttP9nz9Oban93nNiImqmSlI2ofmNMc0SXM7L61A05IzKtYmhH2A7duhCyQd03NiSAXfKK6amYKklYBVaMoj/3XnpQdt31cmqhgVko4DlgC+2w59AJhve+8eY0gF3yiumqTQ1Z5BfyXjN/PSB7dikq61vemixiJe6qpZPhpoK2AeDNwFLGiHDWRPoW7zJa1j+yYASdMosNmbCr5RWnUzBUm/ALZO45LokrQTcDxwM82yzVrAh22f32MMqeAbxVU3UwDuAH5bOogYLbbPbVtydk8fPd5zGPvzVAXfHQYVfHuOISpXY1K4meZkyX/QbOgBYPuIciFFKW0fhTts32n7cUnTgV2B2yQd3PMhhFTwjeJqrH10O3AOsCTNcdTBR9TpGOAJAEnbA38H/CvNbPLYnmOZWMH3dFLBN3pW3Z7CgKTlbD9cOo4oq3vCSNI3gV/bPrh9XuxmslTwjVKqmylI2kbSdTStF5G0qaR/KhxWlDO107NgJ+C8zmu9L69KmippdeAWms3mV/UdQ9Stxj2FI4G3ATMBbF/bLhtEnX4AXCjpHpoCeBcDSFqXng8kSNoXOIgcl46CakwK2L5DUncoxccqZftQSefSFMA7u9P5bAqwb8/h7A+sn+PSUVKNSeEOSTMAS1oS2I92KSnqZPuKIWP/UyCUHJeO4mpMCh8HjgJeQ9Pd6mzgk0UjimjkuHQUV11SsH0PsEfpOCKGuL39WLL9iOhddUdSJb2WZq14bcYXxNu5VEwREaOiupkCzY1B/wKcwVMnPCKKkXSk7QMknUFz2mic/MISfaoxKTxm+xulg4joOKH9/LWiUURQ5/LR+2lKE5/N+M28WcWCiqpJWjP9PGJU1DhT2Jimq9aOjL9BKOWJo5TTgM0BJJ1se9fC8UTFakwK7wampZ5MjJDunZTTikURQYW1j4BrgZVLBxHR4UkeR/Suxj2FC2hqyVzN+D2FnPCIIiTNBx6mmTEsAzwyeAmw7RVLxRb1qXH56KDSAUR02Z5aOoaIgepmChERMbnq9hQk/amkGyX9VtIDkh6U9EDpuCIiRkF1MwVJvwDeaTuVUSMiJqhupgDclYQQETFcjTOFo2haHJ7G+NNHpxQLKiJiRNR4+mhFmiN/b+2MGUhSiIjqVTdTiIiIyVW3pyBpDUmnSrpb0l2STpa0Rum4IiJGQXVJATgemAmsTtOS84x2LCKietUtH0maY3v6osYiImpU40zhHkl7SprafuwJ3Fs6qIiIUVDjTGFN4B+BbWhOHV0G7G/7tqKBRUSMgKqOpEqaCuyaiqgREcNVtXxkez7wrtJxRESMqhqXjw4FVgL+jaaGPZAezRERUGdSOH/IsG2nR3NEVK+6pBAREZOrZqNZ0p62vyfpM8Net31E3zFFRIyaapICsFz7eYWiUUREjLDqlo8kvcL2r0vHERExiqo6ktq6TNLZkj4iaZXSwUREjJLqkoLt9YAvAhsB10g6sy11ERFRveqWj7okvRw4AtjD9tTS8URElFbdTEHSipI+JOnHNHWP/g/YqnBYEREjobqZgqRbaPoz/8j25aXjiYgYJTUmBbm2P3RExDNU030KA+tJ+iywNp0/f8pcRETUOVO4FjgauAaYPxi3fU2xoCIiRkSNSeEa21uUjiMiYhTVmBQOBu4GTgUeH4zbvq9UTBERo6LGpHDLkGHbntZ7MBERI6a6pBAREZOr5uY1SX/ZebzbhNf+tv+IIiJGTzVJAXhf5/HnJ7z29j4DiYgYVTUlBU3yeNjziIgq1ZQUPMnjYc8jIqpUzUazpPnAwzSzgmWARwYvAUvbXqJUbBERo6KapBAREYtW0/JRREQsQpJCRESMSVKIiIgxSQoxkiR9XdIBnednSTqu8/xwSZ+RtLakRyXNkXStpMskrT/k+3W/7jpJR0t6Vj//ki57jn+WXSRtOGT8wDaeOZLmdx7vJ+k7kt7zXK4X8XwkKcSougyYAdD+4/1yYKPO6zOAS9vHN9mebntT4LvAFyb5njfZng5sAmwI7NJ9UdJC+3TbnvFs/xCtXdrrTfx+h7ZxTwceHTy2/Y3neJ2I5y1JIUbVpbRJgSYZ/Ax4UNIqkpYCNgBmD3nfisBvFvaNbf+OJumsK+nNks6X9H1gHkA7A/lZ+9GdrTzUefw5SVdLmivpbzrjH2zHrpV0gqQZwM7AV9tZwDrP4r/B9u3M5+burGHYtduZ0A2SjmvjPlHSWyRdKulGSVu1X7ecpG+3758t6V3t+EaSrmpjnCtpvWcRZ7yE1Nh5LV4EbP9K0u8krUmTHC4HXgNsA/wWmGv7CUkA60iaA6wALAtsvbDvLWlZYCfgS+3QVsDrbd8iaQvgw+33EHClpAttz+68/63Aeu37BMyUtD1wL3AgsK3teyStavs+STOBM22f9Cz/M7wa2A54HTATOGkh174dWBfYDfgYcDXw/vb9O9PMnnZp4zvP9l6SVgaukvRT4OPAUbZPlLQksNBZU7x0JSnEKBvMFmYAR9AkhRk0SaG7vj9YFkLS7sCxDK9nNUgeBk63/WNJbwausj0oqb4dcKrth9vvdwrwRsbPSt7afgzGlqf5h3pT4CTb98AL0qPjNNsLgOskvXIR174duMX2YLbzc+Bc25Y0j6b97OD9O7ctaQGWBtakSboHSloDOMX2jc8z9niRSlKIUTbYV9iYZvnoDuAvgAeAb0/ynpnA8ZO8NpY8Jni48/iZ1MEScJjtY8YNSvvxwpZMebzzWJ3Pw6699oSvX9B5voCn/q4L2NX2f0+41vWSrgT+BDhL0t62z3vef4J40cmeQoyyS4F3APfZnt/+5r0yzRLS5ZO8ZzvgpudxzYuAXSQtK2k54N3AxRO+5ixgL0nLA0h6jaTVgHOB90p6WTu+avv1D9Isbb0QJrv2s3n/vmrX3SRt1n6eBtzcbnLPpNmMjwplphCjbB7NqaPvTxhbfrBE0xosCwl4Atj7uV7Q9ixJ3wGuaoeO6+wnuP2asyVtAFze/tv6ELCn7Z9LOhS4UE2trdnAnwM/BP65nUm8x/ZzTlqTXRuY/wy/xZeBI4G5bWK4lSbx7g7sKelJ4E7gkOcaY7y4pfZRxDPQ/vY/y/ZapWOJWJyyfBSxCJJWp1mu+lrpWCIWt8wUIiJiTGYKERExJkkhIiLGJClERMSYJIWIiBiTpBAREWOSFCIiYsz/Az4w0YHVFOh9AAAAAElFTkSuQmCC\n",
      "text/plain": [
       "<Figure size 432x288 with 1 Axes>"
      ]
     },
     "metadata": {
      "needs_background": "light"
     },
     "output_type": "display_data"
    }
   ],
   "source": [
    "top10_pt.plot(x='Project_theme_name', y='count', kind='bar', legend=None, title='Top 10 major Project Themes', color=['C0', 'C1', 'C2', 'C3', 'C4', 'C5', 'C6', 'C7', 'C8', 'C9'])\n",
    "plt.ylabel('Number of WB Projects')\n",
    "plt.xlabel ('WB Project Themes')"
   ]
  },
  {
   "cell_type": "markdown",
   "metadata": {
    "colab_type": "text",
    "id": "xo7kQs54qXXz"
   },
   "source": [
    "## Create a dataframe with the missing names filled in."
   ]
  },
  {
   "cell_type": "code",
   "execution_count": 29,
   "metadata": {
    "colab": {
     "base_uri": "https://localhost:8080/",
     "height": 136
    },
    "colab_type": "code",
    "id": "f__gtiOOlL2i",
    "outputId": "1b6770e6-7272-4c7b-c765-7515363fb28f"
   },
   "outputs": [
    {
     "name": "stdout",
     "output_type": "stream",
     "text": [
      "<class 'pandas.core.frame.DataFrame'>\n",
      "RangeIndex: 1499 entries, 0 to 1498\n",
      "Data columns (total 2 columns):\n",
      "Project_theme_code    1499 non-null object\n",
      "Project_theme_name    1499 non-null object\n",
      "dtypes: object(2)\n",
      "memory usage: 23.5+ KB\n"
     ]
    }
   ],
   "source": [
    "df_theme.info()"
   ]
  },
  {
   "cell_type": "code",
   "execution_count": 30,
   "metadata": {
    "colab": {
     "base_uri": "https://localhost:8080/",
     "height": 1000
    },
    "colab_type": "code",
    "id": "YgUwaiRSnVot",
    "outputId": "4d065878-d8b5-45a6-c241-2e3bfdfbd1d9"
   },
   "outputs": [
    {
     "data": {
      "text/html": [
       "<div>\n",
       "<style scoped>\n",
       "    .dataframe tbody tr th:only-of-type {\n",
       "        vertical-align: middle;\n",
       "    }\n",
       "\n",
       "    .dataframe tbody tr th {\n",
       "        vertical-align: top;\n",
       "    }\n",
       "\n",
       "    .dataframe thead th {\n",
       "        text-align: right;\n",
       "    }\n",
       "</style>\n",
       "<table border=\"1\" class=\"dataframe\">\n",
       "  <thead>\n",
       "    <tr style=\"text-align: right;\">\n",
       "      <th></th>\n",
       "      <th>Project_theme_code</th>\n",
       "      <th>Project_theme_name</th>\n",
       "    </tr>\n",
       "  </thead>\n",
       "  <tbody>\n",
       "    <tr>\n",
       "      <td>0</td>\n",
       "      <td>8</td>\n",
       "      <td>Human development</td>\n",
       "    </tr>\n",
       "    <tr>\n",
       "      <td>1</td>\n",
       "      <td>11</td>\n",
       "      <td>NaN</td>\n",
       "    </tr>\n",
       "    <tr>\n",
       "      <td>2</td>\n",
       "      <td>1</td>\n",
       "      <td>Economic management</td>\n",
       "    </tr>\n",
       "    <tr>\n",
       "      <td>3</td>\n",
       "      <td>6</td>\n",
       "      <td>Social protection and risk management</td>\n",
       "    </tr>\n",
       "    <tr>\n",
       "      <td>4</td>\n",
       "      <td>5</td>\n",
       "      <td>Trade and integration</td>\n",
       "    </tr>\n",
       "    <tr>\n",
       "      <td>...</td>\n",
       "      <td>...</td>\n",
       "      <td>...</td>\n",
       "    </tr>\n",
       "    <tr>\n",
       "      <td>1494</td>\n",
       "      <td>10</td>\n",
       "      <td>Rural development</td>\n",
       "    </tr>\n",
       "    <tr>\n",
       "      <td>1495</td>\n",
       "      <td>9</td>\n",
       "      <td>Urban development</td>\n",
       "    </tr>\n",
       "    <tr>\n",
       "      <td>1496</td>\n",
       "      <td>8</td>\n",
       "      <td>Human development</td>\n",
       "    </tr>\n",
       "    <tr>\n",
       "      <td>1497</td>\n",
       "      <td>5</td>\n",
       "      <td>Trade and integration</td>\n",
       "    </tr>\n",
       "    <tr>\n",
       "      <td>1498</td>\n",
       "      <td>4</td>\n",
       "      <td>Financial and private sector development</td>\n",
       "    </tr>\n",
       "  </tbody>\n",
       "</table>\n",
       "<p>1499 rows × 2 columns</p>\n",
       "</div>"
      ],
      "text/plain": [
       "     Project_theme_code                        Project_theme_name\n",
       "0                     8                         Human development\n",
       "1                    11                                       NaN\n",
       "2                     1                       Economic management\n",
       "3                     6     Social protection and risk management\n",
       "4                     5                     Trade and integration\n",
       "...                 ...                                       ...\n",
       "1494                 10                         Rural development\n",
       "1495                  9                         Urban development\n",
       "1496                  8                         Human development\n",
       "1497                  5                     Trade and integration\n",
       "1498                  4  Financial and private sector development\n",
       "\n",
       "[1499 rows x 2 columns]"
      ]
     },
     "execution_count": 30,
     "metadata": {},
     "output_type": "execute_result"
    }
   ],
   "source": [
    "theme_nan=df_theme.replace('', np.nan, regex=True)\n",
    "theme_nan\n"
   ]
  },
  {
   "cell_type": "code",
   "execution_count": 31,
   "metadata": {
    "colab": {},
    "colab_type": "code",
    "id": "fNxs8ISxnmkl"
   },
   "outputs": [],
   "source": [
    "#create dictionary of unique project theme codes and corrosponding project theme names. "
   ]
  },
  {
   "cell_type": "code",
   "execution_count": 32,
   "metadata": {
    "colab": {
     "base_uri": "https://localhost:8080/",
     "height": 390
    },
    "colab_type": "code",
    "id": "DT33wk7b1AIx",
    "outputId": "b5b9d525-c290-4d50-8b12-07ec8bec180c"
   },
   "outputs": [
    {
     "data": {
      "text/html": [
       "<div>\n",
       "<style scoped>\n",
       "    .dataframe tbody tr th:only-of-type {\n",
       "        vertical-align: middle;\n",
       "    }\n",
       "\n",
       "    .dataframe tbody tr th {\n",
       "        vertical-align: top;\n",
       "    }\n",
       "\n",
       "    .dataframe thead th {\n",
       "        text-align: right;\n",
       "    }\n",
       "</style>\n",
       "<table border=\"1\" class=\"dataframe\">\n",
       "  <thead>\n",
       "    <tr style=\"text-align: right;\">\n",
       "      <th></th>\n",
       "      <th>Project_theme_code</th>\n",
       "      <th>Project_theme_name</th>\n",
       "      <th>count</th>\n",
       "    </tr>\n",
       "  </thead>\n",
       "  <tbody>\n",
       "    <tr>\n",
       "      <td>0</td>\n",
       "      <td>1</td>\n",
       "      <td>Economic management</td>\n",
       "      <td>33</td>\n",
       "    </tr>\n",
       "    <tr>\n",
       "      <td>1</td>\n",
       "      <td>10</td>\n",
       "      <td>Rural development</td>\n",
       "      <td>202</td>\n",
       "    </tr>\n",
       "    <tr>\n",
       "      <td>2</td>\n",
       "      <td>11</td>\n",
       "      <td>Environment and natural resources management</td>\n",
       "      <td>223</td>\n",
       "    </tr>\n",
       "    <tr>\n",
       "      <td>3</td>\n",
       "      <td>2</td>\n",
       "      <td>Public sector governance</td>\n",
       "      <td>184</td>\n",
       "    </tr>\n",
       "    <tr>\n",
       "      <td>4</td>\n",
       "      <td>3</td>\n",
       "      <td>Rule of law</td>\n",
       "      <td>12</td>\n",
       "    </tr>\n",
       "    <tr>\n",
       "      <td>5</td>\n",
       "      <td>4</td>\n",
       "      <td>Financial and private sector development</td>\n",
       "      <td>130</td>\n",
       "    </tr>\n",
       "    <tr>\n",
       "      <td>6</td>\n",
       "      <td>5</td>\n",
       "      <td>Trade and integration</td>\n",
       "      <td>72</td>\n",
       "    </tr>\n",
       "    <tr>\n",
       "      <td>7</td>\n",
       "      <td>6</td>\n",
       "      <td>Social protection and risk management</td>\n",
       "      <td>158</td>\n",
       "    </tr>\n",
       "    <tr>\n",
       "      <td>8</td>\n",
       "      <td>7</td>\n",
       "      <td>Social dev/gender/inclusion</td>\n",
       "      <td>119</td>\n",
       "    </tr>\n",
       "    <tr>\n",
       "      <td>9</td>\n",
       "      <td>8</td>\n",
       "      <td>Human development</td>\n",
       "      <td>197</td>\n",
       "    </tr>\n",
       "    <tr>\n",
       "      <td>10</td>\n",
       "      <td>9</td>\n",
       "      <td>Urban development</td>\n",
       "      <td>47</td>\n",
       "    </tr>\n",
       "  </tbody>\n",
       "</table>\n",
       "</div>"
      ],
      "text/plain": [
       "   Project_theme_code                            Project_theme_name  count\n",
       "0                   1                           Economic management     33\n",
       "1                  10                             Rural development    202\n",
       "2                  11  Environment and natural resources management    223\n",
       "3                   2                      Public sector governance    184\n",
       "4                   3                                   Rule of law     12\n",
       "5                   4      Financial and private sector development    130\n",
       "6                   5                         Trade and integration     72\n",
       "7                   6         Social protection and risk management    158\n",
       "8                   7                   Social dev/gender/inclusion    119\n",
       "9                   8                             Human development    197\n",
       "10                  9                             Urban development     47"
      ]
     },
     "execution_count": 32,
     "metadata": {},
     "output_type": "execute_result"
    }
   ],
   "source": [
    "theme_unique=theme_nan.groupby(['Project_theme_code','Project_theme_name']).size().reset_index().rename(columns={0:'count'}) \n",
    "theme_unique"
   ]
  },
  {
   "cell_type": "code",
   "execution_count": 33,
   "metadata": {
    "colab": {},
    "colab_type": "code",
    "id": "j729Y7JnIRQ9"
   },
   "outputs": [],
   "source": [
    "theme_dict= {'1': 'Economic management',\n",
    "  '10': 'Rural development',\n",
    "  '11': 'Environment and natural resources management',\n",
    "  '2': 'Public sector governance',\n",
    "  '3': 'Rule of law',\n",
    "  '4': 'Financial and private sector development',\n",
    "  '5': 'Trade and integration',\n",
    "  '6': 'Social protection and risk management',\n",
    "  '7': 'Social dev/gender/inclusion',\n",
    "  '8': 'Human development',\n",
    "  '9': 'Urban development'}"
   ]
  },
  {
   "cell_type": "code",
   "execution_count": 34,
   "metadata": {
    "colab": {
     "base_uri": "https://localhost:8080/",
     "height": 204
    },
    "colab_type": "code",
    "id": "uRnzcNqp42at",
    "outputId": "ae2c5552-73c5-44b2-9b96-9c3de247ec39"
   },
   "outputs": [
    {
     "data": {
      "text/html": [
       "<div>\n",
       "<style scoped>\n",
       "    .dataframe tbody tr th:only-of-type {\n",
       "        vertical-align: middle;\n",
       "    }\n",
       "\n",
       "    .dataframe tbody tr th {\n",
       "        vertical-align: top;\n",
       "    }\n",
       "\n",
       "    .dataframe thead th {\n",
       "        text-align: right;\n",
       "    }\n",
       "</style>\n",
       "<table border=\"1\" class=\"dataframe\">\n",
       "  <thead>\n",
       "    <tr style=\"text-align: right;\">\n",
       "      <th></th>\n",
       "      <th>Project_theme_code</th>\n",
       "      <th>Project_theme_name</th>\n",
       "    </tr>\n",
       "  </thead>\n",
       "  <tbody>\n",
       "    <tr>\n",
       "      <td>0</td>\n",
       "      <td>8</td>\n",
       "      <td>Human development</td>\n",
       "    </tr>\n",
       "    <tr>\n",
       "      <td>1</td>\n",
       "      <td>11</td>\n",
       "      <td>Environment and natural resources management</td>\n",
       "    </tr>\n",
       "    <tr>\n",
       "      <td>2</td>\n",
       "      <td>1</td>\n",
       "      <td>Economic management</td>\n",
       "    </tr>\n",
       "    <tr>\n",
       "      <td>3</td>\n",
       "      <td>6</td>\n",
       "      <td>Social protection and risk management</td>\n",
       "    </tr>\n",
       "    <tr>\n",
       "      <td>4</td>\n",
       "      <td>5</td>\n",
       "      <td>Trade and integration</td>\n",
       "    </tr>\n",
       "  </tbody>\n",
       "</table>\n",
       "</div>"
      ],
      "text/plain": [
       "  Project_theme_code                            Project_theme_name\n",
       "0                  8                             Human development\n",
       "1                 11  Environment and natural resources management\n",
       "2                  1                           Economic management\n",
       "3                  6         Social protection and risk management\n",
       "4                  5                         Trade and integration"
      ]
     },
     "execution_count": 34,
     "metadata": {},
     "output_type": "execute_result"
    }
   ],
   "source": [
    "#replace NAN values using di\n",
    "df_theme['Project_theme_name'] =  df_theme['Project_theme_code'].replace(theme_dict)\n",
    "df_theme.head()"
   ]
  },
  {
   "cell_type": "code",
   "execution_count": 35,
   "metadata": {
    "colab": {
     "base_uri": "https://localhost:8080/",
     "height": 1000
    },
    "colab_type": "code",
    "id": "XDjjiaAM69YW",
    "outputId": "4ee78414-35ff-460a-ed66-99fd385e683e"
   },
   "outputs": [
    {
     "data": {
      "text/html": [
       "<div>\n",
       "<style scoped>\n",
       "    .dataframe tbody tr th:only-of-type {\n",
       "        vertical-align: middle;\n",
       "    }\n",
       "\n",
       "    .dataframe tbody tr th {\n",
       "        vertical-align: top;\n",
       "    }\n",
       "\n",
       "    .dataframe thead th {\n",
       "        text-align: right;\n",
       "    }\n",
       "</style>\n",
       "<table border=\"1\" class=\"dataframe\">\n",
       "  <thead>\n",
       "    <tr style=\"text-align: right;\">\n",
       "      <th></th>\n",
       "      <th>Project_theme_code</th>\n",
       "      <th>Project_theme_name</th>\n",
       "    </tr>\n",
       "  </thead>\n",
       "  <tbody>\n",
       "    <tr>\n",
       "      <td>0</td>\n",
       "      <td>8</td>\n",
       "      <td>Human development</td>\n",
       "    </tr>\n",
       "    <tr>\n",
       "      <td>1</td>\n",
       "      <td>11</td>\n",
       "      <td>Environment and natural resources management</td>\n",
       "    </tr>\n",
       "    <tr>\n",
       "      <td>2</td>\n",
       "      <td>1</td>\n",
       "      <td>Economic management</td>\n",
       "    </tr>\n",
       "    <tr>\n",
       "      <td>3</td>\n",
       "      <td>6</td>\n",
       "      <td>Social protection and risk management</td>\n",
       "    </tr>\n",
       "    <tr>\n",
       "      <td>4</td>\n",
       "      <td>5</td>\n",
       "      <td>Trade and integration</td>\n",
       "    </tr>\n",
       "    <tr>\n",
       "      <td>...</td>\n",
       "      <td>...</td>\n",
       "      <td>...</td>\n",
       "    </tr>\n",
       "    <tr>\n",
       "      <td>1494</td>\n",
       "      <td>10</td>\n",
       "      <td>Rural development</td>\n",
       "    </tr>\n",
       "    <tr>\n",
       "      <td>1495</td>\n",
       "      <td>9</td>\n",
       "      <td>Urban development</td>\n",
       "    </tr>\n",
       "    <tr>\n",
       "      <td>1496</td>\n",
       "      <td>8</td>\n",
       "      <td>Human development</td>\n",
       "    </tr>\n",
       "    <tr>\n",
       "      <td>1497</td>\n",
       "      <td>5</td>\n",
       "      <td>Trade and integration</td>\n",
       "    </tr>\n",
       "    <tr>\n",
       "      <td>1498</td>\n",
       "      <td>4</td>\n",
       "      <td>Financial and private sector development</td>\n",
       "    </tr>\n",
       "  </tbody>\n",
       "</table>\n",
       "<p>1499 rows × 2 columns</p>\n",
       "</div>"
      ],
      "text/plain": [
       "     Project_theme_code                            Project_theme_name\n",
       "0                     8                             Human development\n",
       "1                    11  Environment and natural resources management\n",
       "2                     1                           Economic management\n",
       "3                     6         Social protection and risk management\n",
       "4                     5                         Trade and integration\n",
       "...                 ...                                           ...\n",
       "1494                 10                             Rural development\n",
       "1495                  9                             Urban development\n",
       "1496                  8                             Human development\n",
       "1497                  5                         Trade and integration\n",
       "1498                  4      Financial and private sector development\n",
       "\n",
       "[1499 rows x 2 columns]"
      ]
     },
     "execution_count": 35,
     "metadata": {},
     "output_type": "execute_result"
    }
   ],
   "source": [
    "df_theme"
   ]
  },
  {
   "cell_type": "code",
   "execution_count": null,
   "metadata": {
    "colab": {},
    "colab_type": "code",
    "id": "j_2IU5Ab5rh2"
   },
   "outputs": [],
   "source": []
  }
 ],
 "metadata": {
  "colab": {
   "include_colab_link": true,
   "name": "abebual_json_based_data_exercise.ipynb",
   "provenance": [],
   "toc_visible": true
  },
  "kernelspec": {
   "display_name": "Python 3",
   "language": "python",
   "name": "python3"
  },
  "language_info": {
   "codemirror_mode": {
    "name": "ipython",
    "version": 3
   },
   "file_extension": ".py",
   "mimetype": "text/x-python",
   "name": "python",
   "nbconvert_exporter": "python",
   "pygments_lexer": "ipython3",
   "version": "3.7.3"
  }
 },
 "nbformat": 4,
 "nbformat_minor": 1
}
=======
  "nbformat": 4,
  "nbformat_minor": 0,
  "metadata": {
    "colab": {
      "name": "abebual_json_based_data_exercise.ipynb",
      "provenance": [],
      "toc_visible": true,
      "include_colab_link": true
    },
    "kernelspec": {
      "display_name": "Python 3",
      "language": "python",
      "name": "python3"
    },
    "language_info": {
      "codemirror_mode": {
        "name": "ipython",
        "version": 3
      },
      "file_extension": ".py",
      "mimetype": "text/x-python",
      "name": "python",
      "nbconvert_exporter": "python",
      "pygments_lexer": "ipython3",
      "version": "3.7.3"
    }
  },
  "cells": [
    {
      "cell_type": "markdown",
      "metadata": {
        "id": "view-in-github",
        "colab_type": "text"
      },
      "source": [
        "<a href=\"https://colab.research.google.com/github/abebual/JSON_Excercise/blob/master/abebual_json_based_data_exercise.ipynb\" target=\"_parent\"><img src=\"https://colab.research.google.com/assets/colab-badge.svg\" alt=\"Open In Colab\"/></a>"
      ]
    },
    {
      "cell_type": "markdown",
      "metadata": {
        "colab_type": "text",
        "id": "ywMoZXtbpo3B"
      },
      "source": [
        "# Project 1: JSON Based Data Exercise \n",
        "auther: Abebual Demilew \n",
        "****\n",
        "+ Based on the World Bank Projects List Dataset.\n",
        "+ Part of Springboard Data Science Career Track\n",
        "+ Designed to excercise with packages for dealign with JSON\n",
        "+ Data outputs are meant for learning practice, not intended for quotation.  \n",
        "****"
      ]
    },
    {
      "cell_type": "code",
      "metadata": {
        "colab_type": "code",
        "id": "QABtReVDpgSR",
        "colab": {}
      },
      "source": [
        "import os\n",
        "import pandas as pd\n",
        "import numpy as np\n",
        "import json\n",
        "from pandas.io.json import json_normalize\n",
        "import matplotlib.pyplot as plt"
      ],
      "execution_count": 0,
      "outputs": []
    },
    {
      "cell_type": "markdown",
      "metadata": {
        "colab_type": "text",
        "id": "f_Gp9HcoaRpm"
      },
      "source": [
        "This was originally done on google colab. Ignore the following code.\n"
      ]
    },
    {
      "cell_type": "code",
      "metadata": {
        "colab_type": "code",
        "id": "aw_RCEXWbCMc",
        "outputId": "f3489bc1-b645-4b27-a669-1e9bc2b8542c",
        "colab": {
          "base_uri": "https://localhost:8080/",
          "height": 34
        }
      },
      "source": [
        "'''\n",
        "#I will need to mount my Google Drive\n",
        "from google.colab import drive\n",
        "drive.mount('/content/gdrive')\n",
        "'''"
      ],
      "execution_count": 0,
      "outputs": [
        {
          "output_type": "stream",
          "text": [
            "Drive already mounted at /content/gdrive; to attempt to forcibly remount, call drive.mount(\"/content/gdrive\", force_remount=True).\n"
          ],
          "name": "stdout"
        }
      ]
    },
    {
      "cell_type": "code",
      "metadata": {
        "colab_type": "code",
        "id": "zlaxhifTbOc3",
        "outputId": "09eebce4-b4c2-470f-faf5-5e405acd9787",
        "colab": {
          "base_uri": "https://localhost:8080/",
          "height": 34
        }
      },
      "source": [
        "cwd=os.getcwd()\n",
        "cwd"
      ],
      "execution_count": 0,
      "outputs": [
        {
          "output_type": "execute_result",
          "data": {
            "text/plain": [
              "'C:\\\\Users\\\\abebu\\\\Google Drive'"
            ]
          },
          "metadata": {
            "tags": []
          },
          "execution_count": 4
        }
      ]
    },
    {
      "cell_type": "code",
      "metadata": {
        "colab_type": "code",
        "id": "hetceI9VYNmQ",
        "colab": {}
      },
      "source": [
        "# load json as string\n",
        "json_file = 'C:/Users/abebu/Google Drive/data_wrangling_json/data/world_bank_projects.json'\n",
        "with open(json_file, 'r') as wb_json:\n",
        "  json_data=json.load(wb_json)"
      ],
      "execution_count": 0,
      "outputs": []
    },
    {
      "cell_type": "code",
      "metadata": {
        "colab_type": "code",
        "id": "EqFWENFLYX2x",
        "outputId": "1d5a1b28-5bbf-4dad-8a96-9123e1bb3df0",
        "colab": {
          "base_uri": "https://localhost:8080/",
          "height": 34
        }
      },
      "source": [
        "type(json_data)"
      ],
      "execution_count": 0,
      "outputs": [
        {
          "output_type": "execute_result",
          "data": {
            "text/plain": [
              "list"
            ]
          },
          "metadata": {
            "tags": []
          },
          "execution_count": 8
        }
      ]
    },
    {
      "cell_type": "code",
      "metadata": {
        "colab_type": "code",
        "id": "SIMD8S_ODc3b",
        "colab": {}
      },
      "source": [
        "wb_json=json.load((open(json_file)))"
      ],
      "execution_count": 0,
      "outputs": []
    },
    {
      "cell_type": "code",
      "metadata": {
        "colab_type": "code",
        "id": "m3dR25FpRxLv",
        "outputId": "24318834-0b8c-4c5d-f127-375adc342b73",
        "colab": {
          "base_uri": "https://localhost:8080/",
          "height": 1000
        }
      },
      "source": [
        "json_normalize(wb_json)"
      ],
      "execution_count": 0,
      "outputs": [
        {
          "output_type": "execute_result",
          "data": {
            "text/html": [
              "<div>\n",
              "<style scoped>\n",
              "    .dataframe tbody tr th:only-of-type {\n",
              "        vertical-align: middle;\n",
              "    }\n",
              "\n",
              "    .dataframe tbody tr th {\n",
              "        vertical-align: top;\n",
              "    }\n",
              "\n",
              "    .dataframe thead th {\n",
              "        text-align: right;\n",
              "    }\n",
              "</style>\n",
              "<table border=\"1\" class=\"dataframe\">\n",
              "  <thead>\n",
              "    <tr style=\"text-align: right;\">\n",
              "      <th></th>\n",
              "      <th>sector</th>\n",
              "      <th>supplementprojectflg</th>\n",
              "      <th>projectfinancialtype</th>\n",
              "      <th>prodline</th>\n",
              "      <th>mjtheme</th>\n",
              "      <th>idacommamt</th>\n",
              "      <th>impagency</th>\n",
              "      <th>project_name</th>\n",
              "      <th>mjthemecode</th>\n",
              "      <th>closingdate</th>\n",
              "      <th>...</th>\n",
              "      <th>sector2.Percent</th>\n",
              "      <th>sector2.Name</th>\n",
              "      <th>sector4.Percent</th>\n",
              "      <th>sector4.Name</th>\n",
              "      <th>project_abstract.cdata</th>\n",
              "      <th>theme1.Percent</th>\n",
              "      <th>theme1.Name</th>\n",
              "      <th>sector3.Percent</th>\n",
              "      <th>sector3.Name</th>\n",
              "      <th>_id.$oid</th>\n",
              "    </tr>\n",
              "  </thead>\n",
              "  <tbody>\n",
              "    <tr>\n",
              "      <td>0</td>\n",
              "      <td>[{'Name': 'Primary education'}, {'Name': 'Seco...</td>\n",
              "      <td>N</td>\n",
              "      <td>IDA</td>\n",
              "      <td>PE</td>\n",
              "      <td>[Human development]</td>\n",
              "      <td>130000000</td>\n",
              "      <td>MINISTRY OF EDUCATION</td>\n",
              "      <td>Ethiopia General Education Quality Improvement...</td>\n",
              "      <td>8,11</td>\n",
              "      <td>2018-07-07T00:00:00Z</td>\n",
              "      <td>...</td>\n",
              "      <td>26.0</td>\n",
              "      <td>Secondary education</td>\n",
              "      <td>12.0</td>\n",
              "      <td>Tertiary education</td>\n",
              "      <td>The development objective of the Second Phase ...</td>\n",
              "      <td>100</td>\n",
              "      <td>Education for all</td>\n",
              "      <td>16.0</td>\n",
              "      <td>Public administration- Other social services</td>\n",
              "      <td>52b213b38594d8a2be17c780</td>\n",
              "    </tr>\n",
              "    <tr>\n",
              "      <td>1</td>\n",
              "      <td>[{'Name': 'Public administration- Other social...</td>\n",
              "      <td>N</td>\n",
              "      <td>OTHER</td>\n",
              "      <td>RE</td>\n",
              "      <td>[Economic management, Social protection and ri...</td>\n",
              "      <td>0</td>\n",
              "      <td>MINISTRY OF FINANCE</td>\n",
              "      <td>TN: DTF Social Protection Reforms Support</td>\n",
              "      <td>1,6</td>\n",
              "      <td>NaN</td>\n",
              "      <td>...</td>\n",
              "      <td>30.0</td>\n",
              "      <td>General public administration sector</td>\n",
              "      <td>NaN</td>\n",
              "      <td>NaN</td>\n",
              "      <td>NaN</td>\n",
              "      <td>30</td>\n",
              "      <td>Other economic management</td>\n",
              "      <td>NaN</td>\n",
              "      <td>NaN</td>\n",
              "      <td>52b213b38594d8a2be17c781</td>\n",
              "    </tr>\n",
              "    <tr>\n",
              "      <td>2</td>\n",
              "      <td>[{'Name': 'Rural and Inter-Urban Roads and Hig...</td>\n",
              "      <td>Y</td>\n",
              "      <td>IDA</td>\n",
              "      <td>PE</td>\n",
              "      <td>[Trade and integration, Public sector governan...</td>\n",
              "      <td>6060000</td>\n",
              "      <td>MINISTRY OF TRANSPORT AND COMMUNICATIONS</td>\n",
              "      <td>Tuvalu Aviation Investment Project - Additiona...</td>\n",
              "      <td>5,2,11,6</td>\n",
              "      <td>NaN</td>\n",
              "      <td>...</td>\n",
              "      <td>NaN</td>\n",
              "      <td>NaN</td>\n",
              "      <td>NaN</td>\n",
              "      <td>NaN</td>\n",
              "      <td>NaN</td>\n",
              "      <td>46</td>\n",
              "      <td>Regional integration</td>\n",
              "      <td>NaN</td>\n",
              "      <td>NaN</td>\n",
              "      <td>52b213b38594d8a2be17c782</td>\n",
              "    </tr>\n",
              "    <tr>\n",
              "      <td>3</td>\n",
              "      <td>[{'Name': 'Other social services'}]</td>\n",
              "      <td>N</td>\n",
              "      <td>OTHER</td>\n",
              "      <td>RE</td>\n",
              "      <td>[Social dev/gender/inclusion, Social dev/gende...</td>\n",
              "      <td>0</td>\n",
              "      <td>LABOR INTENSIVE PUBLIC WORKS PROJECT PMU</td>\n",
              "      <td>Gov't and Civil Society Organization Partnership</td>\n",
              "      <td>7,7</td>\n",
              "      <td>NaN</td>\n",
              "      <td>...</td>\n",
              "      <td>NaN</td>\n",
              "      <td>NaN</td>\n",
              "      <td>NaN</td>\n",
              "      <td>NaN</td>\n",
              "      <td>NaN</td>\n",
              "      <td>50</td>\n",
              "      <td>Participation and civic engagement</td>\n",
              "      <td>NaN</td>\n",
              "      <td>NaN</td>\n",
              "      <td>52b213b38594d8a2be17c783</td>\n",
              "    </tr>\n",
              "    <tr>\n",
              "      <td>4</td>\n",
              "      <td>[{'Name': 'General industry and trade sector'}...</td>\n",
              "      <td>N</td>\n",
              "      <td>IDA</td>\n",
              "      <td>PE</td>\n",
              "      <td>[Trade and integration, Financial and private ...</td>\n",
              "      <td>13100000</td>\n",
              "      <td>MINISTRY OF TRADE AND INDUSTRY</td>\n",
              "      <td>Second Private Sector Competitiveness and Econ...</td>\n",
              "      <td>5,4</td>\n",
              "      <td>2019-04-30T00:00:00Z</td>\n",
              "      <td>...</td>\n",
              "      <td>40.0</td>\n",
              "      <td>Other industry</td>\n",
              "      <td>NaN</td>\n",
              "      <td>NaN</td>\n",
              "      <td>The development objective of the Second Privat...</td>\n",
              "      <td>30</td>\n",
              "      <td>Export development and competitiveness</td>\n",
              "      <td>10.0</td>\n",
              "      <td>SME Finance</td>\n",
              "      <td>52b213b38594d8a2be17c784</td>\n",
              "    </tr>\n",
              "    <tr>\n",
              "      <td>...</td>\n",
              "      <td>...</td>\n",
              "      <td>...</td>\n",
              "      <td>...</td>\n",
              "      <td>...</td>\n",
              "      <td>...</td>\n",
              "      <td>...</td>\n",
              "      <td>...</td>\n",
              "      <td>...</td>\n",
              "      <td>...</td>\n",
              "      <td>...</td>\n",
              "      <td>...</td>\n",
              "      <td>...</td>\n",
              "      <td>...</td>\n",
              "      <td>...</td>\n",
              "      <td>...</td>\n",
              "      <td>...</td>\n",
              "      <td>...</td>\n",
              "      <td>...</td>\n",
              "      <td>...</td>\n",
              "      <td>...</td>\n",
              "      <td>...</td>\n",
              "    </tr>\n",
              "    <tr>\n",
              "      <td>495</td>\n",
              "      <td>[{'Name': 'General agriculture, fishing and fo...</td>\n",
              "      <td>N</td>\n",
              "      <td>OTHER</td>\n",
              "      <td>RE</td>\n",
              "      <td>[Financial and private sector development, Soc...</td>\n",
              "      <td>0</td>\n",
              "      <td>THE COMPETITIVENESS COMPANY</td>\n",
              "      <td>Technological Scale Up for Youth-led Urban Orn...</td>\n",
              "      <td>4,7</td>\n",
              "      <td>2013-08-31T00:00:00Z</td>\n",
              "      <td>...</td>\n",
              "      <td>50.0</td>\n",
              "      <td>Vocational training</td>\n",
              "      <td>NaN</td>\n",
              "      <td>NaN</td>\n",
              "      <td>NaN</td>\n",
              "      <td>50</td>\n",
              "      <td>Regulation and competition policy</td>\n",
              "      <td>NaN</td>\n",
              "      <td>NaN</td>\n",
              "      <td>52b213b38594d8a2be17c96f</td>\n",
              "    </tr>\n",
              "    <tr>\n",
              "      <td>496</td>\n",
              "      <td>[{'Name': 'Central government administration'}...</td>\n",
              "      <td>N</td>\n",
              "      <td>IDA</td>\n",
              "      <td>PE</td>\n",
              "      <td>[Human development, Trade and integration, Pub...</td>\n",
              "      <td>20000000</td>\n",
              "      <td>MINISTRY OF FINANCE</td>\n",
              "      <td>Lao Eight Poverty Reduction Support</td>\n",
              "      <td>8,5,2,8</td>\n",
              "      <td>2012-12-31T00:00:00Z</td>\n",
              "      <td>...</td>\n",
              "      <td>29.0</td>\n",
              "      <td>General finance sector</td>\n",
              "      <td>14.0</td>\n",
              "      <td>Health</td>\n",
              "      <td>The development objective of the Eighth Povert...</td>\n",
              "      <td>14</td>\n",
              "      <td>Child health</td>\n",
              "      <td>14.0</td>\n",
              "      <td>General education sector</td>\n",
              "      <td>52b213b38594d8a2be17c970</td>\n",
              "    </tr>\n",
              "    <tr>\n",
              "      <td>497</td>\n",
              "      <td>[{'Name': 'Irrigation and drainage'}, {'Name':...</td>\n",
              "      <td>N</td>\n",
              "      <td>OTHER</td>\n",
              "      <td>RE</td>\n",
              "      <td>[Rural development]</td>\n",
              "      <td>0</td>\n",
              "      <td>MINISTRY OF AGRICULTURE AND PRODUCER ORGANISAT...</td>\n",
              "      <td>Second Emergency Agricultural Productivity Sup...</td>\n",
              "      <td>10,6</td>\n",
              "      <td>2014-12-31T00:00:00Z</td>\n",
              "      <td>...</td>\n",
              "      <td>35.0</td>\n",
              "      <td>Crops</td>\n",
              "      <td>NaN</td>\n",
              "      <td>NaN</td>\n",
              "      <td>NaN</td>\n",
              "      <td>100</td>\n",
              "      <td>Global food crisis response</td>\n",
              "      <td>25.0</td>\n",
              "      <td>Agricultural extension and research</td>\n",
              "      <td>52b213b38594d8a2be17c971</td>\n",
              "    </tr>\n",
              "    <tr>\n",
              "      <td>498</td>\n",
              "      <td>[{'Name': 'Agricultural extension and research...</td>\n",
              "      <td>N</td>\n",
              "      <td>IBRD</td>\n",
              "      <td>PE</td>\n",
              "      <td>[Rural development, Rural development, Rural d...</td>\n",
              "      <td>0</td>\n",
              "      <td>INDONESIAN AGENCY FOR AGRICULTURAL RESEARCH AN...</td>\n",
              "      <td>Sustainable Management of Agricultural Researc...</td>\n",
              "      <td>10,10,10</td>\n",
              "      <td>2017-09-30T00:00:00Z</td>\n",
              "      <td>...</td>\n",
              "      <td>15.0</td>\n",
              "      <td>Public administration- Agriculture, fishing an...</td>\n",
              "      <td>NaN</td>\n",
              "      <td>NaN</td>\n",
              "      <td>The development objective of the Sustainable M...</td>\n",
              "      <td>85</td>\n",
              "      <td>Rural services and infrastructure</td>\n",
              "      <td>5.0</td>\n",
              "      <td>Agro-industry, marketing, and trade</td>\n",
              "      <td>52b213b38594d8a2be17c972</td>\n",
              "    </tr>\n",
              "    <tr>\n",
              "      <td>499</td>\n",
              "      <td>[{'Name': 'Urban Transport'}, {'Name': 'Public...</td>\n",
              "      <td>N</td>\n",
              "      <td>IDA</td>\n",
              "      <td>PE</td>\n",
              "      <td>[Urban development, Human development, Trade a...</td>\n",
              "      <td>300000000</td>\n",
              "      <td>MINISTRY OF ROADS</td>\n",
              "      <td>KENYA: NATIONAL URBAN TRANSPORT IMPROVEMENT PR...</td>\n",
              "      <td>9,8,5,4</td>\n",
              "      <td>2018-12-31T00:00:00Z</td>\n",
              "      <td>...</td>\n",
              "      <td>21.0</td>\n",
              "      <td>Public administration- Transportation</td>\n",
              "      <td>NaN</td>\n",
              "      <td>NaN</td>\n",
              "      <td>The objectives of the National Urban Transport...</td>\n",
              "      <td>1</td>\n",
              "      <td>Municipal governance and institution building</td>\n",
              "      <td>NaN</td>\n",
              "      <td>NaN</td>\n",
              "      <td>52b213b38594d8a2be17c973</td>\n",
              "    </tr>\n",
              "  </tbody>\n",
              "</table>\n",
              "<p>500 rows × 55 columns</p>\n",
              "</div>"
            ],
            "text/plain": [
              "                                                sector supplementprojectflg  \\\n",
              "0    [{'Name': 'Primary education'}, {'Name': 'Seco...                    N   \n",
              "1    [{'Name': 'Public administration- Other social...                    N   \n",
              "2    [{'Name': 'Rural and Inter-Urban Roads and Hig...                    Y   \n",
              "3                  [{'Name': 'Other social services'}]                    N   \n",
              "4    [{'Name': 'General industry and trade sector'}...                    N   \n",
              "..                                                 ...                  ...   \n",
              "495  [{'Name': 'General agriculture, fishing and fo...                    N   \n",
              "496  [{'Name': 'Central government administration'}...                    N   \n",
              "497  [{'Name': 'Irrigation and drainage'}, {'Name':...                    N   \n",
              "498  [{'Name': 'Agricultural extension and research...                    N   \n",
              "499  [{'Name': 'Urban Transport'}, {'Name': 'Public...                    N   \n",
              "\n",
              "    projectfinancialtype prodline  \\\n",
              "0                    IDA       PE   \n",
              "1                  OTHER       RE   \n",
              "2                    IDA       PE   \n",
              "3                  OTHER       RE   \n",
              "4                    IDA       PE   \n",
              "..                   ...      ...   \n",
              "495                OTHER       RE   \n",
              "496                  IDA       PE   \n",
              "497                OTHER       RE   \n",
              "498                 IBRD       PE   \n",
              "499                  IDA       PE   \n",
              "\n",
              "                                               mjtheme  idacommamt  \\\n",
              "0                                  [Human development]   130000000   \n",
              "1    [Economic management, Social protection and ri...           0   \n",
              "2    [Trade and integration, Public sector governan...     6060000   \n",
              "3    [Social dev/gender/inclusion, Social dev/gende...           0   \n",
              "4    [Trade and integration, Financial and private ...    13100000   \n",
              "..                                                 ...         ...   \n",
              "495  [Financial and private sector development, Soc...           0   \n",
              "496  [Human development, Trade and integration, Pub...    20000000   \n",
              "497                                [Rural development]           0   \n",
              "498  [Rural development, Rural development, Rural d...           0   \n",
              "499  [Urban development, Human development, Trade a...   300000000   \n",
              "\n",
              "                                             impagency  \\\n",
              "0                                MINISTRY OF EDUCATION   \n",
              "1                                  MINISTRY OF FINANCE   \n",
              "2             MINISTRY OF TRANSPORT AND COMMUNICATIONS   \n",
              "3             LABOR INTENSIVE PUBLIC WORKS PROJECT PMU   \n",
              "4                       MINISTRY OF TRADE AND INDUSTRY   \n",
              "..                                                 ...   \n",
              "495                        THE COMPETITIVENESS COMPANY   \n",
              "496                                MINISTRY OF FINANCE   \n",
              "497  MINISTRY OF AGRICULTURE AND PRODUCER ORGANISAT...   \n",
              "498  INDONESIAN AGENCY FOR AGRICULTURAL RESEARCH AN...   \n",
              "499                                  MINISTRY OF ROADS   \n",
              "\n",
              "                                          project_name mjthemecode  \\\n",
              "0    Ethiopia General Education Quality Improvement...        8,11   \n",
              "1            TN: DTF Social Protection Reforms Support         1,6   \n",
              "2    Tuvalu Aviation Investment Project - Additiona...    5,2,11,6   \n",
              "3     Gov't and Civil Society Organization Partnership         7,7   \n",
              "4    Second Private Sector Competitiveness and Econ...         5,4   \n",
              "..                                                 ...         ...   \n",
              "495  Technological Scale Up for Youth-led Urban Orn...         4,7   \n",
              "496                Lao Eight Poverty Reduction Support     8,5,2,8   \n",
              "497  Second Emergency Agricultural Productivity Sup...        10,6   \n",
              "498  Sustainable Management of Agricultural Researc...    10,10,10   \n",
              "499  KENYA: NATIONAL URBAN TRANSPORT IMPROVEMENT PR...     9,8,5,4   \n",
              "\n",
              "              closingdate  ...  sector2.Percent  \\\n",
              "0    2018-07-07T00:00:00Z  ...             26.0   \n",
              "1                     NaN  ...             30.0   \n",
              "2                     NaN  ...              NaN   \n",
              "3                     NaN  ...              NaN   \n",
              "4    2019-04-30T00:00:00Z  ...             40.0   \n",
              "..                    ...  ...              ...   \n",
              "495  2013-08-31T00:00:00Z  ...             50.0   \n",
              "496  2012-12-31T00:00:00Z  ...             29.0   \n",
              "497  2014-12-31T00:00:00Z  ...             35.0   \n",
              "498  2017-09-30T00:00:00Z  ...             15.0   \n",
              "499  2018-12-31T00:00:00Z  ...             21.0   \n",
              "\n",
              "                                          sector2.Name sector4.Percent  \\\n",
              "0                                  Secondary education            12.0   \n",
              "1                 General public administration sector             NaN   \n",
              "2                                                  NaN             NaN   \n",
              "3                                                  NaN             NaN   \n",
              "4                                       Other industry             NaN   \n",
              "..                                                 ...             ...   \n",
              "495                                Vocational training             NaN   \n",
              "496                             General finance sector            14.0   \n",
              "497                                              Crops             NaN   \n",
              "498  Public administration- Agriculture, fishing an...             NaN   \n",
              "499              Public administration- Transportation             NaN   \n",
              "\n",
              "           sector4.Name                             project_abstract.cdata  \\\n",
              "0    Tertiary education  The development objective of the Second Phase ...   \n",
              "1                   NaN                                                NaN   \n",
              "2                   NaN                                                NaN   \n",
              "3                   NaN                                                NaN   \n",
              "4                   NaN  The development objective of the Second Privat...   \n",
              "..                  ...                                                ...   \n",
              "495                 NaN                                                NaN   \n",
              "496              Health  The development objective of the Eighth Povert...   \n",
              "497                 NaN                                                NaN   \n",
              "498                 NaN  The development objective of the Sustainable M...   \n",
              "499                 NaN  The objectives of the National Urban Transport...   \n",
              "\n",
              "    theme1.Percent                                    theme1.Name  \\\n",
              "0              100                              Education for all   \n",
              "1               30                      Other economic management   \n",
              "2               46                           Regional integration   \n",
              "3               50             Participation and civic engagement   \n",
              "4               30         Export development and competitiveness   \n",
              "..             ...                                            ...   \n",
              "495             50              Regulation and competition policy   \n",
              "496             14                                   Child health   \n",
              "497            100                    Global food crisis response   \n",
              "498             85              Rural services and infrastructure   \n",
              "499              1  Municipal governance and institution building   \n",
              "\n",
              "    sector3.Percent                                  sector3.Name  \\\n",
              "0              16.0  Public administration- Other social services   \n",
              "1               NaN                                           NaN   \n",
              "2               NaN                                           NaN   \n",
              "3               NaN                                           NaN   \n",
              "4              10.0                                   SME Finance   \n",
              "..              ...                                           ...   \n",
              "495             NaN                                           NaN   \n",
              "496            14.0                      General education sector   \n",
              "497            25.0           Agricultural extension and research   \n",
              "498             5.0           Agro-industry, marketing, and trade   \n",
              "499             NaN                                           NaN   \n",
              "\n",
              "                     _id.$oid  \n",
              "0    52b213b38594d8a2be17c780  \n",
              "1    52b213b38594d8a2be17c781  \n",
              "2    52b213b38594d8a2be17c782  \n",
              "3    52b213b38594d8a2be17c783  \n",
              "4    52b213b38594d8a2be17c784  \n",
              "..                        ...  \n",
              "495  52b213b38594d8a2be17c96f  \n",
              "496  52b213b38594d8a2be17c970  \n",
              "497  52b213b38594d8a2be17c971  \n",
              "498  52b213b38594d8a2be17c972  \n",
              "499  52b213b38594d8a2be17c973  \n",
              "\n",
              "[500 rows x 55 columns]"
            ]
          },
          "metadata": {
            "tags": []
          },
          "execution_count": 16
        }
      ]
    },
    {
      "cell_type": "code",
      "metadata": {
        "colab_type": "code",
        "id": "Ju5EmuSVQz5y",
        "outputId": "2ec04a6c-891b-4f19-d62a-dba1a14b3c3d",
        "colab": {
          "base_uri": "https://localhost:8080/",
          "height": 952
        }
      },
      "source": [
        "wb_df=pd.read_json(json_file)\n",
        "wb_df.info()"
      ],
      "execution_count": 0,
      "outputs": [
        {
          "output_type": "stream",
          "text": [
            "<class 'pandas.core.frame.DataFrame'>\n",
            "RangeIndex: 500 entries, 0 to 499\n",
            "Data columns (total 50 columns):\n",
            "sector                      500 non-null object\n",
            "supplementprojectflg        498 non-null object\n",
            "projectfinancialtype        500 non-null object\n",
            "prodline                    500 non-null object\n",
            "mjtheme                     491 non-null object\n",
            "idacommamt                  500 non-null int64\n",
            "impagency                   472 non-null object\n",
            "project_name                500 non-null object\n",
            "mjthemecode                 500 non-null object\n",
            "closingdate                 370 non-null object\n",
            "totalcommamt                500 non-null int64\n",
            "id                          500 non-null object\n",
            "mjsector_namecode           500 non-null object\n",
            "docty                       446 non-null object\n",
            "sector1                     500 non-null object\n",
            "lendinginstr                495 non-null object\n",
            "countrycode                 500 non-null object\n",
            "sector2                     380 non-null object\n",
            "totalamt                    500 non-null int64\n",
            "mjtheme_namecode            500 non-null object\n",
            "boardapprovaldate           500 non-null object\n",
            "countryshortname            500 non-null object\n",
            "sector4                     174 non-null object\n",
            "prodlinetext                500 non-null object\n",
            "productlinetype             500 non-null object\n",
            "regionname                  500 non-null object\n",
            "status                      500 non-null object\n",
            "country_namecode            500 non-null object\n",
            "envassesmentcategorycode    430 non-null object\n",
            "project_abstract            362 non-null object\n",
            "approvalfy                  500 non-null int64\n",
            "projectdocs                 446 non-null object\n",
            "lendprojectcost             500 non-null int64\n",
            "lendinginstrtype            495 non-null object\n",
            "theme1                      500 non-null object\n",
            "grantamt                    500 non-null int64\n",
            "themecode                   491 non-null object\n",
            "borrower                    485 non-null object\n",
            "sectorcode                  500 non-null object\n",
            "sector3                     265 non-null object\n",
            "majorsector_percent         500 non-null object\n",
            "board_approval_month        500 non-null object\n",
            "theme_namecode              491 non-null object\n",
            "countryname                 500 non-null object\n",
            "url                         500 non-null object\n",
            "source                      500 non-null object\n",
            "projectstatusdisplay        500 non-null object\n",
            "ibrdcommamt                 500 non-null int64\n",
            "sector_namecode             500 non-null object\n",
            "_id                         500 non-null object\n",
            "dtypes: int64(7), object(43)\n",
            "memory usage: 195.4+ KB\n"
          ],
          "name": "stdout"
        }
      ]
    },
    {
      "cell_type": "markdown",
      "metadata": {
        "colab_type": "text",
        "id": "xEyLEiBASqXO"
      },
      "source": [
        "****\n",
        "## JSON exercise\n",
        "\n",
        "Using the 'world_bank_projects.json',\n",
        "1. Find the 10 countries with most projects\n",
        "2. Find the top 10 major project themes (using column 'mjtheme_namecode')\n",
        "3. In 2. above you will notice that some entries have only the code and the name is missing. Create a dataframe with the missing names filled in."
      ]
    },
    {
      "cell_type": "markdown",
      "metadata": {
        "colab_type": "text",
        "id": "pJzZe7mbTCme"
      },
      "source": [
        "## 10 countries with most projects"
      ]
    },
    {
      "cell_type": "code",
      "metadata": {
        "colab_type": "code",
        "id": "0L6cpFFvRnpi",
        "outputId": "15ddbc6f-67a7-4896-c757-80e16155a842",
        "colab": {
          "base_uri": "https://localhost:8080/",
          "height": 1000
        }
      },
      "source": [
        "wb_df['countryname'].value_counts"
      ],
      "execution_count": 0,
      "outputs": [
        {
          "output_type": "execute_result",
          "data": {
            "text/plain": [
              "<bound method IndexOpsMixin.value_counts of 0      Federal Democratic Republic of Ethiopia\n",
              "1                          Republic of Tunisia\n",
              "2                                       Tuvalu\n",
              "3                            Republic of Yemen\n",
              "4                           Kingdom of Lesotho\n",
              "                        ...                   \n",
              "495                                    Jamaica\n",
              "496           Lao People's Democratic Republic\n",
              "497                         Republic of Guinea\n",
              "498                      Republic of Indonesia\n",
              "499                          Republic of Kenya\n",
              "Name: countryname, Length: 500, dtype: object>"
            ]
          },
          "metadata": {
            "tags": []
          },
          "execution_count": 18
        }
      ]
    },
    {
      "cell_type": "code",
      "metadata": {
        "colab_type": "code",
        "id": "3rfwiDJET5oL",
        "outputId": "5482566e-4ddb-4077-cda2-77ea7656d21d",
        "colab": {
          "base_uri": "https://localhost:8080/",
          "height": 136
        }
      },
      "source": [
        "projects=wb_df.groupby('countryname')['project_name'].count()\n",
        "projects.head()"
      ],
      "execution_count": 0,
      "outputs": [
        {
          "output_type": "execute_result",
          "data": {
            "text/plain": [
              "countryname\n",
              "Africa                    11\n",
              "Antigua and Barbuda        1\n",
              "Arab Republic of Egypt     2\n",
              "Argentine Republic         2\n",
              "Bosnia and Herzegovina     1\n",
              "Name: project_name, dtype: int64"
            ]
          },
          "metadata": {
            "tags": []
          },
          "execution_count": 19
        }
      ]
    },
    {
      "cell_type": "code",
      "metadata": {
        "colab_type": "code",
        "id": "afj3gWERVMmH",
        "outputId": "ba8afa16-ce03-46e9-cc85-9f3f4f16d309",
        "colab": {
          "base_uri": "https://localhost:8080/",
          "height": 221
        }
      },
      "source": [
        "#Top 10 countries for most projects are ... wait for it:\n",
        "projects_sorted=projects.sort_values(ascending=False)\n",
        "top10_c=projects_sorted.head(10)\n",
        "print('The top 10 countries for projects are: ', top10_c)"
      ],
      "execution_count": 0,
      "outputs": [
        {
          "output_type": "stream",
          "text": [
            "The top 10 countries for projects are:  countryname\n",
            "People's Republic of China         19\n",
            "Republic of Indonesia              19\n",
            "Socialist Republic of Vietnam      17\n",
            "Republic of India                  16\n",
            "Republic of Yemen                  13\n",
            "Nepal                              12\n",
            "People's Republic of Bangladesh    12\n",
            "Kingdom of Morocco                 12\n",
            "Africa                             11\n",
            "Republic of Mozambique             11\n",
            "Name: project_name, dtype: int64\n"
          ],
          "name": "stdout"
        }
      ]
    },
    {
      "cell_type": "code",
      "metadata": {
        "id": "pugNm_ajp1Jt",
        "colab_type": "code",
        "colab": {},
        "outputId": "af635fbd-f5e6-48b1-b403-b177c11592c6"
      },
      "source": [
        "top10_c.plot(kind='bar', title='Top 10 Countries for Most World Bank Projects', color=['C0', 'C1', 'C2', 'C3', 'C4', 'C5', 'C6', 'C7', 'C8', 'C9'])\n",
        "plt.ylabel('Number of WB Projects')\n",
        "plt.xlabel ('Country Name')"
      ],
      "execution_count": 0,
      "outputs": [
        {
          "output_type": "execute_result",
          "data": {
            "text/plain": [
              "Text(0.5, 0, 'Country Name')"
            ]
          },
          "metadata": {
            "tags": []
          },
          "execution_count": 58
        },
        {
          "output_type": "display_data",
          "data": {
            "image/png": "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\n",
            "text/plain": [
              "<Figure size 432x288 with 1 Axes>"
            ]
          },
          "metadata": {
            "tags": [],
            "needs_background": "light"
          }
        }
      ]
    },
    {
      "cell_type": "markdown",
      "metadata": {
        "colab_type": "text",
        "id": "KduORd9TfGmi"
      },
      "source": [
        "#Africa is not a country and its in the list. Not sure if this needs to be removed and rerun. I will wait until further comment. "
      ]
    },
    {
      "cell_type": "markdown",
      "metadata": {
        "colab_type": "text",
        "id": "WY5ovxEyfKAL"
      },
      "source": [
        "## 10 major project themes"
      ]
    },
    {
      "cell_type": "code",
      "metadata": {
        "colab_type": "code",
        "id": "V0DBJJsqcOvL",
        "colab": {}
      },
      "source": [
        "theme=wb_df['mjtheme_namecode']"
      ],
      "execution_count": 0,
      "outputs": []
    },
    {
      "cell_type": "code",
      "metadata": {
        "colab_type": "code",
        "id": "_vxJv-rneteX",
        "outputId": "47690ab2-949c-43a7-9ce7-052d50b41ea5",
        "colab": {
          "base_uri": "https://localhost:8080/",
          "height": 102
        }
      },
      "source": [
        "theme[0:4]"
      ],
      "execution_count": 0,
      "outputs": [
        {
          "output_type": "execute_result",
          "data": {
            "text/plain": [
              "0    [{'code': '8', 'name': 'Human development'}, {...\n",
              "1    [{'code': '1', 'name': 'Economic management'},...\n",
              "2    [{'code': '5', 'name': 'Trade and integration'...\n",
              "3    [{'code': '7', 'name': 'Social dev/gender/incl...\n",
              "Name: mjtheme_namecode, dtype: object"
            ]
          },
          "metadata": {
            "tags": []
          },
          "execution_count": 22
        }
      ]
    },
    {
      "cell_type": "markdown",
      "metadata": {
        "colab_type": "text",
        "id": "F60l-NhAOSOX"
      },
      "source": [
        "It looks like 'mjtheme_namecode' is a nested dictionary presented as a list. I will need to convert it to a string to make it analyis friendly. "
      ]
    },
    {
      "cell_type": "code",
      "metadata": {
        "colab_type": "code",
        "id": "4UQUY9ZoSM3Y",
        "outputId": "c4cab3e6-5764-4ace-f67f-70d3cce74161",
        "colab": {
          "base_uri": "https://localhost:8080/",
          "height": 34
        }
      },
      "source": [
        "type(theme)"
      ],
      "execution_count": 0,
      "outputs": [
        {
          "output_type": "execute_result",
          "data": {
            "text/plain": [
              "pandas.core.series.Series"
            ]
          },
          "metadata": {
            "tags": []
          },
          "execution_count": 23
        }
      ]
    },
    {
      "cell_type": "code",
      "metadata": {
        "colab_type": "code",
        "id": "qQGhCcCnFkz2",
        "colab": {}
      },
      "source": [
        "theme_l_list=theme.tolist()"
      ],
      "execution_count": 0,
      "outputs": []
    },
    {
      "cell_type": "code",
      "metadata": {
        "colab_type": "code",
        "id": "jM6S9RIZIaF5",
        "outputId": "f0547e7e-b592-421e-d317-6226f891f93c",
        "colab": {
          "base_uri": "https://localhost:8080/",
          "height": 68
        }
      },
      "source": [
        "theme_l_list[0:2]"
      ],
      "execution_count": 0,
      "outputs": [
        {
          "output_type": "execute_result",
          "data": {
            "text/plain": [
              "[[{'code': '8', 'name': 'Human development'}, {'code': '11', 'name': ''}],\n",
              " [{'code': '1', 'name': 'Economic management'},\n",
              "  {'code': '6', 'name': 'Social protection and risk management'}]]"
            ]
          },
          "metadata": {
            "tags": []
          },
          "execution_count": 25
        }
      ]
    },
    {
      "cell_type": "code",
      "metadata": {
        "colab_type": "code",
        "id": "lF54FxDbT4Mw",
        "colab": {}
      },
      "source": [
        "theme_list=[j for i in theme_l_list for j in i]"
      ],
      "execution_count": 0,
      "outputs": []
    },
    {
      "cell_type": "code",
      "metadata": {
        "colab_type": "code",
        "id": "jjeGzQLxUb66",
        "outputId": "c073ba4d-2a9b-4681-f884-79c6c038aaeb",
        "colab": {
          "base_uri": "https://localhost:8080/",
          "height": 102
        }
      },
      "source": [
        "theme_list[0:5]"
      ],
      "execution_count": 0,
      "outputs": [
        {
          "output_type": "execute_result",
          "data": {
            "text/plain": [
              "[{'code': '8', 'name': 'Human development'},\n",
              " {'code': '11', 'name': ''},\n",
              " {'code': '1', 'name': 'Economic management'},\n",
              " {'code': '6', 'name': 'Social protection and risk management'},\n",
              " {'code': '5', 'name': 'Trade and integration'}]"
            ]
          },
          "metadata": {
            "tags": []
          },
          "execution_count": 27
        }
      ]
    },
    {
      "cell_type": "code",
      "metadata": {
        "colab_type": "code",
        "id": "ztCtUyBZZPeP",
        "colab": {}
      },
      "source": [
        "df_theme=pd.DataFrame(theme_list)"
      ],
      "execution_count": 0,
      "outputs": []
    },
    {
      "cell_type": "code",
      "metadata": {
        "colab_type": "code",
        "id": "XCx1UUX-belG",
        "outputId": "080404cb-c56f-462b-ea66-560651c5ef74",
        "colab": {
          "base_uri": "https://localhost:8080/",
          "height": 204
        }
      },
      "source": [
        "df_theme.head()\n"
      ],
      "execution_count": 0,
      "outputs": [
        {
          "output_type": "execute_result",
          "data": {
            "text/html": [
              "<div>\n",
              "<style scoped>\n",
              "    .dataframe tbody tr th:only-of-type {\n",
              "        vertical-align: middle;\n",
              "    }\n",
              "\n",
              "    .dataframe tbody tr th {\n",
              "        vertical-align: top;\n",
              "    }\n",
              "\n",
              "    .dataframe thead th {\n",
              "        text-align: right;\n",
              "    }\n",
              "</style>\n",
              "<table border=\"1\" class=\"dataframe\">\n",
              "  <thead>\n",
              "    <tr style=\"text-align: right;\">\n",
              "      <th></th>\n",
              "      <th>code</th>\n",
              "      <th>name</th>\n",
              "    </tr>\n",
              "  </thead>\n",
              "  <tbody>\n",
              "    <tr>\n",
              "      <td>0</td>\n",
              "      <td>8</td>\n",
              "      <td>Human development</td>\n",
              "    </tr>\n",
              "    <tr>\n",
              "      <td>1</td>\n",
              "      <td>11</td>\n",
              "      <td></td>\n",
              "    </tr>\n",
              "    <tr>\n",
              "      <td>2</td>\n",
              "      <td>1</td>\n",
              "      <td>Economic management</td>\n",
              "    </tr>\n",
              "    <tr>\n",
              "      <td>3</td>\n",
              "      <td>6</td>\n",
              "      <td>Social protection and risk management</td>\n",
              "    </tr>\n",
              "    <tr>\n",
              "      <td>4</td>\n",
              "      <td>5</td>\n",
              "      <td>Trade and integration</td>\n",
              "    </tr>\n",
              "  </tbody>\n",
              "</table>\n",
              "</div>"
            ],
            "text/plain": [
              "  code                                   name\n",
              "0    8                      Human development\n",
              "1   11                                       \n",
              "2    1                    Economic management\n",
              "3    6  Social protection and risk management\n",
              "4    5                  Trade and integration"
            ]
          },
          "metadata": {
            "tags": []
          },
          "execution_count": 29
        }
      ]
    },
    {
      "cell_type": "code",
      "metadata": {
        "colab_type": "code",
        "id": "j_qazXhpb6w2",
        "colab": {}
      },
      "source": [
        "#change variable name to make it readable\n",
        "#df_x=df_theme.groupby(['Project_theme_code', 'Project_theme_name'])\n",
        "df_theme.columns=['Project_theme_code', 'Project_theme_name'] "
      ],
      "execution_count": 0,
      "outputs": []
    },
    {
      "cell_type": "code",
      "metadata": {
        "colab_type": "code",
        "id": "QhJE9rsjcCVv",
        "outputId": "50507cfe-78f1-422c-fdc1-1a53010292ff",
        "colab": {
          "base_uri": "https://localhost:8080/",
          "height": 204
        }
      },
      "source": [
        "df_theme.head()"
      ],
      "execution_count": 0,
      "outputs": [
        {
          "output_type": "execute_result",
          "data": {
            "text/html": [
              "<div>\n",
              "<style scoped>\n",
              "    .dataframe tbody tr th:only-of-type {\n",
              "        vertical-align: middle;\n",
              "    }\n",
              "\n",
              "    .dataframe tbody tr th {\n",
              "        vertical-align: top;\n",
              "    }\n",
              "\n",
              "    .dataframe thead th {\n",
              "        text-align: right;\n",
              "    }\n",
              "</style>\n",
              "<table border=\"1\" class=\"dataframe\">\n",
              "  <thead>\n",
              "    <tr style=\"text-align: right;\">\n",
              "      <th></th>\n",
              "      <th>Project_theme_code</th>\n",
              "      <th>Project_theme_name</th>\n",
              "    </tr>\n",
              "  </thead>\n",
              "  <tbody>\n",
              "    <tr>\n",
              "      <td>0</td>\n",
              "      <td>8</td>\n",
              "      <td>Human development</td>\n",
              "    </tr>\n",
              "    <tr>\n",
              "      <td>1</td>\n",
              "      <td>11</td>\n",
              "      <td></td>\n",
              "    </tr>\n",
              "    <tr>\n",
              "      <td>2</td>\n",
              "      <td>1</td>\n",
              "      <td>Economic management</td>\n",
              "    </tr>\n",
              "    <tr>\n",
              "      <td>3</td>\n",
              "      <td>6</td>\n",
              "      <td>Social protection and risk management</td>\n",
              "    </tr>\n",
              "    <tr>\n",
              "      <td>4</td>\n",
              "      <td>5</td>\n",
              "      <td>Trade and integration</td>\n",
              "    </tr>\n",
              "  </tbody>\n",
              "</table>\n",
              "</div>"
            ],
            "text/plain": [
              "  Project_theme_code                     Project_theme_name\n",
              "0                  8                      Human development\n",
              "1                 11                                       \n",
              "2                  1                    Economic management\n",
              "3                  6  Social protection and risk management\n",
              "4                  5                  Trade and integration"
            ]
          },
          "metadata": {
            "tags": []
          },
          "execution_count": 31
        }
      ]
    },
    {
      "cell_type": "code",
      "metadata": {
        "colab_type": "code",
        "id": "VkKmFbkneSeC",
        "colab": {}
      },
      "source": [
        "df_theme_g=df_theme.groupby(['Project_theme_code','Project_theme_name']).size().reset_index().rename(columns={0:'count'}) "
      ],
      "execution_count": 0,
      "outputs": []
    },
    {
      "cell_type": "code",
      "metadata": {
        "colab_type": "code",
        "id": "Df9PSsYOgym1",
        "outputId": "16779685-b46b-4b4f-94a3-0146a197499a",
        "colab": {
          "base_uri": "https://localhost:8080/",
          "height": 731
        }
      },
      "source": [
        "df_theme_g"
      ],
      "execution_count": 0,
      "outputs": [
        {
          "output_type": "execute_result",
          "data": {
            "text/html": [
              "<div>\n",
              "<style scoped>\n",
              "    .dataframe tbody tr th:only-of-type {\n",
              "        vertical-align: middle;\n",
              "    }\n",
              "\n",
              "    .dataframe tbody tr th {\n",
              "        vertical-align: top;\n",
              "    }\n",
              "\n",
              "    .dataframe thead th {\n",
              "        text-align: right;\n",
              "    }\n",
              "</style>\n",
              "<table border=\"1\" class=\"dataframe\">\n",
              "  <thead>\n",
              "    <tr style=\"text-align: right;\">\n",
              "      <th></th>\n",
              "      <th>Project_theme_code</th>\n",
              "      <th>Project_theme_name</th>\n",
              "      <th>count</th>\n",
              "    </tr>\n",
              "  </thead>\n",
              "  <tbody>\n",
              "    <tr>\n",
              "      <td>0</td>\n",
              "      <td>1</td>\n",
              "      <td></td>\n",
              "      <td>5</td>\n",
              "    </tr>\n",
              "    <tr>\n",
              "      <td>1</td>\n",
              "      <td>1</td>\n",
              "      <td>Economic management</td>\n",
              "      <td>33</td>\n",
              "    </tr>\n",
              "    <tr>\n",
              "      <td>2</td>\n",
              "      <td>10</td>\n",
              "      <td></td>\n",
              "      <td>14</td>\n",
              "    </tr>\n",
              "    <tr>\n",
              "      <td>3</td>\n",
              "      <td>10</td>\n",
              "      <td>Rural development</td>\n",
              "      <td>202</td>\n",
              "    </tr>\n",
              "    <tr>\n",
              "      <td>4</td>\n",
              "      <td>11</td>\n",
              "      <td></td>\n",
              "      <td>27</td>\n",
              "    </tr>\n",
              "    <tr>\n",
              "      <td>5</td>\n",
              "      <td>11</td>\n",
              "      <td>Environment and natural resources management</td>\n",
              "      <td>223</td>\n",
              "    </tr>\n",
              "    <tr>\n",
              "      <td>6</td>\n",
              "      <td>2</td>\n",
              "      <td></td>\n",
              "      <td>15</td>\n",
              "    </tr>\n",
              "    <tr>\n",
              "      <td>7</td>\n",
              "      <td>2</td>\n",
              "      <td>Public sector governance</td>\n",
              "      <td>184</td>\n",
              "    </tr>\n",
              "    <tr>\n",
              "      <td>8</td>\n",
              "      <td>3</td>\n",
              "      <td></td>\n",
              "      <td>3</td>\n",
              "    </tr>\n",
              "    <tr>\n",
              "      <td>9</td>\n",
              "      <td>3</td>\n",
              "      <td>Rule of law</td>\n",
              "      <td>12</td>\n",
              "    </tr>\n",
              "    <tr>\n",
              "      <td>10</td>\n",
              "      <td>4</td>\n",
              "      <td></td>\n",
              "      <td>16</td>\n",
              "    </tr>\n",
              "    <tr>\n",
              "      <td>11</td>\n",
              "      <td>4</td>\n",
              "      <td>Financial and private sector development</td>\n",
              "      <td>130</td>\n",
              "    </tr>\n",
              "    <tr>\n",
              "      <td>12</td>\n",
              "      <td>5</td>\n",
              "      <td></td>\n",
              "      <td>5</td>\n",
              "    </tr>\n",
              "    <tr>\n",
              "      <td>13</td>\n",
              "      <td>5</td>\n",
              "      <td>Trade and integration</td>\n",
              "      <td>72</td>\n",
              "    </tr>\n",
              "    <tr>\n",
              "      <td>14</td>\n",
              "      <td>6</td>\n",
              "      <td></td>\n",
              "      <td>10</td>\n",
              "    </tr>\n",
              "    <tr>\n",
              "      <td>15</td>\n",
              "      <td>6</td>\n",
              "      <td>Social protection and risk management</td>\n",
              "      <td>158</td>\n",
              "    </tr>\n",
              "    <tr>\n",
              "      <td>16</td>\n",
              "      <td>7</td>\n",
              "      <td></td>\n",
              "      <td>11</td>\n",
              "    </tr>\n",
              "    <tr>\n",
              "      <td>17</td>\n",
              "      <td>7</td>\n",
              "      <td>Social dev/gender/inclusion</td>\n",
              "      <td>119</td>\n",
              "    </tr>\n",
              "    <tr>\n",
              "      <td>18</td>\n",
              "      <td>8</td>\n",
              "      <td></td>\n",
              "      <td>13</td>\n",
              "    </tr>\n",
              "    <tr>\n",
              "      <td>19</td>\n",
              "      <td>8</td>\n",
              "      <td>Human development</td>\n",
              "      <td>197</td>\n",
              "    </tr>\n",
              "    <tr>\n",
              "      <td>20</td>\n",
              "      <td>9</td>\n",
              "      <td></td>\n",
              "      <td>3</td>\n",
              "    </tr>\n",
              "    <tr>\n",
              "      <td>21</td>\n",
              "      <td>9</td>\n",
              "      <td>Urban development</td>\n",
              "      <td>47</td>\n",
              "    </tr>\n",
              "  </tbody>\n",
              "</table>\n",
              "</div>"
            ],
            "text/plain": [
              "   Project_theme_code                            Project_theme_name  count\n",
              "0                   1                                                    5\n",
              "1                   1                           Economic management     33\n",
              "2                  10                                                   14\n",
              "3                  10                             Rural development    202\n",
              "4                  11                                                   27\n",
              "5                  11  Environment and natural resources management    223\n",
              "6                   2                                                   15\n",
              "7                   2                      Public sector governance    184\n",
              "8                   3                                                    3\n",
              "9                   3                                   Rule of law     12\n",
              "10                  4                                                   16\n",
              "11                  4      Financial and private sector development    130\n",
              "12                  5                                                    5\n",
              "13                  5                         Trade and integration     72\n",
              "14                  6                                                   10\n",
              "15                  6         Social protection and risk management    158\n",
              "16                  7                                                   11\n",
              "17                  7                   Social dev/gender/inclusion    119\n",
              "18                  8                                                   13\n",
              "19                  8                             Human development    197\n",
              "20                  9                                                    3\n",
              "21                  9                             Urban development     47"
            ]
          },
          "metadata": {
            "tags": []
          },
          "execution_count": 33
        }
      ]
    },
    {
      "cell_type": "code",
      "metadata": {
        "colab_type": "code",
        "id": "VZMHrjsChiLP",
        "colab": {}
      },
      "source": [
        "df_theme_sorted=df_theme_g.sort_values('count', ascending=False)"
      ],
      "execution_count": 0,
      "outputs": []
    },
    {
      "cell_type": "code",
      "metadata": {
        "colab_type": "code",
        "id": "2g7SSiLUhtbC",
        "outputId": "2ce23a52-816e-4301-cb2d-4897fb05704d",
        "colab": {
          "base_uri": "https://localhost:8080/",
          "height": 359
        }
      },
      "source": [
        "#The top 10 major project themes are: \n",
        "top10_pt=df_theme_sorted.head(10)\n",
        "print(top10_pt)"
      ],
      "execution_count": 0,
      "outputs": [
        {
          "output_type": "stream",
          "text": [
            "   Project_theme_code                            Project_theme_name  count\n",
            "5                  11  Environment and natural resources management    223\n",
            "3                  10                             Rural development    202\n",
            "19                  8                             Human development    197\n",
            "7                   2                      Public sector governance    184\n",
            "15                  6         Social protection and risk management    158\n",
            "11                  4      Financial and private sector development    130\n",
            "17                  7                   Social dev/gender/inclusion    119\n",
            "13                  5                         Trade and integration     72\n",
            "21                  9                             Urban development     47\n",
            "1                   1                           Economic management     33\n"
          ],
          "name": "stdout"
        }
      ]
    },
    {
      "cell_type": "code",
      "metadata": {
        "id": "Ghqv1etvp1Mk",
        "colab_type": "code",
        "colab": {},
        "outputId": "12851f23-27ff-435a-cd0d-72981f9bb180"
      },
      "source": [
        "top10_pt.plot(x='Project_theme_name', y='count', kind='bar', legend=None, title='Top 10 major Project Themes', color=['C0', 'C1', 'C2', 'C3', 'C4', 'C5', 'C6', 'C7', 'C8', 'C9'])\n",
        "plt.ylabel('Number of WB Projects')\n",
        "plt.xlabel ('WB Project Themes')"
      ],
      "execution_count": 0,
      "outputs": [
        {
          "output_type": "execute_result",
          "data": {
            "text/plain": [
              "Text(0.5, 0, 'WB Project Themes')"
            ]
          },
          "metadata": {
            "tags": []
          },
          "execution_count": 72
        },
        {
          "output_type": "display_data",
          "data": {
            "image/png": "iVBORw0KGgoAAAANSUhEUgAAAYUAAAIDCAYAAADrIgIQAAAABHNCSVQICAgIfAhkiAAAAAlwSFlzAAALEgAACxIB0t1+/AAAADh0RVh0U29mdHdhcmUAbWF0cGxvdGxpYiB2ZXJzaW9uMy4xLjEsIGh0dHA6Ly9tYXRwbG90bGliLm9yZy8QZhcZAAAgAElEQVR4nOydd7wcVdnHv7+E3ltAWmgGEEUQAiogAhoBCwhSRJAiL+UFERQLYAHbKyJgARtSVUCKCghIhyBIS+ihSBekgyQBQkn4vX+cs3v33uy9uZC7Z4bs8/189rM7Mzt7fndm7jxzznmKbBMEQRAEAMOqFhAEQRDUhzAKQRAEQZMwCkEQBEGTMApBEARBkzAKQRAEQZMwCkEQBEGTMApB1yLpu5KOrVpHOySdLOnrFWvYW9JlVWoIyhNGoUuR9GLL6w1JU1qWdxzitnaUdF1u46I229eRdKuklyXdKOk9Q9l+f9g+1PYXh+K3JM0lyZJeysfwMUk/lvSW/sds72r7iJnUNOBNXdIDLed8mqRXWpa/MjNtB29fwih0Kbbna7yAfwOfall36hA39xxwFHB03w2S5gbOBY4DFgbOAv4qabYh1jBkzEDbKvmYbgrsDuz8Jvcvhu2VWq6Bm4D/abkGpjtXQXcQRiFoi6S5Jf1S0hP5qfcnkmbP2zaTdH8efnle0oOStu3vt2xfZPts4Ik2m8cAr9j+le1XScZjfmCDfnRdL+mw3KN4UdJfJC0q6UxJk/L2ZVq+/+usf1Le5wMt2w6XdHzL8mck3SXpBUmXSRrVsu1JSV+VNAGYNKPjZ3sCcB3wnv72l7S6pH/k9m6XtHlLe3+S9K2W5a3yd17I+6zWsm15SedKeja/jpL0PuBnwEb5OD05I839IEm/yO0+IOmjLRsWkfT7/Lc9KunQRs8o91KukHSspImS7pM0WtKekv4j6SlJn235rbkl/Sz/zpOSjpE0Z972DkkXZQ3PSbriLf4twSAIoxD0x3eB9wKrA2sDGwGtY9zLA3MA7wD2BE6RtMJbaOfdwG2NBdtvAHfm9f2xPbAdMDLruxb4JbAI8AjwzZbvXpe/syipR3JWw7i1koesTgb2ARYHxgLn9Xmq355kxBad0R8laXXgg8At7faXNBdwPnAOMAL4WtY23THMhuxXwG657T8A50iaLf8tfwfuzsdjWeDPtm8BDgCuyk/+75iR5n7YEBiX2z0WOL5l26nARGBFYF3g08DnW7Z/CPhn3vcc4M/Au4AVgD2AX+fjAPBTYBnSuVoFWBk4KG/7BnAvsBiwJHDYW/xbgkEQRiHojx2BQ20/a/sp4Af0/oefCnzX9mu2LwMuA7Z5C+3MR7qxtDKR1Fvoj+NtP2z7eeAS4G7bY21PBc4G3tf4ou3f2/6v7deB/yPdoFZs85s7AH+1fZXt1/J3FwNGt3znp7Yftz1lAG0TJP0X+AtwDHBaP/t/KK872vbrti8GLiUZjr7sBRxre7ztabaPA+YkGesNgAWAQ2y/bHuK7X8OoO/Ncm8+htOAU4DlJC0kaTmSwfhKbvcJ4BfAZ1v2vcf2afm8nEkyWofla+Y80kPF8tnwfgHY3/YLticCh7f81uvAUsDIvO/VQ/j3BX2oxdhmUC8kidQDeKRl9SPA0i3Lz9h+pc/2pd5Ccy+SbmqtLABMHmCfp1o+T2mzPF9jQdLBwK6kv8fAXKSb/b19fnMpWv5e29Mk/Yfef/OjA2hq8G7bj/WzrXX/pYB/u3dGyr7HuMFywHaSvtaybo783fmAh3IPqxO0Dju9nN/ny5rmAp5JlwuQHjLvb/l+3/Pyar7ht66bj3QsZicZ1MY2kR48AH4IfA+4UtLrwK9izqNzRE8hmI58o3qS9I/fYCTwn5blxVq6/o3tj7+F5iYAazQW8pj0e/L6mULSGGA/YCtgIdLw0hTSDacvj9Py90oaTrrptv7NM5tSuHX/x0nHrJW+x7jBo8B3bC/U8prH9l/ytuXV3supkymQHyUZ9IVbNC1ge6238FtPkAzASi2/taDtRQFsT7S9v+3lgM8A35K0/pD9JUEvwigE/XE6cGiexF2cNE7/x5btswPfljSHpE1IY+V/bvdDkoZnAzIbMEzJfbPRS70UmDtPTM4JfBl4CbhmCP6G+UlDD8+Qnqy/R3q6bccZwFaSNszj9AeRvKbGDYGOdvyDdCwOyHMDY4CPkbyv+nIcsF+eqJWk+SRtIWke0nGaDHxf0jx5wna9vN9TwLLt5lBmFtsPAdcDR0iaX9IwSaMktXUQmMFvvQ6cCPxc0mL5b1w2HxPy37pC7sFOBKblV9ABwigE/fEd4C7SE/utpMncVr/5h0lPd0+S/qF3s/1gP7+1B+kJ/ack4zGFNGlJHl/fEtgbeIE0jvzpPA49s/wNuBp4AHgQeJZkIKbD9u0kF9Lf5u98BNhyiHS0a+8V4JOkeZjnSO6629t+oM13rwW+lLW9APwL+Fza5NeBj5N6W4+R3Iu3zrteRDpPT0vqb0hrZtiB1AO7B3ieZFiXeIu/dQCp9zSOdOO/CHhn3vYu4CqS8bsaONL29W9ZdTAgiiI7wZtF0makic93zvDLNUbSEcB8tvepWktfJJ0JjJvZALYgeLNETyHoSvJQxGrAQ1Vr6Use7lmZGmoLZn3CKATdygTS0MfJFetox/OkoaDzqhYSdB8xfBQEQRA0iZ5CEARB0CSMQhAEQdDkbR3RvNhii3n55ZevWkYQBMHbivHjxz9re0S7bW9ro7D88sszblynYouCIAhmTSQ90t+2GD4KgiAImoRRCIIgCJqEUQiCIAiahFEIgiAImoRRCIIgCJqEUQiCIAiahFEIgiAImoRRCIIgCJq8rYPXBsPyB10wU/s/fPgnhkhJEARB/YmeQhAEQdAkjEIQBEHQJIxCEARB0CSMQhAEQdAkjEIQBEHQJIxCEARB0CSMQhAEQdAkjEIQBEHQJIxCEARB0CSMQhAEQdAkjEIQBEHQJIxCEARB0CSMQhAEQdAkjEIQBEHQJIxCEARB0CSMQhAEQdAkjEIQBEHQpGNGQdKykq6UdLekCZL2z+sXkXSppPvy+8J5vST9QtL9km6XtFantAVBEATt6WQ5zqnAgbZvljQ/MF7SpcCuwOW2D5d0EHAQ8A1gc2BUfr0f+HV+f/tz2IJD8BsTZ/43giAIZkDHegq2n7B9c/48GbgbWBrYEjglf+0U4NP585bA7524HlhI0pKd0hcEQRBMT5E5BUnLA+8DbgCWsP0EJMMBLJ6/tjTwaMtuj+V1fX9rT0njJI175plnOik7CIKg6+i4UZA0H/Bn4ADbkwb6apt1nm6FfZzt0bZHjxgxYqhkBkEQBHTYKEianWQQTrX9l7z6qcawUH5/Oq9/DFi2ZfdlgMc7qS8IgiDoTccmmiUJOAG42/bRLZvOA3YBDs/v57as/6KkP5EmmCc2hpmCoWH1U1afqf3v2OWOIVISBEFd6aT30frA54E7JN2a1x1CMgZnStod+Dewbd52IfBx4H7gZWC3DmoLgiAI2tAxo2D7GtrPEwB8pM33DezbKT1BEATBjImI5iAIgqBJGIUgCIKgSRiFIAiCoEkYhSAIgqBJGIUgCIKgSRiFIAiCoEkYhSAIgqBJGIUgCIKgSRiFIAiCoEkn01wEwXTcveq7Zvo33nXP3UOgJAiCdkRPIQiCIGgSRiEIgiBoEkYhCIIgaBJGIQiCIGgSRiEIgiBoEkYhCIIgaDJDoyDpCEkLSJpd0uWSnpW0UwlxQRAEQVkG01P4mO1JwCeBx4CVga91VFUQBEFQCYMxCrPn948Dp9t+voN6giAIggoZTETz3yTdA0wB9pE0Anils7KCIAiCKhhMT+FQ4IPAaNuvAy8DW3RUVRAEQVAJgzEK19n+r+1pALZfAv7eWVlBEARBFfQ7fCTpHcDSwNyS3gcob1oAmKeAtiAIgqAwA80pbArsCiwDHN2yfhJwSAc1BUEQBBXRr1GwfQpwiqTP2P5zQU1BEARBRQxmTmFtSQs1FiQtLOkHHdQUBEEQVMRgjMLmtl9oLNj+LylmIQiCIJjFGIxRGC5pzsaCpLmBOQf4fhAEQfA2ZTDBa38ELpd0EmDgC8ApHVUVBEEQVMIMjYLtIyTdDnyU5Jb6fdsXd1xZEARBUJzB9BQA7gam2r5M0jyS5rc9uZPCgiAIgvIMJnX2HsDZwG/zqqWBczopKgiCIKiGwUw07wusTwpaw/Z9wOKdFBUEQRBUw2CGj161/ZqUslxImo004RwEb0t+ufcVM/0b+/5mkyFQEgT1YzA9hbGSDiHlQBoDnAX8rbOygiAIgioYjFE4CHgGuAPYC7gQ+FYnRQVBEATVMBiX1DeA3+VXEARBMAvTb09B0pn5/Q5Jt/d53SbpSklbDrD/iZKelnRny7rDJP1H0q359fGWbQdLul/SvZI2Hao/MAiCIBg8A/UU9s/vn+xn+2LAqcC5/Ww/GTgW+H2f9T+1fWTrCkmrAZ8F3g0sBVwmaeVGYZ8gCIKgDP32FGw/kd8fIdVkXj2/pth+xPZ4YMcB9r8aeH6QOrYE/mT7VdsPAfcD6w5y3yAIgmCIGEzw2nbAjcC2wHbADZK2AciG4c3yxTwEdaKkhfO6pYFHW77zWF4XBEEQFGQw3kffBNaxvYvtnUlP8N9+i+39GlgJWBN4Ajgqr1eb77aNhZC0p6RxksY988wzb1FGEARB0I7BGIVhtp9uWX5ukPtNh+2nbE9r8WhqDBE9Bizb8tVlgMf7+Y3jbI+2PXrEiBFvRUYQBEHQD4O5uV8k6WJJu0raFbiAFKvwppG0ZMviVkDDM+k84LOS5pS0AjCKNGQVBEEQFGQwcQpfk7Q1sAFpmOc423+d0X6STgc2AhaT9BhwKLCRpDVJQ0MPk4LhsD0hu8DeBUwF9g3PoyAIgvIMaBQkDQcutv1R4C9v5odt79Bm9QkDfP+HwA/fTBtBEATB0DLg8FF+Wn9Z0oKF9ARBEAQVMpgsqa8Ad0i6FHipsdL2lzqmKgiCIKiEwRiFC/IrCIIgmMWZ0ZzC+0i9gwm27y4jKQiCIKiKgRLifQc4A/gMcEEuyxkEQRDMwgzUU9geWNP2y5IWBS4i0mcHQRDM0gzkffSK7ZcBbL/lKOYgCILg7cNAPYWVJJ2XP6vPMra36KiyIAiCoDgDGYW+BXSObPutIAiCYJahX6Nge2xJIUEQBEH1xDxBEARB0CSMQhAEQdAkjEIQBEHQpN85BUmLAfsC/wVOBH4CfAh4ADjQ9v1FFAbBLMpR239ypn/jwDPOHwIlQdDDQD2F04A56Sl48yCwDXA+cHznpQVBEASlGcgldQnbh0gS8Ijtn+T190jat4C2IAiCoDAD9RSmAdg28GyfbW90TFEQBEFQGQP1FFbMEcxq+UxeXqHjyoIgCILiDDaiuW80c0Q3B0EQzIIMZBQWBv5p++lSYoIgCIJqGWhOYSfgFkn3STpZ0p6S3l1KWBAEQVCefo2C7W1sLw2MAS4B3gv8XtIzki4sJTAIgiAoxwxrNNt+WNJcwNz51fgcBEEQzGIMFNF8CPBBYARwL3A9cCywp+1pZeQFQRAEJRmop7Az8CIpgvmfwA22JxZRFQRBER476B8z/RvLHP6hIVAS1IWB6imsKmkRYD1gI+AgSfMBt5G8kk4qIzEIgiAoxYBzCrafB86XdBGwNrAhsBfwBSCMQhAEwSzGQHMKW5B6CesD7wYmkIaRDszvQRAEwSzGQD2FXUk3/68D422/VkRREARBUBkDzSlsXVJIEARBUD1ReS0IgiBoEkYhCIIgaNKvUZB0eX7/cTk5QRAEQZUMNNG8pKQPA1tI+hOpjkIT2zd3VFkQBEFQnIGMwneAg4BlgKP7bDOwSadEBUEQBNUwkPfR2cDZkr5t+/sFNQVBEAQVMZgsqd/PgWwb5lVX2T6/s7KCIAiCKpih95GkHwH7A3fl1/55XRAEQTCLMRiX1E8AY2yfaPtEYLO8bkAknSjpaUl3tqxbRNKluZrbpZIWzusl6ReS7pd0u6S13uofFARBELx1BhunsFDL5wUHuc/JJAPSykHA5bZHAZfnZYDNgVH5tSfw60G2EQRBEAwhM5xTAH5EqtV8JcktdUPg4BntZPtqScv3Wb0lKQ03wCnAVcA38vrf2zZwvaSFJC1p+4lB6AuCIAiGiMFMNJ8u6SpgHZJR+IbtJ99ie0s0bvS2n5C0eF6/NPBoy/cey+umMwqS9iT1Jhg5cuRblBEEQRC0YzA9BfKN/LwO6lCbde5Hy3HAcQCjR49u+50gCILgrVE699FTkpYEyO9P5/WPAcu2fG8Z4PHC2oIgCLqe0kbhPGCX/HkX4NyW9TtnL6QPABNjPiEIgqA8AxoFScNaXUrfDJJOB64DVpH0mKTdgcOBMZLuA8bkZYALgQeB+4HfAfu8lTaDIAiCmWNGNZrfkHSbpJG2//1mftj2Dv1s+kib7xrY9838fhAEQTD0DGaieUlggqQbgZcaK21v0TFVQRAEQSUMxih8t+MqgiAIglowmDiFsZKWA0bZvkzSPMDwzksLgiAISjOYhHh7AGcDv82rlgbO6aSoIAiCoBoG45K6L7A+MAnA9n3A4gPuEQRBELwtGYxReNX2a40FSbPRT7RxEARB8PZmMEZhrKRDgLkljQHOAv7WWVlBEARBFQzGKBwEPAPcAexFCjT7VidFBUEQBNUwGO+jNySdAtxAGja6NwebBUEQBLMYMzQKkj4B/AZ4gJTNdAVJe9n+e6fFBUEQBGUZTPDaUcDGtu8HkLQScAEQRiEIgmAWYzBzCk83DELmQXpSXgdBEASzEP32FCRtnT9OkHQhcCZpTmFb4KYC2oIgCILCDDR89KmWz08BH86fnwEW7piiIAiCoDL6NQq2dyspJAiCIKiewXgfrQDsByzf+v1InR0EQTDrMRjvo3OAE0hRzG90Vk4QBEFQJYMxCq/Y/kXHlQRBEASVMxij8HNJhwKXAK82Vtq+uWOqgiAIgkoYjFFYHfg8sAk9w0fOy0EQBMEsxGCMwlbAiq3ps4MgCIaSww47rBa/EQwuovk2YKFOCwmCIAiqZzA9hSWAeyTdRO85hXBJDYIgmMUYjFE4tOMqgiAIglowmHoKY0sICYIgCKpnMBHNk+mpyTwHMDvwku0FOiksCIIgKM9gegrzty5L+jSwbscUBUEQBJUxGO+jXtg+h4hRCIIgmCUZzPDR1i2Lw4DR9AwnBUEQBLMQg/E+aq2rMBV4GNiyI2qCIAiCShnMnELUVQiCIOgSBirH+Z0B9rPt73dATxAEQVAhA/UUXmqzbl5gd2BRIIxCEATBLMZA5TiPanyWND+wP7Ab8CfgqP72C4IgCN6+DDinIGkR4CvAjsApwFq2/1tCWBAEQVCegeYUfgJsDRwHrG77xWKqgiAIgkoYKHjtQGAp4FvA45Im5ddkSZPKyAuCIAhKMtCcwpuOdh4skh4GJgPTgKm2R+ehqjOA5UmxENvFUFUQBEFZOnbjHwQb217T9ui8fBBwue1RwOV5OQiCIChIlUahL1uSJrPJ75+uUEsQBEFXUpVRMHCJpPGS9szrlrD9BEB+X7wibUEQBF3LYHIfdYL1bT8uaXHgUkn3DHbHbET2BBg5cmSn9AVBEHQllfQUbD+e358G/kqqz/CUpCUB8vvT/ex7nO3RtkePGDGilOQgCIKuoHhPQdK8wDDbk/PnjwHfA84DdgEOz+/nltYWBEH3cvkVK830b3xkkweGQEm1VDF8tATwV0mN9k+zfZGkm4AzJe0O/BvYtgJtQRAEXU1xo2D7QWCNNuufAz5SWk8QBEHQQ51cUoMgCIKKCaMQBEEQNAmjEARBEDQJoxAEQRA0CaMQBEEQNAmjEARBEDQJoxAEQRA0CaMQBEEQNAmjEARBEDQJoxAEQRA0qSp1dhAEQdCGd1x560z/xpMbr/mW942eQhAEQdAkjEIQBEHQJIxCEARB0CSMQhAEQdAkjEIQBEHQJIxCEARB0CSMQhAEQdAkjEIQBEHQJIxCEARB0CSMQhAEQdAkjEIQBEHQJIxCEARB0CSMQhAEQdAkjEIQBEHQJIxCEARB0CSMQhAEQdAkjEIQBEHQJIxCEARB0CSMQhAEQdAkjEIQBEHQJIxCEARB0CSMQhAEQdAkjEIQBEHQJIxCEARB0CSMQhAEQdAkjEIQBEHQJIxCEARB0KR2RkHSZpLulXS/pIOq1hMEQdBN1MooSBoO/BLYHFgN2EHSatWqCoIg6B5qZRSAdYH7bT9o+zXgT8CWFWsKgiDoGmS7ag1NJG0DbGb7f/Ly54H32/5iy3f2BPbMi6sA985ks4sBz87kb8wsddAA9dBRBw1QDx110AD10FEHDVAPHUOhYTnbI9ptmG0mf3ioUZt1vayW7eOA44asQWmc7dFD9XtvVw110VEHDXXRUQcNddFRBw110dFpDXUbPnoMWLZleRng8Yq0BEEQdB11Mwo3AaMkrSBpDuCzwHkVawqCIOgaajV8ZHuqpC8CFwPDgRNtT+hws0M2FDUT1EED1ENHHTRAPXTUQQPUQ0cdNEA9dHRUQ60mmoMgCIJqqdvwURAEQVAhYRSCIAiCJl1nFCTtP5h13UAcix7iWARBouuMArBLm3W7lhQg6fLBrCtA5ccCQNIGknbLn0dIWqG0BmpwLCT9YTDrugFJW0q6W9JESZMkTZY0qQIdlZ+T0hpq5X3USSTtAHwOWEFSq5vr/MBzhTTMBcwDLCZpYXqC9RYAliqhIeuo/Fi0aDkUGE2KTj8JmB34I7B+ofZrcyyAd7cu5FxgaxfWgKStgR8Di5OuUQG2vUBBGUcBW9m+o2Cb7ajDOSmqoWuMAvBP4AlSiPhRLesnA7cX0rAXcADJAIynxyhMIiUCLEUdjkWDrYD3ATcD2H5c0vwF26/8WEg6GDgEmLvlaVjAa1TjAnkE8Cnbd1fQdoOnqjQIdTgnVWkIl9QKkLSf7WOq1lEHJN1oe11JN9teS9K8wHW231u1ttJI+pHtg2ug41rbRXpqA2j4GTACOAd4tbHedtFg1jqck9Iaus4o1KRrjKT1gOVp6a3Z/n1hDZUfC0lfBUYBY4AfAV8ATittNOtwLLKOpYHl6H1dXF1Yw8+BdzD9DfkvBTW0GzO37Z1LaWjRUodzUkxDNxqF+6m4a5wv+JWAW4FpebVtf6mwjsqPRdYxBvgY6UZ8se1LK9BQ+bGQdDgptctd9L4utiis46Q2q237CyV11IE6nJPSGrrRKNSha3w3sJorPvg1ORYrAE/YfiUvzw0sYfvhwjrqcCzuBd5r+9UZfnkWR9JSwM+BDfKqq4Ev2y6aILMO56S0hm6aaG4wTtIZVNg1Bu4kdc+fKNhmO+pwLM4C1mtZnpbXrVNQA9TjWDxI8r6q1ChIWgY4huQBZuAaYH/bjxWUcRJwNrBTXv58XrdpQQ1Qj3NSVEM3GoUFgJdJwxUNDJT8518MuEvSjfS+ARUdJqAex2K2XGUvNW6/ljPklqYOx+Jl4NYcs9J6XRQdViTdfE8Dts3LO+V1YwpqWML271qWj8/JMktTh3NSVEPXGQXbu1WtATisagFQm2PxjKQtGl4lkrakgspWNTkW51GPVPEjbLfOK5ws6YDCGp6X9FngjLy8HfB8YQ1Qj3NSVEM3zimsDPya9CTyHknvBbaw/YPCOpYDRtm+TNI8wHDbkwtrqPxYSFoJOJUUuyHgUWBn2/eX0pB1VH4sso65gZG2Z7bM7MxouAw4GTg9r9oB2M32RwpqWB74FfB+Uo/temA/2w+V0tCipQ7npJwG2131AsYC6wK3tKy7s7CGPUgFhR7Iy6OAy7vxWLS0Ox8wf5dfF58i1Rx/KC+vCZxXwbEYSXoyfQZ4mjTPslxV56bKVx3OSWkNXTd8BMxj+0apVznoqYU17Eu6Ad0AYPs+SYsX1gA1OBaS5gQ+Q47ZaGix/b2SOqjBsSANK64LXAVg+9Yq8kDZ/jdQen4LAEkH2j5K0k/pU58dwPZXCks6jOrPSVEN3WgUns1DFgaQtA3lvYBedZpQJWuYjTb/AAWow7E4F5hISvtRpYdHHY7FVNsT+ximYteFpK/bPkLSMe3adZnJ1Qfy+50F2hoMlZ6TKjR0o1HYl5Q3ZFVJ/wEeosftrRRjJTVymowB9gH+VlgD1ONYLGN7s8JttqMOx+JOSZ8DhksaBXyJlJupFI3AvXEF2+yF7XPyx/+6jztwjjovTdXnpLiGrptobpBz7Axz4cnd3PYwYHdaoniB413Ryaj4WBwHHOPqs2EClR+LeYBv0vu6+L5zYF8V5Gt1PttF01Y3cmH1WTfedtEMpXU4J6U1dJ1RkLQQsDPT5x0q7QteOXU4FpLuAt5JejJ/lZ6cQ0UT4tXhWNQFSacBe5MCCccDCwJH2/5JgbY3BTYjpTM/tWXTAsAatksHNXYd3Th8dCHJve0O4I0qBEj6JPB9ehJcVZJ8jRocC2DzitrtS+XHQtJoUqrk5eltmEpnjF3N9iRJO5KOyzdIxqHjRoHk7XQn8AowoWX9ZOCgAu33og7npLSGbuwpTNctrUDD/cDWwB1VDRllHZUfiwbZ+2quxnL2gCnZfuXHIue4+Rp9DJPtRwrrmEByezwNONb2WEm32V6joIa5qhw2a9FR+TkpraEbewp/kLQHcD69Q8ZLRks+SvKBr9oiV34sJG1BKm6zFOkpcTnShOe7B9qvA1R+LIBnXLheQD/8FngYuA24Ogdali6FubSkHwKr0fthYeXCOupwTopq6Maewr7AD4EX6HHrsu0VC2pYhzR8NJbeN6CjS2nIOupwLG4DNgEus/0+SRsDO9jes5SGrKMOx+IjpOjhvjluSuZfaouk2WwXi9uQ9A/gB8CRwKeB3YA3bH+nlIaso/JzUlpDN/YUvgK803bx/Dot/BB4kfQEVEXytwZ1OBav235O0jBJw2xfKenHFeiow7HYDViVlBGzMUxQOikfkvq78ZYMKJzH9sWSjrT9APCtbChKU4dzUlRDNxqFCaSsg1WyiO2PzfhrHacOx+IFSfOR8uWfKulpykcSQz2OxRq2V69YA8BLLZ/nAj5JTwxDKV5VitZ6QNLewH9IVfFKU4dzUm/3BpkAACAASURBVFRDNxqFaaQ0tFdSXSrcyyR9zPYlBdtsRx2OxZYkT5MvAzuS3B9Lp7iAehyL6yWtZvuugm1Oh+2jWpclHUn5TKFfJuXD+hKpZ70AqVRraepwTopq6MY5hV3arbd9SkENk4F5gdeA13skFK8HXPmxqAt1OBZKFflWouKYjTa6FgZutD2qUHvDgR/aLu6C2kZL5eektIauMwpQj1S4dUGpoM2qpDHKe91S8KZQ+1sDPyYNDYjqYjYqvy6yl890VOCSegc9k+3DgRHA92wfW1DDFbY3KdXeADoqPyelNXSdUZD0KZJHwxy2V5C0JumCL10cfWtS/VkD/2jJ+VJSw8dJ7ocPkG7GKwB72f57QQ33A5+yXXrMuq+OulwXa9FzXVxr++aS7WcNrTehqcBTJT2PsoYjgRVJpVmbcxxVuIfW5JxsQKq/cpKkEaTUIx2pLdGNRmE8yQXyKtvvy+vuKDmRI+lXpNQOjSIm25NqK+xbSkPWcQ/wSeeCNjlL6AW2Vy2o4Vrb65dqbwAddbguvkMqgdnwKvk0cJYLFfqRtMhA2wvHr/yhvQTvXEpD1lHpOckaDgVGA6vYXlnSUllDR/5vunGiuQ6pcD8MvKcRvCbpFFK0Ymmedu8KZw+SAshKMk7SGaRCLlX65tfhutgBeF8jklfS4cDNJH/9Eown/c1qs82kJ/ci2P58qbZmQNXnBGAr4H25XWw/Lmn+TjXWjUahDqlw7yVVt2qMCS4L3F5YA8AESRcCZ5L+6bcFbspDW6VuzAuQXEFbXXSL++ZTj+viYZILaCO9w5z01BfoOLaLF/TpD0ntAjknAuNsX1BQysNUeE4yr9m2pMZD5LydbKwbh4/qkAp3LLAOcGNetQ5wHdlPvtQ4tqSTBths2x11AcxeJl+y/dNOtjNILXW4Ls4hXQuXkgzjGOAacu+tlHuspK2AK2xPzMsLARuVnPeS9DtSiouz86qtSYnyRgL32D6wkI7Kz4mkr5JK9o4BfkRyzT3N9jEdaa/bjEIdkPThgbbbHltKS9VIutL2xlXrqAP9ucU2KOUeK+lW22v2WXdLY66lkIYrgE1tv56XZwcuAjYFbrNdJDdWjc7JGFoeWGxf2rG2us0oSPob048VTyRVm/ptqSdDSUuQnkAg+YCXHstH0jLAMcD6pGNyDbC/7ccKavghKWDtDHp7mRT18KjRdTEH0Ej6dm/jplgSSbf39YGvYNL9XmAd5+I+khYg/Z+sqsIZbetwTkrSjXMKD5L8rls9f54infTfAR2f4JK0HSk3/VUky3+MpK/ZPnvAHYeek0jpkbfNyzvldWMKalgvv7dGMZvkCVSSOlwXGwGnkMaxBSwraRfbV3e67T6My2P6vySdi/1Ik9AlOZoUYX456VhsBPwkj6dfVUpEHc5JDnbt74HlQNsPDml7XdhTuNr2hu3WSZpQoluqlBl0TKN3kP2OL3PBfPW53XbDBNOt6wZqcl2MBz7XCJ6TtDJwusuXoJwX+DbwUdKN8BLgB7ZfGnDHodexDPD+rOEG24+WbD9rqPycSPou8DjpAU7AZ4F3kBxW/tf2RkPZ3rCh/LG3CSMkjWws5M+L5cVS0bzD+gwXPUc15+JZSTtJGp5fO2UtxZC0hKQTJP09L68mafeSGjJ1uC5mb42mtv0vUmbMoth+yfZBtkfbXtv2waUNQmYDYNVGD1pSUeOYqcM52cz2b21Ptj3J9nHAx22fASw81I114/DRgcA1klqjePfJT0el8txcJOlieg9VXFio7Va+ABwL/JTUPf0n5ZOOnUwasvpmXv4XaX7hhMI66nBdjJN0AtAI3NqR8sM2jafhrzJ9+cdiQ3qSjiXdfDckJcR7CfgNPfNwpajDOXkjDzk3hpe3adk25EM9XTd8BCBpTlK+H5Hc24qX/ZP0GdIEr4Crbf+1tIY6IOkm2+u0erdUNYRV9XWR29+X9IQsUjrxX9l+dcAdh17HbaQb8HhS9lgAbBe7GTYmk/tcF0VLguY2Kz8nklYEfg58kGQEridlkf0PsLbta4a0vS41Cu9h+jJ/v69OUVkkHcMATxil/OGzlquAzwCX5pvAB4Af2x7QbbdDWrr6umggaXzpeYw2Gm4g3QTH5etiUXJ1vip1dQNdN3yU84hsRPrnvxDYnOSK2fF//n68CIDimUHHFWpnMBxIytW/kqRrSR5A2wy8y9BT8XXRmpV0Ovq6hxbgb5L2Af5KdfWqfwn8mTTX811gOwrW2ajTOZE0F7A7qW556wNLR4Z6u66nkE/2GsAtttfI8QLH2/5UxdIqQ9K8FU0kNtqfDViFZByr8s2v7LpQP6mRG7h86ux22TftgvWqs4530+MBdZntOwu2XZtzIuks4B7gcyTDuCNwt+39O9FeN3ofTbH9BjA1B8Q8TcFEXw0kbSBpt/x5MUnF885I+qCku8ilFiWtoZTBtaSG24CvA6/YvrPCwKDKrgvbjzReedWo/PlpoOTTeUPPCm1epQ3CybYn2P657Z/ZvlPSyaXar9k5eaftbwMv5QjqTwAdCyTsuuEjkjfBQqSApPHAi/TkICqCWlLhkjxv5gD+SJp4LsnPSGkDzgOwfZukDQfeZcjZguR9daakN0ieR2fa/ndhHXW4LvYA9gQWIVXaWoY04fuRQu1vYvsK5YSIfXHZzLV9I6qHUd7zqPJzkmk8KL2Q572eJHmGdYSuMwq298kffyPpImAB26UzlBZNhTsQth9V73TR0/r7bofafwQ4AjhCKTvpt0mV2IYX1lGH62JfYF3ghqzpPkkli9VvCFwBtBsyK5K5VtI3gIOA+SU1nsiV2y/tpgzVnxOA45RKon6b9AA3H/CdTjXWdUYBQNLSwHLkv1/ShoVTCRRNhTsAj0paD7BSfpcvkYeSSiJpedJE4vYko/T10hqyjqqvi1dtv9Yw0nmupeSk38WSZHu3gm325QjgKFI20GaNZttFH1ZaqPqcYPv4/HEsBYY0u84oSPox6eZzFz1PxSb5H5fiTEm/BRbK3dMvkIYtSrM3yf95aeAxUjqD0tXfbiAFKZ0FbDvUeVzehI46XBdjJR0CzK2UFXMf4G8F298F+KWkf5Eykl5k+8mC7ePk+TIV+Jqkd5BSZc/WuCnbLl3joupz0oiV+AzTBxN2xBurG72P7gXeWzogqI2OYqlwB9AwwvYzpdvto2FV2/dUqSHrqPy6yOPmu9O7psPxLvxPKmlVkkvupqQMtleSjMS1pZ7YlbLnfp7kddM00rY/XqL9Fh2Vn5M8nDmR6YMJj+pIe11oFP5OeiJ9sUINXybVWC2WorofHfcBD5Emd/9s+4UKNCwIHEoaz4bURf6ec4GXgjrqcF1sBVxY9QNLK5LmBjYmGYkP2h5dqN17gTWqyDbQR0fl50TSnbbfU6q9rhs+IlU3a6TkbQ3MKRbFSypBeXGeSPsTcLbtpwq2D4DtUZLWJWVd/GZ2T/2T7T8WlHEiqaLWdnn58ySPrLYeMB2kDtfFFsDPJF1Nui4utj21YPuNJ+PbGzch21NIwXylc3M9RD1c5is/J8A/Ja1uu0gd927sKbStpORCFZT6aHkvaRz7M8Bjtj9aWkOLlsVIOex3tF3M80c1Sd9dl+tCqcLY5qTrYgNS+o//KazhVODgCtyCWzWcRXJLvYzeRvorFWip9Jzkh7V3kgzlq/RkQOhIVHXX9RSquPkPwNMkn+PngNJubo1qVluRegorkdIarFtYxhRJGzgn9ZK0PjClsIbaXBe2X89DWQbmBrYEihoFYElggqQb6V0Nr0jt8MxF+VU5NTgnmxdsqyt7CqNI7m59E58Vi9iU9L+kp44RpHS4Z9i+q1T7LToeAs4hBYtdV7r9rGFNUmrqBUlPQM8Du9q+rbCOOlwXm5EM9Mak6mJnAJdUMITUNhmhu6h2eIO6nJOsZXF6X5sd6cl1XU+BNF59KKmGwMbAbqSbUUmWAw6wfWvhdvuyYo6XqCpOgnwM1si9Fpxr8lZAHa6LXUnj1ntVObFpe2zO/TPK9mWS5qFQMKGk023vIOkW2sQDuGBt5syuVHxOJG1Bit1YijS6sBwpnqgj1QC7sacw3vbaailELukftj9UWMcGpH+6k5TKcc5nu10isk5q+CApSnQ+2yMlrUG6+PeZwa5DqaHdGPFEYHxJo1mj66L1Zjw3MJvtyYU1NFM72F4p96J+Y7vjqR0kLWP7MUkrtdtu+4FOa2ijqdJzopQfbBNy6nBJGwM72N6zE+3VYXa/NK9kD4v7JH0xu5wVHc9Xyn30DeDgvGp2Uu6j0jRyHz0HKfcRPa6hpRhNCqJbOr/2JKWw/p2kkpHNdbgu9iANJ/42r1qGNLxXmn1JebgmQUrtQKFj0XDTtv1Au1cJDa3U5Jy8bvs5YJikYbavBDrmiNGNRuEAYB5SSoe1SS6QbT1POshWJFe3lyDlPgIqy33UZ1XpdAKLAmvZPtD2gSQjMYJknHYtqKMO10VlN+M+vGq7WZe6itQONaIO5+QFSfORoutPlfRzUtR3R+i6OQXbN+WPL5LGjasgch/1MBJ4rWX5dWA521MkFRvDrcl1UXmenUzlqR1qRB3OyZbAK6QSnDuSnDI6VnCo64yCpNGkIvHNxGdQvLpV5D7q4TTgeknn5uVPAadnQ1nMI6sm10VdbsYHkVI73AHsRQpcO37APWZdKj8nzgWwsjNGx9vuxonme4GvkS74NxrrXb66VeW5j+qCpLXpKYx+je3i5ULrcF3UIc9O1fTnddSgtPdRHc6JpL1IPYMppGuzEbzWEXfpbjQK19jeoGodVSLpGAb+xyuZ2qEWxHVBLeoSt3gd7U1yg/1DXt4RmGz7u53WUDdyjrIP2n62RHtdN3wEHCrpeKBvjpsSBUQmM/A/3QKd1pBpPImvTwrWOiMvb0vKxNiNVHldVH4zznwyvzeGEFtvyC+XENDwMJK0nu3WSoS3SLoWKGIUanROAB6g0PGH7jQKuwGrktxAG8MERapK2Z4fQNL3SOkt/kDqCu5IQe+jRkoHSbsCGzvXRZb0G9K8QjdS2XVBDW7G0DNUJmn9Pjfkg/INuWOTm22YT9IHbF+fNb2fVHGsFLU4J5mDSUnxbqBAssZuHD5qBidVqOEG2++f0boCOu4ldUufz8sLA9fbXqVQ+8NJ8ymVJQJs0VKH6+LaPjfjtusK6LgV+GJLPqr1gF+5YJJCSeuQoswbaR2mAF9o8RIrpaPyc5JzUF3D9PNdHcnX1Y09heslrVZFrqEWpknakRQ+b2AHyscHABxO6pZfmZc/DBxWqnHb0yS9LGlBF66f0IY6XBfzqndywPWAKtyVdwdOVKp1AfACyUOuGPnm/x5Ji+bl50q230IdzslUF8wO2409hbtJGUGLpKHtR8PyJFfQ9UlG4VpSLqSHS2lo0fIOoNFDucGFyy9KOhP4AHApvTNyFp3srsl1sTapvsSCpOtiIunp+OZSGvroWYB0jyhusHPczKeZvgTl/xXWUfk5UapC9wjJHbV1+Oj5jrTXhUZhuXbrS7ukBgnVp45Bba6LKm/Guf2iNYH70XABKWCrbwnKH5fS0EdPlQayXU60cEkNZl3yU+HKefHexsR3UA0qXBO4Hw1FS1AGPXTjnEJQIyRtRKqn8DBpyGZZSbvYvrpKXV3OMrY3q1hDHeZ4upIwCl1O9gBagt7DBCXLMB4FfMz2vVnPysDppKR0XUOOnP2A7X9WrYXCNYH74f0kJ4j76T3HU7qeQtfRdcNHOafOFNtv5BvQqsDfSwxZqH3tgCa2j+60hlYk7UcqLPMULb75hSdXb+/bXrt1BXRsbvvvfdbtbfs3BTVcZ/uDpdobQEfRmsD9aKhTPYX1mH5+5feldZSiG3sKVwMfyj75l5Oie7cnBaV0mkrSYw/A/sAqFbr7AYyTdAK9g4OqiKr+tqRXbV8BIOkbpLoOxYwCcImkzwB/qTjfUdGawO1oiWxehJYSlKWR9AeSV9qt9MyvGChmFJRqe1zRmOSWtBCwke2O1HXoxp7CzbbXyk/Jc9s+QtIttt9XtbbS5PiEMa6g3myLhjlJUaONhHhXA790Sz7/QjoWA84nJcXbjNSD/GzJSe+cBmVe0s1nCj1P6KXSn7RqqbQyoKRPkEqjLkMqArUUcJ/tVUtpyDruBlar0khLurVv4GAn71nd2FOQUhnKHUlBOlD4OEiaK7f9bnoX4i4aIAQ8CFyV3f9a/Z9LDmPtndtrtilpf1IcRzFsP6tUC/cyUk9lm9I3gkYalKpRqgw4GliFFFXcqAxYMrL6h7m9S5xKUI4hucmW5k7gHcATFbTdoF0xtI7ds7q18trBwF9tT5C0InDlDPYZav5AutA2BcaSnoaK1uHN/JsUNDYHaWir8SpJuziFXUs1LmmypEn5Kf1+kmvstsAkSZNK6WjRs4WkI/PrkzPeoyPUoTLgVNvPkEpQyim1fBWTzIsBd0m6WNJ5jVdhDeMkHS1pJUkrSvopHRxi7brhowaS5nUuXlFB27fkp5/bbb9X0uykHECbVKGnCiTtAHyONGz0j5ZN8wPT6pAPqTSSDgfWAU7Nq3YAxts+qLCOG22v2zLUOi9wXeGJ5stJhukIYAHgaWB92x8opSHr+HC79bbHFtQwL/Bt4KOkIcVLgB906v7VdUYhDx2dQBojHSlpDWAv2/sU1ND4p7uaVMnpSeDGTkUoDqBjBPB1ph/G6rhxyhHEKwA/IlX6ajAZuL30PIek9YFbbb8kaSfSU+nPSrrnSrodWNP2G3l5OHBLBZ5YXwVGAWNI5+cLwGm2jymoYX5SNtJhwM6kNBN/yL2HoIN0o1G4AdgGOK8xUVM6elLS/wB/BlYHTialBP627d+W0pB1XEKqpfBVUlGTXYBnbH+joIYVgcdtv5KX5waWKJ0HKt+Q1wDeSxreOwHY2nbbJ8UOatjIPVlrFwGuKm0UcttRGRCQ9AHgGOBdpGHW4cBLJSb/Jf3M9gGS/kab2g62t+hEu9040YztR5ULcWeKZSjNQUqTbP+X5GlTtHfQh0VtnyBp/9wdHiupWLc4cyawXsvyNOAs0jBKSabatqQtgZ/n49I2L1MH+RE9WWsFbAgcUlgDANkIdKUh6MOxwGdJ1+RoUq9lVKG2G27aRxZqD+hOo/BoDkZxzrnzJeDuUo3noLkvkm6GVdNwt3wiuwA+Tpr0Lslsre6ntl/L56U0kyUdDOwEbJiHbmYvKcD26ZKuIhlEAd9w4ay10HSN7ftkOpEU03Og7QdLa6oS2/dLGm57GnCSpCJR57bH5/eiD2rdaBT2Jrk7Lg08Rpq02XfAPYaeS/O47Rn0ThfdkVS4A/ADpZz5B5K6yAsAXy6s4RlJW9g+DyA/qRepRduH7UkT37vbflLSSOAnJQVIutz2R4Dz2qwrydGkB4TTSMbpsyRvuXtJaaQ3KiEiPxyMtH1/ifb64eWs41ZJR5BcU4vWU8heaN8HliPdszsav9J1cwp1QIVT4daZnM7gVJKRNslQ71zxjaAoOW5lHpJr9Eakf3pIRvrvtt9VWE+7yoDX2/6ApNtsr1FAwydIxmkO2ytIWhM41PZWnW67j47lSGlg5iA9MC1IqkJX7PpUyv+0NXBHidiZruspSDoF2N/2C3l5YeCokoFjtlco1dZASFoB2I/p87p0ZAKrHTmdwQckzUd6SCkaryHpGtsbtBkyKRlNvBcpfmYpkv95wyhMAn5ZoP2+vCFpO+DsvLxNy7ZST5HfIyXFuxLA9q2S3lmo7Sa2H8k9heVJ9brvLR1tDzwK3FkqmLLregrtwsNLp7mQtHO79S6cZEvSbSQvm761X0v6YC8B/B+wlO3NJa1Gqht9QikNdUHSfiXdPgfQsSJpiPWDJCNwPekp+T/A2s6lKTusodEzaf5vqppEiZ8g5b96gGSsVyC5sP99wB2HVsM6pOGjsRTIPNB1PQVShOTC2fun4fZX+ji0etbMBXwEuJmCSbYyr9j+ReE2+3IyKZXCN/Pyv0hzLcWMQvYIu72kW3I/vCFpoT692B1s/6pE4zmg8JI8kfypfr7WcYOQuTv3VoblHu3+JONUmqOAjRvDRXm48wKgmFEgpfx4kXSv6LgTRjcahaNI+eLPJj0FbUc66MWwvV/rcp7s/UM/X+8kP1fKc3MJvZ9AStYEXsz2mdnzB9tTJRVzEc5tviHpNkkjSwartWEP283hItv/lbQHUMQokCYyz8oR9peTbnw3lhq26MMXge+QerB/BS6mGvfcp/vMHzxIiq4uySK2P1aqsa4zCrZ/L2kcsAmpO7i1q6/u9DLlfJ9bWR34POlYNOsp5OVSvCRp0dxuI1ioitrESwITJN1Ib4+wYvMr9OT5aRyL4RR4Mmxg+3Dg8BxN/FFSJPNvlDKFXkQKYnuqkJaXgG/kV3EkbZ0/TpB0IcmF3KS8WDcVlnOZpI/ZvqREY101p1CXYYI+EYrDgNWAs0pGEmcd9wDvrWDirFXDWiR32PeQMlKOIGUovb2wjjrkuPkJaULzN6TrY2/gUdsHltLQj67VSDUWPmZ70w639VcGmMy2vXV/24ZYx0kDbHZJxxT1pFR/jZ7YonBJHSoknQocXOUwQZ8b0FTgEduPVaDjDGA/26W7w311zEZK0yySd0exGgZ1Ij+07EWaY2okPjs+B02V1HEe8CfgXBdOGimpEZOxJckbqzU54AO2Dy6oZTjwJds/LdVmHehGo3AFaaK3ymGCvpqGkwq6nDrDLw9tu1eRcv3cRO85hWLHQtK2wEW2J0v6FikR3Q8Kz2vUhpz7aaRzzeqKNHyYFMz3CdL/yRnA+c75qQppuNr2hi3LAsa2riuk40rbG5dssx8dW5DSnkDKh3V+x9rqQqNQ2TCBpAVI0dNLk6JWL83LXyNl6Nyy0xr66KnDkEkjffgGpNw/RwKH9A2e6gbyP/5P6B2w9b2qHljyw8omwB7AZoViNhpt35PbfDgvL0d6eCgdyPdDUsBa3+wDxR5aVDiletcZhSqRdC7wX+A60hDBwqSJxP1t31qltqpQT22JH5EiNk8rHTdSFySNJ92Er6rSNz+3OzfJLXV7Uu/t/L5ecx1uvxEf0OgxjQL+1/aFpTRkHe0KcNkFa5+ocEr1rvM+6hO5Ogcp6VmRVLjAirZXzzqOJ+X4GVk6irdBxceiwX8k/Zbk7fJjpZrNxSoCSrqDgSc2S96Qp9qeqN4ZfIuT55reT/I4+iXJSL0x8F5Di+0LJK1McsIAuMv2lJIaso7Kh44yCwGN3GgLdrKhrjMK7lMHV9KngXULNd+cQLU9TdJDVRmErKHKY9FgO2Az4EjbL0hakjScVopGyctGUsRGvMiOJFfhktwp6XPAcEmjSBl8i2Tk7MNJwOdKT3C3Ybn8mgtYRRK2TyvRsKSv9Fll0kPcNbbb5S7rJO1Sqndswj2Gj+gJqS/QzjR6xiUFzE268ZTMszMgpY5F3ZB0re31Z7SuwxrmIUV2N4vbAN8vOcHbouMrpF7sntlArdLJyc02Gr5FOg6rko7DpqQbcimX1EPbrF4k6zjM9p9K6GjRsyQ9KdVvcAdTqnddT6ElKAXSMMVoCiX5sj28RDuDpcpjUUPmlbRBI6+PUs2NoimSbb9MMgrfzOPG85Y2CJmTSIn5GsWPHiMVmSlmFEhzGWsCN9v+fL4pFqtMaPu77dbntDiXkVx2SzKM1FOZDVhZ0sq2r+5EQ11nFOid02Uq8DDJJ7obiWPRw+7AiTnlCMALpIjeYkg6jRSwNo10U15Q0tG2i9Z1AFayvX3OhYTtKSo/0TElD7FOzRHWT1JtlUIg1TwpfSwk/ZhkJCfQO/NAGIWhwPZuVWuoC3U4FjnZ2ROuuEazU5WrNbLbsGxXkWpjNduTJO0IXEhK8TCewsV+gNfyeWik21iJljiWQtwiaSFSUZ9xpDTilceuSNqE5EFYkk+Thu+KnIOuMwqSliGlVVifdNFfQ3IJLR5RXBWSjmFgj5svFZRzFjWo0Zy9nj5Dri3ReBi0/b2CMmbPyeg+DRxr+3VJVQznHUryPFo2ZwBYH9i1VOP5Sfwwp2yxv5R0MbBA4diAdl5pi5Aq0rVNfd9BHiR5BoZR6BAnkcoMbpuXd8rrxlSmqDzjWj5/l3QTqIq61Gg+l5SIbzzln4ob/JY0hHcbcHUO2JpUWoTtSyXdDHyANLG5v+1iJVJtW9L5wNp5uYoqfJ/ss2zgudJpPzIvk8qBXk7vzAMdeXjrOu8jSbfaXnNG67qFqgPFJF0KHOPeNZq/5MJ1iSXd6errKfQiPzEPtz21UHtrDbS98JP6r4HfdWu6k1Yk7dJuve1TOtFeN/YUnpW0E3B6Xt4BeK5CPVVT9VPB3sCpko4lPZU+SvnuOaQaG6vbvqOCttvi9MRWxCBkjsrvc5E80W4jnZP3AjcAG3RagKTZshHcANhD0gMkN+6G2/aAhmtWxPYpufe8cl7V0aSR3dhTGAkcSyo1CHAtqXv8SHWqqkPSzXX4R1NFNZpb2r8LeCfwEKmL3rgJFU8xUTWS/gT8sGEgJb0H+KrtXQu0fbPttfLk9nQ41fTuKiRtBJxCGloUsCywS6dcUrvOKATTpbeYh57I3WJBdJJ2sv3HNpGjQOfqzw6gZ7l+dHTdw0KVQ6xVD2fWkZwT63POmXNz+o/Tba/difa6bvhI0hHAD4ApJA+LNYADbP+xUmEF6ZveoiIagWF10NK8+UtanDR8UpwcSXwgKZJ4jyoiiTN359xcfyQ9POwE3F2o7RH9PShA+YeFmjC7W1Kp2/5X9lLrCF3XU2g88UjaiuT692XgSttrVCwtqBCltNVHkQq7PE3KuXO37XcX1HAGyftpZ9vvybEC15V2gpA0F/C/9OTvvxr4dYnoaklPAL8m9Vqno79I41kZSSeSjHNrXq7ZOhVn1I1GYYLtd0v6HfBn2xdJui2MQlkk/WKg7YVjJZB0Gylt9WVOqbw3BnawvWdBTuzQvQAAF2lJREFUDeNsj24dQum2a7Muc1x1IsfQ7EuafBfJSP+qU8FsXTd8BPxNqYDHFGAfSSOAKvLLdDvjqxbQh9dtPydpmKRhtq/M6QVKUodI4qqpNm94PZkN+Hlj6CznxZqzU411XU8BQNLCwKScW2VeYP5OZh0MZkxOL+EKvY8uIw0n/ghYjDSEtI7t9QbccWg1fIyUEG81Un3m9YHdbLcr9DJLImkR28/P+Jvdg6TrgY/afjEvzwdc0qlrs+uMQh3SAgc9SBpNiiifn/SU+ALwhZyLqKSOeUm9x2GkMdsFgVNtF41hkbQoPZHE15eMJA7qSWlvsG4cPqpDWuCghxOBfWz/A0CpVvNJpICpYrSkL3iD5BNeHEmX50juC9qsK9H+3xg4J1YltaIDXpK0ViO6W9LapAeYjtCNRqEOaYGDHiY3DAKA7WtyHEXXkL195gEWy0ObjetxAZI3VCmOLNhWMHgOAM6S9HheXhL4bKca60ajEJN5NaAlz86NSjWaTyedk+2Bq6rSVRF7kf7xlyL1YhtGYRKpRnIRbI8t1VYweGzfJGlVYBXStXFPpLkYQiSNAb5F78m8XW1fVaWubkOp3mx/2PYmxcTUBEn72T6mBjpGkSbcV6MlkM925UVuuglJX7d9RP68re2zWrb9n+1DOtJuNxmFPEy0DCmtQ0zmBU0krQ8cRgpam42elB9Fb4Q5z1Dfm/HvC2u4hpRO/aek6ny7ke4VVaZY7zpaYzb6xm90Mp6jq4aPbFvSOTlnyAUz3CHoOJK+0269yxa3ATiBFN0+nlTopzhKxeI3IhmFC4HNSUWgihoFYG7bl0tSTv9xmKR/UG3djW5E/XxutzxkdJVRyFwvaR3bN1UtJABSWuQGc5GKm5TKs9PKRNt/r6DdVrYh5eK6xfZukpYAjq9AxyuShgH3Sfoi8B9g8Qp0dDvu53O75SGjq4aPoJkieWXgEXrnae+6FMl1JIf0n2d708LtHg4MB/5C7+pWJQvL3Gh73ZwVc2NgMnBnyfxLWcc6JMO8EPB9UszGEbavL6mj25E0jZ571Nz0zmY8l+2OJMXrxp7C5lULCAZkHqCKCc335/fRLetMyodUinFKxep/RxrGehG4sWD7QPJ2yR9fJM0nBBVge3gV7XZdTyGoF+pdIH04MAL4nu1jq1NVPZKWJxWrv71gmz+zfUB/QWwRvNYdhFEIKqVPcZupwFMuVJO4j44FSROpjXTRY0nGaWJBDecCZwDnuoIC8ZLWtj1e0ofbbY84hu4gjEJQCTmKd29SCcw7gBOqMAYtev4M3ElPiovPA2vY3rqghg+Tgvc+QRo2OgM4v0Qdgz465gWm2H4jLw8H5rT98sB7BrMCYRSCSsgFZV4H/kGa53nE9v4V6qmsBGUbLcNJcxl7AJu5QHnUPu0XzcoZ1IuumWhW77rEvTZRqC5x0IvVbK8OIOkEKphQ7cMUSRvYviZrWp8OJh3rj5yC5VOkHsNaVJOcb66GQQCw/WLOLhx0AV1jFFyPusRBD83cLban1iAn4f8Cp+S5BQHPA7uWFJB7T+8n1Q7///buPNqusrzj+PeXlHlGRUUWYIAiIBCggAREAau2VcQiYgW1IrpEZdBqW8UlFBelVkGwtQKlokXUWsZAq4DMM5QkJAq0yGwtICAyDya//rH3uex7OTdhyn4PvL/PWnfdc95zz91P4CbPfYf9PN8ELhgs4fSs16qcMVqqXT7ShAbttm8vGE51OmewYfw57KIzt7bZD7YfKHDttwPn2C5yR3Unji2BHwLdqpy7993jIsqoLiloBBq0x+iQtKft70n6zLDXBy0QF3MMO9o+T9LQTW3bpyzuGIbEtAQ9VeWM0VLN8lHHl2mK4Y1r0F44pihnufbzsOXFvn5jehNwHs1ewrAYek0KbULYh6eO514g6ZgkhjrUOFP4L9t/IOlaYDPbCwblBUrHFuVI2tb2pYsaW4zXnwK8x/aP+rjeImI5DliC8cdz59veu1xU0ZcaZwr3t0fsLgJOlHQ3zU1TUbd/oDnts6ixxaL95eRTQPGkAGxpe9PO8/PaX6KiAjUmhXfRnKT4NE81aO+7THOMCEnb0PTrfsWEfYUVacpu9OkcSZ+luWlt7I5m2/f1HMd8SevYvglA0jQKlROP/lWVFNqbgk63/RYKNmiPkbIksDzN34XuvsIDNKWs+7RX+/mTnTHTf4HAzwHnS7qZZqN5LVIYrxo17inMBD7QZ02bGH2S1mobygRjJcy7p4/Sx7wSVc0UWo8B8ySdw/gp+n7lQooRcFzbB/d+AEmrAD/ss69DWw/qE8B2NDOEi4Gj+6p91N6fcIftO20/Lmk6sCtwm6SDCyxjRQE1zhQ+NGzcdpaSKiZptu3NFjW2mGP4EU1jne+1Q38GrGJ7t56uP4um5tF9kranuYFtX2A6sIHtvpfTooDqZgr5xz8msUDSmoM729uS3n3/xrT+hFM/5/d86mdqZzawO3Cs7ZOBkyXN6TGOKKi6pCDpFoY3ECnR7StGx4HAJZIGPQO2Bz7WcwyzJb1h0PZS0tZAL/dJtKZK+r22hPlOjP/zV/dvRa1q/B/dbbe4NLAbsGqhWGJE2P6JpM1p7nYX8Gnb9/QcxtbAByUN6nCtCVw/6E7XQx/xHwAXSrqH5tj2xQCS1gVyMKMS1e0pDCPpEtvblY4jylFTpnUPYJrtQyStCbzKdm8lvSd0oXuaPk5HSXoDTQG8swfd3yT9PrD8oGpqvLRVlxTa3wYHptDMHPaZsJYblZH0LZp7V3a0vUF7+uhs21sWDi2iVzUuHx3eefw74BbgvYViidGxte3NJc0GsP0bSUuWDiqibzUmhY/Yvrk7IOm1pYKJkfFke8e7ASS9gmbmEFGVKaUDKOCkZzgWdfkGcCqwmqRDgUuAw8qGFNG/amYKkl4HbASsNKGZyYp0OrBFnWyfKOkamqOYAnaxfX0f115I//BBbOkfHr2pJinQ1HF5B7Ay45uZPAh8tEhEMTIknWD7A8ANQ8YWq0H/cEmHAHcCJ9Akpj0Y3vwnYrGp8fTRNrYvLx1HjBZJs2xv3nk+FZhne8MeY7jS9taLGotYnGqaKQzMlvRJmqWksWUj23tN/pZ4qZL0eeALwDKSHqD5DR3gCeDYnsOZL2kPmppDpql9lD4G0asaN5pPAF4FvA24EFiDZgkpKmT7sHb55qu2V7S9QvvxMtuf7zmc99Mcj76r/ditHYvoTY3LR7NtbyZpru1N2iblZ9nesXRsUZaknek0q7d9Zsl4Ikqocfnoyfbz/ZJeT7Oxt3a5cGIUSDoM2Ao4sR3aX9K2fc4W2nsjPkrz8zj2dzNLm9GnGmcKewMnA5sAx9O0YvyS7aOLBhZFSZoLTLe9oH0+FZjdQxG6bgyX0RShu4bOXkJbvjqiF9UlhYhh2qTw5kE/AUmr0iwh9ZkU5tie3tf1Ioapbvmo7T27K0+foh9SKqYYCYfRnEw7n+YE0vZA3xvNZ0r6Y9v/2fN1I8ZUN1OQ9BOa2vATp+iHT/qmeElry2avQVMgcUuapHCl7Tt7juNBYDngcZq9L9H0UcgdzdGbGpPCz2y/vnQcMVokXWN7i9JxRJRW3fIRcJmkjW3PKx1IjJQrJG1p++qSQbR9HNZj/I2VF5WLKGpT40zhOmBdmj4Kj/PUFL23DcUYPe3PxfrArcDDFPi5aE/G7U+zlDWHpjXo5bmHJvpU40zhj0oHECNpFH4u9qfZ07jC9g5tZd+/KRxTVKa6pNBHn9t48bF9W9uqdTuaukOXFuhJ/JjtxyQhaSnbN0hav+cYonI11j6KeBpJXwK+C7wMeDlwvKQv9hzGLyWtDJwGnCPpdOBXPccQlatuTyFiGEnXA5vZfqx9vgwwy/YGheJ5E7AS8BPbT5SIIepU3fJRxCRupTnx81j7fCngplLB2L6w1LWjbtXMFNLyMBZG0mk0m7zn0Pyc/CFNn+a7AWzvVy66iP5UM1NIy8NYhFPbj4ELCsURUVQ1M4WBtDyMiJhcNTOFjrQ8jJGykKXN1D6K3tU4U1gbOArYlvY8OnCA7VvLRRURMRqqSwoRo07SaoyvfXR7wXCiMtUtH6XlYXRJOoOFn0rbucdYdgYOB1anOfW0FnA9sFFfMURUlxSA02laHv6U7CUEfK10AB1fpimC91Pbm0nagWbPK6I3NSaFZW3/VekgYjSM2E1iT9q+V9IUSVNsny/pK6WDirrUmBTS8jCeRtJ6NC05N2T8ev60HsO4X9LywEXAiZLupukGF9Gb6jaa0/IwhpF0CXAQ8HXgncCHaf5+HNRjDMvRlNkY3FS5EnCi7Xv7iiGiuqQQMcygHaekebY3bscutv3G0rFF9KnG5aO0PIxhHpM0BbhR0qeA/wVW6+PCki6xvd2Qm9gyi43eVTdTSMvDGEbSljTHP1emOQW0EvD3tq8oGlhEz2pMCvN4quXh9EHLQ9u7Fw4tKifpDcDPbT/YPl8e2Mj2lWUji5rUuHyUlocxRtKRtg+Y7Ca2Pm9eA74FbN55/siQsYjFqsakMLHl4W9Iy8OandB+HoWb2OTO1N32Akk1/h2NgqpbPupKy8MYaI+DPmp7Qft8KrCU7Ud6jOEUmj4O32qHPgHsYHuXvmKImFI6gJJsX2h7ZhJCAOcCy3aeL0NTCqVPHwdm0Jx8+iWwNfCxnmOIymVqGtFY2vZDgye2H5K07MLe8EKzfTfwvj6vGTFRkkJE42FJm9ueBSBpC+DRPgNIBd8YBdUlBUlfmVgQb9hYVOcA4N8lDQ4dvBro+5hyKvhGcdVtNEuaZXvzCWNzbW9SKqYYDZKWANanuZP4BttP9nz9Oban93nNiImqmSlI2ofmNMc0SXM7L61A05IzKtYmhH2A7duhCyQd03NiSAXfKK6amYKklYBVaMoj/3XnpQdt31cmqhgVko4DlgC+2w59AJhve+8eY0gF3yiumqTQ1Z5BfyXjN/PSB7dikq61vemixiJe6qpZPhpoK2AeDNwFLGiHDWRPoW7zJa1j+yYASdMosNmbCr5RWnUzBUm/ALZO45LokrQTcDxwM82yzVrAh22f32MMqeAbxVU3UwDuAH5bOogYLbbPbVtydk8fPd5zGPvzVAXfHQYVfHuOISpXY1K4meZkyX/QbOgBYPuIciFFKW0fhTts32n7cUnTgV2B2yQd3PMhhFTwjeJqrH10O3AOsCTNcdTBR9TpGOAJAEnbA38H/CvNbPLYnmOZWMH3dFLBN3pW3Z7CgKTlbD9cOo4oq3vCSNI3gV/bPrh9XuxmslTwjVKqmylI2kbSdTStF5G0qaR/KhxWlDO107NgJ+C8zmu9L69KmippdeAWms3mV/UdQ9Stxj2FI4G3ATMBbF/bLhtEnX4AXCjpHpoCeBcDSFqXng8kSNoXOIgcl46CakwK2L5DUncoxccqZftQSefSFMA7u9P5bAqwb8/h7A+sn+PSUVKNSeEOSTMAS1oS2I92KSnqZPuKIWP/UyCUHJeO4mpMCh8HjgJeQ9Pd6mzgk0UjimjkuHQUV11SsH0PsEfpOCKGuL39WLL9iOhddUdSJb2WZq14bcYXxNu5VEwREaOiupkCzY1B/wKcwVMnPCKKkXSk7QMknUFz2mic/MISfaoxKTxm+xulg4joOKH9/LWiUURQ5/LR+2lKE5/N+M28WcWCiqpJWjP9PGJU1DhT2Jimq9aOjL9BKOWJo5TTgM0BJJ1se9fC8UTFakwK7wampZ5MjJDunZTTikURQYW1j4BrgZVLBxHR4UkeR/Suxj2FC2hqyVzN+D2FnPCIIiTNBx6mmTEsAzwyeAmw7RVLxRb1qXH56KDSAUR02Z5aOoaIgepmChERMbnq9hQk/amkGyX9VtIDkh6U9EDpuCIiRkF1MwVJvwDeaTuVUSMiJqhupgDclYQQETFcjTOFo2haHJ7G+NNHpxQLKiJiRNR4+mhFmiN/b+2MGUhSiIjqVTdTiIiIyVW3pyBpDUmnSrpb0l2STpa0Rum4IiJGQXVJATgemAmsTtOS84x2LCKietUtH0maY3v6osYiImpU40zhHkl7SprafuwJ3Fs6qIiIUVDjTGFN4B+BbWhOHV0G7G/7tqKBRUSMgKqOpEqaCuyaiqgREcNVtXxkez7wrtJxRESMqhqXjw4FVgL+jaaGPZAezRERUGdSOH/IsG2nR3NEVK+6pBAREZOrZqNZ0p62vyfpM8Net31E3zFFRIyaapICsFz7eYWiUUREjLDqlo8kvcL2r0vHERExiqo6ktq6TNLZkj4iaZXSwUREjJLqkoLt9YAvAhsB10g6sy11ERFRveqWj7okvRw4AtjD9tTS8URElFbdTEHSipI+JOnHNHWP/g/YqnBYEREjobqZgqRbaPoz/8j25aXjiYgYJTUmBbm2P3RExDNU030KA+tJ+iywNp0/f8pcRETUOVO4FjgauAaYPxi3fU2xoCIiRkSNSeEa21uUjiMiYhTVmBQOBu4GTgUeH4zbvq9UTBERo6LGpHDLkGHbntZ7MBERI6a6pBAREZOr5uY1SX/ZebzbhNf+tv+IIiJGTzVJAXhf5/HnJ7z29j4DiYgYVTUlBU3yeNjziIgq1ZQUPMnjYc8jIqpUzUazpPnAwzSzgmWARwYvAUvbXqJUbBERo6KapBAREYtW0/JRREQsQpJCRESMSVKIiIgxSQoxkiR9XdIBnednSTqu8/xwSZ+RtLakRyXNkXStpMskrT/k+3W/7jpJR0t6Vj//ki57jn+WXSRtOGT8wDaeOZLmdx7vJ+k7kt7zXK4X8XwkKcSougyYAdD+4/1yYKPO6zOAS9vHN9mebntT4LvAFyb5njfZng5sAmwI7NJ9UdJC+3TbnvFs/xCtXdrrTfx+h7ZxTwceHTy2/Y3neJ2I5y1JIUbVpbRJgSYZ/Ax4UNIqkpYCNgBmD3nfisBvFvaNbf+OJumsK+nNks6X9H1gHkA7A/lZ+9GdrTzUefw5SVdLmivpbzrjH2zHrpV0gqQZwM7AV9tZwDrP4r/B9u3M5+burGHYtduZ0A2SjmvjPlHSWyRdKulGSVu1X7ecpG+3758t6V3t+EaSrmpjnCtpvWcRZ7yE1Nh5LV4EbP9K0u8krUmTHC4HXgNsA/wWmGv7CUkA60iaA6wALAtsvbDvLWlZYCfgS+3QVsDrbd8iaQvgw+33EHClpAttz+68/63Aeu37BMyUtD1wL3AgsK3teyStavs+STOBM22f9Cz/M7wa2A54HTATOGkh174dWBfYDfgYcDXw/vb9O9PMnnZp4zvP9l6SVgaukvRT4OPAUbZPlLQksNBZU7x0JSnEKBvMFmYAR9AkhRk0SaG7vj9YFkLS7sCxDK9nNUgeBk63/WNJbwausj0oqb4dcKrth9vvdwrwRsbPSt7afgzGlqf5h3pT4CTb98AL0qPjNNsLgOskvXIR174duMX2YLbzc+Bc25Y0j6b97OD9O7ctaQGWBtakSboHSloDOMX2jc8z9niRSlKIUTbYV9iYZvnoDuAvgAeAb0/ynpnA8ZO8NpY8Jni48/iZ1MEScJjtY8YNSvvxwpZMebzzWJ3Pw6699oSvX9B5voCn/q4L2NX2f0+41vWSrgT+BDhL0t62z3vef4J40cmeQoyyS4F3APfZnt/+5r0yzRLS5ZO8ZzvgpudxzYuAXSQtK2k54N3AxRO+5ixgL0nLA0h6jaTVgHOB90p6WTu+avv1D9Isbb0QJrv2s3n/vmrX3SRt1n6eBtzcbnLPpNmMjwplphCjbB7NqaPvTxhbfrBE0xosCwl4Atj7uV7Q9ixJ3wGuaoeO6+wnuP2asyVtAFze/tv6ELCn7Z9LOhS4UE2trdnAnwM/BP65nUm8x/ZzTlqTXRuY/wy/xZeBI4G5bWK4lSbx7g7sKelJ4E7gkOcaY7y4pfZRxDPQ/vY/y/ZapWOJWJyyfBSxCJJWp1mu+lrpWCIWt8wUIiJiTGYKERExJkkhIiLGJClERMSYJIWIiBiTpBAREWOSFCIiYsz/Az4w0YHVFOh9AAAAAElFTkSuQmCC\n",
            "text/plain": [
              "<Figure size 432x288 with 1 Axes>"
            ]
          },
          "metadata": {
            "tags": [],
            "needs_background": "light"
          }
        }
      ]
    },
    {
      "cell_type": "markdown",
      "metadata": {
        "colab_type": "text",
        "id": "xo7kQs54qXXz"
      },
      "source": [
        "## Create a dataframe with the missing names filled in."
      ]
    },
    {
      "cell_type": "code",
      "metadata": {
        "colab_type": "code",
        "id": "f__gtiOOlL2i",
        "outputId": "1b6770e6-7272-4c7b-c765-7515363fb28f",
        "colab": {
          "base_uri": "https://localhost:8080/",
          "height": 136
        }
      },
      "source": [
        "df_theme.info()"
      ],
      "execution_count": 0,
      "outputs": [
        {
          "output_type": "stream",
          "text": [
            "<class 'pandas.core.frame.DataFrame'>\n",
            "RangeIndex: 1499 entries, 0 to 1498\n",
            "Data columns (total 2 columns):\n",
            "Project_theme_code    1499 non-null object\n",
            "Project_theme_name    1499 non-null object\n",
            "dtypes: object(2)\n",
            "memory usage: 23.5+ KB\n"
          ],
          "name": "stdout"
        }
      ]
    },
    {
      "cell_type": "code",
      "metadata": {
        "colab_type": "code",
        "id": "YgUwaiRSnVot",
        "outputId": "4d065878-d8b5-45a6-c241-2e3bfdfbd1d9",
        "colab": {
          "base_uri": "https://localhost:8080/",
          "height": 1000
        }
      },
      "source": [
        "theme_nan=df_theme.replace('', np.nan, regex=True)\n",
        "theme_nan\n"
      ],
      "execution_count": 0,
      "outputs": [
        {
          "output_type": "execute_result",
          "data": {
            "text/html": [
              "<div>\n",
              "<style scoped>\n",
              "    .dataframe tbody tr th:only-of-type {\n",
              "        vertical-align: middle;\n",
              "    }\n",
              "\n",
              "    .dataframe tbody tr th {\n",
              "        vertical-align: top;\n",
              "    }\n",
              "\n",
              "    .dataframe thead th {\n",
              "        text-align: right;\n",
              "    }\n",
              "</style>\n",
              "<table border=\"1\" class=\"dataframe\">\n",
              "  <thead>\n",
              "    <tr style=\"text-align: right;\">\n",
              "      <th></th>\n",
              "      <th>Project_theme_code</th>\n",
              "      <th>Project_theme_name</th>\n",
              "    </tr>\n",
              "  </thead>\n",
              "  <tbody>\n",
              "    <tr>\n",
              "      <td>0</td>\n",
              "      <td>8</td>\n",
              "      <td>Human development</td>\n",
              "    </tr>\n",
              "    <tr>\n",
              "      <td>1</td>\n",
              "      <td>11</td>\n",
              "      <td>NaN</td>\n",
              "    </tr>\n",
              "    <tr>\n",
              "      <td>2</td>\n",
              "      <td>1</td>\n",
              "      <td>Economic management</td>\n",
              "    </tr>\n",
              "    <tr>\n",
              "      <td>3</td>\n",
              "      <td>6</td>\n",
              "      <td>Social protection and risk management</td>\n",
              "    </tr>\n",
              "    <tr>\n",
              "      <td>4</td>\n",
              "      <td>5</td>\n",
              "      <td>Trade and integration</td>\n",
              "    </tr>\n",
              "    <tr>\n",
              "      <td>...</td>\n",
              "      <td>...</td>\n",
              "      <td>...</td>\n",
              "    </tr>\n",
              "    <tr>\n",
              "      <td>1494</td>\n",
              "      <td>10</td>\n",
              "      <td>Rural development</td>\n",
              "    </tr>\n",
              "    <tr>\n",
              "      <td>1495</td>\n",
              "      <td>9</td>\n",
              "      <td>Urban development</td>\n",
              "    </tr>\n",
              "    <tr>\n",
              "      <td>1496</td>\n",
              "      <td>8</td>\n",
              "      <td>Human development</td>\n",
              "    </tr>\n",
              "    <tr>\n",
              "      <td>1497</td>\n",
              "      <td>5</td>\n",
              "      <td>Trade and integration</td>\n",
              "    </tr>\n",
              "    <tr>\n",
              "      <td>1498</td>\n",
              "      <td>4</td>\n",
              "      <td>Financial and private sector development</td>\n",
              "    </tr>\n",
              "  </tbody>\n",
              "</table>\n",
              "<p>1499 rows × 2 columns</p>\n",
              "</div>"
            ],
            "text/plain": [
              "     Project_theme_code                        Project_theme_name\n",
              "0                     8                         Human development\n",
              "1                    11                                       NaN\n",
              "2                     1                       Economic management\n",
              "3                     6     Social protection and risk management\n",
              "4                     5                     Trade and integration\n",
              "...                 ...                                       ...\n",
              "1494                 10                         Rural development\n",
              "1495                  9                         Urban development\n",
              "1496                  8                         Human development\n",
              "1497                  5                     Trade and integration\n",
              "1498                  4  Financial and private sector development\n",
              "\n",
              "[1499 rows x 2 columns]"
            ]
          },
          "metadata": {
            "tags": []
          },
          "execution_count": 37
        }
      ]
    },
    {
      "cell_type": "code",
      "metadata": {
        "colab_type": "code",
        "id": "fNxs8ISxnmkl",
        "colab": {}
      },
      "source": [
        "#create dictionary of unique project theme codes and corrosponding project theme names. "
      ],
      "execution_count": 0,
      "outputs": []
    },
    {
      "cell_type": "code",
      "metadata": {
        "colab_type": "code",
        "id": "DT33wk7b1AIx",
        "outputId": "b5b9d525-c290-4d50-8b12-07ec8bec180c",
        "colab": {
          "base_uri": "https://localhost:8080/",
          "height": 390
        }
      },
      "source": [
        "theme_unique=theme_nan.groupby(['Project_theme_code','Project_theme_name']).size().reset_index().rename(columns={0:'count'}) \n",
        "theme_unique"
      ],
      "execution_count": 0,
      "outputs": [
        {
          "output_type": "execute_result",
          "data": {
            "text/html": [
              "<div>\n",
              "<style scoped>\n",
              "    .dataframe tbody tr th:only-of-type {\n",
              "        vertical-align: middle;\n",
              "    }\n",
              "\n",
              "    .dataframe tbody tr th {\n",
              "        vertical-align: top;\n",
              "    }\n",
              "\n",
              "    .dataframe thead th {\n",
              "        text-align: right;\n",
              "    }\n",
              "</style>\n",
              "<table border=\"1\" class=\"dataframe\">\n",
              "  <thead>\n",
              "    <tr style=\"text-align: right;\">\n",
              "      <th></th>\n",
              "      <th>Project_theme_code</th>\n",
              "      <th>Project_theme_name</th>\n",
              "      <th>count</th>\n",
              "    </tr>\n",
              "  </thead>\n",
              "  <tbody>\n",
              "    <tr>\n",
              "      <td>0</td>\n",
              "      <td>1</td>\n",
              "      <td>Economic management</td>\n",
              "      <td>33</td>\n",
              "    </tr>\n",
              "    <tr>\n",
              "      <td>1</td>\n",
              "      <td>10</td>\n",
              "      <td>Rural development</td>\n",
              "      <td>202</td>\n",
              "    </tr>\n",
              "    <tr>\n",
              "      <td>2</td>\n",
              "      <td>11</td>\n",
              "      <td>Environment and natural resources management</td>\n",
              "      <td>223</td>\n",
              "    </tr>\n",
              "    <tr>\n",
              "      <td>3</td>\n",
              "      <td>2</td>\n",
              "      <td>Public sector governance</td>\n",
              "      <td>184</td>\n",
              "    </tr>\n",
              "    <tr>\n",
              "      <td>4</td>\n",
              "      <td>3</td>\n",
              "      <td>Rule of law</td>\n",
              "      <td>12</td>\n",
              "    </tr>\n",
              "    <tr>\n",
              "      <td>5</td>\n",
              "      <td>4</td>\n",
              "      <td>Financial and private sector development</td>\n",
              "      <td>130</td>\n",
              "    </tr>\n",
              "    <tr>\n",
              "      <td>6</td>\n",
              "      <td>5</td>\n",
              "      <td>Trade and integration</td>\n",
              "      <td>72</td>\n",
              "    </tr>\n",
              "    <tr>\n",
              "      <td>7</td>\n",
              "      <td>6</td>\n",
              "      <td>Social protection and risk management</td>\n",
              "      <td>158</td>\n",
              "    </tr>\n",
              "    <tr>\n",
              "      <td>8</td>\n",
              "      <td>7</td>\n",
              "      <td>Social dev/gender/inclusion</td>\n",
              "      <td>119</td>\n",
              "    </tr>\n",
              "    <tr>\n",
              "      <td>9</td>\n",
              "      <td>8</td>\n",
              "      <td>Human development</td>\n",
              "      <td>197</td>\n",
              "    </tr>\n",
              "    <tr>\n",
              "      <td>10</td>\n",
              "      <td>9</td>\n",
              "      <td>Urban development</td>\n",
              "      <td>47</td>\n",
              "    </tr>\n",
              "  </tbody>\n",
              "</table>\n",
              "</div>"
            ],
            "text/plain": [
              "   Project_theme_code                            Project_theme_name  count\n",
              "0                   1                           Economic management     33\n",
              "1                  10                             Rural development    202\n",
              "2                  11  Environment and natural resources management    223\n",
              "3                   2                      Public sector governance    184\n",
              "4                   3                                   Rule of law     12\n",
              "5                   4      Financial and private sector development    130\n",
              "6                   5                         Trade and integration     72\n",
              "7                   6         Social protection and risk management    158\n",
              "8                   7                   Social dev/gender/inclusion    119\n",
              "9                   8                             Human development    197\n",
              "10                  9                             Urban development     47"
            ]
          },
          "metadata": {
            "tags": []
          },
          "execution_count": 39
        }
      ]
    },
    {
      "cell_type": "code",
      "metadata": {
        "colab_type": "code",
        "id": "j729Y7JnIRQ9",
        "colab": {}
      },
      "source": [
        "theme_dict= {'1': 'Economic management',\n",
        "  '10': 'Rural development',\n",
        "  '11': 'Environment and natural resources management',\n",
        "  '2': 'Public sector governance',\n",
        "  '3': 'Rule of law',\n",
        "  '4': 'Financial and private sector development',\n",
        "  '5': 'Trade and integration',\n",
        "  '6': 'Social protection and risk management',\n",
        "  '7': 'Social dev/gender/inclusion',\n",
        "  '8': 'Human development',\n",
        "  '9': 'Urban development'}"
      ],
      "execution_count": 0,
      "outputs": []
    },
    {
      "cell_type": "code",
      "metadata": {
        "colab_type": "code",
        "id": "uRnzcNqp42at",
        "outputId": "ae2c5552-73c5-44b2-9b96-9c3de247ec39",
        "colab": {
          "base_uri": "https://localhost:8080/",
          "height": 204
        }
      },
      "source": [
        "#replace NAN values using di\n",
        "df_theme['Project_theme_name'] =  df_theme['Project_theme_code'].replace(theme_dict)\n",
        "df_theme.head()"
      ],
      "execution_count": 0,
      "outputs": [
        {
          "output_type": "execute_result",
          "data": {
            "text/html": [
              "<div>\n",
              "<style scoped>\n",
              "    .dataframe tbody tr th:only-of-type {\n",
              "        vertical-align: middle;\n",
              "    }\n",
              "\n",
              "    .dataframe tbody tr th {\n",
              "        vertical-align: top;\n",
              "    }\n",
              "\n",
              "    .dataframe thead th {\n",
              "        text-align: right;\n",
              "    }\n",
              "</style>\n",
              "<table border=\"1\" class=\"dataframe\">\n",
              "  <thead>\n",
              "    <tr style=\"text-align: right;\">\n",
              "      <th></th>\n",
              "      <th>Project_theme_code</th>\n",
              "      <th>Project_theme_name</th>\n",
              "    </tr>\n",
              "  </thead>\n",
              "  <tbody>\n",
              "    <tr>\n",
              "      <td>0</td>\n",
              "      <td>8</td>\n",
              "      <td>Human development</td>\n",
              "    </tr>\n",
              "    <tr>\n",
              "      <td>1</td>\n",
              "      <td>11</td>\n",
              "      <td>Environment and natural resources management</td>\n",
              "    </tr>\n",
              "    <tr>\n",
              "      <td>2</td>\n",
              "      <td>1</td>\n",
              "      <td>Economic management</td>\n",
              "    </tr>\n",
              "    <tr>\n",
              "      <td>3</td>\n",
              "      <td>6</td>\n",
              "      <td>Social protection and risk management</td>\n",
              "    </tr>\n",
              "    <tr>\n",
              "      <td>4</td>\n",
              "      <td>5</td>\n",
              "      <td>Trade and integration</td>\n",
              "    </tr>\n",
              "  </tbody>\n",
              "</table>\n",
              "</div>"
            ],
            "text/plain": [
              "  Project_theme_code                            Project_theme_name\n",
              "0                  8                             Human development\n",
              "1                 11  Environment and natural resources management\n",
              "2                  1                           Economic management\n",
              "3                  6         Social protection and risk management\n",
              "4                  5                         Trade and integration"
            ]
          },
          "metadata": {
            "tags": []
          },
          "execution_count": 75
        }
      ]
    },
    {
      "cell_type": "code",
      "metadata": {
        "colab_type": "code",
        "id": "XDjjiaAM69YW",
        "outputId": "4ee78414-35ff-460a-ed66-99fd385e683e",
        "colab": {
          "base_uri": "https://localhost:8080/",
          "height": 1000
        }
      },
      "source": [
        "df_theme"
      ],
      "execution_count": 0,
      "outputs": [
        {
          "output_type": "execute_result",
          "data": {
            "text/html": [
              "<div>\n",
              "<style scoped>\n",
              "    .dataframe tbody tr th:only-of-type {\n",
              "        vertical-align: middle;\n",
              "    }\n",
              "\n",
              "    .dataframe tbody tr th {\n",
              "        vertical-align: top;\n",
              "    }\n",
              "\n",
              "    .dataframe thead th {\n",
              "        text-align: right;\n",
              "    }\n",
              "</style>\n",
              "<table border=\"1\" class=\"dataframe\">\n",
              "  <thead>\n",
              "    <tr style=\"text-align: right;\">\n",
              "      <th></th>\n",
              "      <th>Project_theme_code</th>\n",
              "      <th>Project_theme_name</th>\n",
              "    </tr>\n",
              "  </thead>\n",
              "  <tbody>\n",
              "    <tr>\n",
              "      <td>0</td>\n",
              "      <td>8</td>\n",
              "      <td>Human development</td>\n",
              "    </tr>\n",
              "    <tr>\n",
              "      <td>1</td>\n",
              "      <td>11</td>\n",
              "      <td>Environment and natural resources management</td>\n",
              "    </tr>\n",
              "    <tr>\n",
              "      <td>2</td>\n",
              "      <td>1</td>\n",
              "      <td>Economic management</td>\n",
              "    </tr>\n",
              "    <tr>\n",
              "      <td>3</td>\n",
              "      <td>6</td>\n",
              "      <td>Social protection and risk management</td>\n",
              "    </tr>\n",
              "    <tr>\n",
              "      <td>4</td>\n",
              "      <td>5</td>\n",
              "      <td>Trade and integration</td>\n",
              "    </tr>\n",
              "    <tr>\n",
              "      <td>...</td>\n",
              "      <td>...</td>\n",
              "      <td>...</td>\n",
              "    </tr>\n",
              "    <tr>\n",
              "      <td>1494</td>\n",
              "      <td>10</td>\n",
              "      <td>Rural development</td>\n",
              "    </tr>\n",
              "    <tr>\n",
              "      <td>1495</td>\n",
              "      <td>9</td>\n",
              "      <td>Urban development</td>\n",
              "    </tr>\n",
              "    <tr>\n",
              "      <td>1496</td>\n",
              "      <td>8</td>\n",
              "      <td>Human development</td>\n",
              "    </tr>\n",
              "    <tr>\n",
              "      <td>1497</td>\n",
              "      <td>5</td>\n",
              "      <td>Trade and integration</td>\n",
              "    </tr>\n",
              "    <tr>\n",
              "      <td>1498</td>\n",
              "      <td>4</td>\n",
              "      <td>Financial and private sector development</td>\n",
              "    </tr>\n",
              "  </tbody>\n",
              "</table>\n",
              "<p>1499 rows × 2 columns</p>\n",
              "</div>"
            ],
            "text/plain": [
              "     Project_theme_code                            Project_theme_name\n",
              "0                     8                             Human development\n",
              "1                    11  Environment and natural resources management\n",
              "2                     1                           Economic management\n",
              "3                     6         Social protection and risk management\n",
              "4                     5                         Trade and integration\n",
              "...                 ...                                           ...\n",
              "1494                 10                             Rural development\n",
              "1495                  9                             Urban development\n",
              "1496                  8                             Human development\n",
              "1497                  5                         Trade and integration\n",
              "1498                  4      Financial and private sector development\n",
              "\n",
              "[1499 rows x 2 columns]"
            ]
          },
          "metadata": {
            "tags": []
          },
          "execution_count": 76
        }
      ]
    },
    {
      "cell_type": "code",
      "metadata": {
        "colab_type": "code",
        "id": "j_2IU5Ab5rh2",
        "colab": {}
      },
      "source": [
        ""
      ],
      "execution_count": 0,
      "outputs": []
    }
  ]
}
>>>>>>> 9ac870cd6a25e7ad83c5273c3997e73194bc6231
=======
{
<<<<<<< HEAD
 "cells": [
  {
   "cell_type": "markdown",
   "metadata": {
    "colab_type": "text",
    "id": "view-in-github"
   },
   "source": [
    "<a href=\"https://colab.research.google.com/github/abebual/JSON_Excercise/blob/master/abebual_json_based_data_exercise.ipynb\" target=\"_parent\"><img src=\"https://colab.research.google.com/assets/colab-badge.svg\" alt=\"Open In Colab\"/></a>"
   ]
  },
  {
   "cell_type": "markdown",
   "metadata": {
    "colab_type": "text",
    "id": "ywMoZXtbpo3B"
   },
   "source": [
    "# Project 1: JSON Based Data Exercise \n",
    "auther: Abebual Demilew \n",
    "****\n",
    "+ Based on the World Bank Projects List Dataset.\n",
    "+ Part of Springboard Data Science Career Track\n",
    "+ Designed to excercise with packages for dealign with JSON\n",
    "+ Data outputs are meant for learning practice, not intended for quotation.  \n",
    "****"
   ]
  },
  {
   "cell_type": "code",
   "execution_count": 1,
   "metadata": {
    "colab": {},
    "colab_type": "code",
    "id": "QABtReVDpgSR"
   },
   "outputs": [],
   "source": [
    "import os\n",
    "import pandas as pd\n",
    "import numpy as np\n",
    "import json\n",
    "from pandas.io.json import json_normalize\n",
    "import matplotlib.pyplot as plt"
   ]
  },
  {
   "cell_type": "markdown",
   "metadata": {
    "colab_type": "text",
    "id": "f_Gp9HcoaRpm"
   },
   "source": [
    "This was originally done on google colab. Ignore the following code.\n"
   ]
  },
  {
   "cell_type": "code",
   "execution_count": 2,
   "metadata": {
    "colab": {
     "base_uri": "https://localhost:8080/",
     "height": 34
    },
    "colab_type": "code",
    "id": "aw_RCEXWbCMc",
    "outputId": "f3489bc1-b645-4b27-a669-1e9bc2b8542c"
   },
   "outputs": [
    {
     "data": {
      "text/plain": [
       "\"\\n#I will need to mount my Google Drive\\nfrom google.colab import drive\\ndrive.mount('/content/gdrive')\\n\""
      ]
     },
     "execution_count": 2,
     "metadata": {},
     "output_type": "execute_result"
    }
   ],
   "source": [
    "'''\n",
    "#I will need to mount my Google Drive\n",
    "from google.colab import drive\n",
    "drive.mount('/content/gdrive')\n",
    "'''"
   ]
  },
  {
   "cell_type": "code",
   "execution_count": 3,
   "metadata": {
    "colab": {
     "base_uri": "https://localhost:8080/",
     "height": 34
    },
    "colab_type": "code",
    "id": "zlaxhifTbOc3",
    "outputId": "09eebce4-b4c2-470f-faf5-5e405acd9787"
   },
   "outputs": [
    {
     "data": {
      "text/plain": [
       "'C:\\\\Users\\\\abebu\\\\Google Drive\\\\World_Bank_Project_List-master'"
      ]
     },
     "execution_count": 3,
     "metadata": {},
     "output_type": "execute_result"
    }
   ],
   "source": [
    "cwd=os.getcwd()\n",
    "cwd"
   ]
  },
  {
   "cell_type": "code",
   "execution_count": 4,
   "metadata": {
    "colab": {},
    "colab_type": "code",
    "id": "hetceI9VYNmQ"
   },
   "outputs": [],
   "source": [
    "# load json as string\n",
    "json_file = 'C:/Users/abebu/Google Drive/data_wrangling_json/data/world_bank_projects.json'\n",
    "with open(json_file, 'r') as wb_json:\n",
    "  json_data=json.load(wb_json)"
   ]
  },
  {
   "cell_type": "code",
   "execution_count": 5,
   "metadata": {
    "colab": {
     "base_uri": "https://localhost:8080/",
     "height": 34
    },
    "colab_type": "code",
    "id": "EqFWENFLYX2x",
    "outputId": "1d5a1b28-5bbf-4dad-8a96-9123e1bb3df0"
   },
   "outputs": [
    {
     "data": {
      "text/plain": [
       "list"
      ]
     },
     "execution_count": 5,
     "metadata": {},
     "output_type": "execute_result"
    }
   ],
   "source": [
    "type(json_data)"
   ]
  },
  {
   "cell_type": "code",
   "execution_count": 6,
   "metadata": {
    "colab": {},
    "colab_type": "code",
    "id": "SIMD8S_ODc3b"
   },
   "outputs": [],
   "source": [
    "wb_json=json.load((open(json_file)))"
   ]
  },
  {
   "cell_type": "code",
   "execution_count": 7,
   "metadata": {
    "colab": {
     "base_uri": "https://localhost:8080/",
     "height": 1000
    },
    "colab_type": "code",
    "id": "m3dR25FpRxLv",
    "outputId": "24318834-0b8c-4c5d-f127-375adc342b73"
   },
   "outputs": [
    {
     "data": {
      "text/html": [
       "<div>\n",
       "<style scoped>\n",
       "    .dataframe tbody tr th:only-of-type {\n",
       "        vertical-align: middle;\n",
       "    }\n",
       "\n",
       "    .dataframe tbody tr th {\n",
       "        vertical-align: top;\n",
       "    }\n",
       "\n",
       "    .dataframe thead th {\n",
       "        text-align: right;\n",
       "    }\n",
       "</style>\n",
       "<table border=\"1\" class=\"dataframe\">\n",
       "  <thead>\n",
       "    <tr style=\"text-align: right;\">\n",
       "      <th></th>\n",
       "      <th>sector</th>\n",
       "      <th>supplementprojectflg</th>\n",
       "      <th>projectfinancialtype</th>\n",
       "      <th>prodline</th>\n",
       "      <th>mjtheme</th>\n",
       "      <th>idacommamt</th>\n",
       "      <th>impagency</th>\n",
       "      <th>project_name</th>\n",
       "      <th>mjthemecode</th>\n",
       "      <th>closingdate</th>\n",
       "      <th>...</th>\n",
       "      <th>sector2.Percent</th>\n",
       "      <th>sector2.Name</th>\n",
       "      <th>sector4.Percent</th>\n",
       "      <th>sector4.Name</th>\n",
       "      <th>project_abstract.cdata</th>\n",
       "      <th>theme1.Percent</th>\n",
       "      <th>theme1.Name</th>\n",
       "      <th>sector3.Percent</th>\n",
       "      <th>sector3.Name</th>\n",
       "      <th>_id.$oid</th>\n",
       "    </tr>\n",
       "  </thead>\n",
       "  <tbody>\n",
       "    <tr>\n",
       "      <td>0</td>\n",
       "      <td>[{'Name': 'Primary education'}, {'Name': 'Seco...</td>\n",
       "      <td>N</td>\n",
       "      <td>IDA</td>\n",
       "      <td>PE</td>\n",
       "      <td>[Human development]</td>\n",
       "      <td>130000000</td>\n",
       "      <td>MINISTRY OF EDUCATION</td>\n",
       "      <td>Ethiopia General Education Quality Improvement...</td>\n",
       "      <td>8,11</td>\n",
       "      <td>2018-07-07T00:00:00Z</td>\n",
       "      <td>...</td>\n",
       "      <td>26.0</td>\n",
       "      <td>Secondary education</td>\n",
       "      <td>12.0</td>\n",
       "      <td>Tertiary education</td>\n",
       "      <td>The development objective of the Second Phase ...</td>\n",
       "      <td>100</td>\n",
       "      <td>Education for all</td>\n",
       "      <td>16.0</td>\n",
       "      <td>Public administration- Other social services</td>\n",
       "      <td>52b213b38594d8a2be17c780</td>\n",
       "    </tr>\n",
       "    <tr>\n",
       "      <td>1</td>\n",
       "      <td>[{'Name': 'Public administration- Other social...</td>\n",
       "      <td>N</td>\n",
       "      <td>OTHER</td>\n",
       "      <td>RE</td>\n",
       "      <td>[Economic management, Social protection and ri...</td>\n",
       "      <td>0</td>\n",
       "      <td>MINISTRY OF FINANCE</td>\n",
       "      <td>TN: DTF Social Protection Reforms Support</td>\n",
       "      <td>1,6</td>\n",
       "      <td>NaN</td>\n",
       "      <td>...</td>\n",
       "      <td>30.0</td>\n",
       "      <td>General public administration sector</td>\n",
       "      <td>NaN</td>\n",
       "      <td>NaN</td>\n",
       "      <td>NaN</td>\n",
       "      <td>30</td>\n",
       "      <td>Other economic management</td>\n",
       "      <td>NaN</td>\n",
       "      <td>NaN</td>\n",
       "      <td>52b213b38594d8a2be17c781</td>\n",
       "    </tr>\n",
       "    <tr>\n",
       "      <td>2</td>\n",
       "      <td>[{'Name': 'Rural and Inter-Urban Roads and Hig...</td>\n",
       "      <td>Y</td>\n",
       "      <td>IDA</td>\n",
       "      <td>PE</td>\n",
       "      <td>[Trade and integration, Public sector governan...</td>\n",
       "      <td>6060000</td>\n",
       "      <td>MINISTRY OF TRANSPORT AND COMMUNICATIONS</td>\n",
       "      <td>Tuvalu Aviation Investment Project - Additiona...</td>\n",
       "      <td>5,2,11,6</td>\n",
       "      <td>NaN</td>\n",
       "      <td>...</td>\n",
       "      <td>NaN</td>\n",
       "      <td>NaN</td>\n",
       "      <td>NaN</td>\n",
       "      <td>NaN</td>\n",
       "      <td>NaN</td>\n",
       "      <td>46</td>\n",
       "      <td>Regional integration</td>\n",
       "      <td>NaN</td>\n",
       "      <td>NaN</td>\n",
       "      <td>52b213b38594d8a2be17c782</td>\n",
       "    </tr>\n",
       "    <tr>\n",
       "      <td>3</td>\n",
       "      <td>[{'Name': 'Other social services'}]</td>\n",
       "      <td>N</td>\n",
       "      <td>OTHER</td>\n",
       "      <td>RE</td>\n",
       "      <td>[Social dev/gender/inclusion, Social dev/gende...</td>\n",
       "      <td>0</td>\n",
       "      <td>LABOR INTENSIVE PUBLIC WORKS PROJECT PMU</td>\n",
       "      <td>Gov't and Civil Society Organization Partnership</td>\n",
       "      <td>7,7</td>\n",
       "      <td>NaN</td>\n",
       "      <td>...</td>\n",
       "      <td>NaN</td>\n",
       "      <td>NaN</td>\n",
       "      <td>NaN</td>\n",
       "      <td>NaN</td>\n",
       "      <td>NaN</td>\n",
       "      <td>50</td>\n",
       "      <td>Participation and civic engagement</td>\n",
       "      <td>NaN</td>\n",
       "      <td>NaN</td>\n",
       "      <td>52b213b38594d8a2be17c783</td>\n",
       "    </tr>\n",
       "    <tr>\n",
       "      <td>4</td>\n",
       "      <td>[{'Name': 'General industry and trade sector'}...</td>\n",
       "      <td>N</td>\n",
       "      <td>IDA</td>\n",
       "      <td>PE</td>\n",
       "      <td>[Trade and integration, Financial and private ...</td>\n",
       "      <td>13100000</td>\n",
       "      <td>MINISTRY OF TRADE AND INDUSTRY</td>\n",
       "      <td>Second Private Sector Competitiveness and Econ...</td>\n",
       "      <td>5,4</td>\n",
       "      <td>2019-04-30T00:00:00Z</td>\n",
       "      <td>...</td>\n",
       "      <td>40.0</td>\n",
       "      <td>Other industry</td>\n",
       "      <td>NaN</td>\n",
       "      <td>NaN</td>\n",
       "      <td>The development objective of the Second Privat...</td>\n",
       "      <td>30</td>\n",
       "      <td>Export development and competitiveness</td>\n",
       "      <td>10.0</td>\n",
       "      <td>SME Finance</td>\n",
       "      <td>52b213b38594d8a2be17c784</td>\n",
       "    </tr>\n",
       "    <tr>\n",
       "      <td>...</td>\n",
       "      <td>...</td>\n",
       "      <td>...</td>\n",
       "      <td>...</td>\n",
       "      <td>...</td>\n",
       "      <td>...</td>\n",
       "      <td>...</td>\n",
       "      <td>...</td>\n",
       "      <td>...</td>\n",
       "      <td>...</td>\n",
       "      <td>...</td>\n",
       "      <td>...</td>\n",
       "      <td>...</td>\n",
       "      <td>...</td>\n",
       "      <td>...</td>\n",
       "      <td>...</td>\n",
       "      <td>...</td>\n",
       "      <td>...</td>\n",
       "      <td>...</td>\n",
       "      <td>...</td>\n",
       "      <td>...</td>\n",
       "      <td>...</td>\n",
       "    </tr>\n",
       "    <tr>\n",
       "      <td>495</td>\n",
       "      <td>[{'Name': 'General agriculture, fishing and fo...</td>\n",
       "      <td>N</td>\n",
       "      <td>OTHER</td>\n",
       "      <td>RE</td>\n",
       "      <td>[Financial and private sector development, Soc...</td>\n",
       "      <td>0</td>\n",
       "      <td>THE COMPETITIVENESS COMPANY</td>\n",
       "      <td>Technological Scale Up for Youth-led Urban Orn...</td>\n",
       "      <td>4,7</td>\n",
       "      <td>2013-08-31T00:00:00Z</td>\n",
       "      <td>...</td>\n",
       "      <td>50.0</td>\n",
       "      <td>Vocational training</td>\n",
       "      <td>NaN</td>\n",
       "      <td>NaN</td>\n",
       "      <td>NaN</td>\n",
       "      <td>50</td>\n",
       "      <td>Regulation and competition policy</td>\n",
       "      <td>NaN</td>\n",
       "      <td>NaN</td>\n",
       "      <td>52b213b38594d8a2be17c96f</td>\n",
       "    </tr>\n",
       "    <tr>\n",
       "      <td>496</td>\n",
       "      <td>[{'Name': 'Central government administration'}...</td>\n",
       "      <td>N</td>\n",
       "      <td>IDA</td>\n",
       "      <td>PE</td>\n",
       "      <td>[Human development, Trade and integration, Pub...</td>\n",
       "      <td>20000000</td>\n",
       "      <td>MINISTRY OF FINANCE</td>\n",
       "      <td>Lao Eight Poverty Reduction Support</td>\n",
       "      <td>8,5,2,8</td>\n",
       "      <td>2012-12-31T00:00:00Z</td>\n",
       "      <td>...</td>\n",
       "      <td>29.0</td>\n",
       "      <td>General finance sector</td>\n",
       "      <td>14.0</td>\n",
       "      <td>Health</td>\n",
       "      <td>The development objective of the Eighth Povert...</td>\n",
       "      <td>14</td>\n",
       "      <td>Child health</td>\n",
       "      <td>14.0</td>\n",
       "      <td>General education sector</td>\n",
       "      <td>52b213b38594d8a2be17c970</td>\n",
       "    </tr>\n",
       "    <tr>\n",
       "      <td>497</td>\n",
       "      <td>[{'Name': 'Irrigation and drainage'}, {'Name':...</td>\n",
       "      <td>N</td>\n",
       "      <td>OTHER</td>\n",
       "      <td>RE</td>\n",
       "      <td>[Rural development]</td>\n",
       "      <td>0</td>\n",
       "      <td>MINISTRY OF AGRICULTURE AND PRODUCER ORGANISAT...</td>\n",
       "      <td>Second Emergency Agricultural Productivity Sup...</td>\n",
       "      <td>10,6</td>\n",
       "      <td>2014-12-31T00:00:00Z</td>\n",
       "      <td>...</td>\n",
       "      <td>35.0</td>\n",
       "      <td>Crops</td>\n",
       "      <td>NaN</td>\n",
       "      <td>NaN</td>\n",
       "      <td>NaN</td>\n",
       "      <td>100</td>\n",
       "      <td>Global food crisis response</td>\n",
       "      <td>25.0</td>\n",
       "      <td>Agricultural extension and research</td>\n",
       "      <td>52b213b38594d8a2be17c971</td>\n",
       "    </tr>\n",
       "    <tr>\n",
       "      <td>498</td>\n",
       "      <td>[{'Name': 'Agricultural extension and research...</td>\n",
       "      <td>N</td>\n",
       "      <td>IBRD</td>\n",
       "      <td>PE</td>\n",
       "      <td>[Rural development, Rural development, Rural d...</td>\n",
       "      <td>0</td>\n",
       "      <td>INDONESIAN AGENCY FOR AGRICULTURAL RESEARCH AN...</td>\n",
       "      <td>Sustainable Management of Agricultural Researc...</td>\n",
       "      <td>10,10,10</td>\n",
       "      <td>2017-09-30T00:00:00Z</td>\n",
       "      <td>...</td>\n",
       "      <td>15.0</td>\n",
       "      <td>Public administration- Agriculture, fishing an...</td>\n",
       "      <td>NaN</td>\n",
       "      <td>NaN</td>\n",
       "      <td>The development objective of the Sustainable M...</td>\n",
       "      <td>85</td>\n",
       "      <td>Rural services and infrastructure</td>\n",
       "      <td>5.0</td>\n",
       "      <td>Agro-industry, marketing, and trade</td>\n",
       "      <td>52b213b38594d8a2be17c972</td>\n",
       "    </tr>\n",
       "    <tr>\n",
       "      <td>499</td>\n",
       "      <td>[{'Name': 'Urban Transport'}, {'Name': 'Public...</td>\n",
       "      <td>N</td>\n",
       "      <td>IDA</td>\n",
       "      <td>PE</td>\n",
       "      <td>[Urban development, Human development, Trade a...</td>\n",
       "      <td>300000000</td>\n",
       "      <td>MINISTRY OF ROADS</td>\n",
       "      <td>KENYA: NATIONAL URBAN TRANSPORT IMPROVEMENT PR...</td>\n",
       "      <td>9,8,5,4</td>\n",
       "      <td>2018-12-31T00:00:00Z</td>\n",
       "      <td>...</td>\n",
       "      <td>21.0</td>\n",
       "      <td>Public administration- Transportation</td>\n",
       "      <td>NaN</td>\n",
       "      <td>NaN</td>\n",
       "      <td>The objectives of the National Urban Transport...</td>\n",
       "      <td>1</td>\n",
       "      <td>Municipal governance and institution building</td>\n",
       "      <td>NaN</td>\n",
       "      <td>NaN</td>\n",
       "      <td>52b213b38594d8a2be17c973</td>\n",
       "    </tr>\n",
       "  </tbody>\n",
       "</table>\n",
       "<p>500 rows × 55 columns</p>\n",
       "</div>"
      ],
      "text/plain": [
       "                                                sector supplementprojectflg  \\\n",
       "0    [{'Name': 'Primary education'}, {'Name': 'Seco...                    N   \n",
       "1    [{'Name': 'Public administration- Other social...                    N   \n",
       "2    [{'Name': 'Rural and Inter-Urban Roads and Hig...                    Y   \n",
       "3                  [{'Name': 'Other social services'}]                    N   \n",
       "4    [{'Name': 'General industry and trade sector'}...                    N   \n",
       "..                                                 ...                  ...   \n",
       "495  [{'Name': 'General agriculture, fishing and fo...                    N   \n",
       "496  [{'Name': 'Central government administration'}...                    N   \n",
       "497  [{'Name': 'Irrigation and drainage'}, {'Name':...                    N   \n",
       "498  [{'Name': 'Agricultural extension and research...                    N   \n",
       "499  [{'Name': 'Urban Transport'}, {'Name': 'Public...                    N   \n",
       "\n",
       "    projectfinancialtype prodline  \\\n",
       "0                    IDA       PE   \n",
       "1                  OTHER       RE   \n",
       "2                    IDA       PE   \n",
       "3                  OTHER       RE   \n",
       "4                    IDA       PE   \n",
       "..                   ...      ...   \n",
       "495                OTHER       RE   \n",
       "496                  IDA       PE   \n",
       "497                OTHER       RE   \n",
       "498                 IBRD       PE   \n",
       "499                  IDA       PE   \n",
       "\n",
       "                                               mjtheme  idacommamt  \\\n",
       "0                                  [Human development]   130000000   \n",
       "1    [Economic management, Social protection and ri...           0   \n",
       "2    [Trade and integration, Public sector governan...     6060000   \n",
       "3    [Social dev/gender/inclusion, Social dev/gende...           0   \n",
       "4    [Trade and integration, Financial and private ...    13100000   \n",
       "..                                                 ...         ...   \n",
       "495  [Financial and private sector development, Soc...           0   \n",
       "496  [Human development, Trade and integration, Pub...    20000000   \n",
       "497                                [Rural development]           0   \n",
       "498  [Rural development, Rural development, Rural d...           0   \n",
       "499  [Urban development, Human development, Trade a...   300000000   \n",
       "\n",
       "                                             impagency  \\\n",
       "0                                MINISTRY OF EDUCATION   \n",
       "1                                  MINISTRY OF FINANCE   \n",
       "2             MINISTRY OF TRANSPORT AND COMMUNICATIONS   \n",
       "3             LABOR INTENSIVE PUBLIC WORKS PROJECT PMU   \n",
       "4                       MINISTRY OF TRADE AND INDUSTRY   \n",
       "..                                                 ...   \n",
       "495                        THE COMPETITIVENESS COMPANY   \n",
       "496                                MINISTRY OF FINANCE   \n",
       "497  MINISTRY OF AGRICULTURE AND PRODUCER ORGANISAT...   \n",
       "498  INDONESIAN AGENCY FOR AGRICULTURAL RESEARCH AN...   \n",
       "499                                  MINISTRY OF ROADS   \n",
       "\n",
       "                                          project_name mjthemecode  \\\n",
       "0    Ethiopia General Education Quality Improvement...        8,11   \n",
       "1            TN: DTF Social Protection Reforms Support         1,6   \n",
       "2    Tuvalu Aviation Investment Project - Additiona...    5,2,11,6   \n",
       "3     Gov't and Civil Society Organization Partnership         7,7   \n",
       "4    Second Private Sector Competitiveness and Econ...         5,4   \n",
       "..                                                 ...         ...   \n",
       "495  Technological Scale Up for Youth-led Urban Orn...         4,7   \n",
       "496                Lao Eight Poverty Reduction Support     8,5,2,8   \n",
       "497  Second Emergency Agricultural Productivity Sup...        10,6   \n",
       "498  Sustainable Management of Agricultural Researc...    10,10,10   \n",
       "499  KENYA: NATIONAL URBAN TRANSPORT IMPROVEMENT PR...     9,8,5,4   \n",
       "\n",
       "              closingdate  ...  sector2.Percent  \\\n",
       "0    2018-07-07T00:00:00Z  ...             26.0   \n",
       "1                     NaN  ...             30.0   \n",
       "2                     NaN  ...              NaN   \n",
       "3                     NaN  ...              NaN   \n",
       "4    2019-04-30T00:00:00Z  ...             40.0   \n",
       "..                    ...  ...              ...   \n",
       "495  2013-08-31T00:00:00Z  ...             50.0   \n",
       "496  2012-12-31T00:00:00Z  ...             29.0   \n",
       "497  2014-12-31T00:00:00Z  ...             35.0   \n",
       "498  2017-09-30T00:00:00Z  ...             15.0   \n",
       "499  2018-12-31T00:00:00Z  ...             21.0   \n",
       "\n",
       "                                          sector2.Name sector4.Percent  \\\n",
       "0                                  Secondary education            12.0   \n",
       "1                 General public administration sector             NaN   \n",
       "2                                                  NaN             NaN   \n",
       "3                                                  NaN             NaN   \n",
       "4                                       Other industry             NaN   \n",
       "..                                                 ...             ...   \n",
       "495                                Vocational training             NaN   \n",
       "496                             General finance sector            14.0   \n",
       "497                                              Crops             NaN   \n",
       "498  Public administration- Agriculture, fishing an...             NaN   \n",
       "499              Public administration- Transportation             NaN   \n",
       "\n",
       "           sector4.Name                             project_abstract.cdata  \\\n",
       "0    Tertiary education  The development objective of the Second Phase ...   \n",
       "1                   NaN                                                NaN   \n",
       "2                   NaN                                                NaN   \n",
       "3                   NaN                                                NaN   \n",
       "4                   NaN  The development objective of the Second Privat...   \n",
       "..                  ...                                                ...   \n",
       "495                 NaN                                                NaN   \n",
       "496              Health  The development objective of the Eighth Povert...   \n",
       "497                 NaN                                                NaN   \n",
       "498                 NaN  The development objective of the Sustainable M...   \n",
       "499                 NaN  The objectives of the National Urban Transport...   \n",
       "\n",
       "    theme1.Percent                                    theme1.Name  \\\n",
       "0              100                              Education for all   \n",
       "1               30                      Other economic management   \n",
       "2               46                           Regional integration   \n",
       "3               50             Participation and civic engagement   \n",
       "4               30         Export development and competitiveness   \n",
       "..             ...                                            ...   \n",
       "495             50              Regulation and competition policy   \n",
       "496             14                                   Child health   \n",
       "497            100                    Global food crisis response   \n",
       "498             85              Rural services and infrastructure   \n",
       "499              1  Municipal governance and institution building   \n",
       "\n",
       "    sector3.Percent                                  sector3.Name  \\\n",
       "0              16.0  Public administration- Other social services   \n",
       "1               NaN                                           NaN   \n",
       "2               NaN                                           NaN   \n",
       "3               NaN                                           NaN   \n",
       "4              10.0                                   SME Finance   \n",
       "..              ...                                           ...   \n",
       "495             NaN                                           NaN   \n",
       "496            14.0                      General education sector   \n",
       "497            25.0           Agricultural extension and research   \n",
       "498             5.0           Agro-industry, marketing, and trade   \n",
       "499             NaN                                           NaN   \n",
       "\n",
       "                     _id.$oid  \n",
       "0    52b213b38594d8a2be17c780  \n",
       "1    52b213b38594d8a2be17c781  \n",
       "2    52b213b38594d8a2be17c782  \n",
       "3    52b213b38594d8a2be17c783  \n",
       "4    52b213b38594d8a2be17c784  \n",
       "..                        ...  \n",
       "495  52b213b38594d8a2be17c96f  \n",
       "496  52b213b38594d8a2be17c970  \n",
       "497  52b213b38594d8a2be17c971  \n",
       "498  52b213b38594d8a2be17c972  \n",
       "499  52b213b38594d8a2be17c973  \n",
       "\n",
       "[500 rows x 55 columns]"
      ]
     },
     "execution_count": 7,
     "metadata": {},
     "output_type": "execute_result"
    }
   ],
   "source": [
    "json_normalize(wb_json)"
   ]
  },
  {
   "cell_type": "code",
   "execution_count": 8,
   "metadata": {
    "colab": {
     "base_uri": "https://localhost:8080/",
     "height": 952
    },
    "colab_type": "code",
    "id": "Ju5EmuSVQz5y",
    "outputId": "2ec04a6c-891b-4f19-d62a-dba1a14b3c3d"
   },
   "outputs": [
    {
     "name": "stdout",
     "output_type": "stream",
     "text": [
      "<class 'pandas.core.frame.DataFrame'>\n",
      "RangeIndex: 500 entries, 0 to 499\n",
      "Data columns (total 50 columns):\n",
      "sector                      500 non-null object\n",
      "supplementprojectflg        498 non-null object\n",
      "projectfinancialtype        500 non-null object\n",
      "prodline                    500 non-null object\n",
      "mjtheme                     491 non-null object\n",
      "idacommamt                  500 non-null int64\n",
      "impagency                   472 non-null object\n",
      "project_name                500 non-null object\n",
      "mjthemecode                 500 non-null object\n",
      "closingdate                 370 non-null object\n",
      "totalcommamt                500 non-null int64\n",
      "id                          500 non-null object\n",
      "mjsector_namecode           500 non-null object\n",
      "docty                       446 non-null object\n",
      "sector1                     500 non-null object\n",
      "lendinginstr                495 non-null object\n",
      "countrycode                 500 non-null object\n",
      "sector2                     380 non-null object\n",
      "totalamt                    500 non-null int64\n",
      "mjtheme_namecode            500 non-null object\n",
      "boardapprovaldate           500 non-null object\n",
      "countryshortname            500 non-null object\n",
      "sector4                     174 non-null object\n",
      "prodlinetext                500 non-null object\n",
      "productlinetype             500 non-null object\n",
      "regionname                  500 non-null object\n",
      "status                      500 non-null object\n",
      "country_namecode            500 non-null object\n",
      "envassesmentcategorycode    430 non-null object\n",
      "project_abstract            362 non-null object\n",
      "approvalfy                  500 non-null int64\n",
      "projectdocs                 446 non-null object\n",
      "lendprojectcost             500 non-null int64\n",
      "lendinginstrtype            495 non-null object\n",
      "theme1                      500 non-null object\n",
      "grantamt                    500 non-null int64\n",
      "themecode                   491 non-null object\n",
      "borrower                    485 non-null object\n",
      "sectorcode                  500 non-null object\n",
      "sector3                     265 non-null object\n",
      "majorsector_percent         500 non-null object\n",
      "board_approval_month        500 non-null object\n",
      "theme_namecode              491 non-null object\n",
      "countryname                 500 non-null object\n",
      "url                         500 non-null object\n",
      "source                      500 non-null object\n",
      "projectstatusdisplay        500 non-null object\n",
      "ibrdcommamt                 500 non-null int64\n",
      "sector_namecode             500 non-null object\n",
      "_id                         500 non-null object\n",
      "dtypes: int64(7), object(43)\n",
      "memory usage: 195.4+ KB\n"
     ]
    }
   ],
   "source": [
    "wb_df=pd.read_json(json_file)\n",
    "wb_df.info()"
   ]
  },
  {
   "cell_type": "markdown",
   "metadata": {
    "colab_type": "text",
    "id": "xEyLEiBASqXO"
   },
   "source": [
    "****\n",
    "## JSON exercise\n",
    "\n",
    "Using the 'world_bank_projects.json',\n",
    "1. Find the 10 countries with most projects\n",
    "2. Find the top 10 major project themes (using column 'mjtheme_namecode')\n",
    "3. In 2. above you will notice that some entries have only the code and the name is missing. Create a dataframe with the missing names filled in."
   ]
  },
  {
   "cell_type": "markdown",
   "metadata": {
    "colab_type": "text",
    "id": "pJzZe7mbTCme"
   },
   "source": [
    "## 10 countries with most projects"
   ]
  },
  {
   "cell_type": "code",
   "execution_count": 9,
   "metadata": {
    "colab": {
     "base_uri": "https://localhost:8080/",
     "height": 1000
    },
    "colab_type": "code",
    "id": "0L6cpFFvRnpi",
    "outputId": "15ddbc6f-67a7-4896-c757-80e16155a842"
   },
   "outputs": [
    {
     "data": {
      "text/plain": [
       "<bound method IndexOpsMixin.value_counts of 0      Federal Democratic Republic of Ethiopia\n",
       "1                          Republic of Tunisia\n",
       "2                                       Tuvalu\n",
       "3                            Republic of Yemen\n",
       "4                           Kingdom of Lesotho\n",
       "                        ...                   \n",
       "495                                    Jamaica\n",
       "496           Lao People's Democratic Republic\n",
       "497                         Republic of Guinea\n",
       "498                      Republic of Indonesia\n",
       "499                          Republic of Kenya\n",
       "Name: countryname, Length: 500, dtype: object>"
      ]
     },
     "execution_count": 9,
     "metadata": {},
     "output_type": "execute_result"
    }
   ],
   "source": [
    "wb_df['countryname'].value_counts"
   ]
  },
  {
   "cell_type": "code",
   "execution_count": 10,
   "metadata": {
    "colab": {
     "base_uri": "https://localhost:8080/",
     "height": 136
    },
    "colab_type": "code",
    "id": "3rfwiDJET5oL",
    "outputId": "5482566e-4ddb-4077-cda2-77ea7656d21d"
   },
   "outputs": [
    {
     "data": {
      "text/plain": [
       "countryname\n",
       "Africa                    11\n",
       "Antigua and Barbuda        1\n",
       "Arab Republic of Egypt     2\n",
       "Argentine Republic         2\n",
       "Bosnia and Herzegovina     1\n",
       "Name: project_name, dtype: int64"
      ]
     },
     "execution_count": 10,
     "metadata": {},
     "output_type": "execute_result"
    }
   ],
   "source": [
    "projects=wb_df.groupby('countryname')['project_name'].count()\n",
    "projects.head()"
   ]
  },
  {
   "cell_type": "code",
   "execution_count": 11,
   "metadata": {
    "colab": {
     "base_uri": "https://localhost:8080/",
     "height": 221
    },
    "colab_type": "code",
    "id": "afj3gWERVMmH",
    "outputId": "ba8afa16-ce03-46e9-cc85-9f3f4f16d309"
   },
   "outputs": [
    {
     "name": "stdout",
     "output_type": "stream",
     "text": [
      "The top 10 countries for projects are:  countryname\n",
      "People's Republic of China         19\n",
      "Republic of Indonesia              19\n",
      "Socialist Republic of Vietnam      17\n",
      "Republic of India                  16\n",
      "Republic of Yemen                  13\n",
      "Nepal                              12\n",
      "People's Republic of Bangladesh    12\n",
      "Kingdom of Morocco                 12\n",
      "Africa                             11\n",
      "Republic of Mozambique             11\n",
      "Name: project_name, dtype: int64\n"
     ]
    }
   ],
   "source": [
    "#Top 10 countries for most projects are ... wait for it:\n",
    "projects_sorted=projects.sort_values(ascending=False)\n",
    "top10_c=projects_sorted.head(10)\n",
    "print('The top 10 countries for projects are: ', top10_c)"
   ]
  },
  {
   "cell_type": "code",
   "execution_count": 12,
   "metadata": {
    "colab": {},
    "colab_type": "code",
    "id": "pugNm_ajp1Jt",
    "outputId": "af635fbd-f5e6-48b1-b403-b177c11592c6"
   },
   "outputs": [
    {
     "data": {
      "text/plain": [
       "Text(0.5, 0, 'Country Name')"
      ]
     },
     "execution_count": 12,
     "metadata": {},
     "output_type": "execute_result"
    },
    {
     "data": {
      "image/png": "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\n",
      "text/plain": [
       "<Figure size 432x288 with 1 Axes>"
      ]
     },
     "metadata": {
      "needs_background": "light"
     },
     "output_type": "display_data"
    }
   ],
   "source": [
    "top10_c.plot(kind='bar', title='Top 10 Countries for Most World Bank Projects', color=['C0', 'C1', 'C2', 'C3', 'C4', 'C5', 'C6', 'C7', 'C8', 'C9'])\n",
    "plt.ylabel('Number of WB Projects')\n",
    "plt.xlabel ('Country Name')"
   ]
  },
  {
   "cell_type": "markdown",
   "metadata": {
    "colab_type": "text",
    "id": "KduORd9TfGmi"
   },
   "source": [
    "#Africa is not a country and its in the list. Not sure if this needs to be removed and rerun. I will wait until further comment. "
   ]
  },
  {
   "cell_type": "markdown",
   "metadata": {
    "colab_type": "text",
    "id": "WY5ovxEyfKAL"
   },
   "source": [
    "## 10 major project themes"
   ]
  },
  {
   "cell_type": "code",
   "execution_count": 13,
   "metadata": {
    "colab": {},
    "colab_type": "code",
    "id": "V0DBJJsqcOvL"
   },
   "outputs": [],
   "source": [
    "theme=wb_df['mjtheme_namecode']"
   ]
  },
  {
   "cell_type": "code",
   "execution_count": 14,
   "metadata": {
    "colab": {
     "base_uri": "https://localhost:8080/",
     "height": 102
    },
    "colab_type": "code",
    "id": "_vxJv-rneteX",
    "outputId": "47690ab2-949c-43a7-9ce7-052d50b41ea5"
   },
   "outputs": [
    {
     "data": {
      "text/plain": [
       "0    [{'code': '8', 'name': 'Human development'}, {...\n",
       "1    [{'code': '1', 'name': 'Economic management'},...\n",
       "2    [{'code': '5', 'name': 'Trade and integration'...\n",
       "3    [{'code': '7', 'name': 'Social dev/gender/incl...\n",
       "Name: mjtheme_namecode, dtype: object"
      ]
     },
     "execution_count": 14,
     "metadata": {},
     "output_type": "execute_result"
    }
   ],
   "source": [
    "theme[0:4]"
   ]
  },
  {
   "cell_type": "markdown",
   "metadata": {
    "colab_type": "text",
    "id": "F60l-NhAOSOX"
   },
   "source": [
    "It looks like 'mjtheme_namecode' is a nested dictionary presented as a list. I will need to convert it to a string to make it analyis friendly. "
   ]
  },
  {
   "cell_type": "code",
   "execution_count": 15,
   "metadata": {
    "colab": {
     "base_uri": "https://localhost:8080/",
     "height": 34
    },
    "colab_type": "code",
    "id": "4UQUY9ZoSM3Y",
    "outputId": "c4cab3e6-5764-4ace-f67f-70d3cce74161"
   },
   "outputs": [
    {
     "data": {
      "text/plain": [
       "pandas.core.series.Series"
      ]
     },
     "execution_count": 15,
     "metadata": {},
     "output_type": "execute_result"
    }
   ],
   "source": [
    "type(theme)"
   ]
  },
  {
   "cell_type": "code",
   "execution_count": 16,
   "metadata": {
    "colab": {},
    "colab_type": "code",
    "id": "qQGhCcCnFkz2"
   },
   "outputs": [],
   "source": [
    "theme_l_list=theme.tolist()"
   ]
  },
  {
   "cell_type": "code",
   "execution_count": 17,
   "metadata": {
    "colab": {
     "base_uri": "https://localhost:8080/",
     "height": 68
    },
    "colab_type": "code",
    "id": "jM6S9RIZIaF5",
    "outputId": "f0547e7e-b592-421e-d317-6226f891f93c"
   },
   "outputs": [
    {
     "data": {
      "text/plain": [
       "[[{'code': '8', 'name': 'Human development'}, {'code': '11', 'name': ''}],\n",
       " [{'code': '1', 'name': 'Economic management'},\n",
       "  {'code': '6', 'name': 'Social protection and risk management'}]]"
      ]
     },
     "execution_count": 17,
     "metadata": {},
     "output_type": "execute_result"
    }
   ],
   "source": [
    "theme_l_list[0:2]"
   ]
  },
  {
   "cell_type": "code",
   "execution_count": 18,
   "metadata": {
    "colab": {},
    "colab_type": "code",
    "id": "lF54FxDbT4Mw"
   },
   "outputs": [],
   "source": [
    "theme_list=[j for i in theme_l_list for j in i]"
   ]
  },
  {
   "cell_type": "code",
   "execution_count": 19,
   "metadata": {
    "colab": {
     "base_uri": "https://localhost:8080/",
     "height": 102
    },
    "colab_type": "code",
    "id": "jjeGzQLxUb66",
    "outputId": "c073ba4d-2a9b-4681-f884-79c6c038aaeb"
   },
   "outputs": [
    {
     "data": {
      "text/plain": [
       "[{'code': '8', 'name': 'Human development'},\n",
       " {'code': '11', 'name': ''},\n",
       " {'code': '1', 'name': 'Economic management'},\n",
       " {'code': '6', 'name': 'Social protection and risk management'},\n",
       " {'code': '5', 'name': 'Trade and integration'}]"
      ]
     },
     "execution_count": 19,
     "metadata": {},
     "output_type": "execute_result"
    }
   ],
   "source": [
    "theme_list[0:5]"
   ]
  },
  {
   "cell_type": "code",
   "execution_count": 20,
   "metadata": {
    "colab": {},
    "colab_type": "code",
    "id": "ztCtUyBZZPeP"
   },
   "outputs": [],
   "source": [
    "df_theme=pd.DataFrame(theme_list)"
   ]
  },
  {
   "cell_type": "code",
   "execution_count": 21,
   "metadata": {
    "colab": {
     "base_uri": "https://localhost:8080/",
     "height": 204
    },
    "colab_type": "code",
    "id": "XCx1UUX-belG",
    "outputId": "080404cb-c56f-462b-ea66-560651c5ef74"
   },
   "outputs": [
    {
     "data": {
      "text/html": [
       "<div>\n",
       "<style scoped>\n",
       "    .dataframe tbody tr th:only-of-type {\n",
       "        vertical-align: middle;\n",
       "    }\n",
       "\n",
       "    .dataframe tbody tr th {\n",
       "        vertical-align: top;\n",
       "    }\n",
       "\n",
       "    .dataframe thead th {\n",
       "        text-align: right;\n",
       "    }\n",
       "</style>\n",
       "<table border=\"1\" class=\"dataframe\">\n",
       "  <thead>\n",
       "    <tr style=\"text-align: right;\">\n",
       "      <th></th>\n",
       "      <th>code</th>\n",
       "      <th>name</th>\n",
       "    </tr>\n",
       "  </thead>\n",
       "  <tbody>\n",
       "    <tr>\n",
       "      <td>0</td>\n",
       "      <td>8</td>\n",
       "      <td>Human development</td>\n",
       "    </tr>\n",
       "    <tr>\n",
       "      <td>1</td>\n",
       "      <td>11</td>\n",
       "      <td></td>\n",
       "    </tr>\n",
       "    <tr>\n",
       "      <td>2</td>\n",
       "      <td>1</td>\n",
       "      <td>Economic management</td>\n",
       "    </tr>\n",
       "    <tr>\n",
       "      <td>3</td>\n",
       "      <td>6</td>\n",
       "      <td>Social protection and risk management</td>\n",
       "    </tr>\n",
       "    <tr>\n",
       "      <td>4</td>\n",
       "      <td>5</td>\n",
       "      <td>Trade and integration</td>\n",
       "    </tr>\n",
       "  </tbody>\n",
       "</table>\n",
       "</div>"
      ],
      "text/plain": [
       "  code                                   name\n",
       "0    8                      Human development\n",
       "1   11                                       \n",
       "2    1                    Economic management\n",
       "3    6  Social protection and risk management\n",
       "4    5                  Trade and integration"
      ]
     },
     "execution_count": 21,
     "metadata": {},
     "output_type": "execute_result"
    }
   ],
   "source": [
    "df_theme.head()\n"
   ]
  },
  {
   "cell_type": "code",
   "execution_count": 22,
   "metadata": {
    "colab": {},
    "colab_type": "code",
    "id": "j_qazXhpb6w2"
   },
   "outputs": [],
   "source": [
    "#change variable name to make it readable\n",
    "#df_x=df_theme.groupby(['Project_theme_code', 'Project_theme_name'])\n",
    "df_theme.columns=['Project_theme_code', 'Project_theme_name'] "
   ]
  },
  {
   "cell_type": "code",
   "execution_count": 23,
   "metadata": {
    "colab": {
     "base_uri": "https://localhost:8080/",
     "height": 204
    },
    "colab_type": "code",
    "id": "QhJE9rsjcCVv",
    "outputId": "50507cfe-78f1-422c-fdc1-1a53010292ff"
   },
   "outputs": [
    {
     "data": {
      "text/html": [
       "<div>\n",
       "<style scoped>\n",
       "    .dataframe tbody tr th:only-of-type {\n",
       "        vertical-align: middle;\n",
       "    }\n",
       "\n",
       "    .dataframe tbody tr th {\n",
       "        vertical-align: top;\n",
       "    }\n",
       "\n",
       "    .dataframe thead th {\n",
       "        text-align: right;\n",
       "    }\n",
       "</style>\n",
       "<table border=\"1\" class=\"dataframe\">\n",
       "  <thead>\n",
       "    <tr style=\"text-align: right;\">\n",
       "      <th></th>\n",
       "      <th>Project_theme_code</th>\n",
       "      <th>Project_theme_name</th>\n",
       "    </tr>\n",
       "  </thead>\n",
       "  <tbody>\n",
       "    <tr>\n",
       "      <td>0</td>\n",
       "      <td>8</td>\n",
       "      <td>Human development</td>\n",
       "    </tr>\n",
       "    <tr>\n",
       "      <td>1</td>\n",
       "      <td>11</td>\n",
       "      <td></td>\n",
       "    </tr>\n",
       "    <tr>\n",
       "      <td>2</td>\n",
       "      <td>1</td>\n",
       "      <td>Economic management</td>\n",
       "    </tr>\n",
       "    <tr>\n",
       "      <td>3</td>\n",
       "      <td>6</td>\n",
       "      <td>Social protection and risk management</td>\n",
       "    </tr>\n",
       "    <tr>\n",
       "      <td>4</td>\n",
       "      <td>5</td>\n",
       "      <td>Trade and integration</td>\n",
       "    </tr>\n",
       "  </tbody>\n",
       "</table>\n",
       "</div>"
      ],
      "text/plain": [
       "  Project_theme_code                     Project_theme_name\n",
       "0                  8                      Human development\n",
       "1                 11                                       \n",
       "2                  1                    Economic management\n",
       "3                  6  Social protection and risk management\n",
       "4                  5                  Trade and integration"
      ]
     },
     "execution_count": 23,
     "metadata": {},
     "output_type": "execute_result"
    }
   ],
   "source": [
    "df_theme.head()"
   ]
  },
  {
   "cell_type": "code",
   "execution_count": 24,
   "metadata": {
    "colab": {},
    "colab_type": "code",
    "id": "VkKmFbkneSeC"
   },
   "outputs": [],
   "source": [
    "df_theme_g=df_theme.groupby(['Project_theme_code','Project_theme_name']).size().reset_index().rename(columns={0:'count'}) "
   ]
  },
  {
   "cell_type": "code",
   "execution_count": 25,
   "metadata": {
    "colab": {
     "base_uri": "https://localhost:8080/",
     "height": 731
    },
    "colab_type": "code",
    "id": "Df9PSsYOgym1",
    "outputId": "16779685-b46b-4b4f-94a3-0146a197499a"
   },
   "outputs": [
    {
     "data": {
      "text/html": [
       "<div>\n",
       "<style scoped>\n",
       "    .dataframe tbody tr th:only-of-type {\n",
       "        vertical-align: middle;\n",
       "    }\n",
       "\n",
       "    .dataframe tbody tr th {\n",
       "        vertical-align: top;\n",
       "    }\n",
       "\n",
       "    .dataframe thead th {\n",
       "        text-align: right;\n",
       "    }\n",
       "</style>\n",
       "<table border=\"1\" class=\"dataframe\">\n",
       "  <thead>\n",
       "    <tr style=\"text-align: right;\">\n",
       "      <th></th>\n",
       "      <th>Project_theme_code</th>\n",
       "      <th>Project_theme_name</th>\n",
       "      <th>count</th>\n",
       "    </tr>\n",
       "  </thead>\n",
       "  <tbody>\n",
       "    <tr>\n",
       "      <td>0</td>\n",
       "      <td>1</td>\n",
       "      <td></td>\n",
       "      <td>5</td>\n",
       "    </tr>\n",
       "    <tr>\n",
       "      <td>1</td>\n",
       "      <td>1</td>\n",
       "      <td>Economic management</td>\n",
       "      <td>33</td>\n",
       "    </tr>\n",
       "    <tr>\n",
       "      <td>2</td>\n",
       "      <td>10</td>\n",
       "      <td></td>\n",
       "      <td>14</td>\n",
       "    </tr>\n",
       "    <tr>\n",
       "      <td>3</td>\n",
       "      <td>10</td>\n",
       "      <td>Rural development</td>\n",
       "      <td>202</td>\n",
       "    </tr>\n",
       "    <tr>\n",
       "      <td>4</td>\n",
       "      <td>11</td>\n",
       "      <td></td>\n",
       "      <td>27</td>\n",
       "    </tr>\n",
       "    <tr>\n",
       "      <td>5</td>\n",
       "      <td>11</td>\n",
       "      <td>Environment and natural resources management</td>\n",
       "      <td>223</td>\n",
       "    </tr>\n",
       "    <tr>\n",
       "      <td>6</td>\n",
       "      <td>2</td>\n",
       "      <td></td>\n",
       "      <td>15</td>\n",
       "    </tr>\n",
       "    <tr>\n",
       "      <td>7</td>\n",
       "      <td>2</td>\n",
       "      <td>Public sector governance</td>\n",
       "      <td>184</td>\n",
       "    </tr>\n",
       "    <tr>\n",
       "      <td>8</td>\n",
       "      <td>3</td>\n",
       "      <td></td>\n",
       "      <td>3</td>\n",
       "    </tr>\n",
       "    <tr>\n",
       "      <td>9</td>\n",
       "      <td>3</td>\n",
       "      <td>Rule of law</td>\n",
       "      <td>12</td>\n",
       "    </tr>\n",
       "    <tr>\n",
       "      <td>10</td>\n",
       "      <td>4</td>\n",
       "      <td></td>\n",
       "      <td>16</td>\n",
       "    </tr>\n",
       "    <tr>\n",
       "      <td>11</td>\n",
       "      <td>4</td>\n",
       "      <td>Financial and private sector development</td>\n",
       "      <td>130</td>\n",
       "    </tr>\n",
       "    <tr>\n",
       "      <td>12</td>\n",
       "      <td>5</td>\n",
       "      <td></td>\n",
       "      <td>5</td>\n",
       "    </tr>\n",
       "    <tr>\n",
       "      <td>13</td>\n",
       "      <td>5</td>\n",
       "      <td>Trade and integration</td>\n",
       "      <td>72</td>\n",
       "    </tr>\n",
       "    <tr>\n",
       "      <td>14</td>\n",
       "      <td>6</td>\n",
       "      <td></td>\n",
       "      <td>10</td>\n",
       "    </tr>\n",
       "    <tr>\n",
       "      <td>15</td>\n",
       "      <td>6</td>\n",
       "      <td>Social protection and risk management</td>\n",
       "      <td>158</td>\n",
       "    </tr>\n",
       "    <tr>\n",
       "      <td>16</td>\n",
       "      <td>7</td>\n",
       "      <td></td>\n",
       "      <td>11</td>\n",
       "    </tr>\n",
       "    <tr>\n",
       "      <td>17</td>\n",
       "      <td>7</td>\n",
       "      <td>Social dev/gender/inclusion</td>\n",
       "      <td>119</td>\n",
       "    </tr>\n",
       "    <tr>\n",
       "      <td>18</td>\n",
       "      <td>8</td>\n",
       "      <td></td>\n",
       "      <td>13</td>\n",
       "    </tr>\n",
       "    <tr>\n",
       "      <td>19</td>\n",
       "      <td>8</td>\n",
       "      <td>Human development</td>\n",
       "      <td>197</td>\n",
       "    </tr>\n",
       "    <tr>\n",
       "      <td>20</td>\n",
       "      <td>9</td>\n",
       "      <td></td>\n",
       "      <td>3</td>\n",
       "    </tr>\n",
       "    <tr>\n",
       "      <td>21</td>\n",
       "      <td>9</td>\n",
       "      <td>Urban development</td>\n",
       "      <td>47</td>\n",
       "    </tr>\n",
       "  </tbody>\n",
       "</table>\n",
       "</div>"
      ],
      "text/plain": [
       "   Project_theme_code                            Project_theme_name  count\n",
       "0                   1                                                    5\n",
       "1                   1                           Economic management     33\n",
       "2                  10                                                   14\n",
       "3                  10                             Rural development    202\n",
       "4                  11                                                   27\n",
       "5                  11  Environment and natural resources management    223\n",
       "6                   2                                                   15\n",
       "7                   2                      Public sector governance    184\n",
       "8                   3                                                    3\n",
       "9                   3                                   Rule of law     12\n",
       "10                  4                                                   16\n",
       "11                  4      Financial and private sector development    130\n",
       "12                  5                                                    5\n",
       "13                  5                         Trade and integration     72\n",
       "14                  6                                                   10\n",
       "15                  6         Social protection and risk management    158\n",
       "16                  7                                                   11\n",
       "17                  7                   Social dev/gender/inclusion    119\n",
       "18                  8                                                   13\n",
       "19                  8                             Human development    197\n",
       "20                  9                                                    3\n",
       "21                  9                             Urban development     47"
      ]
     },
     "execution_count": 25,
     "metadata": {},
     "output_type": "execute_result"
    }
   ],
   "source": [
    "df_theme_g"
   ]
  },
  {
   "cell_type": "code",
   "execution_count": 26,
   "metadata": {
    "colab": {},
    "colab_type": "code",
    "id": "VZMHrjsChiLP"
   },
   "outputs": [],
   "source": [
    "df_theme_sorted=df_theme_g.sort_values('count', ascending=False)"
   ]
  },
  {
   "cell_type": "code",
   "execution_count": 27,
   "metadata": {
    "colab": {
     "base_uri": "https://localhost:8080/",
     "height": 359
    },
    "colab_type": "code",
    "id": "2g7SSiLUhtbC",
    "outputId": "2ce23a52-816e-4301-cb2d-4897fb05704d"
   },
   "outputs": [
    {
     "name": "stdout",
     "output_type": "stream",
     "text": [
      "   Project_theme_code                            Project_theme_name  count\n",
      "5                  11  Environment and natural resources management    223\n",
      "3                  10                             Rural development    202\n",
      "19                  8                             Human development    197\n",
      "7                   2                      Public sector governance    184\n",
      "15                  6         Social protection and risk management    158\n",
      "11                  4      Financial and private sector development    130\n",
      "17                  7                   Social dev/gender/inclusion    119\n",
      "13                  5                         Trade and integration     72\n",
      "21                  9                             Urban development     47\n",
      "1                   1                           Economic management     33\n"
     ]
    }
   ],
   "source": [
    "#The top 10 major project themes are: \n",
    "top10_pt=df_theme_sorted.head(10)\n",
    "print(top10_pt)"
   ]
  },
  {
   "cell_type": "code",
   "execution_count": 28,
   "metadata": {
    "colab": {},
    "colab_type": "code",
    "id": "Ghqv1etvp1Mk",
    "outputId": "12851f23-27ff-435a-cd0d-72981f9bb180"
   },
   "outputs": [
    {
     "data": {
      "text/plain": [
       "Text(0.5, 0, 'WB Project Themes')"
      ]
     },
     "execution_count": 28,
     "metadata": {},
     "output_type": "execute_result"
    },
    {
     "data": {
      "image/png": "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\n",
      "text/plain": [
       "<Figure size 432x288 with 1 Axes>"
      ]
     },
     "metadata": {
      "needs_background": "light"
     },
     "output_type": "display_data"
    }
   ],
   "source": [
    "top10_pt.plot(x='Project_theme_name', y='count', kind='bar', legend=None, title='Top 10 major Project Themes', color=['C0', 'C1', 'C2', 'C3', 'C4', 'C5', 'C6', 'C7', 'C8', 'C9'])\n",
    "plt.ylabel('Number of WB Projects')\n",
    "plt.xlabel ('WB Project Themes')"
   ]
  },
  {
   "cell_type": "markdown",
   "metadata": {
    "colab_type": "text",
    "id": "xo7kQs54qXXz"
   },
   "source": [
    "## Create a dataframe with the missing names filled in."
   ]
  },
  {
   "cell_type": "code",
   "execution_count": 29,
   "metadata": {
    "colab": {
     "base_uri": "https://localhost:8080/",
     "height": 136
    },
    "colab_type": "code",
    "id": "f__gtiOOlL2i",
    "outputId": "1b6770e6-7272-4c7b-c765-7515363fb28f"
   },
   "outputs": [
    {
     "name": "stdout",
     "output_type": "stream",
     "text": [
      "<class 'pandas.core.frame.DataFrame'>\n",
      "RangeIndex: 1499 entries, 0 to 1498\n",
      "Data columns (total 2 columns):\n",
      "Project_theme_code    1499 non-null object\n",
      "Project_theme_name    1499 non-null object\n",
      "dtypes: object(2)\n",
      "memory usage: 23.5+ KB\n"
     ]
    }
   ],
   "source": [
    "df_theme.info()"
   ]
  },
  {
   "cell_type": "code",
   "execution_count": 30,
   "metadata": {
    "colab": {
     "base_uri": "https://localhost:8080/",
     "height": 1000
    },
    "colab_type": "code",
    "id": "YgUwaiRSnVot",
    "outputId": "4d065878-d8b5-45a6-c241-2e3bfdfbd1d9"
   },
   "outputs": [
    {
     "data": {
      "text/html": [
       "<div>\n",
       "<style scoped>\n",
       "    .dataframe tbody tr th:only-of-type {\n",
       "        vertical-align: middle;\n",
       "    }\n",
       "\n",
       "    .dataframe tbody tr th {\n",
       "        vertical-align: top;\n",
       "    }\n",
       "\n",
       "    .dataframe thead th {\n",
       "        text-align: right;\n",
       "    }\n",
       "</style>\n",
       "<table border=\"1\" class=\"dataframe\">\n",
       "  <thead>\n",
       "    <tr style=\"text-align: right;\">\n",
       "      <th></th>\n",
       "      <th>Project_theme_code</th>\n",
       "      <th>Project_theme_name</th>\n",
       "    </tr>\n",
       "  </thead>\n",
       "  <tbody>\n",
       "    <tr>\n",
       "      <td>0</td>\n",
       "      <td>8</td>\n",
       "      <td>Human development</td>\n",
       "    </tr>\n",
       "    <tr>\n",
       "      <td>1</td>\n",
       "      <td>11</td>\n",
       "      <td>NaN</td>\n",
       "    </tr>\n",
       "    <tr>\n",
       "      <td>2</td>\n",
       "      <td>1</td>\n",
       "      <td>Economic management</td>\n",
       "    </tr>\n",
       "    <tr>\n",
       "      <td>3</td>\n",
       "      <td>6</td>\n",
       "      <td>Social protection and risk management</td>\n",
       "    </tr>\n",
       "    <tr>\n",
       "      <td>4</td>\n",
       "      <td>5</td>\n",
       "      <td>Trade and integration</td>\n",
       "    </tr>\n",
       "    <tr>\n",
       "      <td>...</td>\n",
       "      <td>...</td>\n",
       "      <td>...</td>\n",
       "    </tr>\n",
       "    <tr>\n",
       "      <td>1494</td>\n",
       "      <td>10</td>\n",
       "      <td>Rural development</td>\n",
       "    </tr>\n",
       "    <tr>\n",
       "      <td>1495</td>\n",
       "      <td>9</td>\n",
       "      <td>Urban development</td>\n",
       "    </tr>\n",
       "    <tr>\n",
       "      <td>1496</td>\n",
       "      <td>8</td>\n",
       "      <td>Human development</td>\n",
       "    </tr>\n",
       "    <tr>\n",
       "      <td>1497</td>\n",
       "      <td>5</td>\n",
       "      <td>Trade and integration</td>\n",
       "    </tr>\n",
       "    <tr>\n",
       "      <td>1498</td>\n",
       "      <td>4</td>\n",
       "      <td>Financial and private sector development</td>\n",
       "    </tr>\n",
       "  </tbody>\n",
       "</table>\n",
       "<p>1499 rows × 2 columns</p>\n",
       "</div>"
      ],
      "text/plain": [
       "     Project_theme_code                        Project_theme_name\n",
       "0                     8                         Human development\n",
       "1                    11                                       NaN\n",
       "2                     1                       Economic management\n",
       "3                     6     Social protection and risk management\n",
       "4                     5                     Trade and integration\n",
       "...                 ...                                       ...\n",
       "1494                 10                         Rural development\n",
       "1495                  9                         Urban development\n",
       "1496                  8                         Human development\n",
       "1497                  5                     Trade and integration\n",
       "1498                  4  Financial and private sector development\n",
       "\n",
       "[1499 rows x 2 columns]"
      ]
     },
     "execution_count": 30,
     "metadata": {},
     "output_type": "execute_result"
    }
   ],
   "source": [
    "theme_nan=df_theme.replace('', np.nan, regex=True)\n",
    "theme_nan\n"
   ]
  },
  {
   "cell_type": "code",
   "execution_count": 31,
   "metadata": {
    "colab": {},
    "colab_type": "code",
    "id": "fNxs8ISxnmkl"
   },
   "outputs": [],
   "source": [
    "#create dictionary of unique project theme codes and corrosponding project theme names. "
   ]
  },
  {
   "cell_type": "code",
   "execution_count": 32,
   "metadata": {
    "colab": {
     "base_uri": "https://localhost:8080/",
     "height": 390
    },
    "colab_type": "code",
    "id": "DT33wk7b1AIx",
    "outputId": "b5b9d525-c290-4d50-8b12-07ec8bec180c"
   },
   "outputs": [
    {
     "data": {
      "text/html": [
       "<div>\n",
       "<style scoped>\n",
       "    .dataframe tbody tr th:only-of-type {\n",
       "        vertical-align: middle;\n",
       "    }\n",
       "\n",
       "    .dataframe tbody tr th {\n",
       "        vertical-align: top;\n",
       "    }\n",
       "\n",
       "    .dataframe thead th {\n",
       "        text-align: right;\n",
       "    }\n",
       "</style>\n",
       "<table border=\"1\" class=\"dataframe\">\n",
       "  <thead>\n",
       "    <tr style=\"text-align: right;\">\n",
       "      <th></th>\n",
       "      <th>Project_theme_code</th>\n",
       "      <th>Project_theme_name</th>\n",
       "      <th>count</th>\n",
       "    </tr>\n",
       "  </thead>\n",
       "  <tbody>\n",
       "    <tr>\n",
       "      <td>0</td>\n",
       "      <td>1</td>\n",
       "      <td>Economic management</td>\n",
       "      <td>33</td>\n",
       "    </tr>\n",
       "    <tr>\n",
       "      <td>1</td>\n",
       "      <td>10</td>\n",
       "      <td>Rural development</td>\n",
       "      <td>202</td>\n",
       "    </tr>\n",
       "    <tr>\n",
       "      <td>2</td>\n",
       "      <td>11</td>\n",
       "      <td>Environment and natural resources management</td>\n",
       "      <td>223</td>\n",
       "    </tr>\n",
       "    <tr>\n",
       "      <td>3</td>\n",
       "      <td>2</td>\n",
       "      <td>Public sector governance</td>\n",
       "      <td>184</td>\n",
       "    </tr>\n",
       "    <tr>\n",
       "      <td>4</td>\n",
       "      <td>3</td>\n",
       "      <td>Rule of law</td>\n",
       "      <td>12</td>\n",
       "    </tr>\n",
       "    <tr>\n",
       "      <td>5</td>\n",
       "      <td>4</td>\n",
       "      <td>Financial and private sector development</td>\n",
       "      <td>130</td>\n",
       "    </tr>\n",
       "    <tr>\n",
       "      <td>6</td>\n",
       "      <td>5</td>\n",
       "      <td>Trade and integration</td>\n",
       "      <td>72</td>\n",
       "    </tr>\n",
       "    <tr>\n",
       "      <td>7</td>\n",
       "      <td>6</td>\n",
       "      <td>Social protection and risk management</td>\n",
       "      <td>158</td>\n",
       "    </tr>\n",
       "    <tr>\n",
       "      <td>8</td>\n",
       "      <td>7</td>\n",
       "      <td>Social dev/gender/inclusion</td>\n",
       "      <td>119</td>\n",
       "    </tr>\n",
       "    <tr>\n",
       "      <td>9</td>\n",
       "      <td>8</td>\n",
       "      <td>Human development</td>\n",
       "      <td>197</td>\n",
       "    </tr>\n",
       "    <tr>\n",
       "      <td>10</td>\n",
       "      <td>9</td>\n",
       "      <td>Urban development</td>\n",
       "      <td>47</td>\n",
       "    </tr>\n",
       "  </tbody>\n",
       "</table>\n",
       "</div>"
      ],
      "text/plain": [
       "   Project_theme_code                            Project_theme_name  count\n",
       "0                   1                           Economic management     33\n",
       "1                  10                             Rural development    202\n",
       "2                  11  Environment and natural resources management    223\n",
       "3                   2                      Public sector governance    184\n",
       "4                   3                                   Rule of law     12\n",
       "5                   4      Financial and private sector development    130\n",
       "6                   5                         Trade and integration     72\n",
       "7                   6         Social protection and risk management    158\n",
       "8                   7                   Social dev/gender/inclusion    119\n",
       "9                   8                             Human development    197\n",
       "10                  9                             Urban development     47"
      ]
     },
     "execution_count": 32,
     "metadata": {},
     "output_type": "execute_result"
    }
   ],
   "source": [
    "theme_unique=theme_nan.groupby(['Project_theme_code','Project_theme_name']).size().reset_index().rename(columns={0:'count'}) \n",
    "theme_unique"
   ]
  },
  {
   "cell_type": "code",
   "execution_count": 33,
   "metadata": {
    "colab": {},
    "colab_type": "code",
    "id": "j729Y7JnIRQ9"
   },
   "outputs": [],
   "source": [
    "theme_dict= {'1': 'Economic management',\n",
    "  '10': 'Rural development',\n",
    "  '11': 'Environment and natural resources management',\n",
    "  '2': 'Public sector governance',\n",
    "  '3': 'Rule of law',\n",
    "  '4': 'Financial and private sector development',\n",
    "  '5': 'Trade and integration',\n",
    "  '6': 'Social protection and risk management',\n",
    "  '7': 'Social dev/gender/inclusion',\n",
    "  '8': 'Human development',\n",
    "  '9': 'Urban development'}"
   ]
  },
  {
   "cell_type": "code",
   "execution_count": 34,
   "metadata": {
    "colab": {
     "base_uri": "https://localhost:8080/",
     "height": 204
    },
    "colab_type": "code",
    "id": "uRnzcNqp42at",
    "outputId": "ae2c5552-73c5-44b2-9b96-9c3de247ec39"
   },
   "outputs": [
    {
     "data": {
      "text/html": [
       "<div>\n",
       "<style scoped>\n",
       "    .dataframe tbody tr th:only-of-type {\n",
       "        vertical-align: middle;\n",
       "    }\n",
       "\n",
       "    .dataframe tbody tr th {\n",
       "        vertical-align: top;\n",
       "    }\n",
       "\n",
       "    .dataframe thead th {\n",
       "        text-align: right;\n",
       "    }\n",
       "</style>\n",
       "<table border=\"1\" class=\"dataframe\">\n",
       "  <thead>\n",
       "    <tr style=\"text-align: right;\">\n",
       "      <th></th>\n",
       "      <th>Project_theme_code</th>\n",
       "      <th>Project_theme_name</th>\n",
       "    </tr>\n",
       "  </thead>\n",
       "  <tbody>\n",
       "    <tr>\n",
       "      <td>0</td>\n",
       "      <td>8</td>\n",
       "      <td>Human development</td>\n",
       "    </tr>\n",
       "    <tr>\n",
       "      <td>1</td>\n",
       "      <td>11</td>\n",
       "      <td>Environment and natural resources management</td>\n",
       "    </tr>\n",
       "    <tr>\n",
       "      <td>2</td>\n",
       "      <td>1</td>\n",
       "      <td>Economic management</td>\n",
       "    </tr>\n",
       "    <tr>\n",
       "      <td>3</td>\n",
       "      <td>6</td>\n",
       "      <td>Social protection and risk management</td>\n",
       "    </tr>\n",
       "    <tr>\n",
       "      <td>4</td>\n",
       "      <td>5</td>\n",
       "      <td>Trade and integration</td>\n",
       "    </tr>\n",
       "  </tbody>\n",
       "</table>\n",
       "</div>"
      ],
      "text/plain": [
       "  Project_theme_code                            Project_theme_name\n",
       "0                  8                             Human development\n",
       "1                 11  Environment and natural resources management\n",
       "2                  1                           Economic management\n",
       "3                  6         Social protection and risk management\n",
       "4                  5                         Trade and integration"
      ]
     },
     "execution_count": 34,
     "metadata": {},
     "output_type": "execute_result"
    }
   ],
   "source": [
    "#replace NAN values using di\n",
    "df_theme['Project_theme_name'] =  df_theme['Project_theme_code'].replace(theme_dict)\n",
    "df_theme.head()"
   ]
  },
  {
   "cell_type": "code",
   "execution_count": 35,
   "metadata": {
    "colab": {
     "base_uri": "https://localhost:8080/",
     "height": 1000
    },
    "colab_type": "code",
    "id": "XDjjiaAM69YW",
    "outputId": "4ee78414-35ff-460a-ed66-99fd385e683e"
   },
   "outputs": [
    {
     "data": {
      "text/html": [
       "<div>\n",
       "<style scoped>\n",
       "    .dataframe tbody tr th:only-of-type {\n",
       "        vertical-align: middle;\n",
       "    }\n",
       "\n",
       "    .dataframe tbody tr th {\n",
       "        vertical-align: top;\n",
       "    }\n",
       "\n",
       "    .dataframe thead th {\n",
       "        text-align: right;\n",
       "    }\n",
       "</style>\n",
       "<table border=\"1\" class=\"dataframe\">\n",
       "  <thead>\n",
       "    <tr style=\"text-align: right;\">\n",
       "      <th></th>\n",
       "      <th>Project_theme_code</th>\n",
       "      <th>Project_theme_name</th>\n",
       "    </tr>\n",
       "  </thead>\n",
       "  <tbody>\n",
       "    <tr>\n",
       "      <td>0</td>\n",
       "      <td>8</td>\n",
       "      <td>Human development</td>\n",
       "    </tr>\n",
       "    <tr>\n",
       "      <td>1</td>\n",
       "      <td>11</td>\n",
       "      <td>Environment and natural resources management</td>\n",
       "    </tr>\n",
       "    <tr>\n",
       "      <td>2</td>\n",
       "      <td>1</td>\n",
       "      <td>Economic management</td>\n",
       "    </tr>\n",
       "    <tr>\n",
       "      <td>3</td>\n",
       "      <td>6</td>\n",
       "      <td>Social protection and risk management</td>\n",
       "    </tr>\n",
       "    <tr>\n",
       "      <td>4</td>\n",
       "      <td>5</td>\n",
       "      <td>Trade and integration</td>\n",
       "    </tr>\n",
       "    <tr>\n",
       "      <td>...</td>\n",
       "      <td>...</td>\n",
       "      <td>...</td>\n",
       "    </tr>\n",
       "    <tr>\n",
       "      <td>1494</td>\n",
       "      <td>10</td>\n",
       "      <td>Rural development</td>\n",
       "    </tr>\n",
       "    <tr>\n",
       "      <td>1495</td>\n",
       "      <td>9</td>\n",
       "      <td>Urban development</td>\n",
       "    </tr>\n",
       "    <tr>\n",
       "      <td>1496</td>\n",
       "      <td>8</td>\n",
       "      <td>Human development</td>\n",
       "    </tr>\n",
       "    <tr>\n",
       "      <td>1497</td>\n",
       "      <td>5</td>\n",
       "      <td>Trade and integration</td>\n",
       "    </tr>\n",
       "    <tr>\n",
       "      <td>1498</td>\n",
       "      <td>4</td>\n",
       "      <td>Financial and private sector development</td>\n",
       "    </tr>\n",
       "  </tbody>\n",
       "</table>\n",
       "<p>1499 rows × 2 columns</p>\n",
       "</div>"
      ],
      "text/plain": [
       "     Project_theme_code                            Project_theme_name\n",
       "0                     8                             Human development\n",
       "1                    11  Environment and natural resources management\n",
       "2                     1                           Economic management\n",
       "3                     6         Social protection and risk management\n",
       "4                     5                         Trade and integration\n",
       "...                 ...                                           ...\n",
       "1494                 10                             Rural development\n",
       "1495                  9                             Urban development\n",
       "1496                  8                             Human development\n",
       "1497                  5                         Trade and integration\n",
       "1498                  4      Financial and private sector development\n",
       "\n",
       "[1499 rows x 2 columns]"
      ]
     },
     "execution_count": 35,
     "metadata": {},
     "output_type": "execute_result"
    }
   ],
   "source": [
    "df_theme"
   ]
  },
  {
   "cell_type": "code",
   "execution_count": null,
   "metadata": {
    "colab": {},
    "colab_type": "code",
    "id": "j_2IU5Ab5rh2"
   },
   "outputs": [],
   "source": []
  }
 ],
 "metadata": {
  "colab": {
   "include_colab_link": true,
   "name": "abebual_json_based_data_exercise.ipynb",
   "provenance": [],
   "toc_visible": true
  },
  "kernelspec": {
   "display_name": "Python 3",
   "language": "python",
   "name": "python3"
  },
  "language_info": {
   "codemirror_mode": {
    "name": "ipython",
    "version": 3
   },
   "file_extension": ".py",
   "mimetype": "text/x-python",
   "name": "python",
   "nbconvert_exporter": "python",
   "pygments_lexer": "ipython3",
   "version": "3.7.3"
  }
 },
 "nbformat": 4,
 "nbformat_minor": 1
}
=======
  "nbformat": 4,
  "nbformat_minor": 0,
  "metadata": {
    "colab": {
      "name": "abebual_json_based_data_exercise.ipynb",
      "provenance": [],
      "toc_visible": true,
      "include_colab_link": true
    },
    "kernelspec": {
      "display_name": "Python 3",
      "language": "python",
      "name": "python3"
    },
    "language_info": {
      "codemirror_mode": {
        "name": "ipython",
        "version": 3
      },
      "file_extension": ".py",
      "mimetype": "text/x-python",
      "name": "python",
      "nbconvert_exporter": "python",
      "pygments_lexer": "ipython3",
      "version": "3.7.3"
    }
  },
  "cells": [
    {
      "cell_type": "markdown",
      "metadata": {
        "id": "view-in-github",
        "colab_type": "text"
      },
      "source": [
        "<a href=\"https://colab.research.google.com/github/abebual/JSON_Excercise/blob/master/abebual_json_based_data_exercise.ipynb\" target=\"_parent\"><img src=\"https://colab.research.google.com/assets/colab-badge.svg\" alt=\"Open In Colab\"/></a>"
      ]
    },
    {
      "cell_type": "markdown",
      "metadata": {
        "colab_type": "text",
        "id": "ywMoZXtbpo3B"
      },
      "source": [
        "# Project 1: JSON Based Data Exercise \n",
        "auther: Abebual Demilew \n",
        "****\n",
        "+ Based on the World Bank Projects List Dataset.\n",
        "+ Part of Springboard Data Science Career Track\n",
        "+ Designed to excercise with packages for dealign with JSON\n",
        "+ Data outputs are meant for learning practice, not intended for quotation.  \n",
        "****"
      ]
    },
    {
      "cell_type": "code",
      "metadata": {
        "colab_type": "code",
        "id": "QABtReVDpgSR",
        "colab": {}
      },
      "source": [
        "import os\n",
        "import pandas as pd\n",
        "import numpy as np\n",
        "import json\n",
        "from pandas.io.json import json_normalize\n",
        "import matplotlib.pyplot as plt"
      ],
      "execution_count": 0,
      "outputs": []
    },
    {
      "cell_type": "markdown",
      "metadata": {
        "colab_type": "text",
        "id": "f_Gp9HcoaRpm"
      },
      "source": [
        "This was originally done on google colab. Ignore the following code.\n"
      ]
    },
    {
      "cell_type": "code",
      "metadata": {
        "colab_type": "code",
        "id": "aw_RCEXWbCMc",
        "outputId": "f3489bc1-b645-4b27-a669-1e9bc2b8542c",
        "colab": {
          "base_uri": "https://localhost:8080/",
          "height": 34
        }
      },
      "source": [
        "'''\n",
        "#I will need to mount my Google Drive\n",
        "from google.colab import drive\n",
        "drive.mount('/content/gdrive')\n",
        "'''"
      ],
      "execution_count": 0,
      "outputs": [
        {
          "output_type": "stream",
          "text": [
            "Drive already mounted at /content/gdrive; to attempt to forcibly remount, call drive.mount(\"/content/gdrive\", force_remount=True).\n"
          ],
          "name": "stdout"
        }
      ]
    },
    {
      "cell_type": "code",
      "metadata": {
        "colab_type": "code",
        "id": "zlaxhifTbOc3",
        "outputId": "09eebce4-b4c2-470f-faf5-5e405acd9787",
        "colab": {
          "base_uri": "https://localhost:8080/",
          "height": 34
        }
      },
      "source": [
        "cwd=os.getcwd()\n",
        "cwd"
      ],
      "execution_count": 0,
      "outputs": [
        {
          "output_type": "execute_result",
          "data": {
            "text/plain": [
              "'C:\\\\Users\\\\abebu\\\\Google Drive'"
            ]
          },
          "metadata": {
            "tags": []
          },
          "execution_count": 4
        }
      ]
    },
    {
      "cell_type": "code",
      "metadata": {
        "colab_type": "code",
        "id": "hetceI9VYNmQ",
        "colab": {}
      },
      "source": [
        "# load json as string\n",
        "json_file = 'C:/Users/abebu/Google Drive/data_wrangling_json/data/world_bank_projects.json'\n",
        "with open(json_file, 'r') as wb_json:\n",
        "  json_data=json.load(wb_json)"
      ],
      "execution_count": 0,
      "outputs": []
    },
    {
      "cell_type": "code",
      "metadata": {
        "colab_type": "code",
        "id": "EqFWENFLYX2x",
        "outputId": "1d5a1b28-5bbf-4dad-8a96-9123e1bb3df0",
        "colab": {
          "base_uri": "https://localhost:8080/",
          "height": 34
        }
      },
      "source": [
        "type(json_data)"
      ],
      "execution_count": 0,
      "outputs": [
        {
          "output_type": "execute_result",
          "data": {
            "text/plain": [
              "list"
            ]
          },
          "metadata": {
            "tags": []
          },
          "execution_count": 8
        }
      ]
    },
    {
      "cell_type": "code",
      "metadata": {
        "colab_type": "code",
        "id": "SIMD8S_ODc3b",
        "colab": {}
      },
      "source": [
        "wb_json=json.load((open(json_file)))"
      ],
      "execution_count": 0,
      "outputs": []
    },
    {
      "cell_type": "code",
      "metadata": {
        "colab_type": "code",
        "id": "m3dR25FpRxLv",
        "outputId": "24318834-0b8c-4c5d-f127-375adc342b73",
        "colab": {
          "base_uri": "https://localhost:8080/",
          "height": 1000
        }
      },
      "source": [
        "json_normalize(wb_json)"
      ],
      "execution_count": 0,
      "outputs": [
        {
          "output_type": "execute_result",
          "data": {
            "text/html": [
              "<div>\n",
              "<style scoped>\n",
              "    .dataframe tbody tr th:only-of-type {\n",
              "        vertical-align: middle;\n",
              "    }\n",
              "\n",
              "    .dataframe tbody tr th {\n",
              "        vertical-align: top;\n",
              "    }\n",
              "\n",
              "    .dataframe thead th {\n",
              "        text-align: right;\n",
              "    }\n",
              "</style>\n",
              "<table border=\"1\" class=\"dataframe\">\n",
              "  <thead>\n",
              "    <tr style=\"text-align: right;\">\n",
              "      <th></th>\n",
              "      <th>sector</th>\n",
              "      <th>supplementprojectflg</th>\n",
              "      <th>projectfinancialtype</th>\n",
              "      <th>prodline</th>\n",
              "      <th>mjtheme</th>\n",
              "      <th>idacommamt</th>\n",
              "      <th>impagency</th>\n",
              "      <th>project_name</th>\n",
              "      <th>mjthemecode</th>\n",
              "      <th>closingdate</th>\n",
              "      <th>...</th>\n",
              "      <th>sector2.Percent</th>\n",
              "      <th>sector2.Name</th>\n",
              "      <th>sector4.Percent</th>\n",
              "      <th>sector4.Name</th>\n",
              "      <th>project_abstract.cdata</th>\n",
              "      <th>theme1.Percent</th>\n",
              "      <th>theme1.Name</th>\n",
              "      <th>sector3.Percent</th>\n",
              "      <th>sector3.Name</th>\n",
              "      <th>_id.$oid</th>\n",
              "    </tr>\n",
              "  </thead>\n",
              "  <tbody>\n",
              "    <tr>\n",
              "      <td>0</td>\n",
              "      <td>[{'Name': 'Primary education'}, {'Name': 'Seco...</td>\n",
              "      <td>N</td>\n",
              "      <td>IDA</td>\n",
              "      <td>PE</td>\n",
              "      <td>[Human development]</td>\n",
              "      <td>130000000</td>\n",
              "      <td>MINISTRY OF EDUCATION</td>\n",
              "      <td>Ethiopia General Education Quality Improvement...</td>\n",
              "      <td>8,11</td>\n",
              "      <td>2018-07-07T00:00:00Z</td>\n",
              "      <td>...</td>\n",
              "      <td>26.0</td>\n",
              "      <td>Secondary education</td>\n",
              "      <td>12.0</td>\n",
              "      <td>Tertiary education</td>\n",
              "      <td>The development objective of the Second Phase ...</td>\n",
              "      <td>100</td>\n",
              "      <td>Education for all</td>\n",
              "      <td>16.0</td>\n",
              "      <td>Public administration- Other social services</td>\n",
              "      <td>52b213b38594d8a2be17c780</td>\n",
              "    </tr>\n",
              "    <tr>\n",
              "      <td>1</td>\n",
              "      <td>[{'Name': 'Public administration- Other social...</td>\n",
              "      <td>N</td>\n",
              "      <td>OTHER</td>\n",
              "      <td>RE</td>\n",
              "      <td>[Economic management, Social protection and ri...</td>\n",
              "      <td>0</td>\n",
              "      <td>MINISTRY OF FINANCE</td>\n",
              "      <td>TN: DTF Social Protection Reforms Support</td>\n",
              "      <td>1,6</td>\n",
              "      <td>NaN</td>\n",
              "      <td>...</td>\n",
              "      <td>30.0</td>\n",
              "      <td>General public administration sector</td>\n",
              "      <td>NaN</td>\n",
              "      <td>NaN</td>\n",
              "      <td>NaN</td>\n",
              "      <td>30</td>\n",
              "      <td>Other economic management</td>\n",
              "      <td>NaN</td>\n",
              "      <td>NaN</td>\n",
              "      <td>52b213b38594d8a2be17c781</td>\n",
              "    </tr>\n",
              "    <tr>\n",
              "      <td>2</td>\n",
              "      <td>[{'Name': 'Rural and Inter-Urban Roads and Hig...</td>\n",
              "      <td>Y</td>\n",
              "      <td>IDA</td>\n",
              "      <td>PE</td>\n",
              "      <td>[Trade and integration, Public sector governan...</td>\n",
              "      <td>6060000</td>\n",
              "      <td>MINISTRY OF TRANSPORT AND COMMUNICATIONS</td>\n",
              "      <td>Tuvalu Aviation Investment Project - Additiona...</td>\n",
              "      <td>5,2,11,6</td>\n",
              "      <td>NaN</td>\n",
              "      <td>...</td>\n",
              "      <td>NaN</td>\n",
              "      <td>NaN</td>\n",
              "      <td>NaN</td>\n",
              "      <td>NaN</td>\n",
              "      <td>NaN</td>\n",
              "      <td>46</td>\n",
              "      <td>Regional integration</td>\n",
              "      <td>NaN</td>\n",
              "      <td>NaN</td>\n",
              "      <td>52b213b38594d8a2be17c782</td>\n",
              "    </tr>\n",
              "    <tr>\n",
              "      <td>3</td>\n",
              "      <td>[{'Name': 'Other social services'}]</td>\n",
              "      <td>N</td>\n",
              "      <td>OTHER</td>\n",
              "      <td>RE</td>\n",
              "      <td>[Social dev/gender/inclusion, Social dev/gende...</td>\n",
              "      <td>0</td>\n",
              "      <td>LABOR INTENSIVE PUBLIC WORKS PROJECT PMU</td>\n",
              "      <td>Gov't and Civil Society Organization Partnership</td>\n",
              "      <td>7,7</td>\n",
              "      <td>NaN</td>\n",
              "      <td>...</td>\n",
              "      <td>NaN</td>\n",
              "      <td>NaN</td>\n",
              "      <td>NaN</td>\n",
              "      <td>NaN</td>\n",
              "      <td>NaN</td>\n",
              "      <td>50</td>\n",
              "      <td>Participation and civic engagement</td>\n",
              "      <td>NaN</td>\n",
              "      <td>NaN</td>\n",
              "      <td>52b213b38594d8a2be17c783</td>\n",
              "    </tr>\n",
              "    <tr>\n",
              "      <td>4</td>\n",
              "      <td>[{'Name': 'General industry and trade sector'}...</td>\n",
              "      <td>N</td>\n",
              "      <td>IDA</td>\n",
              "      <td>PE</td>\n",
              "      <td>[Trade and integration, Financial and private ...</td>\n",
              "      <td>13100000</td>\n",
              "      <td>MINISTRY OF TRADE AND INDUSTRY</td>\n",
              "      <td>Second Private Sector Competitiveness and Econ...</td>\n",
              "      <td>5,4</td>\n",
              "      <td>2019-04-30T00:00:00Z</td>\n",
              "      <td>...</td>\n",
              "      <td>40.0</td>\n",
              "      <td>Other industry</td>\n",
              "      <td>NaN</td>\n",
              "      <td>NaN</td>\n",
              "      <td>The development objective of the Second Privat...</td>\n",
              "      <td>30</td>\n",
              "      <td>Export development and competitiveness</td>\n",
              "      <td>10.0</td>\n",
              "      <td>SME Finance</td>\n",
              "      <td>52b213b38594d8a2be17c784</td>\n",
              "    </tr>\n",
              "    <tr>\n",
              "      <td>...</td>\n",
              "      <td>...</td>\n",
              "      <td>...</td>\n",
              "      <td>...</td>\n",
              "      <td>...</td>\n",
              "      <td>...</td>\n",
              "      <td>...</td>\n",
              "      <td>...</td>\n",
              "      <td>...</td>\n",
              "      <td>...</td>\n",
              "      <td>...</td>\n",
              "      <td>...</td>\n",
              "      <td>...</td>\n",
              "      <td>...</td>\n",
              "      <td>...</td>\n",
              "      <td>...</td>\n",
              "      <td>...</td>\n",
              "      <td>...</td>\n",
              "      <td>...</td>\n",
              "      <td>...</td>\n",
              "      <td>...</td>\n",
              "      <td>...</td>\n",
              "    </tr>\n",
              "    <tr>\n",
              "      <td>495</td>\n",
              "      <td>[{'Name': 'General agriculture, fishing and fo...</td>\n",
              "      <td>N</td>\n",
              "      <td>OTHER</td>\n",
              "      <td>RE</td>\n",
              "      <td>[Financial and private sector development, Soc...</td>\n",
              "      <td>0</td>\n",
              "      <td>THE COMPETITIVENESS COMPANY</td>\n",
              "      <td>Technological Scale Up for Youth-led Urban Orn...</td>\n",
              "      <td>4,7</td>\n",
              "      <td>2013-08-31T00:00:00Z</td>\n",
              "      <td>...</td>\n",
              "      <td>50.0</td>\n",
              "      <td>Vocational training</td>\n",
              "      <td>NaN</td>\n",
              "      <td>NaN</td>\n",
              "      <td>NaN</td>\n",
              "      <td>50</td>\n",
              "      <td>Regulation and competition policy</td>\n",
              "      <td>NaN</td>\n",
              "      <td>NaN</td>\n",
              "      <td>52b213b38594d8a2be17c96f</td>\n",
              "    </tr>\n",
              "    <tr>\n",
              "      <td>496</td>\n",
              "      <td>[{'Name': 'Central government administration'}...</td>\n",
              "      <td>N</td>\n",
              "      <td>IDA</td>\n",
              "      <td>PE</td>\n",
              "      <td>[Human development, Trade and integration, Pub...</td>\n",
              "      <td>20000000</td>\n",
              "      <td>MINISTRY OF FINANCE</td>\n",
              "      <td>Lao Eight Poverty Reduction Support</td>\n",
              "      <td>8,5,2,8</td>\n",
              "      <td>2012-12-31T00:00:00Z</td>\n",
              "      <td>...</td>\n",
              "      <td>29.0</td>\n",
              "      <td>General finance sector</td>\n",
              "      <td>14.0</td>\n",
              "      <td>Health</td>\n",
              "      <td>The development objective of the Eighth Povert...</td>\n",
              "      <td>14</td>\n",
              "      <td>Child health</td>\n",
              "      <td>14.0</td>\n",
              "      <td>General education sector</td>\n",
              "      <td>52b213b38594d8a2be17c970</td>\n",
              "    </tr>\n",
              "    <tr>\n",
              "      <td>497</td>\n",
              "      <td>[{'Name': 'Irrigation and drainage'}, {'Name':...</td>\n",
              "      <td>N</td>\n",
              "      <td>OTHER</td>\n",
              "      <td>RE</td>\n",
              "      <td>[Rural development]</td>\n",
              "      <td>0</td>\n",
              "      <td>MINISTRY OF AGRICULTURE AND PRODUCER ORGANISAT...</td>\n",
              "      <td>Second Emergency Agricultural Productivity Sup...</td>\n",
              "      <td>10,6</td>\n",
              "      <td>2014-12-31T00:00:00Z</td>\n",
              "      <td>...</td>\n",
              "      <td>35.0</td>\n",
              "      <td>Crops</td>\n",
              "      <td>NaN</td>\n",
              "      <td>NaN</td>\n",
              "      <td>NaN</td>\n",
              "      <td>100</td>\n",
              "      <td>Global food crisis response</td>\n",
              "      <td>25.0</td>\n",
              "      <td>Agricultural extension and research</td>\n",
              "      <td>52b213b38594d8a2be17c971</td>\n",
              "    </tr>\n",
              "    <tr>\n",
              "      <td>498</td>\n",
              "      <td>[{'Name': 'Agricultural extension and research...</td>\n",
              "      <td>N</td>\n",
              "      <td>IBRD</td>\n",
              "      <td>PE</td>\n",
              "      <td>[Rural development, Rural development, Rural d...</td>\n",
              "      <td>0</td>\n",
              "      <td>INDONESIAN AGENCY FOR AGRICULTURAL RESEARCH AN...</td>\n",
              "      <td>Sustainable Management of Agricultural Researc...</td>\n",
              "      <td>10,10,10</td>\n",
              "      <td>2017-09-30T00:00:00Z</td>\n",
              "      <td>...</td>\n",
              "      <td>15.0</td>\n",
              "      <td>Public administration- Agriculture, fishing an...</td>\n",
              "      <td>NaN</td>\n",
              "      <td>NaN</td>\n",
              "      <td>The development objective of the Sustainable M...</td>\n",
              "      <td>85</td>\n",
              "      <td>Rural services and infrastructure</td>\n",
              "      <td>5.0</td>\n",
              "      <td>Agro-industry, marketing, and trade</td>\n",
              "      <td>52b213b38594d8a2be17c972</td>\n",
              "    </tr>\n",
              "    <tr>\n",
              "      <td>499</td>\n",
              "      <td>[{'Name': 'Urban Transport'}, {'Name': 'Public...</td>\n",
              "      <td>N</td>\n",
              "      <td>IDA</td>\n",
              "      <td>PE</td>\n",
              "      <td>[Urban development, Human development, Trade a...</td>\n",
              "      <td>300000000</td>\n",
              "      <td>MINISTRY OF ROADS</td>\n",
              "      <td>KENYA: NATIONAL URBAN TRANSPORT IMPROVEMENT PR...</td>\n",
              "      <td>9,8,5,4</td>\n",
              "      <td>2018-12-31T00:00:00Z</td>\n",
              "      <td>...</td>\n",
              "      <td>21.0</td>\n",
              "      <td>Public administration- Transportation</td>\n",
              "      <td>NaN</td>\n",
              "      <td>NaN</td>\n",
              "      <td>The objectives of the National Urban Transport...</td>\n",
              "      <td>1</td>\n",
              "      <td>Municipal governance and institution building</td>\n",
              "      <td>NaN</td>\n",
              "      <td>NaN</td>\n",
              "      <td>52b213b38594d8a2be17c973</td>\n",
              "    </tr>\n",
              "  </tbody>\n",
              "</table>\n",
              "<p>500 rows × 55 columns</p>\n",
              "</div>"
            ],
            "text/plain": [
              "                                                sector supplementprojectflg  \\\n",
              "0    [{'Name': 'Primary education'}, {'Name': 'Seco...                    N   \n",
              "1    [{'Name': 'Public administration- Other social...                    N   \n",
              "2    [{'Name': 'Rural and Inter-Urban Roads and Hig...                    Y   \n",
              "3                  [{'Name': 'Other social services'}]                    N   \n",
              "4    [{'Name': 'General industry and trade sector'}...                    N   \n",
              "..                                                 ...                  ...   \n",
              "495  [{'Name': 'General agriculture, fishing and fo...                    N   \n",
              "496  [{'Name': 'Central government administration'}...                    N   \n",
              "497  [{'Name': 'Irrigation and drainage'}, {'Name':...                    N   \n",
              "498  [{'Name': 'Agricultural extension and research...                    N   \n",
              "499  [{'Name': 'Urban Transport'}, {'Name': 'Public...                    N   \n",
              "\n",
              "    projectfinancialtype prodline  \\\n",
              "0                    IDA       PE   \n",
              "1                  OTHER       RE   \n",
              "2                    IDA       PE   \n",
              "3                  OTHER       RE   \n",
              "4                    IDA       PE   \n",
              "..                   ...      ...   \n",
              "495                OTHER       RE   \n",
              "496                  IDA       PE   \n",
              "497                OTHER       RE   \n",
              "498                 IBRD       PE   \n",
              "499                  IDA       PE   \n",
              "\n",
              "                                               mjtheme  idacommamt  \\\n",
              "0                                  [Human development]   130000000   \n",
              "1    [Economic management, Social protection and ri...           0   \n",
              "2    [Trade and integration, Public sector governan...     6060000   \n",
              "3    [Social dev/gender/inclusion, Social dev/gende...           0   \n",
              "4    [Trade and integration, Financial and private ...    13100000   \n",
              "..                                                 ...         ...   \n",
              "495  [Financial and private sector development, Soc...           0   \n",
              "496  [Human development, Trade and integration, Pub...    20000000   \n",
              "497                                [Rural development]           0   \n",
              "498  [Rural development, Rural development, Rural d...           0   \n",
              "499  [Urban development, Human development, Trade a...   300000000   \n",
              "\n",
              "                                             impagency  \\\n",
              "0                                MINISTRY OF EDUCATION   \n",
              "1                                  MINISTRY OF FINANCE   \n",
              "2             MINISTRY OF TRANSPORT AND COMMUNICATIONS   \n",
              "3             LABOR INTENSIVE PUBLIC WORKS PROJECT PMU   \n",
              "4                       MINISTRY OF TRADE AND INDUSTRY   \n",
              "..                                                 ...   \n",
              "495                        THE COMPETITIVENESS COMPANY   \n",
              "496                                MINISTRY OF FINANCE   \n",
              "497  MINISTRY OF AGRICULTURE AND PRODUCER ORGANISAT...   \n",
              "498  INDONESIAN AGENCY FOR AGRICULTURAL RESEARCH AN...   \n",
              "499                                  MINISTRY OF ROADS   \n",
              "\n",
              "                                          project_name mjthemecode  \\\n",
              "0    Ethiopia General Education Quality Improvement...        8,11   \n",
              "1            TN: DTF Social Protection Reforms Support         1,6   \n",
              "2    Tuvalu Aviation Investment Project - Additiona...    5,2,11,6   \n",
              "3     Gov't and Civil Society Organization Partnership         7,7   \n",
              "4    Second Private Sector Competitiveness and Econ...         5,4   \n",
              "..                                                 ...         ...   \n",
              "495  Technological Scale Up for Youth-led Urban Orn...         4,7   \n",
              "496                Lao Eight Poverty Reduction Support     8,5,2,8   \n",
              "497  Second Emergency Agricultural Productivity Sup...        10,6   \n",
              "498  Sustainable Management of Agricultural Researc...    10,10,10   \n",
              "499  KENYA: NATIONAL URBAN TRANSPORT IMPROVEMENT PR...     9,8,5,4   \n",
              "\n",
              "              closingdate  ...  sector2.Percent  \\\n",
              "0    2018-07-07T00:00:00Z  ...             26.0   \n",
              "1                     NaN  ...             30.0   \n",
              "2                     NaN  ...              NaN   \n",
              "3                     NaN  ...              NaN   \n",
              "4    2019-04-30T00:00:00Z  ...             40.0   \n",
              "..                    ...  ...              ...   \n",
              "495  2013-08-31T00:00:00Z  ...             50.0   \n",
              "496  2012-12-31T00:00:00Z  ...             29.0   \n",
              "497  2014-12-31T00:00:00Z  ...             35.0   \n",
              "498  2017-09-30T00:00:00Z  ...             15.0   \n",
              "499  2018-12-31T00:00:00Z  ...             21.0   \n",
              "\n",
              "                                          sector2.Name sector4.Percent  \\\n",
              "0                                  Secondary education            12.0   \n",
              "1                 General public administration sector             NaN   \n",
              "2                                                  NaN             NaN   \n",
              "3                                                  NaN             NaN   \n",
              "4                                       Other industry             NaN   \n",
              "..                                                 ...             ...   \n",
              "495                                Vocational training             NaN   \n",
              "496                             General finance sector            14.0   \n",
              "497                                              Crops             NaN   \n",
              "498  Public administration- Agriculture, fishing an...             NaN   \n",
              "499              Public administration- Transportation             NaN   \n",
              "\n",
              "           sector4.Name                             project_abstract.cdata  \\\n",
              "0    Tertiary education  The development objective of the Second Phase ...   \n",
              "1                   NaN                                                NaN   \n",
              "2                   NaN                                                NaN   \n",
              "3                   NaN                                                NaN   \n",
              "4                   NaN  The development objective of the Second Privat...   \n",
              "..                  ...                                                ...   \n",
              "495                 NaN                                                NaN   \n",
              "496              Health  The development objective of the Eighth Povert...   \n",
              "497                 NaN                                                NaN   \n",
              "498                 NaN  The development objective of the Sustainable M...   \n",
              "499                 NaN  The objectives of the National Urban Transport...   \n",
              "\n",
              "    theme1.Percent                                    theme1.Name  \\\n",
              "0              100                              Education for all   \n",
              "1               30                      Other economic management   \n",
              "2               46                           Regional integration   \n",
              "3               50             Participation and civic engagement   \n",
              "4               30         Export development and competitiveness   \n",
              "..             ...                                            ...   \n",
              "495             50              Regulation and competition policy   \n",
              "496             14                                   Child health   \n",
              "497            100                    Global food crisis response   \n",
              "498             85              Rural services and infrastructure   \n",
              "499              1  Municipal governance and institution building   \n",
              "\n",
              "    sector3.Percent                                  sector3.Name  \\\n",
              "0              16.0  Public administration- Other social services   \n",
              "1               NaN                                           NaN   \n",
              "2               NaN                                           NaN   \n",
              "3               NaN                                           NaN   \n",
              "4              10.0                                   SME Finance   \n",
              "..              ...                                           ...   \n",
              "495             NaN                                           NaN   \n",
              "496            14.0                      General education sector   \n",
              "497            25.0           Agricultural extension and research   \n",
              "498             5.0           Agro-industry, marketing, and trade   \n",
              "499             NaN                                           NaN   \n",
              "\n",
              "                     _id.$oid  \n",
              "0    52b213b38594d8a2be17c780  \n",
              "1    52b213b38594d8a2be17c781  \n",
              "2    52b213b38594d8a2be17c782  \n",
              "3    52b213b38594d8a2be17c783  \n",
              "4    52b213b38594d8a2be17c784  \n",
              "..                        ...  \n",
              "495  52b213b38594d8a2be17c96f  \n",
              "496  52b213b38594d8a2be17c970  \n",
              "497  52b213b38594d8a2be17c971  \n",
              "498  52b213b38594d8a2be17c972  \n",
              "499  52b213b38594d8a2be17c973  \n",
              "\n",
              "[500 rows x 55 columns]"
            ]
          },
          "metadata": {
            "tags": []
          },
          "execution_count": 16
        }
      ]
    },
    {
      "cell_type": "code",
      "metadata": {
        "colab_type": "code",
        "id": "Ju5EmuSVQz5y",
        "outputId": "2ec04a6c-891b-4f19-d62a-dba1a14b3c3d",
        "colab": {
          "base_uri": "https://localhost:8080/",
          "height": 952
        }
      },
      "source": [
        "wb_df=pd.read_json(json_file)\n",
        "wb_df.info()"
      ],
      "execution_count": 0,
      "outputs": [
        {
          "output_type": "stream",
          "text": [
            "<class 'pandas.core.frame.DataFrame'>\n",
            "RangeIndex: 500 entries, 0 to 499\n",
            "Data columns (total 50 columns):\n",
            "sector                      500 non-null object\n",
            "supplementprojectflg        498 non-null object\n",
            "projectfinancialtype        500 non-null object\n",
            "prodline                    500 non-null object\n",
            "mjtheme                     491 non-null object\n",
            "idacommamt                  500 non-null int64\n",
            "impagency                   472 non-null object\n",
            "project_name                500 non-null object\n",
            "mjthemecode                 500 non-null object\n",
            "closingdate                 370 non-null object\n",
            "totalcommamt                500 non-null int64\n",
            "id                          500 non-null object\n",
            "mjsector_namecode           500 non-null object\n",
            "docty                       446 non-null object\n",
            "sector1                     500 non-null object\n",
            "lendinginstr                495 non-null object\n",
            "countrycode                 500 non-null object\n",
            "sector2                     380 non-null object\n",
            "totalamt                    500 non-null int64\n",
            "mjtheme_namecode            500 non-null object\n",
            "boardapprovaldate           500 non-null object\n",
            "countryshortname            500 non-null object\n",
            "sector4                     174 non-null object\n",
            "prodlinetext                500 non-null object\n",
            "productlinetype             500 non-null object\n",
            "regionname                  500 non-null object\n",
            "status                      500 non-null object\n",
            "country_namecode            500 non-null object\n",
            "envassesmentcategorycode    430 non-null object\n",
            "project_abstract            362 non-null object\n",
            "approvalfy                  500 non-null int64\n",
            "projectdocs                 446 non-null object\n",
            "lendprojectcost             500 non-null int64\n",
            "lendinginstrtype            495 non-null object\n",
            "theme1                      500 non-null object\n",
            "grantamt                    500 non-null int64\n",
            "themecode                   491 non-null object\n",
            "borrower                    485 non-null object\n",
            "sectorcode                  500 non-null object\n",
            "sector3                     265 non-null object\n",
            "majorsector_percent         500 non-null object\n",
            "board_approval_month        500 non-null object\n",
            "theme_namecode              491 non-null object\n",
            "countryname                 500 non-null object\n",
            "url                         500 non-null object\n",
            "source                      500 non-null object\n",
            "projectstatusdisplay        500 non-null object\n",
            "ibrdcommamt                 500 non-null int64\n",
            "sector_namecode             500 non-null object\n",
            "_id                         500 non-null object\n",
            "dtypes: int64(7), object(43)\n",
            "memory usage: 195.4+ KB\n"
          ],
          "name": "stdout"
        }
      ]
    },
    {
      "cell_type": "markdown",
      "metadata": {
        "colab_type": "text",
        "id": "xEyLEiBASqXO"
      },
      "source": [
        "****\n",
        "## JSON exercise\n",
        "\n",
        "Using the 'world_bank_projects.json',\n",
        "1. Find the 10 countries with most projects\n",
        "2. Find the top 10 major project themes (using column 'mjtheme_namecode')\n",
        "3. In 2. above you will notice that some entries have only the code and the name is missing. Create a dataframe with the missing names filled in."
      ]
    },
    {
      "cell_type": "markdown",
      "metadata": {
        "colab_type": "text",
        "id": "pJzZe7mbTCme"
      },
      "source": [
        "## 10 countries with most projects"
      ]
    },
    {
      "cell_type": "code",
      "metadata": {
        "colab_type": "code",
        "id": "0L6cpFFvRnpi",
        "outputId": "15ddbc6f-67a7-4896-c757-80e16155a842",
        "colab": {
          "base_uri": "https://localhost:8080/",
          "height": 1000
        }
      },
      "source": [
        "wb_df['countryname'].value_counts"
      ],
      "execution_count": 0,
      "outputs": [
        {
          "output_type": "execute_result",
          "data": {
            "text/plain": [
              "<bound method IndexOpsMixin.value_counts of 0      Federal Democratic Republic of Ethiopia\n",
              "1                          Republic of Tunisia\n",
              "2                                       Tuvalu\n",
              "3                            Republic of Yemen\n",
              "4                           Kingdom of Lesotho\n",
              "                        ...                   \n",
              "495                                    Jamaica\n",
              "496           Lao People's Democratic Republic\n",
              "497                         Republic of Guinea\n",
              "498                      Republic of Indonesia\n",
              "499                          Republic of Kenya\n",
              "Name: countryname, Length: 500, dtype: object>"
            ]
          },
          "metadata": {
            "tags": []
          },
          "execution_count": 18
        }
      ]
    },
    {
      "cell_type": "code",
      "metadata": {
        "colab_type": "code",
        "id": "3rfwiDJET5oL",
        "outputId": "5482566e-4ddb-4077-cda2-77ea7656d21d",
        "colab": {
          "base_uri": "https://localhost:8080/",
          "height": 136
        }
      },
      "source": [
        "projects=wb_df.groupby('countryname')['project_name'].count()\n",
        "projects.head()"
      ],
      "execution_count": 0,
      "outputs": [
        {
          "output_type": "execute_result",
          "data": {
            "text/plain": [
              "countryname\n",
              "Africa                    11\n",
              "Antigua and Barbuda        1\n",
              "Arab Republic of Egypt     2\n",
              "Argentine Republic         2\n",
              "Bosnia and Herzegovina     1\n",
              "Name: project_name, dtype: int64"
            ]
          },
          "metadata": {
            "tags": []
          },
          "execution_count": 19
        }
      ]
    },
    {
      "cell_type": "code",
      "metadata": {
        "colab_type": "code",
        "id": "afj3gWERVMmH",
        "outputId": "ba8afa16-ce03-46e9-cc85-9f3f4f16d309",
        "colab": {
          "base_uri": "https://localhost:8080/",
          "height": 221
        }
      },
      "source": [
        "#Top 10 countries for most projects are ... wait for it:\n",
        "projects_sorted=projects.sort_values(ascending=False)\n",
        "top10_c=projects_sorted.head(10)\n",
        "print('The top 10 countries for projects are: ', top10_c)"
      ],
      "execution_count": 0,
      "outputs": [
        {
          "output_type": "stream",
          "text": [
            "The top 10 countries for projects are:  countryname\n",
            "People's Republic of China         19\n",
            "Republic of Indonesia              19\n",
            "Socialist Republic of Vietnam      17\n",
            "Republic of India                  16\n",
            "Republic of Yemen                  13\n",
            "Nepal                              12\n",
            "People's Republic of Bangladesh    12\n",
            "Kingdom of Morocco                 12\n",
            "Africa                             11\n",
            "Republic of Mozambique             11\n",
            "Name: project_name, dtype: int64\n"
          ],
          "name": "stdout"
        }
      ]
    },
    {
      "cell_type": "code",
      "metadata": {
        "id": "pugNm_ajp1Jt",
        "colab_type": "code",
        "colab": {},
        "outputId": "af635fbd-f5e6-48b1-b403-b177c11592c6"
      },
      "source": [
        "top10_c.plot(kind='bar', title='Top 10 Countries for Most World Bank Projects', color=['C0', 'C1', 'C2', 'C3', 'C4', 'C5', 'C6', 'C7', 'C8', 'C9'])\n",
        "plt.ylabel('Number of WB Projects')\n",
        "plt.xlabel ('Country Name')"
      ],
      "execution_count": 0,
      "outputs": [
        {
          "output_type": "execute_result",
          "data": {
            "text/plain": [
              "Text(0.5, 0, 'Country Name')"
            ]
          },
          "metadata": {
            "tags": []
          },
          "execution_count": 58
        },
        {
          "output_type": "display_data",
          "data": {
            "image/png": "iVBORw0KGgoAAAANSUhEUgAAAYgAAAGvCAYAAABB6kKoAAAABHNCSVQICAgIfAhkiAAAAAlwSFlzAAALEgAACxIB0t1+/AAAADh0RVh0U29mdHdhcmUAbWF0cGxvdGxpYiB2ZXJzaW9uMy4xLjEsIGh0dHA6Ly9tYXRwbG90bGliLm9yZy8QZhcZAAAgAElEQVR4nOydd7hcVdm+7yehNwEJVQLIhwgiNSBFkSKKgKB+IqAoVuQnUiwoih8IWBBFRbEhgqhIUykqVToqJUBoAgpIiQFC76iB5/fHWpMzmewzZ5KcWXubee/rmuvMLrPXc2b23u9ea71FtgmCIAiCTsbULSAIgiBoJmEggiAIgkrCQARBEASVhIEIgiAIKgkDEQRBEFQSBiIIgiCoJAxE0CgkvUrSE3047rsl/VPSM5LWGO3jz21IerWkaV22HyHpuJKa2tp+UNLra2j3Z5I+W7rdOgkDMZvkG03r9ZKk59uW3zvKbb1X0l9yG+dVbN9Q0iRJz0m6RtJaIxxve0lXSnpa0lRJF0t662hqHqbdES9s23+zvXgfmv828CHbi9i+bU4PJukqSZa0esf68/L6jefw+F2/K0n3StqxbXnr3G7nusckaU60zCqSts3XROt6uF/SQSU1ZB0L5O/k2axjsqSvS5qt+57tD9g+cg417SXpj3NyjJKEgZhN8o1mEduLAPcBb2tbd9IoN/cocBTwrc4NkhYEzgKOBZYATgfOkDRP1YGy8foV8BNgBWA54CvATqOseZYZTvMoHHdeYHng1tn8/NhhNv0NeH/bfssCrwWenJ12ZpHLgTe2LW8O3F6x7krPYjTsKP0Od7ddH1sB+0radhSOOzusnnW8Bfgwbb9Zi36de//thIHoE5IWlPR9SQ/kJ5dv5BtV6wnrTkmH5ie8uyXtPNyxbJ9n+9fAAxWbtwFesP0D2/8iGZJFgZmePvNFcBTwRdsn2n7K9ou2L7K9V95nbNZ1n6SHJB0vadF23R3HnP6km4cdTpJ0cu6d3CRp3bztdGBp4IL8NLdvaxhD0kcl3Q+c0zm0IWlJST/P7dwv6ZDWE2De90pJT0p6WNLPK/7nlwGP58U7JN2a179W0hWSnsg639r2mVMkfVfSBZKeBTYZ5qf5JfDetif03YHTgHb93c6DZXOP4wlJj0q6eLjvqqLty0kGoMUbgK9XrLs8H7Pb7zrT71DxPf6PpD/l3/Vc0sNIT9j+O3A1sGbb8X6Yv4+nlHq9G7dtG/Y8qtD1Wkn3SHpnDzpuBf4CrJU/+6Ckz+Rz4qm243U7L77YtvyOvM8T+TPt/9/Kks6S9Eh+HSVpPeA7wBb5d30w77uTpNvz/3r/ML93PdiO1xy+gHuAN3WsOxK4AlgKWAa4Fjgob9uWdBP5GjAf8CbgOWCVEdr5BHBex7rPA2d0rPsjsHfF59cFDCzXpY2PA7cBKwGLAb8HftKm+86O/R8EXp/fH5H/j22AsaRhnUur9s3Lr856jgMWAhbM66a17XMu8L28fTngBmCPvO0M4DOA8mc3G+Z/WiC384q25XuBTwPzkp4sn2l9/8ApwGPA60gPUfNXHPMqkkG4HNgyr7sRWA94BNi4h/Pg28DRwDz5PNh8uO+qov3V8zm0SP4fHs7HeKBt3bPARj38rr38DtczdL5unX/n44bRNsN5AqwBPNT++5Ce4pfIOg8C7gfmnZXzKP8+9wNv7vF3f23+bd7bdpxrSb3LBXs8L76Y32+cv+sNssY9ST3KefJnb8v/R+v73DR/bi/gjx06H237nV4OrFf3PW26troFzA0vqg3EP4Gt2pZ3Am7P77cFXgAWaNt+NnDACO1UGYivAD/rWPcb4MCKz28NvASM6dLGn0hj9a3ldfLFqs4LP2/vNBC/b9u2PvBE1b55uXVjWr5j3bT8fiXSTW7etu0fBM7N708DjqGLwcv7dd4otsk3ArXtc0brO8s3gmNHOGbLQHwEOIFkfG/O29oNRLfz4EjSkOArK47f1UDkfR4g3cQ2AS7K685sW/c0ME8Pv+tIv8OrKs7X39LdQLwIPEF6MjdwcktLxf7KWlafhfPoEGAywzwUdPzuT5J6kX/Pn1Pbcd7Ttn8v50XLQJxANvRt+95LMlpb5t99puuMagPxEOm8XrTb713HK4aY+kAecliWdMK0uJc05t/iYdsvdGxffjaae4b0RNjOYqSbQyePki7GZbocb3lm1r0gsGSPeh5se/8c6Wm2Gy/ZnjLMtpVIF/nDuRv/BOmJu6X/k6QntBtyV3/3HjUuD9znfHVmOn+f+3s81unAdqQLf4Yhrh7Og68AU4BLlIYcP9Vjmy2uIA0pbZ7fA1zZtu7PtlvDXSP9rt1+h+WpPl+78Q/bi9teLLcxL2neCwBJn5d0h6TWzXsBUi+rxUjn0ceBi23/aQQdAK+xvYTt1Wwf2vG7t//OvZwXLVYCvtA6L/O5OS7vuyLp/3+pB20Abwf+F7hPyWFkQo+f6zthIPpAPsEeJJ1ELcaTnipaLCVpgY7tw12g3biV9DQIQB6fX4vqCdlbSE8r/9vleFOYWffzpCGXZ0k35FZb89K74YD0NNfLuhb3kwzgEvlms7jtxWyvD2D7n7Y/RBp62hc4XtL4HnRMIf1f7XT+Pj1N7Np+EriENPl5Use2rueB7Sdt72d7JdJv8kVJm81C+615iDcwZCCuaFt3edu+3X7Xkdp7gOrztSdsP07qQbwNQNI2wD7AO4DFSefQ86SHl175MLCWpK/Nwmcq5bW97+W8aHE/cHDbebm47YVs/zZvW1nV3lIzfc+2/2J7B9KDzwWk76oRhIHoHycDh0h6uaSlSeOsv2zbPi/wf5Lmk7QVqXv7m6oD5QnGBUjjm2OU3PdaXhcXAgsquc/NT3qqfpb0JDkD+WnyM8CXJb1P0qKSxkh6o6QftOn+jKTxeRLzy8Cv8s3uNmBJJffJeYFDmbVz6CHglb3ubPsfpKGcI9u0rqahSfFdJC2ftbViJ4b13W/jCtL3uL+kefIN682k3sDs8BngjcM8gQ97HkjaUdIquafxJGlY5sX8uV6+q8uBDUnDGlflddcDryGN0bcbiG6/60j8jeQh1TpftyQNI/VEbu/dDD20LAr8h6F5k8NIPYhZ4QnSNbO9pENn8bPDMSvnxbHAPpImKLFI/j0XIl17TwOHS1pIyVFh0/y5h4AVNeSosLCkXSUtRvpOnmboHKidMBD942Dgr6SLYhJpDLjdh/oe0s3sQeB44IO27x7mWB8lPWF9m3RRPE8ae8f286Rx7b1IF82uwNvbhhZmwPYvSWPne5GeDFvjuWflXX5IGl/+M3AX6QnzU/mzjwD7kZ6UJ+fPPtLTt5H4CvCV3CX/RI+f2Y30lHl71nIqQ0NMmwDXSXqGdBHv2WWYZDp5qGQH4F2kYbdvAbvYvmsW/pf24022/edhNnc7D9YALiXdFC4Hvmm7daPv5bu6mfQw8A/bz2Yt/8ntzA9c07bvsL9rD/+fgV1IY+uPAZ9lxoedKl6ZPXWeIZ3rCwB75G2/y//vXcDdpHPo4V60dOh6lOTgsbNGIc5iVs6LPLS1L/Bj0nX3N+A9aZP/Qxp2XId0ndwHtLysziN9H1MlTc7rPkQaynqSNHnf+p5qR709QASjiZI/+DG2/6duLUEQ9Iak04CJnsNguf8mogcRBEEwAnlI6FXAP+rWUpIwEEEQBCPzGGm46Oy6hZQkhpiCIAiCSqIHEQRBEFQSBiIIgiCoZK7KYLjUUkt55ZVXrltGEATBfw3XXXfdI7bHVW2bqwzEyiuvzMSJE+uWEQRB8F+DpGHTpsQQUxAEQVBJGIggCIKgkjAQQRAEQSVhIIIgCIJKwkAEQRAElYSBCIIgCCoJAxEEQRBUEgYiCIIgqGSuCpQbiZUP/MMcH+OeI7afswN86WVzrIEvPTnnxwiCIBiB6EEEQRAElYSBCIIgCCoJAxEEQRBUEgYiCIIgqCQMRBAEQVBJGIggCIKgkjAQQRAEQSVhIIIgCIJKwkAEQRAElYSBCIIgCCoJAxEEQRBUEgYiCIIgqKRvyfokHQ/sAEy1vVZedyqwet5lceAJ2+tWfPYe4GngRWCa7Qn90hkEQRBU089srj8DjgF+3lphe5fWe0lHAd3Skm5p+5G+qQuCIAi60jcDYftySStXbZMk4N3AVv1qPwiCIJgz6pqDeAPwkO2/D7PdwAWSrpO0Z0FdQRAEQaaugkG7ASd32b6Z7SmSlgYulHS77curdswGZE+A8ePHj77SIAiCAaV4D0LSPMA7gVOH28f2lPx3KnAGsFGXfY+1PcH2hHHjxo223CAIgoGljiGmNwG3255ctVHSwpIWbb0H3gzcUlBfEARBQB8NhKSTgb8Aq0uaLOnDedOudAwvSVpe0jl5cRngSkk3AtcAf7B9Xr90BkEQBNX004tpt2HWf6Bi3RRgu/z+bmCdfukKgiAIeqOuSeqgZl574mvn+Bg373HzKCgJgqCpRKqNIAiCoJIwEEEQBEElYSCCIAiCSsJABEEQBJWEgQiCIAgqCQMRBEEQVBIGIgiCIKgkDEQQBEFQSRiIIAiCoJIwEEEQBEElkWojqI3bXr3GHB9jjdtvGwUlQRBUET2IIAiCoJIwEEEQBEElYSCCIAiCSsJABEEQBJWEgQiCIAgqCQMRBEEQVNLPmtTHS5oq6Za2dV+S9E9Jk/Jru2E+u62kOyTdKenAfmkMgiAIhqefPYifAdtWrP+27XXz65zOjZLGAt8H3gqsCewmac0+6gyCIAgq6JuBsH058NhsfHQj4E7bd9v+N3AKsNOoiguCIAhGZEQDIelISYtJmlfSRZIekbT7HLT5CUk35SGoJSq2rwDc37Y8Oa8LgiAICtJLD+LNtp8CdiDdrF8FHDCb7f0QWBVYF3gAOKpiH1Ws83AHlLSnpImSJj788MOzKSsIgiDopBcDMW/+ux1wsu3ZGTYCwPZDtl+0/RLwE9JwUieTgRXbll8BTOlyzGNtT7A9Ydy4cbMrLQiCIOigFwPxO0m3AxOAiySNA16YncYkLde2+A7glordrgVWk7SKpPmAXYGzZ6e9IAiCYPbpJZvrIcDXgadsvyjpOWDHkT4k6WRgC2ApSZPzcbaQtC5pyOge4GN53+WB42xvZ3uapE8A5wNjgeNt3zrL/1kQBEEwR/RiIP5ie/3Wgu1nJV0BrN/lM9jerWL1T4fZdwppCKu1fA4wkwtsEARBUI5hDYSkZUneQwtKWo+hyePFgIUKaAuCIAhqpFsP4i3AB0iTxN9qW/8U8IU+agqCIAgawLAGwvaJwImS/tf2bwpqCoIgCBpAL15MG0havLUgaQlJX+6jpiAIgqAB9GIg3mr7idaC7cdpm1AOgiAI5k56MRBjJc3fWpC0IDB/l/2DIAiCuYBe3Fx/SQqQO4EUv/Ah4MS+qgqCIAhqZ0QDYftISTcBbyK5uh5u+/y+KwuCIAhqpZceBMBtwDTbf5S0kKRFbT/dT2FBEARBvfSS7vujwK+BH+dVKwBn9lNUEARBUD+9TFLvDWxGCpDD9t+BpfspKgiCIKifXgzEv3JlNwAkzUOX+gxBEATB3EEvBuIySV8g5WTaBjgd+F1/ZQVBEAR104uBOBB4GLiZlJ77HOCL/RQVBEEQ1E8vbq6t6m8/6b+cIAiCoCl0S/d9mu13S7qZmeccDDwGfMf2Wf0UGARBENRDtx7EfvnvDsNsXwo4CQgDEQRBMBfSLd33A/nvvZKWATbMm66xPRW4V9J7C2gMgr7y/b0unuNj7P2jrUZBSRA0i14C5d4NXAPsDLwbuFrSuwBsX9flc8dLmirplrZ135B0u6SbJJ3Rnka847P3SLpZ0iRJE2f1nwqCIAjmnF68mA4CNrS9h+33AxsB/9fD534GbNux7kJgLdtrA38DPt/l81vaXtf2hB7aCoIgCEaZXgzEmDyk1OLRXj5n+3LSRHb7ugtsT8uLV5HKmQZBEAQNpJdkfedJOh84OS/vQoqFmFM+BJw6zDYDF0gy8GPbx45Ce0EQBMEs0EscxAGS3gm8npTu+1jbZ8xJo5IOAqaRvKCq2Mz2FElLAxdKuj33SKqOtSewJ8D48ePnRFYQBEHQRlcDIWkscL7tNwG/HY0GJe1Bcp3d2nZlTifbU/LfqZLOIM17VBqI3Ls4FmDChAmRIyoIgmCU6DqXYPtF4DlJLxuNxiRtC3wO2NH2c8Pss7CkRVvvgTcDt1TtGwRBEPSPXuYgXgBulnQh8Gxrpe19u31I0snAFsBSkiYDh5C8luYnDRsBXGV7L0nLA8fZ3g5YBjgjb58H+JXt82b1HwuCIAjmjF4MxB/ya5awvVvF6p8Os+8UYLv8/m5gnVltLwiCIBhdRpqDWI/Ua7jV9m1lJAVBEARNoFuyvoOB3YHrgCMlfc12ZHQNgj5w1C7DpTzrnU+f+vs5PsbkA6+Y42O84og3zNHnv/SlL82xhtE4RtC9B7ELsK7t5yS9HDiPSPkdBEEwMHTzYnqh5Wlku6fo6SAIgmDuoVsPYlVJZ+f36ljG9o59VRYEQRDUSjcDsVPH8jf7KSQIgiBoFt3qQVxWUkgQBEHQLGJeIQiCIKgkDEQQBEFQSRiIIAiCoJJhDYSkpSQdImlfSYtI+qGkWySdJel/SooMgiAIytPNi+lXwERgNVJN6hOAo4E3AMeREvEFQRDMlVx08apzfIytt7prjj6/7CWT5ljDg1uuO9uf7WYglrH9BaW0qvfa/kZef7ukvWe7xSAIguC/gm5zEC8C5KI+j3Rse6lvioIgCIJG0K0H8cocOa229+TlVfquLAiCIKiVXiOpO6OoI6o6CIJgLqebgVgC+LPtqaXEBEEQBM2h2xzE7sANkv4u6WeS9pT0mlLCgiAIgnoZ1kDYfpftFYBtgAuAtYGfS3pY0jmlBAZBEAT1MGIkte17gOuBG4BJwFRgwV4OLul4SVMl3dK2bklJF+aeyYWSlhjms3vkff4uaY9e2guCIAhGj26R1F+Q9DtJVwGfB+YDjgHWtr1lj8f/GbBtx7oDgYtsrwZclJc7214SOAR4HbARcMhwhiQIgiDoD916EO8HliOVGj0J+JXtG2y/2OvBbV8OPNaxeifgxPz+RODtFR99C3Ch7cdsPw5cyMyGJgiCIOgj3epBvDo/yW9KSqtxoKRFgBtJ3k0nzGaby9h+ILfxgKSlK/ZZAbi/bXlyXjcTkvYE9gQYP378bEoKgiAIOuk6B5Gf4H8PHEwaZjod2JKUi6mfqEpO1Y62j7U9wfaEcePG9VlWEATB4NBtDmJHSUdIuoI0Mf1NYCng08Cyc9DmQ5KWy20sl4/dyWRgxbblVwBT5qDNIAiCYBbpFij3AeDPwGeB62z/e5TaPBvYAzgi/z2rYp/zga+2TUy/mdSDCYIgCArRbQ7inXN6cEknk+YvlpI0meSZdARwmqQPA/cBO+d9JwB72f6I7cckHQ5cmw91mO3Oye4gCIKgj3TrQcwxtncbZtPWFftOBD7Stnw8cHyfpAVBEAQjECVHgyAIgkq6TVJflP9+vZycIAiCoCl0G2JaTtIbgR0lnUKH66nt6/uqLAiCIKiVbgbiYFIajFcA3+rYZmCrfokKgiAI6qebF9OvgV9L+j/bhxfUFARBEDSAEb2YbB8uaUdg87zq0hxdHQRBEMzFjOjFJOlrwH7AX/Nrv7wuCIIgmIvpJQ5ie2Bd2y8BSDqRVBsiIpuDIAjmYnqNg1i87f3L+iEkCIIgaBa99CC+RqpNfQnJ1XVzovcQBEEw19PLJPXJki4FNiQZiM/ZfrDfwoIgCIJ66SkXUy7wc3aftQRBEAQNInIxBUEQBJWEgQiCIAgq6WogJI2RdEspMUEQBEFzGKkm9UvAjZLGF9ITBEEQNIReJqmXA26VdA3wbGul7R37pioIgiConV4MxKF9VxEEQRA0jhEnqW1fBtwDzJvfXwvMdi0ISatLmtT2ekrS/h37bCHpybZ9Dp7d9oIgCILZY8QehKSPAnsCSwKrAisAP6KirnQv2L4DWDcfeyzwT+CMil2vsL3D7LQRBEEQzDm9uLnuDWwGPAVg++/A0qPU/tbAXbbvHaXjBUEQBKNELwbiX7b/3VqQNA+potxosCtw8jDbNpF0o6RzJb1mlNoLgiAIeqQXA3GZpC8AC0raBjgd+N2cNixpPmDHfLxOrgdWsr0O8D3gzC7H2VPSREkTH3744TmVFQRBEGR6MRAHAg8DNwMfA84BvjgKbb8VuN72Q50bbD9l+5n8/hxgXklLVR3E9rG2J9ieMG7cuFGQFQRBEEBv2VxfykWCriYNLd1hezSGmHZjmOElScsCD9m2pI1IhuzRUWgzCIIg6JFevJi2J3kt3UVK972KpI/ZPnd2G5W0ELANqUfSWrcXgO0fAe8C/p+kacDzwK6jZJSCIAiCHuklUO4oYEvbdwJIWhX4AzDbBsL2c8DLO9b9qO39McAxs3v8IAiCYM7pZQ5iass4ZO4GpvZJTxAEQdAQhu1BSHpnfnurpHOA00hzEDuToqmDIAiCuZhuQ0xva3v/EPDG/P5hYIm+KQqCIAgawbAGwvYHSwoJgiAImkUvXkyrAPsAK7fvH+m+gyAI5m568WI6E/gpKXr6pf7KCYIgCJpCLwbiBdvf7buSIAiCoFH0YiCOlnQIcAHwr9ZK27NdEyIIgiBoPr0YiNcC7wO2YmiIyXk5CIIgmEvpxUC8A3hle8rvIAiCYO6nl0jqG4HF+y0kCIIgaBa99CCWAW6XdC0zzkGEm2sQBMFcTC8G4pC+qwiCIAgaRy/1IC4rISQIgiBoFr1EUj/NUA3q+YB5gWdtL9ZPYUEQBEG99NKDWLR9WdLbgY36pigIgiBoBL14Mc2A7TOJGIggCIK5nl6GmN7ZtjgGmMDQkFMQBEEwl9KLF1N7XYhpwD3ATnPasKR7gKeBF4Fptid0bBdwNLAd8BzwgUjvEQRBUI5e5iD6WRdiS9uPDLPtrcBq+fU64If5bxAEQVCAbiVHD+7yOds+vA962tkJ+LltA1dJWlzScrYf6HO7QRAEAd0nqZ+teAF8GPjcKLRt4AJJ10nas2L7CsD9bcuT87ogCIKgAN1Kjh7Vei9pUWA/4IPAKcBRw31uFtjM9hRJSwMXSrrd9uVt21Ulq3NFNi57AowfP34UZAVBEAQwgpurpCUlfRm4iWRM1rf9OdtT57Rh21Py36nAGcwcWzEZWLFt+RXAlIrjHGt7gu0J48aNm1NZQRAEQWZYAyHpG8C1JE+j19r+ku3HR6NRSQvnXgmSFgbeDNzSsdvZwPuV2Bh4MuYfgiAIytHNi+nTpOytXwQOSl6nQBr68Rym2lgGOCMfcx7gV7bPk7QX6eA/As4hubjeSXJz7ac3VRAEQdBBtzmIWY6y7hXbdwPrVKz/Udt7A3v3S0MQBEHQnb4ZgSAIguC/mzAQQRAEQSVhIIIgCIJKwkAEQRAElYSBCIIgCCoJAxEEQRBUEgYiCIIgqCQMRBAEQVBJGIggCIKgkjAQQRAEQSVhIIIgCIJKwkAEQRAElYSBCIIgCCoJAxEEQRBUEgYiCIIgqCQMRBAEQVBJGIggCIKgkjAQQRAEQSXFDYSkFSVdIuk2SbdK2q9iny0kPSlpUn4dXFpnEATBoDNsTeo+Mg34tO3rJS0KXCfpQtt/7djvCts71KAvCIIgoIYehO0HbF+f3z8N3AasUFpHEARB0J1a5yAkrQysB1xdsXkTSTdKOlfSa4oKC4IgCGoZYgJA0iLAb4D9bT/Vsfl6YCXbz0jaDjgTWG2Y4+wJ7Akwfvz4PioOgiAYLGrpQUial2QcTrL9287ttp+y/Ux+fw4wr6Slqo5l+1jbE2xPGDduXF91B0EQDBJ1eDEJ+Clwm+1vDbPPsnk/JG1E0vloOZVBEARBHUNMmwHvA26WNCmv+wIwHsD2j4B3Af9P0jTgeWBX265BaxAEwcBS3EDYvhLQCPscAxxTRlEQBEFQRURSB0EQBJWEgQiCIAgqCQMRBEEQVBIGIgiCIKgkDEQQBEFQSRiIIAiCoJIwEEEQBEElYSCCIAiCSsJABEEQBJWEgQiCIAgqCQMRBEEQVBIGIgiCIKgkDEQQBEFQSRiIIAiCoJIwEEEQBEElYSCCIAiCSsJABEEQBJWEgQiCIAgqCQMRBEEQVFKLgZC0raQ7JN0p6cCK7fNLOjVvv1rSyuVVBkEQDDbFDYSkscD3gbcCawK7SVqzY7cPA4/b/h/g28DXy6oMgiAI6uhBbATcaftu2/8GTgF26thnJ+DE/P7XwNaSVFBjEATBwCPbZRuU3gVsa/sjefl9wOtsf6Jtn1vyPpPz8l15n0cqjrcnsGdeXB24Yw7kLQXM1EYNNEFHEzRAM3Q0QQM0Q0cTNEAzdDRBA8y5jpVsj6vaMM8cHHR2qeoJdFqpXvZJK+1jgWPnVBSApIm2J4zGsf7bdTRBQ1N0NEFDU3Q0QUNTdDRBQ7911DHENBlYsW35FcCU4faRNA/wMuCxIuqCIAgCoB4DcS2wmqRVJM0H7Aqc3bHP2cAe+f27gItdeiwsCIJgwCk+xGR7mqRPAOcDY4Hjbd8q6TBgou2zgZ8Cv5B0J6nnsGsheaMyVDUKNEFHEzRAM3Q0QQM0Q0cTNEAzdDRBA/RRR/FJ6iAIguC/g4ikDoIgCCoJAxEEQRBUUoebaxAEwSyTnVpelRfvsP2fOvUMAgM/ByFpLVLKjwVa62z/vAYd2wOv6dBxWMH2JwAHASuRHhyUJHjtUhqyjnHA55j5N9mqsI6NgJVpe4iy/auSGppA/j0+yszfxYcK69iClF3hHtK5uSKwh+3LS+poApJeBfwQWMb2WpLWBna0/eXRbmugexCSDgG2IN2MziHlh7oSKGogJP0IWAjYEjiO5Np7TUkNwEnAAcDNwEuF2+7UcSqwPbAXyd354ZICJP2MdE5MAl7Mqw0MnIEAzgKuAP7I0HdRB0cBb7Z9B0y/SZ4MbFBShKQlgNWY8eGltJH6Cela/XFu/yZJvwLCQIwy7wLWAW6w/UFJy5Bu0KXZ1Pbakm6yfaiko4DfFtbwcHYxrpuX2/6ppP1sXwZcJumywho2Bta0XZuhlPQ01dkDWj27xQpJWcj25wq11X/kh94AACAASURBVI15W8YBwPbfJM1bUoCkjwD7kYJ7J5HOk78ARXu3pN/kmo70dNP60dCgG4jnbb8kaZqkxYCpwCvr0JH/PidpeeBRYJXCGg6RdBxwEfCv1krbpQ1Va1z5gTzsNoV0QZbkVlJ+m6mF252O7UXraruD30vazvY5NeuYKOmnwC/y8nuB6wpr2A/YELjK9paSXg0cWlgDwCOSViU/QOT8dg/0o6FBNxATJS1O6rJdBzxD+aEdSBfh4sA3gOtJP3zpnswHgVcD8zI0xGTK92S+LOllwKeB7wGLAZ8srOFlwG2SrmJGY/nOwjqmI2lpZhzWuK/P7bV6MAK+IOlfJONdugfT4v8BewP7Zg2XAz8orOEF2y9IQtL8tm+XtHphDZC+h2OBV0v6J/APYPd+NDTwk9QtclGixWzfVLOO+YEFbD9ZuN2bbb+2ZJtNRdLWVettX1SDlh1J4+/Lk3o0KwG32X5NaS11Imlh0g36xbw8Fpjf9nMFNZxBepDanzSs9Dhp6Gu7Uho69CwMjLH9dN/aGHQDIWkFhjx3gHKTTpK2sn2xpMon05LDO5J+Anzb9l9LtdnR/mdtHynpe1SMvdvet7CeVwCr2b5E0gLAWNvPltSQddxIuhn90fZ6krYEdrO95wgfHa32NwMm2X5W0u7A+sB3+t2DqdBxFfAm28/k5UWAC2xvWlJHm543knqa5+W6NiXbPrhqfT+8Hgd6iEnS14FdgL8yo7dKKa+ENwIXA2+r2FZ6eOf1wB6S/kEaVint5npb/juxUHvDIulDwCdIN4BVgfGk4Yw31SDnP7YflTRG0phssEpWWPwhsI6kdYDPkvOkkc7dkizQMg4Atp+RtFBJAZI2Bm61/bTtyyQtCqwHXF1SB9D+oLIAsAND18+oMtA9CEl3AGvb/teIO8/lSFqpar3te0trqRtJk0iVD6+2vV5eV8sQnKQ/Am8HjgBeThpm2rDUk7Ok622vn59a/5k9zK63vX6J9tt0/AnYx/b1eXkD4BjbmxTUcAOwfiuztKQxpASjRb+LCl3zA2fbfstoH3ugexDA3aRJ2VoNhKT9gBOAp0kT5usDB9q+oJSGliHonAwthaTfMUxRKADbOxaU84Ltf7fcCPN4d13sBLxAGvd+L6lXUyyAEnha0ueB9wFvyN9FUffSzP7A6ZJatWOWI/X+S6L2sgPZA7IJ99CF6JP3ZRP+uTp5DpgkqdO1s+h4N/Ah20dLeguwNGki7ASgmIEYbjKUFN1dgm/mv+8ElgV+mZd3I0XPluRPkj4LLJDH/PcGfl9YAwB57H9ZUo/mMeB8248WlLAL8B7SOfqgpPEkb7ui2L42u5WuThr+vL2GVBt3S9qXNOwG8HHSQ2ZRJN3M0MPUWGAcfXpoGPQhpj2q1ts+sbCOm3Kg3NHApbbPkHRDa3ijkIZaJ0PbdFxue/OR1vVZw1hSnfM3k25G5wM/riNwLgdnHUyaqxJp7P8w28cX1LASacL+j3ncf2w/PWeG0bA3cJLtJ/LyEqTzs5ira+5df5d0nZgUM7S/7aLxMh3DwdOAh2z3JVBuoA1EU5B0ArACKThuHdJTwaW2i6URUK5rmw3Fern7fI3tjUppyDpuA7a3fXdeXgU4x/YaJXU0hTxPtmmr1yDp5cCfbRfxv5f0UZKxXNL2qpJWA35ku9IVuI86Jtlet2Nd0YeopiBpyW7bbY9aeeaBHGKSdJrtd3d01aZT0HOnxYeBdYG7bT+XbwIfLKzhiew6eDlwkqSp9Cl8fwQ+CVwqqdV1Xxn4WEkBkrYFDmfmxIVdL8w+MZk0N9XiaeD+gu3vTZ6wB7D99/wkXZoxkqbPAeRe3nwlGm6aCzYpmHZFUhyGgMWBltuxGcX5iIE0EKSQeUjuYU3ApORwO5DGEhem/ERxazL0k9QzGQqA7fPyU+qr86rba/AyOwZ4N/UnLgT4J3C1pLNI58lOwDWSPgVg+1t9bv9fHRP289DFmaCPnA+cppTY0qREjucVarsxLtiZ80heS+cASHorKUbk06PdUAwxNQBJPyTdiLayvUYeX73A9oY1S6sFSZsyc3rpYhl2JV1K+i3qNg6tjMPDYruvuYAkHQk8Abwf2Ic0MftX2wf1s90KHWNIPcmtSU/NFwDHtSKrC7Q/FjjC9gEl2htBy3Wdw8+tIeJRb2uQDUSOYP46yXNI1JRnps3XfPqYqqQbba9TUENTvotfkILTZki1XbIbr1QL4hDgUmb0bvtuKQ0VmhauKZJ7DGkItH3C/jjXcONQKhi0OqkHUbxgkKSLXbguyTA6zielYP8l6bvYHdg84iBGnyOBt9nuSxTiLPCf/ITSGl8dR/mhjaZ8FxNIqbbrfHI5lJSYbnFqHmKStAkpenkRYHyOaP6Y7Y+XaD/3on6SX7WhioJBkvZw2VoMN0g6Gzidtmhml894vBvpAeaMvHx5XjfqDLqBeKgBN0RIrnNnAEtL+gqpTsUXC2toyndxCykOoi/pi3tk6ZIeZCPwHeAtwNkAtm+U1HeX3+EcOFrU4MjRhIJBS5JS8bf3IopnPM5eSvuNuOMoMJAGQkPJ8SZKOhU4kxprINg+SdJ1DI2vvr2Gm3UjvgtSHYa/SrqmQ0fJSOqLlBMpFmxzWGzfrxmLw5QYd285cOyd/7bXYSiWQbWN2goGSfq6U9Gkc2yfXqLNYXR8x/b+w2Ud6Mc1MpBzEDnuYDjswvV2Yfok2DLMODFbLGPmMN9J8e9CKUtmlZBiVeUkPU7y4noO+Dc1urlK+jXwLZJn1cakeggTbO9aqP0/2d5spHUFdBxPuim2G6p5bPfdHTz3ptYn5eaqLe+SpA1sX1fyGhlIA9E0JO1DGlN8iPR0WDqTKpI2s/2nkdYNAsPlXirlMdOhZSngaFIm2Zb3zn4ulG5DKXHhJ2xfmZc3BX7QGbRWQMf8pN7M62GoYFAJF2hJ3yAFCy5Memho7869ZPtl/dZQoWk+kit4a8K+LynHB9JAZNe9u23/qGP9J4FlXbgGr6Q7gdeVuuiH0TBThs6qdX1svyk1mFt6dgVeafurSrUhlrFdusRl7ShlTT2e1KOC5PL6IeesqoU0jAVOtN2XqmmzoOMs2zu1Lb8eeE8ph4G2drcHfgTcRbo+ViE5Lpw76m0NqIH4K7BWp597dum7yfZahfVcAmzjPuVTGaHtTYBNSdkyv922aTHgHSVdbZuCpGNIGUs3z3EpS5KS5BWLS9EwRWEytn14KS0ASjXb5cKVDtvaP5/kZVe0OE+FjnVJHkO7kEp9/sb2MYU13A7sYPvOvLwq8Afbr+7+yVlnICepSRfYTO6LTvmHVPWBPnM3Kb3EH5hxYrbfUbKQ0hUsQjoXFm1b/xTJm2oQ2bQVlwLJayR36UtSFfOwMCkm4eWkVCBFyE+sryFltwX6U71sBO4hZdk9mxldTPt+jWSPqV1JhuFR4FSSsdyy320Pw9SWccjcTcrAPOoMqoF4TtJqtv/evjKneHi+Bj335dd8FMov0yJPbF0m6We2760rIKth/Cf3JltxKS+ncDyE7aNa75Uql+1Hys91Csnlswg5tcVCwJbAcaSHhmtKtd/GlPwaw4wPMiW4nRSY9ra2p/ZPFtbQ7n15q6RzgNNI5+jOwLX9aHNQDcTBwLmSvgy0xpUnAJ8nDbUUpZUuId8I7LbSigVZXtK51BSQJWn+EhOOPfJ94DfAOEmHkvIy9TWlRRV5aOtTJI+dE0nVzB4vLGNTp1T0N9k+VNJRFPb7h9qvkf8l9SAukXQeyUjXMdLQXpr4IYbKvj4MLNGPBgdyDgJA0lrAAUBrvuEW4Ju2b65Jyy9IgTgAjwDvt31rQQ1Xk54Oz/ZQuo9bSs3HtKUb+YXt95VocwQ9r2HIc+iPtm8p3P43SMWTjgW+X9NDA5Kutv06SVdlPY8Ct9herbCOJlwjC5PKv+5GCpY7ETjDBSs/lmZgDUSTkPRn4CDbl+TlLYCvulDd4dxm60ZQSz4oSbeQKpUdTDLcM1AiYC932z9u+55+t9WDlpdI81HTmNG7q6hXl6T/A75HCuL8ftZynO3/K9F+m47ar5EOPUuShnZ2ceH8TEo1UvZh5oSWox4oN6hDTE1j4daJD2D70vy0UpL7s4+784TsvgylOS7BXqShlMWZsSsN5dIZ/Ay4QNKJwJEuX9JyOrbH1NV2O23eUr+R9HtggZo8mZpwjUzHKd3Fj/OrNGeS8nP9jj7PjUUPogFIOoNUBKQVJbo7KVr27QU11BqQ1abjw7Z/WrLNjvYXJvVitiX9HtMvwEJeZY2gbUK0khI9unaacI00hVZvv0RbA9mDaOVWkbSza8yt0saHSJOgv2UoSrRoRTnbj5Ce4OvmF0qF4VsJ6S4jlbgs9TT/H5Ib5fwkb5naa0LURGcvrp3iCepowDXSII5WqhNyATO6xY968OJA9iCaklulCahh5RQlHUcKUjsxr3of8KLtjxRoe1tS3qOzgcNs15GULgi6IulrpOviLoYeYNyPuZCB7EGQSvY9Aiws6SnyxB/lJwArszK26MekUwVNK6e4YcfE+MWSbizU9kHAziU9Y5qOcmnTDp4ErrM9qUD7Z3fbXugaaRrvIKWB6XtU+UAaCKeygQd05lapgW/mv+8k1UD4ZV7ejRQ5WoL5JS1g+8SRdy3Ci5JWtX0XgKRXUia9NbbfUKKd/zIm5Nfv8vL2pKCsvSSdbvvIPre/CXA/qfbD1dQTf9A0biQ5c/QlerqdgRxiakfSMkArx87Vth+uQcPltjcfaV2f2j4D2IzUqzqZVAu7eNbSNj1bAyeQ0gcIWAn4YLsHS1COnAPpf1txGJIWAX5Neoq9zvaafW5/LLAN6aFpbeAPwMmD3MtTqpm+NslQ97VmykAbCEk7k57iLyXdjN4AHGD714V13AZsb/vuvLwKqTjJGoXaX4x0we8KrAOcRboIS5ZzbNczP6n2sIDbS0VYNyyauxHkc3Od1nBG/m0m5SSG02NmCmmZn2QovkGaI/peqbabhKIeRBny2PY2tqfm5XGkqNmiGUzz5OixpKdmSAEwH7N9fkkdWcvLSRHVHweWtL1iaQ110bRo7iaQA+XeQXpogOTddDYpH9Sxtvvu+ZYNw/Yk47Bybv942//sd9uDzkDOQbQxpmUcMo+SkoEVxfZ5OVFgK11vsafmdiQtQZoP2YWU0uA3pTXUzHyS9gA2rYoDKO373wRsH55zdG1G6tHtZbvl0FDCOJxISodzLnBo6ZQnTUTSxqTo9jVIyT3HAs/2w7lm0HsQ3yCN5Z2cV+1CqgdRtGBQ1rIpM4fO/7xAu4sylF9mfdLT2SnAJR6wk0OpAMx7Scn5Or1n7BpK0TYB1VgON6ccaWUXri3lSJOQNJE0HHw6yYHg/cBqtr8w6m0N2D1gJvKT4vQyhrbPqEHDL4BVgUkMeey4RAyCpEeA80lG4bw600tkPe8ALm6lc5C0OLCF7TMLaqg1mrtJqAHlcIMZkTTR9oScYXftvO7P/chLNfAGognkicA163hil7RQkwLCJE1yR73jGiZD5yPlhqormrsxqAHlcIMZkXQ5KSXOccCDwAPAB/oxd9qIhGABt5DiIIrTJOOQqTonS8+V/QDYIP/9AWno7YeFNTSF+0mBcUFzeB/pOvkEafhtRVLNilFn0Cepm8JSwF8lXUOf/Zr/C5go6VsMpZbeh6GiTqWoM5q7adRZDjdcj6vZHDjT9lPkQlaSdgDu7Pqp2WCgexCSFlYqLdlaHiNpoRqkfIk0UfxVkvtg69V38vwHkvYr0V4P7AP8m1T393TgBWDvwhpeVCoED5SN5m4g9wEXkrxlFm17leIvMHSeBkDyYLpCUnucVF9qhA/0HESukvWmjijRC+oqQlIHkv4KvJXktbMFHakMct77gSKiuZtDEwpJNQ1JNwAfJqU+/5Lt0/s1TzfoQ0wLuK2Uo+1nSvYgJD1NdbK+ki58PyKl2XglaSin3UA4r+87kr5je//hEhiWHG6zfVGOSykezd00cvDoZ4HXAAu01vcjc+gwNKGQVNOw7etzRPXJkl5HioUYdQbdQDwraf1WHnVJGwDPl2rcdsmu+nAavgt8V9IPbf+/GqW0hhC+2XWvQmSDcFPdOhrASaThvh1IN+s9gGL5ymxfCVyZXTvD9TjxAKQaLpLeAnydFEw46gz6ENOGJP//KXnVcqQas6UnRRuBpHVI+aggxYTEDXLAkXSd7Q06fO4vs12ZD6iPOsL1uIMc5Or2UZDRZqB7ELavlfRqZhxKGMgTLldx25OhLvtJko4tlRAtF3HqNtwWgVn10LoeHpC0Pelh6hU16PgBqZDUD/Ly+0iux30vJNU0JK1F6nEvmRb1MPD+fmS4HcgehKStbF9clW8Hyk18NcmFT9JNwCa2n83LCwN/KXVjlrRSt+227y2hI2upPZq7KWT3yStIvvbfAxYj5UTqWsinDzpu7AwEq1o3CEj6M3BQy2lC0hbAV/vhXDOoPYg3AhdTXXe35MTXX4CmZA8VM7pyttIqFKHdAEhaFtiI9Ftca/vBUjoyh7SnXLH9hFIN4IEzELZ/n98+CWxZo5TaCkk1kIXbPepsX5of6EadgTQQtg/Jf+suet6k7KEnAFfnAkKQ4jKKTwpK+gjJpfFikoH6nqTDbB9fUEYTorlrRdICpOSVj5OqyX2WND91F3C47UcKSzoAuETSDK7HhTU0hbtzGvaWY8fuwD/60dCgDjFV1dmdTsEo0UZlD5W0PjMmLryhZPtZwx3Apq3cP7k+xZ9tr15Qw/HAE8wYzb2E7Q+U0lA3kk4jzT8sDCxBSgfzO9L5sa7tHWrQVEshqaaR0/IfStu1SoqHeHzU2xpQA3FIt+22Dy2lBSJ7aDuSLgLe6qEKZvORquu9qaCGhYH/IyVEE3AB8OXW/MwgIOkW22tJmgeYbHvZtm0DOfY/iAxUt7lFaQPQA7/IXkQD68LX1qv7J2mo6yzS0/tOwDUltWRDcGDJNhvIvwFsT5M0pWPboI7914qkro4B/QgmHUgD0SJPdB0NbEy6Gf0F+KRzbeiChAvfUH6fu/KrxVkV+/aFJkVzN4BXSPouqQfVek9eXqE+WQPNJqTsuicDV1PAiWQgh5ha5FxM32eootyuwD62X1dYR+0ufJJWAR6w/UJeXhBYxvY9pTTUjaQNbF+ngkXhm0p2nhgW2yeW0tJC0trMXHVxYFJtKFX224ZU/XFt4A/Ayf2If5je5oAbiKs7jYGkq2xvXFjH9cDOHS58v7a9fkENE0mTw+1j/3+yvWEpDbndS6h+ei+V+ydoINlxYG3gVuClvLq4I0dTyBP2u5ESGR7Wr4DWgRxikrRkfnuJpANJ6TZMcuv7Qw2SmuDCN0/LOADY/nc2EqX5TNv7BUiFUKaVaDiiuRvNxrbXrFtE3WTDsD3JOKwMfJc+xm0NZA9C0j9IN4KqMTzbLpLBtJ26XfgkXQh8rxUhK2knYF/bW5fUUUWp3D9NiuYOZkTST4GjbP+1bi11IelEUlK+c4FTbN/S9zYH0UAEM5ML5JwELE8yUveT8ruMepWqEXQs2bY4hlT687sl4yCyjrqjuWtF0tdtf07SzrZPb4CezUlxGA+SKtsNXK9O0kukEqMwY0+3b+UBBtpASHp/1XrbPy+tpSkoFU2S7adrar+9dzeNFCF6WE77XEpDZzT3G7OGktHctZKH29YHri45F9ZFz53Ap4CbGZqDiF5dnxnIOYg22idgFwC2Bq4HBsZASNrd9i87o8ulNPpWKqq8he1VSrY3DAcA63VGcwMDYyBIRaQeARaW9BT5KZU+Pq2OwH2lEwQGA24gbO/TvizpZQzlNylGzdlDW0m+ai9eBNNzAH2clEbAwJXAD1vut4WYDLT3oJ4mDbkNDLYPAA6QdJbtnerWA9wu6VekYabp83OD5OZaBwM9xNSJpHmBm2yvMeLOo9vuJNvrdqzrS43ZppNzAD0N/DKv2o2UB2nnAm23elHrAq8lBelNj+a2vVe/NTQRScsw1Nu+2naxinJtGk6oWD1Qbq51lAcY6B5ER8TsWGAN4LQapNSWPbQtQrYS2/uW0NHG6h0BgpdIurFQ27VHczcNSTuTysBeylB23QNs/7qkjgZkXm4CxcsDDLSBYMb6x9OAe21PrkHHREnfYsbsoaXKnjatvOoNkja2fRWAUkH2P5VouIE5uprAF4ENbU8FkDQO+CNQ1EBIegWpYNFmDA097lfT9VoXxcsDDPwQUxPcGZuUPVTSYqSue11eTLeR4kHuy6vGA7eRPFeKuDVGNPcQkm62/dq25THAje3rCum4EPgVM9ZAeK/tbUrqqJM6ygMMtIEId8YhJE0gFQ1alPRdPAF8yHbRHkYTgtUkbdC2OD2a2/Zn+91205D0DVKKi1a+sl1I83SfK6yjap5upnWDQMnyAINuIGotTtOk7KFKNan3tn1FXn498IM6ApFy26vZPkHSUsCitvtSMWsWNBWJ5m4ieTijvZDUGSN8pB8a/gj8jCFDtRvwwSZE+pcmp8DZiwLlAQZ9DqJud8ZWd/mbXfcqw9Mt4wBg+0pJxYeZcjGnCaRhphOA+UgeTZsV1FAVzb3sMLvP9eSx7brdST8EHAN8m/Qw9ee8bhApVh5g0HsQP6fCnRH4G5QPEqsDpTKjkE6yhUhPaK3EhY/bPqiwnknAesD1LTdfSTeV7Mk0IZo7CIajZHmAQe9BDOfOWCRorCHZQ4/qWG4vx1rH08O/bVuSYfoEflEaEs0dAJK+R5fzsAY37CbwoqRVO8oD9KXK30AbiJZbo6SF6/AYAooXfu/E9pZ1a+jgNEk/BhaX9FHSMMJxJQU0JJq7EWQD/bztl/LyGGAB288VkjAx/90MWBM4NS/vTPNctEtRrDzAoA8xbQL8FFjE9nhJ6wAfs/3xGrTU6m4r6eCq9bYPK6kja9kGeDPp5D/f9oWF268tmrtpKFVdfJPtZ/LyIsAFtjctrOMS4M2tidic9eCCBj7gFKFUeYCB7kEA3wHeQvYptn1jTitclAp32+9JKu1u296DWoDUu7mtYPvTyQbhQgBJYyW91/ZJBSXUGc3dNBZoGQcA289IWqgGHcuThn4fy8uL5HUDSTYIN/W7nUE3ENi+v5W5NNOXsbwRqD17qO0Z5iIkfZOZg3H6Rg7Q2xtYIbd7YV4+AJhEqlVRitqiuRvIs5LWt309TI8Reb4GHUeQfpdL8vIbgS/VoGOgGHQDcb+kTQFn3+J9qeepuW532yoWAkpW1vsF8Dgp38xHSIZhPmAn25MK6gB4HfB+STNEc7ecCuqIDamR/YHTJU3Jy8uRPNyKkmNiziX9NgAH1pH1YNAY9DmIpYCjmTHFxX6tJ/kC7Tcme2iHR9VYYBzJtfOYUu230jdIGkuqRTC+jpQfTYjmbhJ5vL99vHvUA7J60FBVtOhJUv60IjXLm0LJ8gADbSCqKOnRlIPChqVk8riOm+I04KGSF56k691WuaxzuTRNjOYuiaStbF9clRQOytdhyJPl65PG3UWqzXwT8HJgL9sXlNRTJyXLAwzsEJOkFUjd5Zts/1vS0qTu9AcoNPnVpOyhtu/NT2ntrp03FJSwjlLlMkg3gAXVVsnMBSuYNSGauwG8keQ08baKbaZ8ZPU9wIdt3wogaU3SMOThWcvAGAgKlgcYSAMhaX/gIOBOYH5JRwPfIpUa3aDbZ/ukp/bsodnNdWeGLvyfSTrd9pdLtG97bIl2euQd5GhuANtTJDWi4l4pbB+S/zalDsOrW8YBwPZfJa1n++4OJ5NBoFh5gIE0EMCeJFfGxySNJxmKzVteKzXwmbb307OHFtawG8mT6gUASUeQbpBFDETDqD2au27UUaO8kxrS0Nwh6YfAKXl5F+BvOR6g+JxIzexDKg9wKkNzp3v3o6FBNRAv2H4MwPZ9kv5Wo3GgIqX2nyRdVljGPSTj1IoWnp8Z05AMErVHczeApvWYPkCKbt+fdFO8kvRg9R9goILl8hzpgSXaGshJaklTGXoSAdi1fbl0fpdhsod+t1Ta8azhTFLd4QtJ3dZtSBfhVBi8nDd1R3MHQSd1lAcYVAOxR7fttk8spQWakT20ad9Jk8hut7sWjuZuBDkR3NHAxqRz9C/AJ23fXVjHZqTAuJVoG/mwXTJWp1YkbWD7OkmVdUlsj/qow0AaiKAaSQuSYg/uqFtLHYwUzW17pxrl1UJ2L/0+Q4V6dgX2sf264T/VFx23A58kTcZOz3ZQKmZpUAkD0QCakD1U0ttIhYvms72KpHVJvZhiVe3qRtJZDEVzbw0sQXJx3a+GaO5GIOnqTmMg6SrbG9etY9CoozxAGIgG0ITsoZKuA7YCLvVQoZ4ZCtbP7TQpmrtu2ubFPkuqT34KQ4Wk5rd9eGE9R5Ai/H8LTM9c2soRNQjUEeE/qF5MTaMJ2UOn2X6yw6d80J4eprtL2n5R0j8G0ThkrmNoXgzgY23bTApQK0mr9zChQ0exWKG6aTcApcoDDLSBkHQkyc//eeA8YB1gf9u/7PrB0acJ2UNvkfQeYKyk1UiJC/9cWEPdNCaau27csKp6g1r3oYqS5QEGeoipldMkJ796O2kS7BL3obbrCDpuI6V1mCF7KPAShbKH5hz/B5FcOyEF3xxech4kaB6S3l+13vbPC7W/u+1fDhe4V0PAXu1IugPYtLM8QD/c4ge6BwHMm/9uB5ycI6vr0LFtHY2241RC8qD8AqaPeQ5U5tJgJjZse78AafL+elJamhK0otirAvcG9em2WHmAQTcQv8vuc88DH5c0jqFI4mLkRHm1ZQ9VKr26AnC57amS1iZFar4BWLGEhqCZ2N6nfVnSy0i1O0rxh6xjpsSW2fNuYGjrRf0TuDp73U0vD9CXNgd5iAlA0hLAU3lScmHSjbl0Pejp2UNtv0rS8sDptvuePVTSN0jlRScB/wP8nuRy+1XgxzHEFLSTa0PcZHuNQu3dAbzFzDsy3QAADXZJREFU9j0d6z8IfNH2qiV0NIE6ygMMZA9CQ3Wn/92egynnOClSC6KDOrOHbk9O0peN5RRgbdt/L9R+0GA60jqMBdYATiso4ZPAhZK2a52Tkj4PvIeUknxgqKM8wEAaCKCVwvgJoLYkfW3UmT30+VYvwfbjku4I4xC08c2299NIFdwml2rc9jmS/gWcK+ntpHK0G5KyLz9eSkeTKFkeYOCHmJqApM8Aq5ES5H2NlD30ZNvfLdD2E8Dlbas2b18epEjqoJpSPvcjaHg9cCbJ9frdgzz0Kam9Zs308gC2PzvqbQ2ygZC0DGmsfXnbb81Vqjax/dMatNSSPXS4xF8t+pEALPjvocLn/o2kFCyj7nM/TPtPMxSw16r98CIDGJvSDUmX2R71IbdBNxDnkkpKHmR7HUnzADfUnV5ikLOHBs2ipM990BslywMM6hxEi6Vsn5YnvbA9TdKLI31otBgpeygQBiKom2I+90HPtKdBaZUH+HA/Ghp0A/FsfiJqTQ5vDDxZsP1fMJQ99CMkwzAfsNOgZg8NGkelz33LJ38QI5nrpmQalEE3EJ8iPbmvKulPwDjgXQXbf2Vb9tDjqDF7qKSdbZ8+0rpg4LiLGUvPnpX/Nq0k6cBQsjzAQM9BAOR5h9VJ3bU7bBcrgC7petvrD7dckqq269QTNAtJC+c4oaBmSpYHGMgehKR3DrPpVZKw/dtCUmrPHirpraRcVCtIanerXYw0vhkMMDkNy0+BRYDxktYBPmb74/UqG2iKlQcYSAMBdMvhYlJRkr5je2yJdkZgCjAR2JE0+dXiaVIUazDYfAd4C2koFts3tmUiCOqhWHmAgR9iChKS5m0Nr+WUGyvavqlmWUHNtEp9SrqhrdLgjaVT4gdDlCwPMKg9CGC6T/chzDjZc5gHsxD6hZJ2JJ0Tk4CHc/BNZR7+YGC4X9KmgCXNRyokdVvNmgadYuUBxpRqqKGcAjxMClV/V35/aq2K6uNltp8C3gmcYHsD4E01awrqZy+GYnUmA+vm5aAmcunRFYGt8vtngTG27x3tutQDPcQk6bp8I2xfN9H2hOE+M7ci6WZSqo8TSZHl10q6qUQ1u+C/i/BoqpeS5QEGvQdxiaRdJY3Jr3eTC5QMIIcB5wN3ZuPwSiCyug4wklaQNCEPLSFpaUlfJc6LunkHyankWUjlAehTXMqg9yCeJpU0fCmvGsNQPYhIBBYMLJL2J5WfvZOUJO9o4FukUqNH2n6gRnkDjaRrbG/UilPK5QH+0o/e/kBPUtse+GhQSZ+1faSk71GdY37fGmQF9bMnaQjjMUnjSYZi8/YCW0FtnCbpx8Dikj5KKg9wXD8aGmgDAZA9d1p+3Zfa/n2demqg5ZEysVYVQdN4wfZjALbvk/S3MA7NwPY3c3mAp0jurgf3qzzAoA8xHUGqTtXKmrobcJ3tA+tTFQT1I2kqycuvxa7ty9GzbA79LA8w6AbiJmBd2y/l5bGkehAD47nTUXN4JqKi3GAiaY9u222fWEpLkBipPIDtnUa7zYEfYgIWBx7L719Wp5Ca+ObIuwSDRhiARlK8PMCg9yB2A44ALiElyNsc+LztU7p+MAiCoDCSbm4rDzCWAuUBBtpAAEhajjQPIeDqOgqyNwFJqwFfA9YkFUL//+3deaxcdRnG8e/TFlqwBVRaqP4hApZSsDSUsgVZKwlGTUBDNYoBXAIuSTGoIBqBBDAQlxC1YECaKLIphEUNJBWhEhRoSylVFDElGAKhiuyF9vL4x+9MO7Rz7y2hnd/1nueTTObMOTNz3/mjfc9vfQGwvXu1oCJivRrlAVq9UE6SgGMo4xA3A9tKOrByWLVcBSygbPF9FGW++8+rRhQR3faT9HzzeAGY2TnuKhuwRbU6QQA/AQ6hzF6CssX1j+uFU9V2thdRWpWP2z4XOLpyTFGZpIsl7SBpG0mLJK2W9OnacbWR7bG2d2gek2yP6zreKot6254gDrL9JWANgO1nKYM+bbRG0hjgUUlflnQ8MKV2UFHdsc0mjh+mbNY3jTI4Gi3Q9gSxthnsMYCkyWzYdqNt5gPbU7Zzng2cBAw51TFaYZvm+UPANZ3Fc9EObZ/meilwEzBF0gWULb+/VTekOmzf3xy+CJxSM5YYUW6V9AjwCvDF5iZqTeWYok8yi0maThmoFrDIdquKoUj6oe35gy2Yy0K5aCoMPm97oNkYblJbZ/u1TStbEJImUAqh7AmsAC63va5uVNV0ZiplwVys11V3+rXuPZiaOhCpBdESrWxBSLoOWAssBo4DVtmeXzequpo7w1c22nZkvO2X60YWNUi6qjn8r+0zqgYT1bQ1QXSvSBwH3Le1F5yMdJL+BMy1/WLzeiJwh+1D60YWEbW0dRbT2s5Bi7uWNjahkxwAmuPtK8YTI4CkXSRdKel3zesZkj5bO67oj7YmiL6vSPw/8JKk7mX8sykzV6LdFlJK0b6ref13ypToaIFWDlLbHls7hhFoPnCDpCeb11OBeRXjiZFhZ9vXSzobSotb0kDtoKI/WpkgYlO272+m/O5FmfL7iO21w3wsRr+XJL2TDYtJDwaeqxtS9EsSRAAgaRvgdLrKr0q6PEmi9b5KKU6zh6R7gMmUBaXRAq2cxRSbknQFZVuFTqGYk4AB25+rF1WMBM1Mv07L8m+5aWiPJIgAQNJy2/sNdy7aQdIJQ123fWO/Yol60sUUHQOS9rD9GICk3YEMRrbXR4a4ZiAJogXSgggAJB1DKRr0T0pXwnuAU2zfWTWwiKgmCSLWkzSeN85ierVySFFZM4PpO8BhlJbDH4Hzbf+7amDRF21dKBcNSXMk7QrQJIRZwPnAJZLeUTW4GAmuBZ4BPkaZvfQMcF3ViKJv0oJoOUlLKXsw/afZwfNa4CuURLG37UxpbDFJS2zP3ujcA7YPqBVT9E9aEDG2q0rYPOCntn9t+9uU7dCj3e6U9AlJY5rHicBvagcV/ZEWRMtJehiY1Wyh8AjwBdt3d67Z3rduhFFTs1fZ29hQincMG+pB2PYOVQKLvsg017gGuEvSasrmfIsBJO1JtlRoPduTascQ9aQFEZ39daZS6j+81JybBky0vbRqcFGdpI/StQWL7dtqxhP9kwQREYOS9F1gDnB1c+qTwBLbZ9WLKvolCSIiBiXpIcoYVXcp2mW2Z9aNLPohs5giYjg7dR3vWC2K6LsMUkfEUC4Clkm6k7LC/nDg7LohRb+kiykihiRpKmUcQsCfbT9VOaTok3QxRcSgJAk4hjIOcTOwraQDK4cVfZIWREQMStICyiK5o23vLentlOnQcyqHFn2QMYiIGMpBtveXtAzA9rOStq0dVPRHupgiYihrm6mtBpA0mQ3bbsQolwQREUO5FLgJmCLpAko9iAvrhhT9kjGIiBiSpOmUgWoBi2z/tXJI0SdJEBGxCUkTgNMoW76vAK60va5uVNFvSRARsQlJ1wFrKbv7Hgessj2/blTRb0kQEbEJSStsv785HgfcZ3v/ymFFn2WQOiJ6Wds5SNdSe6UFERGbkDTAhspxArYDXm6OU0muJZIgIiKip3QxRURET0kQERHRUxJERET0lAQRo5akXSVdK+kxSX+R9FtJ07bw3zhS0qFv8TtOlvS6pJld5x6WtNtbjS/irUiCiFGpqWNwE/AH23vYngF8E9hlC/+pI4GeCaJZP7C5/gWcsyUCithSkiBitDoKWGv7ss4J2w/aXqzikuYufYWkebC+NXBb5/2SfiTp5OZ4laTzJC1tPjO9ucM/DThD0oOSPiBpoaTvNyU6L5H0aLMDKpLGSPqHpJ17xHsbsI+kvTa+IGmBpAckrZR0Xtf5VZIulHRvc31/Sbc3LabTut73NUn3S3qo+/MRw0mCiNFqX2DJINdOAGYB+wFzKf+RT92M71zdrCZeAJxpexVwGfAD27NsL27eNw2Ya/sM4BfAp5rzc4Hltlf3+O7XgYsprZyNnWP7AGAmcER3VxTwhO1DKFtiLAQ+DhwMnA8g6VjgfcCBzW+eLenwzfitEUkQ0UqHAdfYHrD9NHAXpebycG5snpcAuw3xvhtsDzTHPwM+0xyfClw1xOd+CRws6b0bnT9R0lJgGbAPMKPr2i3N8wpKvegXbD8DrJG0E3Bs81gGLAWmUxJGxLBSUS5Gq5WUu+leNMj5dbzxpmnCRtdfbZ4HGPrfTmcFMrafkPS0pKOBg9jQmtiE7XWSvgd8Y32gJVmcCcxpqrkt3CiuTkyvdx13Xo+j/NaLbF8+RLwRPaUFEaPV74Hxkj7fOSFpjqQjgLuBeZLGNuMDhwP3AY8DMySNl7QjpQbCcF4AJg3znisoXU3Xd7UsBrOQ0hU1uXm9AyXhPCdpF8rOqm/G7cCpkiYCSHq3pClv8juipZIgYlRy2UPmeOCDzaDtSuBc4EnK7KaHgOWURPJ120/ZfgK4vrl2NaVbZji3Asd3BqkHec8twESG7l7qxP0apYrblOb18iaOlZTuqns2I6bu77uD0nV1r6QVwK8YPqFFANmLKWKrk3QAZSB7sAQSMSJlDCJiK5J0FnA6Q4w9RIxUaUFERERPGYOIiIiekiAiIqKnJIiIiOgpCSIiInpKgoiIiJ6SICIioqf/AZaRYoU+SBR3AAAAAElFTkSuQmCC\n",
            "text/plain": [
              "<Figure size 432x288 with 1 Axes>"
            ]
          },
          "metadata": {
            "tags": [],
            "needs_background": "light"
          }
        }
      ]
    },
    {
      "cell_type": "markdown",
      "metadata": {
        "colab_type": "text",
        "id": "KduORd9TfGmi"
      },
      "source": [
        "#Africa is not a country and its in the list. Not sure if this needs to be removed and rerun. I will wait until further comment. "
      ]
    },
    {
      "cell_type": "markdown",
      "metadata": {
        "colab_type": "text",
        "id": "WY5ovxEyfKAL"
      },
      "source": [
        "## 10 major project themes"
      ]
    },
    {
      "cell_type": "code",
      "metadata": {
        "colab_type": "code",
        "id": "V0DBJJsqcOvL",
        "colab": {}
      },
      "source": [
        "theme=wb_df['mjtheme_namecode']"
      ],
      "execution_count": 0,
      "outputs": []
    },
    {
      "cell_type": "code",
      "metadata": {
        "colab_type": "code",
        "id": "_vxJv-rneteX",
        "outputId": "47690ab2-949c-43a7-9ce7-052d50b41ea5",
        "colab": {
          "base_uri": "https://localhost:8080/",
          "height": 102
        }
      },
      "source": [
        "theme[0:4]"
      ],
      "execution_count": 0,
      "outputs": [
        {
          "output_type": "execute_result",
          "data": {
            "text/plain": [
              "0    [{'code': '8', 'name': 'Human development'}, {...\n",
              "1    [{'code': '1', 'name': 'Economic management'},...\n",
              "2    [{'code': '5', 'name': 'Trade and integration'...\n",
              "3    [{'code': '7', 'name': 'Social dev/gender/incl...\n",
              "Name: mjtheme_namecode, dtype: object"
            ]
          },
          "metadata": {
            "tags": []
          },
          "execution_count": 22
        }
      ]
    },
    {
      "cell_type": "markdown",
      "metadata": {
        "colab_type": "text",
        "id": "F60l-NhAOSOX"
      },
      "source": [
        "It looks like 'mjtheme_namecode' is a nested dictionary presented as a list. I will need to convert it to a string to make it analyis friendly. "
      ]
    },
    {
      "cell_type": "code",
      "metadata": {
        "colab_type": "code",
        "id": "4UQUY9ZoSM3Y",
        "outputId": "c4cab3e6-5764-4ace-f67f-70d3cce74161",
        "colab": {
          "base_uri": "https://localhost:8080/",
          "height": 34
        }
      },
      "source": [
        "type(theme)"
      ],
      "execution_count": 0,
      "outputs": [
        {
          "output_type": "execute_result",
          "data": {
            "text/plain": [
              "pandas.core.series.Series"
            ]
          },
          "metadata": {
            "tags": []
          },
          "execution_count": 23
        }
      ]
    },
    {
      "cell_type": "code",
      "metadata": {
        "colab_type": "code",
        "id": "qQGhCcCnFkz2",
        "colab": {}
      },
      "source": [
        "theme_l_list=theme.tolist()"
      ],
      "execution_count": 0,
      "outputs": []
    },
    {
      "cell_type": "code",
      "metadata": {
        "colab_type": "code",
        "id": "jM6S9RIZIaF5",
        "outputId": "f0547e7e-b592-421e-d317-6226f891f93c",
        "colab": {
          "base_uri": "https://localhost:8080/",
          "height": 68
        }
      },
      "source": [
        "theme_l_list[0:2]"
      ],
      "execution_count": 0,
      "outputs": [
        {
          "output_type": "execute_result",
          "data": {
            "text/plain": [
              "[[{'code': '8', 'name': 'Human development'}, {'code': '11', 'name': ''}],\n",
              " [{'code': '1', 'name': 'Economic management'},\n",
              "  {'code': '6', 'name': 'Social protection and risk management'}]]"
            ]
          },
          "metadata": {
            "tags": []
          },
          "execution_count": 25
        }
      ]
    },
    {
      "cell_type": "code",
      "metadata": {
        "colab_type": "code",
        "id": "lF54FxDbT4Mw",
        "colab": {}
      },
      "source": [
        "theme_list=[j for i in theme_l_list for j in i]"
      ],
      "execution_count": 0,
      "outputs": []
    },
    {
      "cell_type": "code",
      "metadata": {
        "colab_type": "code",
        "id": "jjeGzQLxUb66",
        "outputId": "c073ba4d-2a9b-4681-f884-79c6c038aaeb",
        "colab": {
          "base_uri": "https://localhost:8080/",
          "height": 102
        }
      },
      "source": [
        "theme_list[0:5]"
      ],
      "execution_count": 0,
      "outputs": [
        {
          "output_type": "execute_result",
          "data": {
            "text/plain": [
              "[{'code': '8', 'name': 'Human development'},\n",
              " {'code': '11', 'name': ''},\n",
              " {'code': '1', 'name': 'Economic management'},\n",
              " {'code': '6', 'name': 'Social protection and risk management'},\n",
              " {'code': '5', 'name': 'Trade and integration'}]"
            ]
          },
          "metadata": {
            "tags": []
          },
          "execution_count": 27
        }
      ]
    },
    {
      "cell_type": "code",
      "metadata": {
        "colab_type": "code",
        "id": "ztCtUyBZZPeP",
        "colab": {}
      },
      "source": [
        "df_theme=pd.DataFrame(theme_list)"
      ],
      "execution_count": 0,
      "outputs": []
    },
    {
      "cell_type": "code",
      "metadata": {
        "colab_type": "code",
        "id": "XCx1UUX-belG",
        "outputId": "080404cb-c56f-462b-ea66-560651c5ef74",
        "colab": {
          "base_uri": "https://localhost:8080/",
          "height": 204
        }
      },
      "source": [
        "df_theme.head()\n"
      ],
      "execution_count": 0,
      "outputs": [
        {
          "output_type": "execute_result",
          "data": {
            "text/html": [
              "<div>\n",
              "<style scoped>\n",
              "    .dataframe tbody tr th:only-of-type {\n",
              "        vertical-align: middle;\n",
              "    }\n",
              "\n",
              "    .dataframe tbody tr th {\n",
              "        vertical-align: top;\n",
              "    }\n",
              "\n",
              "    .dataframe thead th {\n",
              "        text-align: right;\n",
              "    }\n",
              "</style>\n",
              "<table border=\"1\" class=\"dataframe\">\n",
              "  <thead>\n",
              "    <tr style=\"text-align: right;\">\n",
              "      <th></th>\n",
              "      <th>code</th>\n",
              "      <th>name</th>\n",
              "    </tr>\n",
              "  </thead>\n",
              "  <tbody>\n",
              "    <tr>\n",
              "      <td>0</td>\n",
              "      <td>8</td>\n",
              "      <td>Human development</td>\n",
              "    </tr>\n",
              "    <tr>\n",
              "      <td>1</td>\n",
              "      <td>11</td>\n",
              "      <td></td>\n",
              "    </tr>\n",
              "    <tr>\n",
              "      <td>2</td>\n",
              "      <td>1</td>\n",
              "      <td>Economic management</td>\n",
              "    </tr>\n",
              "    <tr>\n",
              "      <td>3</td>\n",
              "      <td>6</td>\n",
              "      <td>Social protection and risk management</td>\n",
              "    </tr>\n",
              "    <tr>\n",
              "      <td>4</td>\n",
              "      <td>5</td>\n",
              "      <td>Trade and integration</td>\n",
              "    </tr>\n",
              "  </tbody>\n",
              "</table>\n",
              "</div>"
            ],
            "text/plain": [
              "  code                                   name\n",
              "0    8                      Human development\n",
              "1   11                                       \n",
              "2    1                    Economic management\n",
              "3    6  Social protection and risk management\n",
              "4    5                  Trade and integration"
            ]
          },
          "metadata": {
            "tags": []
          },
          "execution_count": 29
        }
      ]
    },
    {
      "cell_type": "code",
      "metadata": {
        "colab_type": "code",
        "id": "j_qazXhpb6w2",
        "colab": {}
      },
      "source": [
        "#change variable name to make it readable\n",
        "#df_x=df_theme.groupby(['Project_theme_code', 'Project_theme_name'])\n",
        "df_theme.columns=['Project_theme_code', 'Project_theme_name'] "
      ],
      "execution_count": 0,
      "outputs": []
    },
    {
      "cell_type": "code",
      "metadata": {
        "colab_type": "code",
        "id": "QhJE9rsjcCVv",
        "outputId": "50507cfe-78f1-422c-fdc1-1a53010292ff",
        "colab": {
          "base_uri": "https://localhost:8080/",
          "height": 204
        }
      },
      "source": [
        "df_theme.head()"
      ],
      "execution_count": 0,
      "outputs": [
        {
          "output_type": "execute_result",
          "data": {
            "text/html": [
              "<div>\n",
              "<style scoped>\n",
              "    .dataframe tbody tr th:only-of-type {\n",
              "        vertical-align: middle;\n",
              "    }\n",
              "\n",
              "    .dataframe tbody tr th {\n",
              "        vertical-align: top;\n",
              "    }\n",
              "\n",
              "    .dataframe thead th {\n",
              "        text-align: right;\n",
              "    }\n",
              "</style>\n",
              "<table border=\"1\" class=\"dataframe\">\n",
              "  <thead>\n",
              "    <tr style=\"text-align: right;\">\n",
              "      <th></th>\n",
              "      <th>Project_theme_code</th>\n",
              "      <th>Project_theme_name</th>\n",
              "    </tr>\n",
              "  </thead>\n",
              "  <tbody>\n",
              "    <tr>\n",
              "      <td>0</td>\n",
              "      <td>8</td>\n",
              "      <td>Human development</td>\n",
              "    </tr>\n",
              "    <tr>\n",
              "      <td>1</td>\n",
              "      <td>11</td>\n",
              "      <td></td>\n",
              "    </tr>\n",
              "    <tr>\n",
              "      <td>2</td>\n",
              "      <td>1</td>\n",
              "      <td>Economic management</td>\n",
              "    </tr>\n",
              "    <tr>\n",
              "      <td>3</td>\n",
              "      <td>6</td>\n",
              "      <td>Social protection and risk management</td>\n",
              "    </tr>\n",
              "    <tr>\n",
              "      <td>4</td>\n",
              "      <td>5</td>\n",
              "      <td>Trade and integration</td>\n",
              "    </tr>\n",
              "  </tbody>\n",
              "</table>\n",
              "</div>"
            ],
            "text/plain": [
              "  Project_theme_code                     Project_theme_name\n",
              "0                  8                      Human development\n",
              "1                 11                                       \n",
              "2                  1                    Economic management\n",
              "3                  6  Social protection and risk management\n",
              "4                  5                  Trade and integration"
            ]
          },
          "metadata": {
            "tags": []
          },
          "execution_count": 31
        }
      ]
    },
    {
      "cell_type": "code",
      "metadata": {
        "colab_type": "code",
        "id": "VkKmFbkneSeC",
        "colab": {}
      },
      "source": [
        "df_theme_g=df_theme.groupby(['Project_theme_code','Project_theme_name']).size().reset_index().rename(columns={0:'count'}) "
      ],
      "execution_count": 0,
      "outputs": []
    },
    {
      "cell_type": "code",
      "metadata": {
        "colab_type": "code",
        "id": "Df9PSsYOgym1",
        "outputId": "16779685-b46b-4b4f-94a3-0146a197499a",
        "colab": {
          "base_uri": "https://localhost:8080/",
          "height": 731
        }
      },
      "source": [
        "df_theme_g"
      ],
      "execution_count": 0,
      "outputs": [
        {
          "output_type": "execute_result",
          "data": {
            "text/html": [
              "<div>\n",
              "<style scoped>\n",
              "    .dataframe tbody tr th:only-of-type {\n",
              "        vertical-align: middle;\n",
              "    }\n",
              "\n",
              "    .dataframe tbody tr th {\n",
              "        vertical-align: top;\n",
              "    }\n",
              "\n",
              "    .dataframe thead th {\n",
              "        text-align: right;\n",
              "    }\n",
              "</style>\n",
              "<table border=\"1\" class=\"dataframe\">\n",
              "  <thead>\n",
              "    <tr style=\"text-align: right;\">\n",
              "      <th></th>\n",
              "      <th>Project_theme_code</th>\n",
              "      <th>Project_theme_name</th>\n",
              "      <th>count</th>\n",
              "    </tr>\n",
              "  </thead>\n",
              "  <tbody>\n",
              "    <tr>\n",
              "      <td>0</td>\n",
              "      <td>1</td>\n",
              "      <td></td>\n",
              "      <td>5</td>\n",
              "    </tr>\n",
              "    <tr>\n",
              "      <td>1</td>\n",
              "      <td>1</td>\n",
              "      <td>Economic management</td>\n",
              "      <td>33</td>\n",
              "    </tr>\n",
              "    <tr>\n",
              "      <td>2</td>\n",
              "      <td>10</td>\n",
              "      <td></td>\n",
              "      <td>14</td>\n",
              "    </tr>\n",
              "    <tr>\n",
              "      <td>3</td>\n",
              "      <td>10</td>\n",
              "      <td>Rural development</td>\n",
              "      <td>202</td>\n",
              "    </tr>\n",
              "    <tr>\n",
              "      <td>4</td>\n",
              "      <td>11</td>\n",
              "      <td></td>\n",
              "      <td>27</td>\n",
              "    </tr>\n",
              "    <tr>\n",
              "      <td>5</td>\n",
              "      <td>11</td>\n",
              "      <td>Environment and natural resources management</td>\n",
              "      <td>223</td>\n",
              "    </tr>\n",
              "    <tr>\n",
              "      <td>6</td>\n",
              "      <td>2</td>\n",
              "      <td></td>\n",
              "      <td>15</td>\n",
              "    </tr>\n",
              "    <tr>\n",
              "      <td>7</td>\n",
              "      <td>2</td>\n",
              "      <td>Public sector governance</td>\n",
              "      <td>184</td>\n",
              "    </tr>\n",
              "    <tr>\n",
              "      <td>8</td>\n",
              "      <td>3</td>\n",
              "      <td></td>\n",
              "      <td>3</td>\n",
              "    </tr>\n",
              "    <tr>\n",
              "      <td>9</td>\n",
              "      <td>3</td>\n",
              "      <td>Rule of law</td>\n",
              "      <td>12</td>\n",
              "    </tr>\n",
              "    <tr>\n",
              "      <td>10</td>\n",
              "      <td>4</td>\n",
              "      <td></td>\n",
              "      <td>16</td>\n",
              "    </tr>\n",
              "    <tr>\n",
              "      <td>11</td>\n",
              "      <td>4</td>\n",
              "      <td>Financial and private sector development</td>\n",
              "      <td>130</td>\n",
              "    </tr>\n",
              "    <tr>\n",
              "      <td>12</td>\n",
              "      <td>5</td>\n",
              "      <td></td>\n",
              "      <td>5</td>\n",
              "    </tr>\n",
              "    <tr>\n",
              "      <td>13</td>\n",
              "      <td>5</td>\n",
              "      <td>Trade and integration</td>\n",
              "      <td>72</td>\n",
              "    </tr>\n",
              "    <tr>\n",
              "      <td>14</td>\n",
              "      <td>6</td>\n",
              "      <td></td>\n",
              "      <td>10</td>\n",
              "    </tr>\n",
              "    <tr>\n",
              "      <td>15</td>\n",
              "      <td>6</td>\n",
              "      <td>Social protection and risk management</td>\n",
              "      <td>158</td>\n",
              "    </tr>\n",
              "    <tr>\n",
              "      <td>16</td>\n",
              "      <td>7</td>\n",
              "      <td></td>\n",
              "      <td>11</td>\n",
              "    </tr>\n",
              "    <tr>\n",
              "      <td>17</td>\n",
              "      <td>7</td>\n",
              "      <td>Social dev/gender/inclusion</td>\n",
              "      <td>119</td>\n",
              "    </tr>\n",
              "    <tr>\n",
              "      <td>18</td>\n",
              "      <td>8</td>\n",
              "      <td></td>\n",
              "      <td>13</td>\n",
              "    </tr>\n",
              "    <tr>\n",
              "      <td>19</td>\n",
              "      <td>8</td>\n",
              "      <td>Human development</td>\n",
              "      <td>197</td>\n",
              "    </tr>\n",
              "    <tr>\n",
              "      <td>20</td>\n",
              "      <td>9</td>\n",
              "      <td></td>\n",
              "      <td>3</td>\n",
              "    </tr>\n",
              "    <tr>\n",
              "      <td>21</td>\n",
              "      <td>9</td>\n",
              "      <td>Urban development</td>\n",
              "      <td>47</td>\n",
              "    </tr>\n",
              "  </tbody>\n",
              "</table>\n",
              "</div>"
            ],
            "text/plain": [
              "   Project_theme_code                            Project_theme_name  count\n",
              "0                   1                                                    5\n",
              "1                   1                           Economic management     33\n",
              "2                  10                                                   14\n",
              "3                  10                             Rural development    202\n",
              "4                  11                                                   27\n",
              "5                  11  Environment and natural resources management    223\n",
              "6                   2                                                   15\n",
              "7                   2                      Public sector governance    184\n",
              "8                   3                                                    3\n",
              "9                   3                                   Rule of law     12\n",
              "10                  4                                                   16\n",
              "11                  4      Financial and private sector development    130\n",
              "12                  5                                                    5\n",
              "13                  5                         Trade and integration     72\n",
              "14                  6                                                   10\n",
              "15                  6         Social protection and risk management    158\n",
              "16                  7                                                   11\n",
              "17                  7                   Social dev/gender/inclusion    119\n",
              "18                  8                                                   13\n",
              "19                  8                             Human development    197\n",
              "20                  9                                                    3\n",
              "21                  9                             Urban development     47"
            ]
          },
          "metadata": {
            "tags": []
          },
          "execution_count": 33
        }
      ]
    },
    {
      "cell_type": "code",
      "metadata": {
        "colab_type": "code",
        "id": "VZMHrjsChiLP",
        "colab": {}
      },
      "source": [
        "df_theme_sorted=df_theme_g.sort_values('count', ascending=False)"
      ],
      "execution_count": 0,
      "outputs": []
    },
    {
      "cell_type": "code",
      "metadata": {
        "colab_type": "code",
        "id": "2g7SSiLUhtbC",
        "outputId": "2ce23a52-816e-4301-cb2d-4897fb05704d",
        "colab": {
          "base_uri": "https://localhost:8080/",
          "height": 359
        }
      },
      "source": [
        "#The top 10 major project themes are: \n",
        "top10_pt=df_theme_sorted.head(10)\n",
        "print(top10_pt)"
      ],
      "execution_count": 0,
      "outputs": [
        {
          "output_type": "stream",
          "text": [
            "   Project_theme_code                            Project_theme_name  count\n",
            "5                  11  Environment and natural resources management    223\n",
            "3                  10                             Rural development    202\n",
            "19                  8                             Human development    197\n",
            "7                   2                      Public sector governance    184\n",
            "15                  6         Social protection and risk management    158\n",
            "11                  4      Financial and private sector development    130\n",
            "17                  7                   Social dev/gender/inclusion    119\n",
            "13                  5                         Trade and integration     72\n",
            "21                  9                             Urban development     47\n",
            "1                   1                           Economic management     33\n"
          ],
          "name": "stdout"
        }
      ]
    },
    {
      "cell_type": "code",
      "metadata": {
        "id": "Ghqv1etvp1Mk",
        "colab_type": "code",
        "colab": {},
        "outputId": "12851f23-27ff-435a-cd0d-72981f9bb180"
      },
      "source": [
        "top10_pt.plot(x='Project_theme_name', y='count', kind='bar', legend=None, title='Top 10 major Project Themes', color=['C0', 'C1', 'C2', 'C3', 'C4', 'C5', 'C6', 'C7', 'C8', 'C9'])\n",
        "plt.ylabel('Number of WB Projects')\n",
        "plt.xlabel ('WB Project Themes')"
      ],
      "execution_count": 0,
      "outputs": [
        {
          "output_type": "execute_result",
          "data": {
            "text/plain": [
              "Text(0.5, 0, 'WB Project Themes')"
            ]
          },
          "metadata": {
            "tags": []
          },
          "execution_count": 72
        },
        {
          "output_type": "display_data",
          "data": {
            "image/png": "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\n",
            "text/plain": [
              "<Figure size 432x288 with 1 Axes>"
            ]
          },
          "metadata": {
            "tags": [],
            "needs_background": "light"
          }
        }
      ]
    },
    {
      "cell_type": "markdown",
      "metadata": {
        "colab_type": "text",
        "id": "xo7kQs54qXXz"
      },
      "source": [
        "## Create a dataframe with the missing names filled in."
      ]
    },
    {
      "cell_type": "code",
      "metadata": {
        "colab_type": "code",
        "id": "f__gtiOOlL2i",
        "outputId": "1b6770e6-7272-4c7b-c765-7515363fb28f",
        "colab": {
          "base_uri": "https://localhost:8080/",
          "height": 136
        }
      },
      "source": [
        "df_theme.info()"
      ],
      "execution_count": 0,
      "outputs": [
        {
          "output_type": "stream",
          "text": [
            "<class 'pandas.core.frame.DataFrame'>\n",
            "RangeIndex: 1499 entries, 0 to 1498\n",
            "Data columns (total 2 columns):\n",
            "Project_theme_code    1499 non-null object\n",
            "Project_theme_name    1499 non-null object\n",
            "dtypes: object(2)\n",
            "memory usage: 23.5+ KB\n"
          ],
          "name": "stdout"
        }
      ]
    },
    {
      "cell_type": "code",
      "metadata": {
        "colab_type": "code",
        "id": "YgUwaiRSnVot",
        "outputId": "4d065878-d8b5-45a6-c241-2e3bfdfbd1d9",
        "colab": {
          "base_uri": "https://localhost:8080/",
          "height": 1000
        }
      },
      "source": [
        "theme_nan=df_theme.replace('', np.nan, regex=True)\n",
        "theme_nan\n"
      ],
      "execution_count": 0,
      "outputs": [
        {
          "output_type": "execute_result",
          "data": {
            "text/html": [
              "<div>\n",
              "<style scoped>\n",
              "    .dataframe tbody tr th:only-of-type {\n",
              "        vertical-align: middle;\n",
              "    }\n",
              "\n",
              "    .dataframe tbody tr th {\n",
              "        vertical-align: top;\n",
              "    }\n",
              "\n",
              "    .dataframe thead th {\n",
              "        text-align: right;\n",
              "    }\n",
              "</style>\n",
              "<table border=\"1\" class=\"dataframe\">\n",
              "  <thead>\n",
              "    <tr style=\"text-align: right;\">\n",
              "      <th></th>\n",
              "      <th>Project_theme_code</th>\n",
              "      <th>Project_theme_name</th>\n",
              "    </tr>\n",
              "  </thead>\n",
              "  <tbody>\n",
              "    <tr>\n",
              "      <td>0</td>\n",
              "      <td>8</td>\n",
              "      <td>Human development</td>\n",
              "    </tr>\n",
              "    <tr>\n",
              "      <td>1</td>\n",
              "      <td>11</td>\n",
              "      <td>NaN</td>\n",
              "    </tr>\n",
              "    <tr>\n",
              "      <td>2</td>\n",
              "      <td>1</td>\n",
              "      <td>Economic management</td>\n",
              "    </tr>\n",
              "    <tr>\n",
              "      <td>3</td>\n",
              "      <td>6</td>\n",
              "      <td>Social protection and risk management</td>\n",
              "    </tr>\n",
              "    <tr>\n",
              "      <td>4</td>\n",
              "      <td>5</td>\n",
              "      <td>Trade and integration</td>\n",
              "    </tr>\n",
              "    <tr>\n",
              "      <td>...</td>\n",
              "      <td>...</td>\n",
              "      <td>...</td>\n",
              "    </tr>\n",
              "    <tr>\n",
              "      <td>1494</td>\n",
              "      <td>10</td>\n",
              "      <td>Rural development</td>\n",
              "    </tr>\n",
              "    <tr>\n",
              "      <td>1495</td>\n",
              "      <td>9</td>\n",
              "      <td>Urban development</td>\n",
              "    </tr>\n",
              "    <tr>\n",
              "      <td>1496</td>\n",
              "      <td>8</td>\n",
              "      <td>Human development</td>\n",
              "    </tr>\n",
              "    <tr>\n",
              "      <td>1497</td>\n",
              "      <td>5</td>\n",
              "      <td>Trade and integration</td>\n",
              "    </tr>\n",
              "    <tr>\n",
              "      <td>1498</td>\n",
              "      <td>4</td>\n",
              "      <td>Financial and private sector development</td>\n",
              "    </tr>\n",
              "  </tbody>\n",
              "</table>\n",
              "<p>1499 rows × 2 columns</p>\n",
              "</div>"
            ],
            "text/plain": [
              "     Project_theme_code                        Project_theme_name\n",
              "0                     8                         Human development\n",
              "1                    11                                       NaN\n",
              "2                     1                       Economic management\n",
              "3                     6     Social protection and risk management\n",
              "4                     5                     Trade and integration\n",
              "...                 ...                                       ...\n",
              "1494                 10                         Rural development\n",
              "1495                  9                         Urban development\n",
              "1496                  8                         Human development\n",
              "1497                  5                     Trade and integration\n",
              "1498                  4  Financial and private sector development\n",
              "\n",
              "[1499 rows x 2 columns]"
            ]
          },
          "metadata": {
            "tags": []
          },
          "execution_count": 37
        }
      ]
    },
    {
      "cell_type": "code",
      "metadata": {
        "colab_type": "code",
        "id": "fNxs8ISxnmkl",
        "colab": {}
      },
      "source": [
        "#create dictionary of unique project theme codes and corrosponding project theme names. "
      ],
      "execution_count": 0,
      "outputs": []
    },
    {
      "cell_type": "code",
      "metadata": {
        "colab_type": "code",
        "id": "DT33wk7b1AIx",
        "outputId": "b5b9d525-c290-4d50-8b12-07ec8bec180c",
        "colab": {
          "base_uri": "https://localhost:8080/",
          "height": 390
        }
      },
      "source": [
        "theme_unique=theme_nan.groupby(['Project_theme_code','Project_theme_name']).size().reset_index().rename(columns={0:'count'}) \n",
        "theme_unique"
      ],
      "execution_count": 0,
      "outputs": [
        {
          "output_type": "execute_result",
          "data": {
            "text/html": [
              "<div>\n",
              "<style scoped>\n",
              "    .dataframe tbody tr th:only-of-type {\n",
              "        vertical-align: middle;\n",
              "    }\n",
              "\n",
              "    .dataframe tbody tr th {\n",
              "        vertical-align: top;\n",
              "    }\n",
              "\n",
              "    .dataframe thead th {\n",
              "        text-align: right;\n",
              "    }\n",
              "</style>\n",
              "<table border=\"1\" class=\"dataframe\">\n",
              "  <thead>\n",
              "    <tr style=\"text-align: right;\">\n",
              "      <th></th>\n",
              "      <th>Project_theme_code</th>\n",
              "      <th>Project_theme_name</th>\n",
              "      <th>count</th>\n",
              "    </tr>\n",
              "  </thead>\n",
              "  <tbody>\n",
              "    <tr>\n",
              "      <td>0</td>\n",
              "      <td>1</td>\n",
              "      <td>Economic management</td>\n",
              "      <td>33</td>\n",
              "    </tr>\n",
              "    <tr>\n",
              "      <td>1</td>\n",
              "      <td>10</td>\n",
              "      <td>Rural development</td>\n",
              "      <td>202</td>\n",
              "    </tr>\n",
              "    <tr>\n",
              "      <td>2</td>\n",
              "      <td>11</td>\n",
              "      <td>Environment and natural resources management</td>\n",
              "      <td>223</td>\n",
              "    </tr>\n",
              "    <tr>\n",
              "      <td>3</td>\n",
              "      <td>2</td>\n",
              "      <td>Public sector governance</td>\n",
              "      <td>184</td>\n",
              "    </tr>\n",
              "    <tr>\n",
              "      <td>4</td>\n",
              "      <td>3</td>\n",
              "      <td>Rule of law</td>\n",
              "      <td>12</td>\n",
              "    </tr>\n",
              "    <tr>\n",
              "      <td>5</td>\n",
              "      <td>4</td>\n",
              "      <td>Financial and private sector development</td>\n",
              "      <td>130</td>\n",
              "    </tr>\n",
              "    <tr>\n",
              "      <td>6</td>\n",
              "      <td>5</td>\n",
              "      <td>Trade and integration</td>\n",
              "      <td>72</td>\n",
              "    </tr>\n",
              "    <tr>\n",
              "      <td>7</td>\n",
              "      <td>6</td>\n",
              "      <td>Social protection and risk management</td>\n",
              "      <td>158</td>\n",
              "    </tr>\n",
              "    <tr>\n",
              "      <td>8</td>\n",
              "      <td>7</td>\n",
              "      <td>Social dev/gender/inclusion</td>\n",
              "      <td>119</td>\n",
              "    </tr>\n",
              "    <tr>\n",
              "      <td>9</td>\n",
              "      <td>8</td>\n",
              "      <td>Human development</td>\n",
              "      <td>197</td>\n",
              "    </tr>\n",
              "    <tr>\n",
              "      <td>10</td>\n",
              "      <td>9</td>\n",
              "      <td>Urban development</td>\n",
              "      <td>47</td>\n",
              "    </tr>\n",
              "  </tbody>\n",
              "</table>\n",
              "</div>"
            ],
            "text/plain": [
              "   Project_theme_code                            Project_theme_name  count\n",
              "0                   1                           Economic management     33\n",
              "1                  10                             Rural development    202\n",
              "2                  11  Environment and natural resources management    223\n",
              "3                   2                      Public sector governance    184\n",
              "4                   3                                   Rule of law     12\n",
              "5                   4      Financial and private sector development    130\n",
              "6                   5                         Trade and integration     72\n",
              "7                   6         Social protection and risk management    158\n",
              "8                   7                   Social dev/gender/inclusion    119\n",
              "9                   8                             Human development    197\n",
              "10                  9                             Urban development     47"
            ]
          },
          "metadata": {
            "tags": []
          },
          "execution_count": 39
        }
      ]
    },
    {
      "cell_type": "code",
      "metadata": {
        "colab_type": "code",
        "id": "j729Y7JnIRQ9",
        "colab": {}
      },
      "source": [
        "theme_dict= {'1': 'Economic management',\n",
        "  '10': 'Rural development',\n",
        "  '11': 'Environment and natural resources management',\n",
        "  '2': 'Public sector governance',\n",
        "  '3': 'Rule of law',\n",
        "  '4': 'Financial and private sector development',\n",
        "  '5': 'Trade and integration',\n",
        "  '6': 'Social protection and risk management',\n",
        "  '7': 'Social dev/gender/inclusion',\n",
        "  '8': 'Human development',\n",
        "  '9': 'Urban development'}"
      ],
      "execution_count": 0,
      "outputs": []
    },
    {
      "cell_type": "code",
      "metadata": {
        "colab_type": "code",
        "id": "uRnzcNqp42at",
        "outputId": "ae2c5552-73c5-44b2-9b96-9c3de247ec39",
        "colab": {
          "base_uri": "https://localhost:8080/",
          "height": 204
        }
      },
      "source": [
        "#replace NAN values using di\n",
        "df_theme['Project_theme_name'] =  df_theme['Project_theme_code'].replace(theme_dict)\n",
        "df_theme.head()"
      ],
      "execution_count": 0,
      "outputs": [
        {
          "output_type": "execute_result",
          "data": {
            "text/html": [
              "<div>\n",
              "<style scoped>\n",
              "    .dataframe tbody tr th:only-of-type {\n",
              "        vertical-align: middle;\n",
              "    }\n",
              "\n",
              "    .dataframe tbody tr th {\n",
              "        vertical-align: top;\n",
              "    }\n",
              "\n",
              "    .dataframe thead th {\n",
              "        text-align: right;\n",
              "    }\n",
              "</style>\n",
              "<table border=\"1\" class=\"dataframe\">\n",
              "  <thead>\n",
              "    <tr style=\"text-align: right;\">\n",
              "      <th></th>\n",
              "      <th>Project_theme_code</th>\n",
              "      <th>Project_theme_name</th>\n",
              "    </tr>\n",
              "  </thead>\n",
              "  <tbody>\n",
              "    <tr>\n",
              "      <td>0</td>\n",
              "      <td>8</td>\n",
              "      <td>Human development</td>\n",
              "    </tr>\n",
              "    <tr>\n",
              "      <td>1</td>\n",
              "      <td>11</td>\n",
              "      <td>Environment and natural resources management</td>\n",
              "    </tr>\n",
              "    <tr>\n",
              "      <td>2</td>\n",
              "      <td>1</td>\n",
              "      <td>Economic management</td>\n",
              "    </tr>\n",
              "    <tr>\n",
              "      <td>3</td>\n",
              "      <td>6</td>\n",
              "      <td>Social protection and risk management</td>\n",
              "    </tr>\n",
              "    <tr>\n",
              "      <td>4</td>\n",
              "      <td>5</td>\n",
              "      <td>Trade and integration</td>\n",
              "    </tr>\n",
              "  </tbody>\n",
              "</table>\n",
              "</div>"
            ],
            "text/plain": [
              "  Project_theme_code                            Project_theme_name\n",
              "0                  8                             Human development\n",
              "1                 11  Environment and natural resources management\n",
              "2                  1                           Economic management\n",
              "3                  6         Social protection and risk management\n",
              "4                  5                         Trade and integration"
            ]
          },
          "metadata": {
            "tags": []
          },
          "execution_count": 75
        }
      ]
    },
    {
      "cell_type": "code",
      "metadata": {
        "colab_type": "code",
        "id": "XDjjiaAM69YW",
        "outputId": "4ee78414-35ff-460a-ed66-99fd385e683e",
        "colab": {
          "base_uri": "https://localhost:8080/",
          "height": 1000
        }
      },
      "source": [
        "df_theme"
      ],
      "execution_count": 0,
      "outputs": [
        {
          "output_type": "execute_result",
          "data": {
            "text/html": [
              "<div>\n",
              "<style scoped>\n",
              "    .dataframe tbody tr th:only-of-type {\n",
              "        vertical-align: middle;\n",
              "    }\n",
              "\n",
              "    .dataframe tbody tr th {\n",
              "        vertical-align: top;\n",
              "    }\n",
              "\n",
              "    .dataframe thead th {\n",
              "        text-align: right;\n",
              "    }\n",
              "</style>\n",
              "<table border=\"1\" class=\"dataframe\">\n",
              "  <thead>\n",
              "    <tr style=\"text-align: right;\">\n",
              "      <th></th>\n",
              "      <th>Project_theme_code</th>\n",
              "      <th>Project_theme_name</th>\n",
              "    </tr>\n",
              "  </thead>\n",
              "  <tbody>\n",
              "    <tr>\n",
              "      <td>0</td>\n",
              "      <td>8</td>\n",
              "      <td>Human development</td>\n",
              "    </tr>\n",
              "    <tr>\n",
              "      <td>1</td>\n",
              "      <td>11</td>\n",
              "      <td>Environment and natural resources management</td>\n",
              "    </tr>\n",
              "    <tr>\n",
              "      <td>2</td>\n",
              "      <td>1</td>\n",
              "      <td>Economic management</td>\n",
              "    </tr>\n",
              "    <tr>\n",
              "      <td>3</td>\n",
              "      <td>6</td>\n",
              "      <td>Social protection and risk management</td>\n",
              "    </tr>\n",
              "    <tr>\n",
              "      <td>4</td>\n",
              "      <td>5</td>\n",
              "      <td>Trade and integration</td>\n",
              "    </tr>\n",
              "    <tr>\n",
              "      <td>...</td>\n",
              "      <td>...</td>\n",
              "      <td>...</td>\n",
              "    </tr>\n",
              "    <tr>\n",
              "      <td>1494</td>\n",
              "      <td>10</td>\n",
              "      <td>Rural development</td>\n",
              "    </tr>\n",
              "    <tr>\n",
              "      <td>1495</td>\n",
              "      <td>9</td>\n",
              "      <td>Urban development</td>\n",
              "    </tr>\n",
              "    <tr>\n",
              "      <td>1496</td>\n",
              "      <td>8</td>\n",
              "      <td>Human development</td>\n",
              "    </tr>\n",
              "    <tr>\n",
              "      <td>1497</td>\n",
              "      <td>5</td>\n",
              "      <td>Trade and integration</td>\n",
              "    </tr>\n",
              "    <tr>\n",
              "      <td>1498</td>\n",
              "      <td>4</td>\n",
              "      <td>Financial and private sector development</td>\n",
              "    </tr>\n",
              "  </tbody>\n",
              "</table>\n",
              "<p>1499 rows × 2 columns</p>\n",
              "</div>"
            ],
            "text/plain": [
              "     Project_theme_code                            Project_theme_name\n",
              "0                     8                             Human development\n",
              "1                    11  Environment and natural resources management\n",
              "2                     1                           Economic management\n",
              "3                     6         Social protection and risk management\n",
              "4                     5                         Trade and integration\n",
              "...                 ...                                           ...\n",
              "1494                 10                             Rural development\n",
              "1495                  9                             Urban development\n",
              "1496                  8                             Human development\n",
              "1497                  5                         Trade and integration\n",
              "1498                  4      Financial and private sector development\n",
              "\n",
              "[1499 rows x 2 columns]"
            ]
          },
          "metadata": {
            "tags": []
          },
          "execution_count": 76
        }
      ]
    },
    {
      "cell_type": "code",
      "metadata": {
        "colab_type": "code",
        "id": "j_2IU5Ab5rh2",
        "colab": {}
      },
      "source": [
        ""
      ],
      "execution_count": 0,
      "outputs": []
    }
  ]
}
>>>>>>> 9ac870cd6a25e7ad83c5273c3997e73194bc6231
>>>>>>> 8d062e65bbd0bd26055563e6359fb39454507c1d
